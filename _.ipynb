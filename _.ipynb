{
 "cells": [
  {
   "cell_type": "code",
   "execution_count": 1,
   "metadata": {},
   "outputs": [
    {
     "name": "stderr",
     "output_type": "stream",
     "text": [
      "/Users/alexandergilmore/Documents/projects/neo4j-runway/neo4j_runway/code_generation/generate_ingest.py:98: UserWarning: The IngestionGenerator class will be removed in future releases! \n",
      "    Please instead use dedicated code generation classes: PyIngestConfigGenerator, LoadCSVCodeGenerator, StandardCypherCodeGenerator\n",
      "    You can use these classes by importing like so: from neo4j_runway.code_generation import `desired class`\n",
      "  warnings.warn(\n"
     ]
    },
    {
     "data": {
      "text/plain": [
       "True"
      ]
     },
     "execution_count": 1,
     "metadata": {},
     "output_type": "execute_result"
    }
   ],
   "source": [
    "import os\n",
    "from neo4j_runway.database.neo4j import Neo4jGraph\n",
    "\n",
    "from dotenv import load_dotenv\n",
    "\n",
    "load_dotenv()"
   ]
  },
  {
   "cell_type": "code",
   "execution_count": 2,
   "metadata": {},
   "outputs": [
    {
     "name": "stdout",
     "output_type": "stream",
     "text": [
      "['5.15.0', 'enterprise']\n"
     ]
    }
   ],
   "source": [
    "g = Neo4jGraph(username=os.environ.get(\"NEO4J_USERNAME\"), password=os.environ.get(\"NEO4J_PASSWORD\"), uri=os.environ.get(\"NEO4J_URI\"))"
   ]
  },
  {
   "cell_type": "code",
   "execution_count": 3,
   "metadata": {},
   "outputs": [
    {
     "name": "stdout",
     "output_type": "stream",
     "text": [
      "5.15.1\n",
      "5.15.0\n",
      "enterprise\n"
     ]
    }
   ],
   "source": [
    "print(g.apoc_version)\n",
    "print(g.database_version)\n",
    "print(g.database_edition)"
   ]
  },
  {
   "cell_type": "code",
   "execution_count": 4,
   "metadata": {},
   "outputs": [
    {
     "name": "stdout",
     "output_type": "stream",
     "text": [
      "None\n",
      "{'HAS_PHONE_CODE': {'count': 250, 'properties': {}, 'type': 'relationship'}, 'HAS_TIMEZONE': {'count': 250, 'properties': {}, 'type': 'relationship'}, 'HAS_CAPITAL': {'count': 250, 'properties': {}, 'type': 'relationship'}, 'Capital': {'count': 245, 'labels': [], 'properties': {'name': {'unique': True, 'indexed': True, 'type': 'STRING', 'existence': False}}, 'type': 'node', 'relationships': {'HAS_CAPITAL': {'count': 250, 'direction': 'in', 'labels': ['Country'], 'properties': {}}}}, 'Country': {'count': 250, 'labels': [], 'properties': {'id': {'unique': True, 'indexed': True, 'type': 'INTEGER', 'existence': False}, 'name': {'unique': False, 'indexed': False, 'type': 'STRING', 'existence': False}, 'longitude': {'unique': False, 'indexed': False, 'type': 'FLOAT', 'existence': False}, 'latitude': {'unique': False, 'indexed': False, 'type': 'FLOAT', 'existence': False}}, 'type': 'node', 'relationships': {'HAS_PHONE_CODE': {'count': 0, 'direction': 'out', 'labels': ['PhoneCode'], 'properties': {}}, 'HAS_TIMEZONE': {'count': 0, 'direction': 'out', 'labels': ['Timezone'], 'properties': {}}, 'HAS_CAPITAL': {'count': 0, 'direction': 'out', 'labels': ['Capital'], 'properties': {}}, 'USES_CURRENCY': {'count': 0, 'direction': 'out', 'labels': ['Currency'], 'properties': {}}, 'BELONGS_TO_SUBREGION': {'count': 0, 'direction': 'out', 'labels': ['Subregion'], 'properties': {}}}}, 'USES_CURRENCY': {'count': 250, 'properties': {}, 'type': 'relationship'}, 'Subregion': {'count': 23, 'labels': [], 'properties': {'name': {'unique': True, 'indexed': True, 'type': 'STRING', 'existence': False}}, 'type': 'node', 'relationships': {'HAS_SUBREGION': {'count': 24, 'direction': 'in', 'labels': ['Region'], 'properties': {}}, 'BELONGS_TO_SUBREGION': {'count': 250, 'direction': 'in', 'labels': ['Country'], 'properties': {}}}}, 'Region': {'count': 7, 'labels': [], 'properties': {'name': {'unique': True, 'indexed': True, 'type': 'STRING', 'existence': False}}, 'type': 'node', 'relationships': {'HAS_SUBREGION': {'count': 0, 'direction': 'out', 'labels': ['Subregion'], 'properties': {}}}}, 'PhoneCode': {'count': 235, 'labels': [], 'properties': {'code': {'unique': True, 'indexed': True, 'type': 'STRING', 'existence': False}}, 'type': 'node', 'relationships': {'HAS_PHONE_CODE': {'count': 250, 'direction': 'in', 'labels': ['Country'], 'properties': {}}}}, 'Timezone': {'count': 245, 'labels': [], 'properties': {'zone': {'unique': True, 'indexed': True, 'type': 'STRING', 'existence': False}}, 'type': 'node', 'relationships': {'HAS_TIMEZONE': {'count': 250, 'direction': 'in', 'labels': ['Country'], 'properties': {}}}}, 'HAS_SUBREGION': {'count': 24, 'properties': {}, 'type': 'relationship'}, 'Currency': {'count': 161, 'labels': [], 'properties': {'name': {'unique': True, 'indexed': True, 'type': 'STRING', 'existence': False}}, 'type': 'node', 'relationships': {'USES_CURRENCY': {'count': 250, 'direction': 'in', 'labels': ['Country'], 'properties': {}}}}, 'BELONGS_TO_SUBREGION': {'count': 250, 'properties': {}, 'type': 'relationship'}}\n",
      "{'HAS_PHONE_CODE': {'count': 250, 'properties': {}, 'type': 'relationship'}, 'HAS_TIMEZONE': {'count': 250, 'properties': {}, 'type': 'relationship'}, 'HAS_CAPITAL': {'count': 250, 'properties': {}, 'type': 'relationship'}, 'Capital': {'count': 245, 'labels': [], 'properties': {'name': {'unique': True, 'indexed': True, 'type': 'STRING', 'existence': False}}, 'type': 'node', 'relationships': {'HAS_CAPITAL': {'count': 250, 'direction': 'in', 'labels': ['Country'], 'properties': {}}}}, 'Country': {'count': 250, 'labels': [], 'properties': {'id': {'unique': True, 'indexed': True, 'type': 'INTEGER', 'existence': False}, 'name': {'unique': False, 'indexed': False, 'type': 'STRING', 'existence': False}, 'longitude': {'unique': False, 'indexed': False, 'type': 'FLOAT', 'existence': False}, 'latitude': {'unique': False, 'indexed': False, 'type': 'FLOAT', 'existence': False}}, 'type': 'node', 'relationships': {'HAS_PHONE_CODE': {'count': 0, 'direction': 'out', 'labels': ['PhoneCode'], 'properties': {}}, 'HAS_TIMEZONE': {'count': 0, 'direction': 'out', 'labels': ['Timezone'], 'properties': {}}, 'HAS_CAPITAL': {'count': 0, 'direction': 'out', 'labels': ['Capital'], 'properties': {}}, 'USES_CURRENCY': {'count': 0, 'direction': 'out', 'labels': ['Currency'], 'properties': {}}, 'BELONGS_TO_SUBREGION': {'count': 0, 'direction': 'out', 'labels': ['Subregion'], 'properties': {}}}}, 'USES_CURRENCY': {'count': 250, 'properties': {}, 'type': 'relationship'}, 'Subregion': {'count': 23, 'labels': [], 'properties': {'name': {'unique': True, 'indexed': True, 'type': 'STRING', 'existence': False}}, 'type': 'node', 'relationships': {'HAS_SUBREGION': {'count': 24, 'direction': 'in', 'labels': ['Region'], 'properties': {}}, 'BELONGS_TO_SUBREGION': {'count': 250, 'direction': 'in', 'labels': ['Country'], 'properties': {}}}}, 'Region': {'count': 7, 'labels': [], 'properties': {'name': {'unique': True, 'indexed': True, 'type': 'STRING', 'existence': False}}, 'type': 'node', 'relationships': {'HAS_SUBREGION': {'count': 0, 'direction': 'out', 'labels': ['Subregion'], 'properties': {}}}}, 'PhoneCode': {'count': 235, 'labels': [], 'properties': {'code': {'unique': True, 'indexed': True, 'type': 'STRING', 'existence': False}}, 'type': 'node', 'relationships': {'HAS_PHONE_CODE': {'count': 250, 'direction': 'in', 'labels': ['Country'], 'properties': {}}}}, 'Timezone': {'count': 245, 'labels': [], 'properties': {'zone': {'unique': True, 'indexed': True, 'type': 'STRING', 'existence': False}}, 'type': 'node', 'relationships': {'HAS_TIMEZONE': {'count': 250, 'direction': 'in', 'labels': ['Country'], 'properties': {}}}}, 'HAS_SUBREGION': {'count': 24, 'properties': {}, 'type': 'relationship'}, 'Currency': {'count': 161, 'labels': [], 'properties': {'name': {'unique': True, 'indexed': True, 'type': 'STRING', 'existence': False}}, 'type': 'node', 'relationships': {'USES_CURRENCY': {'count': 250, 'direction': 'in', 'labels': ['Country'], 'properties': {}}}}, 'BELONGS_TO_SUBREGION': {'count': 250, 'properties': {}, 'type': 'relationship'}}\n"
     ]
    }
   ],
   "source": [
    "print(g._schema)\n",
    "print(g.schema)\n",
    "print(g._schema)"
   ]
  },
  {
   "cell_type": "code",
   "execution_count": 6,
   "metadata": {},
   "outputs": [
    {
     "name": "stdout",
     "output_type": "stream",
     "text": [
      "dict_keys(['HAS_PHONE_CODE', 'HAS_TIMEZONE', 'HAS_CAPITAL', 'Capital', 'Country', 'USES_CURRENCY', 'Subregion', 'Region', 'PhoneCode', 'Timezone', 'HAS_SUBREGION', 'Currency', 'BELONGS_TO_SUBREGION'])\n"
     ]
    }
   ],
   "source": [
    "print(g.schema.keys())"
   ]
  },
  {
   "cell_type": "code",
   "execution_count": 7,
   "metadata": {},
   "outputs": [
    {
     "data": {
      "text/plain": [
       "{'count': 250, 'properties': {}, 'type': 'relationship'}"
      ]
     },
     "execution_count": 7,
     "metadata": {},
     "output_type": "execute_result"
    }
   ],
   "source": [
    "g.schema[\"HAS_PHONE_CODE\"]"
   ]
  },
  {
   "cell_type": "code",
   "execution_count": 8,
   "metadata": {},
   "outputs": [
    {
     "data": {
      "text/plain": [
       "{'count': 23,\n",
       " 'labels': [],\n",
       " 'properties': {'name': {'unique': True,\n",
       "   'indexed': True,\n",
       "   'type': 'STRING',\n",
       "   'existence': False}},\n",
       " 'type': 'node',\n",
       " 'relationships': {'HAS_SUBREGION': {'count': 24,\n",
       "   'direction': 'in',\n",
       "   'labels': ['Region'],\n",
       "   'properties': {}},\n",
       "  'BELONGS_TO_SUBREGION': {'count': 250,\n",
       "   'direction': 'in',\n",
       "   'labels': ['Country'],\n",
       "   'properties': {}}}}"
      ]
     },
     "execution_count": 8,
     "metadata": {},
     "output_type": "execute_result"
    }
   ],
   "source": [
    "g.schema[\"Subregion\"]"
   ]
  },
  {
   "cell_type": "code",
   "execution_count": null,
   "metadata": {},
   "outputs": [],
   "source": []
  }
 ],
 "metadata": {
  "kernelspec": {
   "display_name": ".venv",
   "language": "python",
   "name": "python3"
  },
  "language_info": {
   "codemirror_mode": {
    "name": "ipython",
    "version": 3
   },
   "file_extension": ".py",
   "mimetype": "text/x-python",
   "name": "python",
   "nbconvert_exporter": "python",
   "pygments_lexer": "ipython3",
   "version": "3.10.11"
  }
 },
 "nbformat": 4,
 "nbformat_minor": 2
}
