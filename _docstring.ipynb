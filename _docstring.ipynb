{
 "cells": [
  {
   "cell_type": "code",
   "execution_count": 100,
   "metadata": {},
   "outputs": [],
   "source": [
    "import inspect\n",
    "from typing import List\n",
    "import textwrap\n",
    "import os\n",
    "\n",
    "from neo4j_runway import DataModel, IngestionGenerator, PyIngest, Discovery, LLM, GraphDataModeler"
   ]
  },
  {
   "cell_type": "code",
   "execution_count": 101,
   "metadata": {},
   "outputs": [
    {
     "name": "stdout",
     "output_type": "stream",
     "text": [
      "\n",
      "        The standard Graph Data Model representation in Neo4j Runway.\n",
      "\n",
      "        Attributes\n",
      "        ----------\n",
      "        nodes : List[Node]\n",
      "            A list of the nodes in the data model.\n",
      "        relationships : List[Relationship]\n",
      "            A list of the relationships in the data model.\n",
      "        metadata: Optional[Dict[str, Any]]\n",
      "            Metadata from an import source such as Solutions Workbench, by default None\n",
      "        use_neo4j_naming_conventions : bool, optional\n",
      "            Whether to convert labels, relationships and properties to Neo4j naming conventions, by default True\n",
      "        \n"
     ]
    }
   ],
   "source": [
    "print(DataModel.__init__.__doc__)"
   ]
  },
  {
   "cell_type": "code",
   "execution_count": 102,
   "metadata": {},
   "outputs": [
    {
     "data": {
      "text/plain": [
       "['\\n        Construct a DataModel from an arrows data model JSON file.\\n\\n        Parameters\\n        ----------\\n        file_path : str\\n            The location and name of the arrows.app JSON file to import.\\n\\n        Returns\\n        -------\\n        DataModel\\n            An instance of a DataModel.\\n        ',\n",
       " '\\n        Construct a DataModel from a Solutions Workbench data model JSON file.\\n\\n        Parameters\\n        ----------\\n        file_path : str\\n            The location and name of the Solutions Workbench JSON file to import.\\n\\n        Returns\\n        -------\\n        DataModel\\n            An instance of a DataModel.\\n        ']"
      ]
     },
     "execution_count": 102,
     "metadata": {},
     "output_type": "execute_result"
    }
   ],
   "source": [
    "[m[1].__doc__ for m in inspect.getmembers(DataModel, predicate=inspect.ismethod) if \"BaseModel\" not in str(m[1]) and not m[0].startswith(\"_\")]"
   ]
  },
  {
   "cell_type": "code",
   "execution_count": 103,
   "metadata": {},
   "outputs": [],
   "source": [
    "# def get_function_docstrings_of_class(class_of_interest) -> List[str]:\n",
    "#     return [(m[0], m[1].__doc__) for m in inspect.getmembers(class_of_interest, predicate=inspect.isfunction) if \"BaseModel\" not in str(m[1]) and not m[0].startswith(\"_\")]"
   ]
  },
  {
   "cell_type": "code",
   "execution_count": 104,
   "metadata": {},
   "outputs": [],
   "source": [
    "def format_docstring(docstring: str) -> str:\n",
    "    if not docstring: return \"\"\n",
    "    docstring = docstring.replace(\"        \", \"    \")\n",
    "    res = \"\"\n",
    "    for line in docstring.split(\"\\n\"):\n",
    "        res+=(textwrap.fill(line, subsequent_indent=\"        \", width=60) + \"\\n\")\n",
    "    return res\n"
   ]
  },
  {
   "cell_type": "code",
   "execution_count": 105,
   "metadata": {},
   "outputs": [],
   "source": [
    "def get_method_docstrings_of_class(class_of_interest) -> List[str]:\n",
    "    return [(m[0], format_docstring(m[1].__doc__)) for m in inspect.getmembers(class_of_interest, predicate=inspect.isfunction) if \"BaseModel\" not in str(m[1]) and (not m[0].startswith(\"_\") or m[0] == \"__init__\")]"
   ]
  },
  {
   "cell_type": "code",
   "execution_count": 106,
   "metadata": {},
   "outputs": [],
   "source": [
    "def get_properties_of_class(class_of_interest) -> List[str]:\n",
    "    ignored_props = {\"__fields_set__\", \"model_extra\", \"model_fields_set\"}\n",
    "    return [(m[0], format_docstring(m[1].__doc__)) for m in inspect.getmembers(class_of_interest) if \"BaseModel\" not in str(m[1]) and \"property\" in str(m[1]) and m[0] not in ignored_props]"
   ]
  },
  {
   "cell_type": "code",
   "execution_count": 107,
   "metadata": {},
   "outputs": [
    {
     "data": {
      "text/plain": [
       "[('node_dict',\n",
       "  '\\n    Returns a dictionary of node label to Node.\\n\\n    Returns\\n    -------\\n    Dict[str, Node]\\n        A dictionary with node label keys and Node values.\\n\\n'),\n",
       " ('node_labels',\n",
       "  '\\n    Returns a list of node labels.\\n\\n    Returns\\n    -------\\n    List[str]\\n        A list of node labels.\\n\\n'),\n",
       " ('relationship_dict',\n",
       "  '\\n    Returns a dictionary of relationship type to\\n        Relationships.\\n\\n    Returns\\n    -------\\n    Dict[str, Relationship]\\n        A dictionary with relationship type keys and\\n        Relationship values.\\n\\n'),\n",
       " ('relationship_types',\n",
       "  '\\n    Returns a list of relationship types.\\n\\n    Returns\\n    -------\\n    List[str]\\n        A list of relationship types.\\n\\n')]"
      ]
     },
     "execution_count": 107,
     "metadata": {},
     "output_type": "execute_result"
    }
   ],
   "source": [
    "get_properties_of_class(DataModel)"
   ]
  },
  {
   "cell_type": "code",
   "execution_count": 108,
   "metadata": {},
   "outputs": [],
   "source": [
    "# [print(x) for x in get_function_docstrings_of_class(DataModel)]\n",
    "# print()\n",
    "# [print(x) for x in get_method_docstrings_of_class(DataModel)]"
   ]
  },
  {
   "cell_type": "code",
   "execution_count": 109,
   "metadata": {},
   "outputs": [],
   "source": [
    "# print(\"\\n\".join(get_method_docstrings_of_class(DataModel)[0][1]))"
   ]
  },
  {
   "cell_type": "code",
   "execution_count": 110,
   "metadata": {},
   "outputs": [],
   "source": [
    "def get_class_name_as_string(class_of_interest) -> str:\n",
    "    return str(class_of_interest).split(\".\")[-1][:-2]"
   ]
  },
  {
   "cell_type": "code",
   "execution_count": 111,
   "metadata": {},
   "outputs": [
    {
     "name": "stdout",
     "output_type": "stream",
     "text": [
      "DataModel\n"
     ]
    }
   ],
   "source": [
    "print(get_class_name_as_string(DataModel))"
   ]
  },
  {
   "cell_type": "code",
   "execution_count": 112,
   "metadata": {},
   "outputs": [],
   "source": [
    "def format_content(class_of_interest) -> str:\n",
    "    class_name_string = get_class_name_as_string(class_of_interest)\n",
    "    methods_as_strings = get_method_docstrings_of_class(class_of_interest)\n",
    "    properties_as_strings = get_properties_of_class(class_of_interest)\n",
    "\n",
    "    content = f\"# {class_name_string}\" + \"\\n\\n## Class Methods\\n\\n\"\n",
    "\n",
    "    for m in methods_as_strings:\n",
    "        content+=f\"\"\"\n",
    "{m[0]}\n",
    "---\n",
    "{m[1].strip()}\n",
    "\n",
    "\"\"\"\n",
    "    if len(properties_as_strings) > 0: content+=\"\\n\\n## Class Properties\\n\\n\"\n",
    "    for p in properties_as_strings:\n",
    "        content+=f\"\"\"\n",
    "{p[0]}\n",
    "---\n",
    "{p[1].strip()}\n",
    "\n",
    "\"\"\"\n",
    "    return content"
   ]
  },
  {
   "cell_type": "code",
   "execution_count": 113,
   "metadata": {},
   "outputs": [
    {
     "name": "stdout",
     "output_type": "stream",
     "text": [
      "# DataModel\n",
      "\n",
      "## Class Methods\n",
      "\n",
      "\n",
      "__init__\n",
      "---\n",
      "The standard Graph Data Model representation in Neo4j\n",
      "        Runway.\n",
      "\n",
      "    Attributes\n",
      "    ----------\n",
      "    nodes : List[Node]\n",
      "        A list of the nodes in the data model.\n",
      "    relationships : List[Relationship]\n",
      "        A list of the relationships in the data model.\n",
      "    metadata: Optional[Dict[str, Any]]\n",
      "        Metadata from an import source such as Solutions\n",
      "        Workbench, by default None\n",
      "    use_neo4j_naming_conventions : bool, optional\n",
      "        Whether to convert labels, relationships and\n",
      "        properties to Neo4j naming conventions, by default\n",
      "        True\n",
      "\n",
      "\n",
      "apply_neo4j_naming_conventions\n",
      "---\n",
      "Apply Neo4j naming conventions to all labels,\n",
      "        relationships and properties in the data model.\n",
      "\n",
      "    Returns\n",
      "    -------\n",
      "    None\n",
      "\n",
      "\n",
      "to_arrows\n",
      "---\n",
      "Output the data model to arrows compatible JSON file.\n",
      "\n",
      "    Parameters\n",
      "    ----------\n",
      "    file_name : str, optional\n",
      "        The file name, by default \"data-model\"\n",
      "    write_file : bool, optional\n",
      "        Whether to write a file, by default True\n",
      "\n",
      "    Returns\n",
      "    -------\n",
      "    ArrowsDataModel\n",
      "        A representation of the data model in arrows.app\n",
      "        format.\n",
      "\n",
      "\n",
      "to_json\n",
      "---\n",
      "Output the data model to a JSON file.\n",
      "\n",
      "\n",
      "to_solutions_workbench\n",
      "---\n",
      "Output the data model to Solutions Workbench compatible\n",
      "        JSON file.\n",
      "\n",
      "    Parameters\n",
      "    ----------\n",
      "    file_path : str\n",
      "        The location and name of the Solutions Workbench\n",
      "        JSON file to import.\n",
      "    write_file : bool, optional\n",
      "        Whether to write a file, by default True\n",
      "\n",
      "    Returns\n",
      "    -------\n",
      "    SolutionsWorkbenchDataModel\n",
      "        A representation of the data model in Solutions\n",
      "        Workbench format.\n",
      "\n",
      "\n",
      "to_yaml\n",
      "---\n",
      "Output the data model to a yaml file and / or yaml\n",
      "        string.\n",
      "\n",
      "\n",
      "validate_model\n",
      "---\n",
      "Perform additional validation on the data model.\n",
      "\n",
      "    Parameters\n",
      "    ----------\n",
      "    csv_columns : List[str]\n",
      "        The CSV columns that are allowed in the data model.\n",
      "\n",
      "    Returns\n",
      "    -------\n",
      "    None\n",
      "\n",
      "\n",
      "visualize\n",
      "---\n",
      "Visualize the data model using Graphviz. Requires that\n",
      "        Graphviz is installed.\n",
      "\n",
      "    Returns\n",
      "    -------\n",
      "    Digraph\n",
      "        A visual representation of the data model.\n",
      "\n",
      "\n",
      "\n",
      "## Class Properties\n",
      "\n",
      "\n",
      "node_dict\n",
      "---\n",
      "Returns a dictionary of node label to Node.\n",
      "\n",
      "    Returns\n",
      "    -------\n",
      "    Dict[str, Node]\n",
      "        A dictionary with node label keys and Node values.\n",
      "\n",
      "\n",
      "node_labels\n",
      "---\n",
      "Returns a list of node labels.\n",
      "\n",
      "    Returns\n",
      "    -------\n",
      "    List[str]\n",
      "        A list of node labels.\n",
      "\n",
      "\n",
      "relationship_dict\n",
      "---\n",
      "Returns a dictionary of relationship type to\n",
      "        Relationships.\n",
      "\n",
      "    Returns\n",
      "    -------\n",
      "    Dict[str, Relationship]\n",
      "        A dictionary with relationship type keys and\n",
      "        Relationship values.\n",
      "\n",
      "\n",
      "relationship_types\n",
      "---\n",
      "Returns a list of relationship types.\n",
      "\n",
      "    Returns\n",
      "    -------\n",
      "    List[str]\n",
      "        A list of relationship types.\n",
      "\n",
      "\n"
     ]
    }
   ],
   "source": [
    "print(format_content(DataModel))"
   ]
  },
  {
   "cell_type": "code",
   "execution_count": null,
   "metadata": {},
   "outputs": [],
   "source": []
  },
  {
   "cell_type": "code",
   "execution_count": 114,
   "metadata": {},
   "outputs": [],
   "source": [
    "def write_markdown_file(file_path: str, content: str) -> None:\n",
    "    base_path = \"./docs/_pages/\"\n",
    "    path_parts = file_path.split(\"/\")\n",
    "    path_only = base_path + \"/\".join(path_parts[:-1])\n",
    "    os.makedirs(path_only, exist_ok=True)\n",
    "    with open(f\"{base_path}{file_path}\", \"w\") as f:\n",
    "                f.write(f\"\"\"---\n",
    "permalink: /{file_path[:-3].replace(\"_\", \"-\")}/\n",
    "---\n",
    "\"\"\")\n",
    "                f.write(content)  "
   ]
  },
  {
   "cell_type": "code",
   "execution_count": 115,
   "metadata": {},
   "outputs": [],
   "source": [
    "write_markdown_file(file_path=\"api/data_model.md\", content=format_content(DataModel))"
   ]
  },
  {
   "cell_type": "code",
   "execution_count": 116,
   "metadata": {},
   "outputs": [],
   "source": [
    "CLASS_DIR = [\n",
    "    {\"class\": DataModel, \"file_path\": \"api/data-model.md\"},\n",
    "    {\"class\": IngestionGenerator, \"file_path\": \"api/ingestion_generator.md\"},\n",
    "    {\"class\": Discovery, \"file_path\": \"api/discovery.md\"},\n",
    "    {\"class\": GraphDataModeler, \"file_path\": \"api/graph_data_modeler.md\"},\n",
    "    {\"class\": LLM, \"file_path\": \"api/llm.md\"},\n",
    "]"
   ]
  },
  {
   "cell_type": "code",
   "execution_count": 117,
   "metadata": {},
   "outputs": [
    {
     "name": "stdout",
     "output_type": "stream",
     "text": [
      "{'class': <class 'neo4j_runway.models.core.data_model.DataModel'>, 'file_path': 'api/data-model.md'}\n",
      "{'class': <class 'neo4j_runway.ingestion.generate_ingest.IngestionGenerator'>, 'file_path': 'api/ingestion_generator.md'}\n",
      "{'class': <class 'neo4j_runway.discovery.discovery.Discovery'>, 'file_path': 'api/discovery.md'}\n",
      "{'class': <class 'neo4j_runway.modeler.modeler.GraphDataModeler'>, 'file_path': 'api/graph_data_modeler.md'}\n",
      "{'class': <class 'neo4j_runway.llm.llm.LLM'>, 'file_path': 'api/llm.md'}\n"
     ]
    }
   ],
   "source": [
    "for m in CLASS_DIR:\n",
    "    print(m)\n",
    "    write_markdown_file(file_path=m[\"file_path\"], content=format_content(m[\"class\"]))"
   ]
  },
  {
   "cell_type": "code",
   "execution_count": null,
   "metadata": {},
   "outputs": [],
   "source": []
  }
 ],
 "metadata": {
  "kernelspec": {
   "display_name": ".venv",
   "language": "python",
   "name": "python3"
  },
  "language_info": {
   "codemirror_mode": {
    "name": "ipython",
    "version": 3
   },
   "file_extension": ".py",
   "mimetype": "text/x-python",
   "name": "python",
   "nbconvert_exporter": "python",
   "pygments_lexer": "ipython3",
   "version": "3.10.11"
  }
 },
 "nbformat": 4,
 "nbformat_minor": 2
}
