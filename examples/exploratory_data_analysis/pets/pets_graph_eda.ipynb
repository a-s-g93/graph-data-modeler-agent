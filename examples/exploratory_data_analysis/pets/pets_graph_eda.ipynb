{
 "cells": [
  {
   "cell_type": "markdown",
   "metadata": {},
   "source": [
    "# Runway - Exploratory Data Analysis"
   ]
  },
  {
   "cell_type": "markdown",
   "metadata": {},
   "source": [
    "This notebooks demonstrates how to use Runway's EDA module. It requires that you have an existing graph."
   ]
  },
  {
   "cell_type": "code",
   "execution_count": 1,
   "metadata": {},
   "outputs": [],
   "source": [
    "import os\n",
    "\n",
    "from neo4j_runway.database.neo4j import Neo4jGraph\n",
    "from neo4j_runway.graph_eda import GraphEDA"
   ]
  },
  {
   "cell_type": "markdown",
   "metadata": {},
   "source": [
    "## Create a Neo4j Instance"
   ]
  },
  {
   "cell_type": "code",
   "execution_count": 2,
   "metadata": {},
   "outputs": [],
   "source": [
    "g = Neo4jGraph(uri=os.environ.get(\"NEO4J_URI\"), username=os.environ.get(\"NEO4J_USERNAME\"), password=os.environ.get(\"NEO4J_PASSWORD\"), database=os.environ.get(\"NEO4J_DATABASE\"))"
   ]
  },
  {
   "cell_type": "markdown",
   "metadata": {},
   "source": [
    "## GraphEDA "
   ]
  },
  {
   "cell_type": "code",
   "execution_count": 3,
   "metadata": {},
   "outputs": [],
   "source": [
    "eda = GraphEDA(g)"
   ]
  },
  {
   "cell_type": "markdown",
   "metadata": {},
   "source": [
    "We can run analytical queries individually via the `GraphEDA` class. For example let's retrieve information on the data constraints."
   ]
  },
  {
   "cell_type": "code",
   "execution_count": 4,
   "metadata": {},
   "outputs": [
    {
     "data": {
      "text/html": [
       "<div>\n",
       "<style scoped>\n",
       "    .dataframe tbody tr th:only-of-type {\n",
       "        vertical-align: middle;\n",
       "    }\n",
       "\n",
       "    .dataframe tbody tr th {\n",
       "        vertical-align: top;\n",
       "    }\n",
       "\n",
       "    .dataframe thead th {\n",
       "        text-align: right;\n",
       "    }\n",
       "</style>\n",
       "<table border=\"1\" class=\"dataframe\">\n",
       "  <thead>\n",
       "    <tr style=\"text-align: right;\">\n",
       "      <th></th>\n",
       "      <th>id</th>\n",
       "      <th>name</th>\n",
       "      <th>type</th>\n",
       "      <th>entityType</th>\n",
       "      <th>labelsOrTypes</th>\n",
       "      <th>properties</th>\n",
       "      <th>ownedIndex</th>\n",
       "      <th>propertyType</th>\n",
       "    </tr>\n",
       "  </thead>\n",
       "  <tbody>\n",
       "    <tr>\n",
       "      <th>0</th>\n",
       "      <td>34</td>\n",
       "      <td>person_name</td>\n",
       "      <td>UNIQUENESS</td>\n",
       "      <td>NODE</td>\n",
       "      <td>[Person]</td>\n",
       "      <td>[name]</td>\n",
       "      <td>person_name</td>\n",
       "      <td>None</td>\n",
       "    </tr>\n",
       "    <tr>\n",
       "      <th>1</th>\n",
       "      <td>36</td>\n",
       "      <td>toy_name</td>\n",
       "      <td>UNIQUENESS</td>\n",
       "      <td>NODE</td>\n",
       "      <td>[Toy]</td>\n",
       "      <td>[name]</td>\n",
       "      <td>toy_name</td>\n",
       "      <td>None</td>\n",
       "    </tr>\n",
       "  </tbody>\n",
       "</table>\n",
       "</div>"
      ],
      "text/plain": [
       "   id         name        type entityType labelsOrTypes properties  \\\n",
       "0  34  person_name  UNIQUENESS       NODE      [Person]     [name]   \n",
       "1  36     toy_name  UNIQUENESS       NODE         [Toy]     [name]   \n",
       "\n",
       "    ownedIndex propertyType  \n",
       "0  person_name         None  \n",
       "1     toy_name         None  "
      ]
     },
     "execution_count": 4,
     "metadata": {},
     "output_type": "execute_result"
    }
   ],
   "source": [
    "eda.database_constraints()"
   ]
  },
  {
   "cell_type": "markdown",
   "metadata": {},
   "source": [
    "When we run a quering method, the results are appended to an internal cache. By default we return the stored content, but we can choose to refresh the cache by providing `refresh=True`."
   ]
  },
  {
   "cell_type": "markdown",
   "metadata": {},
   "source": [
    "### Collecting Insights"
   ]
  },
  {
   "cell_type": "markdown",
   "metadata": {},
   "source": [
    "We can run *all* the analytical queries in the `GraphEDA` class by calling the `run` method.\n",
    "\n",
    "**This can be computationally intensive!**\n",
    "\n",
    "WARNING: The methods in this module can be computationally expensive.\n",
    "It is not recommended to use this module on massive Neo4j databases\n",
    "(i.e., nodes and relationships in the hundreds of millions)"
   ]
  },
  {
   "cell_type": "code",
   "execution_count": 5,
   "metadata": {},
   "outputs": [
    {
     "data": {
      "text/plain": [
       "{'database_indexes': [{'id': 1,\n",
       "   'name': 'index_343aff4e',\n",
       "   'state': 'ONLINE',\n",
       "   'populationPercent': 100.0,\n",
       "   'type': 'LOOKUP',\n",
       "   'entityType': 'NODE',\n",
       "   'labelsOrTypes': None,\n",
       "   'properties': None,\n",
       "   'indexProvider': 'token-lookup-1.0',\n",
       "   'owningConstraint': None,\n",
       "   'lastRead': neo4j.time.DateTime(2024, 10, 25, 13, 7, 49, 138000000, tzinfo=<UTC>),\n",
       "   'readCount': 3809},\n",
       "  {'id': 2,\n",
       "   'name': 'index_f7700477',\n",
       "   'state': 'ONLINE',\n",
       "   'populationPercent': 100.0,\n",
       "   'type': 'LOOKUP',\n",
       "   'entityType': 'RELATIONSHIP',\n",
       "   'labelsOrTypes': None,\n",
       "   'properties': None,\n",
       "   'indexProvider': 'token-lookup-1.0',\n",
       "   'owningConstraint': None,\n",
       "   'lastRead': None,\n",
       "   'readCount': 0},\n",
       "  {'id': 33,\n",
       "   'name': 'person_name',\n",
       "   'state': 'ONLINE',\n",
       "   'populationPercent': 100.0,\n",
       "   'type': 'RANGE',\n",
       "   'entityType': 'NODE',\n",
       "   'labelsOrTypes': ['Person'],\n",
       "   'properties': ['name'],\n",
       "   'indexProvider': 'range-1.0',\n",
       "   'owningConstraint': 'person_name',\n",
       "   'lastRead': neo4j.time.DateTime(2024, 10, 22, 18, 4, 42, 292000000, tzinfo=<UTC>),\n",
       "   'readCount': 55},\n",
       "  {'id': 35,\n",
       "   'name': 'toy_name',\n",
       "   'state': 'ONLINE',\n",
       "   'populationPercent': 100.0,\n",
       "   'type': 'RANGE',\n",
       "   'entityType': 'NODE',\n",
       "   'labelsOrTypes': ['Toy'],\n",
       "   'properties': ['name'],\n",
       "   'indexProvider': 'range-1.0',\n",
       "   'owningConstraint': 'toy_name',\n",
       "   'lastRead': neo4j.time.DateTime(2024, 10, 22, 18, 4, 42, 249000000, tzinfo=<UTC>),\n",
       "   'readCount': 28}],\n",
       " 'database_constraints': [{'id': 34,\n",
       "   'name': 'person_name',\n",
       "   'type': 'UNIQUENESS',\n",
       "   'entityType': 'NODE',\n",
       "   'labelsOrTypes': ['Person'],\n",
       "   'properties': ['name'],\n",
       "   'ownedIndex': 'person_name',\n",
       "   'propertyType': None},\n",
       "  {'id': 36,\n",
       "   'name': 'toy_name',\n",
       "   'type': 'UNIQUENESS',\n",
       "   'entityType': 'NODE',\n",
       "   'labelsOrTypes': ['Toy'],\n",
       "   'properties': ['name'],\n",
       "   'ownedIndex': 'toy_name',\n",
       "   'propertyType': None}],\n",
       " 'node_count': 20,\n",
       " 'node_label_counts': [{'label': 'Person', 'count': 5},\n",
       "  {'label': 'Pet', 'count': 5},\n",
       "  {'label': 'Toy', 'count': 5},\n",
       "  {'label': 'Address', 'count': 4},\n",
       "  {'label': 'Test', 'count': 1}],\n",
       " 'node_multi_label_counts': [{'labelCombinations': ['Test', 'Label2'],\n",
       "   'nodeCount': 1}],\n",
       " 'node_properties': [{'nodeLabels': ['Label2', 'Test'],\n",
       "   'propertyName': 'id',\n",
       "   'propertyTypes': ['String'],\n",
       "   'mandatory': True},\n",
       "  {'nodeLabels': ['Person'],\n",
       "   'propertyName': 'name',\n",
       "   'propertyTypes': ['String'],\n",
       "   'mandatory': True},\n",
       "  {'nodeLabels': ['Person'],\n",
       "   'propertyName': 'age',\n",
       "   'propertyTypes': ['Long'],\n",
       "   'mandatory': True},\n",
       "  {'nodeLabels': ['Address'],\n",
       "   'propertyName': 'street',\n",
       "   'propertyTypes': ['String'],\n",
       "   'mandatory': True},\n",
       "  {'nodeLabels': ['Address'],\n",
       "   'propertyName': 'city',\n",
       "   'propertyTypes': ['String'],\n",
       "   'mandatory': True},\n",
       "  {'nodeLabels': ['Pet'],\n",
       "   'propertyName': 'name',\n",
       "   'propertyTypes': ['String'],\n",
       "   'mandatory': True},\n",
       "  {'nodeLabels': ['Pet'],\n",
       "   'propertyName': 'kind',\n",
       "   'propertyTypes': ['String'],\n",
       "   'mandatory': True},\n",
       "  {'nodeLabels': ['Toy'],\n",
       "   'propertyName': 'name',\n",
       "   'propertyTypes': ['String'],\n",
       "   'mandatory': True},\n",
       "  {'nodeLabels': ['Toy'],\n",
       "   'propertyName': 'kind',\n",
       "   'propertyTypes': ['String'],\n",
       "   'mandatory': True}],\n",
       " 'relationship_count': 24,\n",
       " 'relationship_type_counts': [{'relType': 'KNOWS', 'count': 9},\n",
       "  {'relType': 'HAS_ADDRESS', 'count': 5},\n",
       "  {'relType': 'HAS_PET', 'count': 5},\n",
       "  {'relType': 'PLAYS_WITH', 'count': 5}],\n",
       " 'relationship_properties': [],\n",
       " 'unlabeled_node_count': 0,\n",
       " 'unlabeled_node_ids': [],\n",
       " 'disconnected_node_count': 1,\n",
       " 'disconnected_node_count_by_label': [{'nodeLabel': 'Test', 'count': 1}],\n",
       " 'disconnected_node_ids': [{'nodeLabel': 'Test', 'nodeId': 156089}],\n",
       " 'node_degrees': [{'nodeId': 156090,\n",
       "   'nodeLabel': ['Person'],\n",
       "   'inDegree': 3,\n",
       "   'outDegree': 4},\n",
       "  {'nodeId': 156091, 'nodeLabel': ['Person'], 'inDegree': 3, 'outDegree': 4},\n",
       "  {'nodeId': 156092, 'nodeLabel': ['Person'], 'inDegree': 3, 'outDegree': 4},\n",
       "  {'nodeId': 156094, 'nodeLabel': ['Person'], 'inDegree': 0, 'outDegree': 4},\n",
       "  {'nodeId': 156093, 'nodeLabel': ['Person'], 'inDegree': 0, 'outDegree': 3},\n",
       "  {'nodeId': 156099, 'nodeLabel': ['Pet'], 'inDegree': 1, 'outDegree': 1},\n",
       "  {'nodeId': 156100, 'nodeLabel': ['Pet'], 'inDegree': 1, 'outDegree': 1},\n",
       "  {'nodeId': 156101, 'nodeLabel': ['Pet'], 'inDegree': 1, 'outDegree': 1},\n",
       "  {'nodeId': 156102, 'nodeLabel': ['Pet'], 'inDegree': 1, 'outDegree': 1},\n",
       "  {'nodeId': 156103, 'nodeLabel': ['Pet'], 'inDegree': 1, 'outDegree': 1},\n",
       "  {'nodeId': 156089,\n",
       "   'nodeLabel': ['Test', 'Label2'],\n",
       "   'inDegree': 0,\n",
       "   'outDegree': 0},\n",
       "  {'nodeId': 156095, 'nodeLabel': ['Address'], 'inDegree': 1, 'outDegree': 0},\n",
       "  {'nodeId': 156096, 'nodeLabel': ['Address'], 'inDegree': 1, 'outDegree': 0},\n",
       "  {'nodeId': 156097, 'nodeLabel': ['Address'], 'inDegree': 2, 'outDegree': 0},\n",
       "  {'nodeId': 156098, 'nodeLabel': ['Address'], 'inDegree': 1, 'outDegree': 0},\n",
       "  {'nodeId': 156104, 'nodeLabel': ['Toy'], 'inDegree': 1, 'outDegree': 0},\n",
       "  {'nodeId': 156105, 'nodeLabel': ['Toy'], 'inDegree': 1, 'outDegree': 0},\n",
       "  {'nodeId': 156106, 'nodeLabel': ['Toy'], 'inDegree': 1, 'outDegree': 0},\n",
       "  {'nodeId': 156107, 'nodeLabel': ['Toy'], 'inDegree': 1, 'outDegree': 0},\n",
       "  {'nodeId': 156108, 'nodeLabel': ['Toy'], 'inDegree': 1, 'outDegree': 0}]}"
      ]
     },
     "execution_count": 5,
     "metadata": {},
     "output_type": "execute_result"
    }
   ],
   "source": [
    "eda.run()"
   ]
  },
  {
   "cell_type": "markdown",
   "metadata": {},
   "source": [
    "Now that we have our cache filled, let's see if there are any isolated nodes in the database."
   ]
  },
  {
   "cell_type": "code",
   "execution_count": 6,
   "metadata": {},
   "outputs": [
    {
     "data": {
      "text/html": [
       "<div>\n",
       "<style scoped>\n",
       "    .dataframe tbody tr th:only-of-type {\n",
       "        vertical-align: middle;\n",
       "    }\n",
       "\n",
       "    .dataframe tbody tr th {\n",
       "        vertical-align: top;\n",
       "    }\n",
       "\n",
       "    .dataframe thead th {\n",
       "        text-align: right;\n",
       "    }\n",
       "</style>\n",
       "<table border=\"1\" class=\"dataframe\">\n",
       "  <thead>\n",
       "    <tr style=\"text-align: right;\">\n",
       "      <th></th>\n",
       "      <th>nodeLabel</th>\n",
       "      <th>nodeId</th>\n",
       "    </tr>\n",
       "  </thead>\n",
       "  <tbody>\n",
       "    <tr>\n",
       "      <th>0</th>\n",
       "      <td>Test</td>\n",
       "      <td>156089</td>\n",
       "    </tr>\n",
       "  </tbody>\n",
       "</table>\n",
       "</div>"
      ],
      "text/plain": [
       "  nodeLabel  nodeId\n",
       "0      Test  156089"
      ]
     },
     "execution_count": 6,
     "metadata": {},
     "output_type": "execute_result"
    }
   ],
   "source": [
    "eda.disconnected_node_ids()"
   ]
  },
  {
   "cell_type": "markdown",
   "metadata": {},
   "source": [
    "We see we have a single isolated Test node. We can find this node by it's `nodeId` in the database."
   ]
  },
  {
   "cell_type": "markdown",
   "metadata": {},
   "source": [
    "## Reports"
   ]
  },
  {
   "cell_type": "markdown",
   "metadata": {},
   "source": [
    "We can generate a report containing all the information we've gathered from our queries by calling `create_eda_report`. \n",
    "\n",
    "Some of the sections can become quite lengthy, so there are arguments to control the data that is returned."
   ]
  },
  {
   "cell_type": "code",
   "execution_count": 7,
   "metadata": {},
   "outputs": [
    {
     "data": {
      "text/plain": [
       "\"\\n# Runway EDA Report\\n\\n## Database Information\\n|    | databaseName   | databaseVersion   | databaseEdition   | APOCVersion   | GDSVersion    |\\n|---:|:---------------|:------------------|:------------------|:--------------|:--------------|\\n|  0 | neo4j          | 5.15.0            | enterprise        | 5.15.1        | not installed |\\n\\n### Counts\\n|    |   nodeCount |   unlabeledNodeCount |   disconnectedNodeCount |   relationshipCount |\\n|---:|------------:|---------------------:|------------------------:|--------------------:|\\n|  0 |          20 |                    0 |                       1 |                  24 |\\n\\n### Indexes\\n|    |   id | name           | state   |   populationPercent | type   | entityType   | labelsOrTypes   | properties   | indexProvider    | owningConstraint   | lastRead                            |   readCount |\\n|---:|-----:|:---------------|:--------|--------------------:|:-------|:-------------|:----------------|:-------------|:-----------------|:-------------------|:------------------------------------|------------:|\\n|  0 |    1 | index_343aff4e | ONLINE  |                 100 | LOOKUP | NODE         |                 |              | token-lookup-1.0 |                    | 2024-10-25T13:07:49.138000000+00:00 |        3809 |\\n|  1 |    2 | index_f7700477 | ONLINE  |                 100 | LOOKUP | RELATIONSHIP |                 |              | token-lookup-1.0 |                    |                                     |           0 |\\n|  2 |   33 | person_name    | ONLINE  |                 100 | RANGE  | NODE         | ['Person']      | ['name']     | range-1.0        | person_name        | 2024-10-22T18:04:42.292000000+00:00 |          55 |\\n|  3 |   35 | toy_name       | ONLINE  |                 100 | RANGE  | NODE         | ['Toy']         | ['name']     | range-1.0        | toy_name           | 2024-10-22T18:04:42.249000000+00:00 |          28 |\\n\\n### Constraints\\n|    |   id | name        | type       | entityType   | labelsOrTypes   | properties   | ownedIndex   | propertyType   |\\n|---:|-----:|:------------|:-----------|:-------------|:----------------|:-------------|:-------------|:---------------|\\n|  0 |   34 | person_name | UNIQUENESS | NODE         | ['Person']      | ['name']     | person_name  |                |\\n|  1 |   36 | toy_name    | UNIQUENESS | NODE         | ['Toy']         | ['name']     | toy_name     |                |\\n\\n## Nodes Overview\\n### Label Counts\\n|    | label   |   count |\\n|---:|:--------|--------:|\\n|  0 | Person  |       5 |\\n|  1 | Pet     |       5 |\\n|  2 | Toy     |       5 |\\n|  3 | Address |       4 |\\n|  4 | Test    |       1 |\\n### Multi-Label Counts\\n|    | labelCombinations   |   nodeCount |\\n|---:|:--------------------|------------:|\\n|  0 | ['Test', 'Label2']  |           1 |\\n### Properties\\n|    | nodeLabels         | propertyName   | propertyTypes   | mandatory   |\\n|---:|:-------------------|:---------------|:----------------|:------------|\\n|  0 | ['Label2', 'Test'] | id             | ['String']      | True        |\\n|  1 | ['Person']         | name           | ['String']      | True        |\\n|  2 | ['Person']         | age            | ['Long']        | True        |\\n|  3 | ['Address']        | street         | ['String']      | True        |\\n|  4 | ['Address']        | city           | ['String']      | True        |\\n|  5 | ['Pet']            | name           | ['String']      | True        |\\n|  6 | ['Pet']            | kind           | ['String']      | True        |\\n|  7 | ['Toy']            | name           | ['String']      | True        |\\n|  8 | ['Toy']            | kind           | ['String']      | True        |\\n\\n\\n## Relationships Overview\\n### Type Counts\\n|    | relType     |   count |\\n|---:|:------------|--------:|\\n|  0 | KNOWS       |       9 |\\n|  1 | HAS_ADDRESS |       5 |\\n|  2 | HAS_PET     |       5 |\\n|  3 | PLAYS_WITH  |       5 |\\n### Properties\\nno relationship properties\\n\\n\\n## Unlabeled Nodes\\nno unlabeled nodes data in cache\\n## Disconnected Nodes\\n|    | nodeLabel   |   nodeId |\\n|---:|:------------|---------:|\\n|  0 | Test        |   156089 |\\n## Node Degrees\\n* Top 5 Ordered By outDegree\\n\\n|    |   nodeId | nodeLabel   |   inDegree |   outDegree |\\n|---:|---------:|:------------|-----------:|------------:|\\n|  0 |   156090 | ['Person']  |          3 |           4 |\\n|  2 |   156092 | ['Person']  |          3 |           4 |\\n|  3 |   156094 | ['Person']  |          0 |           4 |\\n|  1 |   156091 | ['Person']  |          3 |           4 |\\n|  4 |   156093 | ['Person']  |          0 |           3 |\\n---\\n\\nRunway v0.12.0\\n\\nReport Generated @ 2024-10-25 10:57:52.507845\\n\""
      ]
     },
     "execution_count": 7,
     "metadata": {},
     "output_type": "execute_result"
    }
   ],
   "source": [
    "eda.create_eda_report(include_disconnected_node_ids=True, include_unlabeled_node_ids=True, include_node_degrees=True, view_report=False)"
   ]
  },
  {
   "cell_type": "code",
   "execution_count": 8,
   "metadata": {},
   "outputs": [
    {
     "data": {
      "text/markdown": [
       "\n",
       "# Runway EDA Report\n",
       "\n",
       "## Database Information\n",
       "|    | databaseName   | databaseVersion   | databaseEdition   | APOCVersion   | GDSVersion    |\n",
       "|---:|:---------------|:------------------|:------------------|:--------------|:--------------|\n",
       "|  0 | neo4j          | 5.15.0            | enterprise        | 5.15.1        | not installed |\n",
       "\n",
       "### Counts\n",
       "|    |   nodeCount |   unlabeledNodeCount |   disconnectedNodeCount |   relationshipCount |\n",
       "|---:|------------:|---------------------:|------------------------:|--------------------:|\n",
       "|  0 |          20 |                    0 |                       1 |                  24 |\n",
       "\n",
       "### Indexes\n",
       "|    |   id | name           | state   |   populationPercent | type   | entityType   | labelsOrTypes   | properties   | indexProvider    | owningConstraint   | lastRead                            |   readCount |\n",
       "|---:|-----:|:---------------|:--------|--------------------:|:-------|:-------------|:----------------|:-------------|:-----------------|:-------------------|:------------------------------------|------------:|\n",
       "|  0 |    1 | index_343aff4e | ONLINE  |                 100 | LOOKUP | NODE         |                 |              | token-lookup-1.0 |                    | 2024-10-25T13:07:49.138000000+00:00 |        3809 |\n",
       "|  1 |    2 | index_f7700477 | ONLINE  |                 100 | LOOKUP | RELATIONSHIP |                 |              | token-lookup-1.0 |                    |                                     |           0 |\n",
       "|  2 |   33 | person_name    | ONLINE  |                 100 | RANGE  | NODE         | ['Person']      | ['name']     | range-1.0        | person_name        | 2024-10-22T18:04:42.292000000+00:00 |          55 |\n",
       "|  3 |   35 | toy_name       | ONLINE  |                 100 | RANGE  | NODE         | ['Toy']         | ['name']     | range-1.0        | toy_name           | 2024-10-22T18:04:42.249000000+00:00 |          28 |\n",
       "\n",
       "### Constraints\n",
       "|    |   id | name        | type       | entityType   | labelsOrTypes   | properties   | ownedIndex   | propertyType   |\n",
       "|---:|-----:|:------------|:-----------|:-------------|:----------------|:-------------|:-------------|:---------------|\n",
       "|  0 |   34 | person_name | UNIQUENESS | NODE         | ['Person']      | ['name']     | person_name  |                |\n",
       "|  1 |   36 | toy_name    | UNIQUENESS | NODE         | ['Toy']         | ['name']     | toy_name     |                |\n",
       "\n",
       "## Nodes Overview\n",
       "### Label Counts\n",
       "|    | label   |   count |\n",
       "|---:|:--------|--------:|\n",
       "|  0 | Person  |       5 |\n",
       "|  1 | Pet     |       5 |\n",
       "|  2 | Toy     |       5 |\n",
       "|  3 | Address |       4 |\n",
       "|  4 | Test    |       1 |\n",
       "### Multi-Label Counts\n",
       "|    | labelCombinations   |   nodeCount |\n",
       "|---:|:--------------------|------------:|\n",
       "|  0 | ['Test', 'Label2']  |           1 |\n",
       "### Properties\n",
       "|    | nodeLabels         | propertyName   | propertyTypes   | mandatory   |\n",
       "|---:|:-------------------|:---------------|:----------------|:------------|\n",
       "|  0 | ['Label2', 'Test'] | id             | ['String']      | True        |\n",
       "|  1 | ['Person']         | name           | ['String']      | True        |\n",
       "|  2 | ['Person']         | age            | ['Long']        | True        |\n",
       "|  3 | ['Address']        | street         | ['String']      | True        |\n",
       "|  4 | ['Address']        | city           | ['String']      | True        |\n",
       "|  5 | ['Pet']            | name           | ['String']      | True        |\n",
       "|  6 | ['Pet']            | kind           | ['String']      | True        |\n",
       "|  7 | ['Toy']            | name           | ['String']      | True        |\n",
       "|  8 | ['Toy']            | kind           | ['String']      | True        |\n",
       "\n",
       "\n",
       "## Relationships Overview\n",
       "### Type Counts\n",
       "|    | relType     |   count |\n",
       "|---:|:------------|--------:|\n",
       "|  0 | KNOWS       |       9 |\n",
       "|  1 | HAS_ADDRESS |       5 |\n",
       "|  2 | HAS_PET     |       5 |\n",
       "|  3 | PLAYS_WITH  |       5 |\n",
       "### Properties\n",
       "no relationship properties\n",
       "\n",
       "\n",
       "## Unlabeled Nodes\n",
       "no unlabeled nodes data in cache\n",
       "## Disconnected Nodes\n",
       "|    | nodeLabel   |   nodeId |\n",
       "|---:|:------------|---------:|\n",
       "|  0 | Test        |   156089 |\n",
       "## Node Degrees\n",
       "* Top 5 Ordered By outDegree\n",
       "\n",
       "|    |   nodeId | nodeLabel   |   inDegree |   outDegree |\n",
       "|---:|---------:|:------------|-----------:|------------:|\n",
       "|  0 |   156090 | ['Person']  |          3 |           4 |\n",
       "|  2 |   156092 | ['Person']  |          3 |           4 |\n",
       "|  3 |   156094 | ['Person']  |          0 |           4 |\n",
       "|  1 |   156091 | ['Person']  |          3 |           4 |\n",
       "|  4 |   156093 | ['Person']  |          0 |           3 |\n",
       "---\n",
       "\n",
       "Runway v0.12.0\n",
       "\n",
       "Report Generated @ 2024-10-25 10:57:52.507845\n"
      ],
      "text/plain": [
       "<IPython.core.display.Markdown object>"
      ]
     },
     "metadata": {},
     "output_type": "display_data"
    }
   ],
   "source": [
    "eda.view_report()"
   ]
  },
  {
   "cell_type": "markdown",
   "metadata": {},
   "source": [
    "We can also save the report to a Markdown file."
   ]
  },
  {
   "cell_type": "code",
   "execution_count": 9,
   "metadata": {},
   "outputs": [],
   "source": [
    "eda.save_report(\"outputs/pets_runway_report.md\")"
   ]
  }
 ],
 "metadata": {
  "kernelspec": {
   "display_name": "neo4j-runway-20CPAOlQ-py3.12",
   "language": "python",
   "name": "python3"
  },
  "language_info": {
   "codemirror_mode": {
    "name": "ipython",
    "version": 3
   },
   "file_extension": ".py",
   "mimetype": "text/x-python",
   "name": "python",
   "nbconvert_exporter": "python",
   "pygments_lexer": "ipython3",
   "version": "3.10.11"
  }
 },
 "nbformat": 4,
 "nbformat_minor": 2
}
