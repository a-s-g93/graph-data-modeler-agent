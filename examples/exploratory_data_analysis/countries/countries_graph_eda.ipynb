{
 "cells": [
  {
   "cell_type": "markdown",
   "metadata": {},
   "source": [
    "# Countries Exploratory Data Analysis"
   ]
  },
  {
   "cell_type": "markdown",
   "metadata": {},
   "source": [
    "This notebooks demonstrates how to use Runway's EDA module with Neo4j's example dataset containing information on countries.\n",
    "\n",
    "*Note: Disconnected and unlabeled nodes have been added to the data to demonstrate the `GraphEDA` module.*"
   ]
  },
  {
   "cell_type": "code",
   "execution_count": 1,
   "metadata": {},
   "outputs": [],
   "source": [
    "import os\n",
    "\n",
    "from neo4j_runway.database.neo4j import Neo4jGraph\n",
    "from neo4j_runway.graph_eda import GraphEDA "
   ]
  },
  {
   "cell_type": "markdown",
   "metadata": {},
   "source": [
    "## Create a Neo4j Instance"
   ]
  },
  {
   "cell_type": "code",
   "execution_count": 2,
   "metadata": {},
   "outputs": [],
   "source": [
    "g = Neo4jGraph(uri=os.environ.get(\"NEO4J_URI\"), username=os.environ.get(\"NEO4J_USERNAME\"), password=os.environ.get(\"NEO4J_PASSWORD\"), database=\"neo4j\")"
   ]
  },
  {
   "cell_type": "markdown",
   "metadata": {},
   "source": [
    "## GraphEDA "
   ]
  },
  {
   "cell_type": "code",
   "execution_count": 3,
   "metadata": {},
   "outputs": [],
   "source": [
    "eda = GraphEDA(g)"
   ]
  },
  {
   "cell_type": "markdown",
   "metadata": {},
   "source": [
    "### Possible Methods"
   ]
  },
  {
   "cell_type": "code",
   "execution_count": 4,
   "metadata": {},
   "outputs": [
    {
     "data": {
      "text/plain": [
       "['database_indexes',\n",
       " 'database_constraints',\n",
       " 'node_count',\n",
       " 'node_label_counts',\n",
       " 'node_multi_label_counts',\n",
       " 'node_properties',\n",
       " 'relationship_count',\n",
       " 'relationship_type_counts',\n",
       " 'relationship_properties',\n",
       " 'unlabeled_node_count',\n",
       " 'unlabeled_node_ids',\n",
       " 'disconnected_node_count',\n",
       " 'disconnected_node_count_by_label',\n",
       " 'disconnected_node_ids',\n",
       " 'node_degrees']"
      ]
     },
     "execution_count": 4,
     "metadata": {},
     "output_type": "execute_result"
    }
   ],
   "source": [
    "eda.available_methods"
   ]
  },
  {
   "cell_type": "markdown",
   "metadata": {},
   "source": [
    "We can run analytical queries individually via the `GraphEDA` class. For example let's retrieve information on the data constraints."
   ]
  },
  {
   "cell_type": "code",
   "execution_count": 5,
   "metadata": {},
   "outputs": [
    {
     "data": {
      "text/html": [
       "<div>\n",
       "<style scoped>\n",
       "    .dataframe tbody tr th:only-of-type {\n",
       "        vertical-align: middle;\n",
       "    }\n",
       "\n",
       "    .dataframe tbody tr th {\n",
       "        vertical-align: top;\n",
       "    }\n",
       "\n",
       "    .dataframe thead th {\n",
       "        text-align: right;\n",
       "    }\n",
       "</style>\n",
       "<table border=\"1\" class=\"dataframe\">\n",
       "  <thead>\n",
       "    <tr style=\"text-align: right;\">\n",
       "      <th></th>\n",
       "      <th>id</th>\n",
       "      <th>name</th>\n",
       "      <th>type</th>\n",
       "      <th>entityType</th>\n",
       "      <th>labelsOrTypes</th>\n",
       "      <th>properties</th>\n",
       "      <th>ownedIndex</th>\n",
       "      <th>propertyType</th>\n",
       "    </tr>\n",
       "  </thead>\n",
       "  <tbody>\n",
       "    <tr>\n",
       "      <th>0</th>\n",
       "      <td>6</td>\n",
       "      <td>city_cityid</td>\n",
       "      <td>UNIQUENESS</td>\n",
       "      <td>NODE</td>\n",
       "      <td>[City]</td>\n",
       "      <td>[cityId]</td>\n",
       "      <td>city_cityid</td>\n",
       "      <td>None</td>\n",
       "    </tr>\n",
       "    <tr>\n",
       "      <th>1</th>\n",
       "      <td>8</td>\n",
       "      <td>country_countryid</td>\n",
       "      <td>UNIQUENESS</td>\n",
       "      <td>NODE</td>\n",
       "      <td>[Country]</td>\n",
       "      <td>[countryId]</td>\n",
       "      <td>country_countryid</td>\n",
       "      <td>None</td>\n",
       "    </tr>\n",
       "    <tr>\n",
       "      <th>2</th>\n",
       "      <td>12</td>\n",
       "      <td>currency_currencyname</td>\n",
       "      <td>UNIQUENESS</td>\n",
       "      <td>NODE</td>\n",
       "      <td>[Currency]</td>\n",
       "      <td>[currencyName]</td>\n",
       "      <td>currency_currencyname</td>\n",
       "      <td>None</td>\n",
       "    </tr>\n",
       "    <tr>\n",
       "      <th>3</th>\n",
       "      <td>14</td>\n",
       "      <td>region_regionname</td>\n",
       "      <td>UNIQUENESS</td>\n",
       "      <td>NODE</td>\n",
       "      <td>[Region]</td>\n",
       "      <td>[regionName]</td>\n",
       "      <td>region_regionname</td>\n",
       "      <td>None</td>\n",
       "    </tr>\n",
       "    <tr>\n",
       "      <th>4</th>\n",
       "      <td>4</td>\n",
       "      <td>state_stateid</td>\n",
       "      <td>UNIQUENESS</td>\n",
       "      <td>NODE</td>\n",
       "      <td>[State]</td>\n",
       "      <td>[stateId]</td>\n",
       "      <td>state_stateid</td>\n",
       "      <td>None</td>\n",
       "    </tr>\n",
       "    <tr>\n",
       "      <th>5</th>\n",
       "      <td>10</td>\n",
       "      <td>subregion_subregionname</td>\n",
       "      <td>UNIQUENESS</td>\n",
       "      <td>NODE</td>\n",
       "      <td>[Subregion]</td>\n",
       "      <td>[subregionName]</td>\n",
       "      <td>subregion_subregionname</td>\n",
       "      <td>None</td>\n",
       "    </tr>\n",
       "  </tbody>\n",
       "</table>\n",
       "</div>"
      ],
      "text/plain": [
       "   id                     name        type entityType labelsOrTypes  \\\n",
       "0   6              city_cityid  UNIQUENESS       NODE        [City]   \n",
       "1   8        country_countryid  UNIQUENESS       NODE     [Country]   \n",
       "2  12    currency_currencyname  UNIQUENESS       NODE    [Currency]   \n",
       "3  14        region_regionname  UNIQUENESS       NODE      [Region]   \n",
       "4   4            state_stateid  UNIQUENESS       NODE       [State]   \n",
       "5  10  subregion_subregionname  UNIQUENESS       NODE   [Subregion]   \n",
       "\n",
       "        properties               ownedIndex propertyType  \n",
       "0         [cityId]              city_cityid         None  \n",
       "1      [countryId]        country_countryid         None  \n",
       "2   [currencyName]    currency_currencyname         None  \n",
       "3     [regionName]        region_regionname         None  \n",
       "4        [stateId]            state_stateid         None  \n",
       "5  [subregionName]  subregion_subregionname         None  "
      ]
     },
     "execution_count": 5,
     "metadata": {},
     "output_type": "execute_result"
    }
   ],
   "source": [
    "eda.database_constraints()"
   ]
  },
  {
   "cell_type": "markdown",
   "metadata": {},
   "source": [
    "When we run a quering method, the results are appended to an internal cache. By default we return the stored content, but we can choose to refresh the cache by providing `refresh=True`."
   ]
  },
  {
   "cell_type": "markdown",
   "metadata": {},
   "source": [
    "### Collecting Insights"
   ]
  },
  {
   "cell_type": "markdown",
   "metadata": {},
   "source": [
    "We can run *all* the analytical queries in the `GraphEDA` class by calling the `run` method.\n",
    "\n",
    "**This can be computationally intensive!**\n",
    "\n",
    "WARNING: The methods in this module can be computationally expensive.\n",
    "It is not recommended to use this module on massive Neo4j databases\n",
    "(i.e., nodes and relationships in the hundreds of millions)"
   ]
  },
  {
   "cell_type": "code",
   "execution_count": 6,
   "metadata": {},
   "outputs": [],
   "source": [
    "%%capture\n",
    "eda.run(refresh=True, method_params={\"node_degrees\": {\"order_by\": \"in\", \"top_k\": 10}})"
   ]
  },
  {
   "cell_type": "markdown",
   "metadata": {},
   "source": [
    "Now that we have our cache filled, let's see if there are any isolated nodes in the database."
   ]
  },
  {
   "cell_type": "code",
   "execution_count": 7,
   "metadata": {},
   "outputs": [
    {
     "data": {
      "text/plain": [
       "12"
      ]
     },
     "execution_count": 7,
     "metadata": {},
     "output_type": "execute_result"
    }
   ],
   "source": [
    "eda.disconnected_node_count()"
   ]
  },
  {
   "cell_type": "markdown",
   "metadata": {},
   "source": [
    "Disconnected nodes may indicate something wrong with our ingestion logic..."
   ]
  },
  {
   "cell_type": "markdown",
   "metadata": {},
   "source": [
    "## Reports"
   ]
  },
  {
   "cell_type": "markdown",
   "metadata": {},
   "source": [
    "We can generate a report containing all the information we've gathered from our queries by calling `create_eda_report`. \n",
    "\n",
    "Some of the sections can become quite lengthy, so there are arguments to control the data that is returned."
   ]
  },
  {
   "cell_type": "code",
   "execution_count": 8,
   "metadata": {},
   "outputs": [],
   "source": [
    "%%capture\n",
    "eda.create_eda_report(include_disconnected_node_ids=True, include_unlabeled_node_ids=True, include_node_degrees=True, view_report=False, order_node_degrees_by=\"in\")"
   ]
  },
  {
   "cell_type": "code",
   "execution_count": 9,
   "metadata": {},
   "outputs": [
    {
     "data": {
      "text/markdown": [
       "\n",
       "# Runway EDA Report\n",
       "\n",
       "## Database Information\n",
       "|    | databaseName   | databaseVersion   | databaseEdition   | APOCVersion   | GDSVersion    |\n",
       "|---:|:---------------|:------------------|:------------------|:--------------|:--------------|\n",
       "|  0 | neo4j          | 5.15.0            | enterprise        | 5.15.1        | not installed |\n",
       "\n",
       "### Counts\n",
       "|    | nodeCount   |   unlabeledNodeCount |   disconnectedNodeCount | relationshipCount   |\n",
       "|---:|:------------|---------------------:|------------------------:|:--------------------|\n",
       "|  0 | 155,979     |                   20 |                      12 | 156,025             |\n",
       "\n",
       "### Indexes\n",
       "|    |   id | name                    | state   |   populationPercent | type   | entityType   | labelsOrTypes   | properties        | indexProvider    | owningConstraint        | lastRead                            | readCount   |\n",
       "|---:|-----:|:------------------------|:--------|--------------------:|:-------|:-------------|:----------------|:------------------|:-----------------|:------------------------|:------------------------------------|:------------|\n",
       "|  0 |    5 | city_cityid             | ONLINE  |                 100 | RANGE  | NODE         | ['City']        | ['cityId']        | range-1.0        | city_cityid             | 2024-11-04T15:24:23.674000000+00:00 | 601,816     |\n",
       "|  1 |    7 | country_countryid       | ONLINE  |                 100 | RANGE  | NODE         | ['Country']     | ['countryId']     | range-1.0        | country_countryid       | 2024-11-04T15:24:23.849000000+00:00 | 6,327       |\n",
       "|  2 |   11 | currency_currencyname   | ONLINE  |                 100 | RANGE  | NODE         | ['Currency']    | ['currencyName']  | range-1.0        | currency_currencyname   | 2024-11-04T15:24:23.849000000+00:00 | 812         |\n",
       "|  3 |    1 | index_343aff4e          | ONLINE  |                 100 | LOOKUP | NODE         |                 |                   | token-lookup-1.0 |                         | 2024-11-04T22:18:30.537000000+00:00 | 4,052       |\n",
       "|  4 |    2 | index_f7700477          | ONLINE  |                 100 | LOOKUP | RELATIONSHIP |                 |                   | token-lookup-1.0 |                         |                                     | 0           |\n",
       "|  5 |   13 | region_regionname       | ONLINE  |                 100 | RANGE  | NODE         | ['Region']      | ['regionName']    | range-1.0        | region_regionname       | 2024-11-04T15:24:23.931000000+00:00 | 514         |\n",
       "|  6 |    3 | state_stateid           | ONLINE  |                 100 | RANGE  | NODE         | ['State']       | ['stateId']       | range-1.0        | state_stateid           | 2024-11-04T15:24:23.674000000+00:00 | 170,762     |\n",
       "|  7 |    9 | subregion_subregionname | ONLINE  |                 100 | RANGE  | NODE         | ['Subregion']   | ['subregionName'] | range-1.0        | subregion_subregionname | 2024-11-04T15:24:23.931000000+00:00 | 796         |\n",
       "\n",
       "### Constraints\n",
       "|    |   id | name                    | type       | entityType   | labelsOrTypes   | properties        | ownedIndex              | propertyType   |\n",
       "|---:|-----:|:------------------------|:-----------|:-------------|:----------------|:------------------|:------------------------|:---------------|\n",
       "|  0 |    6 | city_cityid             | UNIQUENESS | NODE         | ['City']        | ['cityId']        | city_cityid             |                |\n",
       "|  1 |    8 | country_countryid       | UNIQUENESS | NODE         | ['Country']     | ['countryId']     | country_countryid       |                |\n",
       "|  2 |   12 | currency_currencyname   | UNIQUENESS | NODE         | ['Currency']    | ['currencyName']  | currency_currencyname   |                |\n",
       "|  3 |   14 | region_regionname       | UNIQUENESS | NODE         | ['Region']      | ['regionName']    | region_regionname       |                |\n",
       "|  4 |    4 | state_stateid           | UNIQUENESS | NODE         | ['State']       | ['stateId']       | state_stateid           |                |\n",
       "|  5 |   10 | subregion_subregionname | UNIQUENESS | NODE         | ['Subregion']   | ['subregionName'] | subregion_subregionname |                |\n",
       "\n",
       "## Nodes Overview\n",
       "### Label Counts\n",
       "|    | label        | count   |\n",
       "|---:|:-------------|:--------|\n",
       "|  0 | City         | 150,434 |\n",
       "|  1 | State        | 5,077   |\n",
       "|  2 | Country      | 250     |\n",
       "|  3 | Currency     | 156     |\n",
       "|  4 | Subregion    | 23      |\n",
       "|  5 | IsolatedNode | 12      |\n",
       "|  6 | Region       | 7       |\n",
       "|  7 |              | 0       |\n",
       "### Properties\n",
       "|    | nodeLabels       | propertyName   | propertyTypes   | mandatory   |\n",
       "|---:|:-----------------|:---------------|:----------------|:------------|\n",
       "|  0 | []               | name           | ['String']      | True        |\n",
       "|  1 | []               | cityId         | ['String']      | True        |\n",
       "|  2 | ['City']         | name           | ['String']      | True        |\n",
       "|  3 | ['City']         | cityId         | ['String']      | True        |\n",
       "|  4 | ['IsolatedNode'] | id             | ['Long']        | False       |\n",
       "|  5 | ['Region']       | regionName     | ['String']      | True        |\n",
       "|  6 | ['State']        | name           | ['String']      | True        |\n",
       "|  7 | ['State']        | stateId        | ['String']      | True        |\n",
       "|  8 | ['Country']      | name           | ['String']      | True        |\n",
       "|  9 | ['Country']      | capital        | ['String']      | True        |\n",
       "| 10 | ['Country']      | countryId      | ['String']      | True        |\n",
       "| 11 | ['Subregion']    | subregionName  | ['String']      | True        |\n",
       "| 12 | ['Currency']     | currencyName   | ['String']      | True        |\n",
       "\n",
       "\n",
       "## Relationships Overview\n",
       "### Type Counts\n",
       "|    | relType    | count   |\n",
       "|---:|:-----------|:--------|\n",
       "|  0 | LOCATED_IN | 150,454 |\n",
       "|  1 | BELONGS_TO | 5,047   |\n",
       "|  2 | PART_OF    | 274     |\n",
       "|  3 | USES       | 250     |\n",
       "### Properties\n",
       "|    | relType       | propertyName   | propertyTypes   | mandatory   |\n",
       "|---:|:--------------|:---------------|:----------------|:------------|\n",
       "|  0 | :`BELONGS_TO` | demo_prop      | ['Double']      | False       |\n",
       "\n",
       "\n",
       "## Unlabeled Nodes\n",
       "|    | ids   |\n",
       "|---:|:------|\n",
       "|  0 | 5,077 |\n",
       "|  1 | 5,078 |\n",
       "|  2 | 5,079 |\n",
       "|  3 | 5,080 |\n",
       "|  4 | 5,081 |\n",
       "|  5 | 5,082 |\n",
       "|  6 | 5,083 |\n",
       "|  7 | 5,084 |\n",
       "|  8 | 5,085 |\n",
       "|  9 | 5,086 |\n",
       "| 10 | 5,087 |\n",
       "| 11 | 5,088 |\n",
       "| 12 | 5,089 |\n",
       "| 13 | 5,090 |\n",
       "| 14 | 5,091 |\n",
       "| 15 | 5,092 |\n",
       "| 16 | 5,093 |\n",
       "| 17 | 5,094 |\n",
       "| 18 | 5,095 |\n",
       "| 19 | 5,096 |\n",
       "## Disconnected Nodes\n",
       "|    | nodeLabel    | nodeId   |\n",
       "|---:|:-------------|:---------|\n",
       "|  0 | IsolatedNode | 155,967  |\n",
       "|  1 | IsolatedNode | 155,968  |\n",
       "|  2 | IsolatedNode | 155,969  |\n",
       "|  3 | IsolatedNode | 155,970  |\n",
       "|  4 | IsolatedNode | 155,971  |\n",
       "|  5 | IsolatedNode | 155,972  |\n",
       "|  6 | IsolatedNode | 155,973  |\n",
       "|  7 | IsolatedNode | 155,974  |\n",
       "|  8 | IsolatedNode | 155,975  |\n",
       "|  9 | IsolatedNode | 155,976  |\n",
       "| 10 | IsolatedNode | 155,977  |\n",
       "| 11 | IsolatedNode | 155,978  |\n",
       "## Node Degrees\n",
       "* Top 5 Ordered By inDegree\n",
       "\n",
       "|    |   nodeId | nodeLabel   |   inDegree |   outDegree |\n",
       "|---:|---------:|:------------|-----------:|------------:|\n",
       "|  0 |     4671 | ['State']   |       2919 |           1 |\n",
       "|  1 |     1843 | ['State']   |       1787 |           1 |\n",
       "|  2 |     1384 | ['State']   |       1756 |           1 |\n",
       "|  3 |     1865 | ['State']   |       1289 |           1 |\n",
       "|  4 |     4886 | ['State']   |       1277 |           1 |\n",
       "---\n",
       "\n",
       "Runway v0.14.0\n",
       "\n",
       "Report Generated @ 2024-11-04 16:23:33.445064\n"
      ],
      "text/plain": [
       "<IPython.core.display.Markdown object>"
      ]
     },
     "metadata": {},
     "output_type": "display_data"
    }
   ],
   "source": [
    "eda.view_report(notebook=True)"
   ]
  },
  {
   "cell_type": "markdown",
   "metadata": {},
   "source": [
    "We can also save the report to a Markdown file."
   ]
  },
  {
   "cell_type": "code",
   "execution_count": 10,
   "metadata": {},
   "outputs": [],
   "source": [
    "eda.save_report(file_name=\"outputs/countries_runway_report.md\")"
   ]
  },
  {
   "cell_type": "code",
   "execution_count": null,
   "metadata": {},
   "outputs": [],
   "source": []
  }
 ],
 "metadata": {
  "kernelspec": {
   "display_name": ".venv",
   "language": "python",
   "name": "python3"
  },
  "language_info": {
   "codemirror_mode": {
    "name": "ipython",
    "version": 3
   },
   "file_extension": ".py",
   "mimetype": "text/x-python",
   "name": "python",
   "nbconvert_exporter": "python",
   "pygments_lexer": "ipython3",
   "version": "3.10.11"
  }
 },
 "nbformat": 4,
 "nbformat_minor": 2
}
