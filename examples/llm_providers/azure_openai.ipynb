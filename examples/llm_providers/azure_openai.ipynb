{
 "cells": [
  {
   "cell_type": "markdown",
   "metadata": {},
   "source": [
    "# Azure OpenAI Integration"
   ]
  },
  {
   "cell_type": "markdown",
   "metadata": {},
   "source": [
    "This notebook covers the basics of using an Azure hosted OpenAI LLM in Runway."
   ]
  },
  {
   "cell_type": "code",
   "execution_count": 1,
   "metadata": {},
   "outputs": [],
   "source": [
    "import os\n",
    "\n",
    "from neo4j_runway.llm.openai import AzureOpenAIDiscoveryLLM, AzureOpenAIDataModelingLLM\n",
    "from neo4j_runway import Discovery, UserInput, GraphDataModeler\n",
    "import pandas as pd"
   ]
  },
  {
   "cell_type": "markdown",
   "metadata": {},
   "source": [
    "## Load Data"
   ]
  },
  {
   "cell_type": "code",
   "execution_count": 2,
   "metadata": {},
   "outputs": [],
   "source": [
    "df = pd.read_csv(\"../data/countries/countries.csv\")"
   ]
  },
  {
   "cell_type": "code",
   "execution_count": 3,
   "metadata": {},
   "outputs": [],
   "source": [
    "user_input = UserInput(general_description='This is data on different countries.',\n",
    "                                 column_descriptions={\n",
    "                                     'id': 'unique id for a country.',\n",
    "                                    'name': 'the country name.',\n",
    "                                    'phone_code': 'country area code.',\n",
    "                                    'capital': 'the capital of the country.',\n",
    "                                    'currency_name': \"name of the country's currency.\",\n",
    "                                    'region': 'primary region of the country.',\n",
    "                                    'subregion': 'subregion location of the country.',\n",
    "                                    'timezones': 'timezones contained within the country borders.',\n",
    "                                    'latitude': 'the latitude coordinate of the country center.',\n",
    "                                    'longitude': 'the longitude coordinate of the country center.'\n",
    "                                    },\n",
    "                                use_cases=[\n",
    "        \"Which region contains the most subregions?\", \n",
    "        \"What currencies are most popular?\", \n",
    "        \"Which countries share timezones?\"\n",
    "    ]  \n",
    "                                )"
   ]
  },
  {
   "cell_type": "markdown",
   "metadata": {},
   "source": [
    "## Discovery"
   ]
  },
  {
   "cell_type": "code",
   "execution_count": 4,
   "metadata": {},
   "outputs": [],
   "source": [
    "disc_llm = AzureOpenAIDiscoveryLLM(model=\"gpt-4o-runway\", # this is the deployment name in Azure OpenAI Studio\n",
    "                                   model_params={\"temperature\": 0.5},\n",
    "                                   azure_open_ai_key=os.environ.get(\"AZURE_OPENAI_API_KEY\"), # this will be auto read from env if present. declaring here for demo.\n",
    "                                   azure_endpoint=os.environ.get(\"AZURE_OPENAI_ENDPOINT\"),   # this will be auto read from env if present. declaring here for demo.\n",
    "                                   azure_ad_token_provider=None, # if using Microsoft Entra ID authentication you can provide credentials here.\n",
    "                                   ) "
   ]
  },
  {
   "cell_type": "code",
   "execution_count": 5,
   "metadata": {},
   "outputs": [],
   "source": [
    "disc = Discovery(llm=disc_llm, data=df, user_input=user_input)"
   ]
  },
  {
   "cell_type": "code",
   "execution_count": 6,
   "metadata": {},
   "outputs": [
    {
     "data": {
      "text/markdown": [
       "The dataset consists of 250 entries, each representing a country, with 10 features including both numerical and categorical data. Here's a preliminary analysis:\n",
       "\n",
       "### Important Overall Details:\n",
       "- **Data Completeness**: The dataset is mostly complete, with minor missing values in the 'capital', 'region', and 'subregion' columns.\n",
       "- **Unique Identifiers**: Each country has a unique 'id' and 'name'.\n",
       "- **Geographical Coordinates**: Latitude and longitude are available for all countries, providing geographical context.\n",
       "\n",
       "### Key Features for Use Cases:\n",
       "1. **Region and Subregion**:\n",
       "   - The 'region' and 'subregion' columns are essential for identifying which region contains the most subregions. With 6 unique regions and 22 unique subregions, analysis can be done by grouping and counting entries.\n",
       "\n",
       "2. **Currency Name**:\n",
       "   - The 'currency_name' column, with 161 unique values, is crucial for identifying the most popular currencies. The most frequent currency is the Euro.\n",
       "\n",
       "3. **Timezones**:\n",
       "   - The 'timezones' column, with 245 unique entries, will help determine which countries share timezones. It contains detailed timezone information that may require further parsing for analysis.\n",
       "\n",
       "### Most Important Features:\n",
       "- **Region and Subregion**: For geographical and political grouping.\n",
       "- **Currency Name**: For economic analysis and identifying currency prevalence.\n",
       "- **Timezones**: For understanding temporal relationships and shared time zones between countries.\n",
       "\n",
       "### Additional Observations:\n",
       "- **Phone Code and Capital**: While not directly related to the use cases, these features provide additional context about the countries.\n",
       "- **Distribution of Geographical Coordinates**: The latitude and longitude distributions indicate a diverse global representation of countries.\n",
       "\n",
       "These insights provide a foundational understanding of the dataset, which will aid in designing a graph data model to address the specified use cases."
      ],
      "text/plain": [
       "<IPython.core.display.Markdown object>"
      ]
     },
     "metadata": {},
     "output_type": "display_data"
    }
   ],
   "source": [
    "disc.run()"
   ]
  },
  {
   "cell_type": "markdown",
   "metadata": {},
   "source": [
    "## Data Modeling"
   ]
  },
  {
   "cell_type": "code",
   "execution_count": 11,
   "metadata": {},
   "outputs": [],
   "source": [
    "dm_llm = AzureOpenAIDataModelingLLM(model=\"gpt-4o-runway\", # this is the deployment name in Azure OpenAI Studio\n",
    "                                   model_params={\"temperature\": 0.0},\n",
    "                                   azure_open_ai_key=os.environ.get(\"AZURE_OPENAI_API_KEY\"), # this will be auto read from env if present. declaring here for demo.\n",
    "                                   azure_endpoint=os.environ.get(\"AZURE_OPENAI_ENDPOINT\"),   # this will be auto read from env if present. declaring here for demo.\n",
    "                                   azure_ad_token_provider=None, # if using Microsoft Entra ID authentication you can provide credentials here.\n",
    "                                   )"
   ]
  },
  {
   "cell_type": "code",
   "execution_count": 12,
   "metadata": {},
   "outputs": [],
   "source": [
    "gdm = GraphDataModeler(discovery=disc, llm=dm_llm)"
   ]
  },
  {
   "cell_type": "code",
   "execution_count": 13,
   "metadata": {},
   "outputs": [
    {
     "name": "stdout",
     "output_type": "stream",
     "text": [
      "Entity Pool Generation Attempt: 1\n",
      "nodes : ['Country', 'Region', 'Subregion', 'Currency', 'Timezone']\n",
      "rels  : ['BELONGS_TO_REGION', 'BELONGS_TO_SUBREGION', 'USES_CURRENCY', 'HAS_TIMEZONE']\n",
      "Received Valid Entity Pool.\n",
      "recieved a valid response\n"
     ]
    },
    {
     "data": {
      "text/plain": [
       "DataModel(nodes=[Node(label='Country', properties=[Property(name='id', type='str', column_mapping='id', alias=None, is_unique=True, part_of_key=False), Property(name='name', type='str', column_mapping='name', alias=None, is_unique=False, part_of_key=False), Property(name='phoneCode', type='str', column_mapping='phone_code', alias=None, is_unique=False, part_of_key=False), Property(name='capital', type='str', column_mapping='capital', alias=None, is_unique=False, part_of_key=False), Property(name='latitude', type='float', column_mapping='latitude', alias=None, is_unique=False, part_of_key=False), Property(name='longitude', type='float', column_mapping='longitude', alias=None, is_unique=False, part_of_key=False)], source_name='file'), Node(label='Region', properties=[Property(name='region', type='str', column_mapping='region', alias=None, is_unique=True, part_of_key=False)], source_name='file'), Node(label='Subregion', properties=[Property(name='subregion', type='str', column_mapping='subregion', alias=None, is_unique=True, part_of_key=False)], source_name='file'), Node(label='Currency', properties=[Property(name='currencyName', type='str', column_mapping='currency_name', alias=None, is_unique=True, part_of_key=False)], source_name='file'), Node(label='Timezone', properties=[Property(name='timezones', type='str', column_mapping='timezones', alias=None, is_unique=True, part_of_key=False)], source_name='file')], relationships=[Relationship(type='BELONGS_TO_REGION', properties=[], source='Country', target='Region', source_name='file'), Relationship(type='BELONGS_TO_SUBREGION', properties=[], source='Country', target='Subregion', source_name='file'), Relationship(type='USES_CURRENCY', properties=[], source='Country', target='Currency', source_name='file'), Relationship(type='HAS_TIMEZONE', properties=[], source='Country', target='Timezone', source_name='file')], metadata=None)"
      ]
     },
     "execution_count": 13,
     "metadata": {},
     "output_type": "execute_result"
    }
   ],
   "source": [
    "gdm.create_initial_model(max_retries=2)"
   ]
  },
  {
   "cell_type": "code",
   "execution_count": 14,
   "metadata": {},
   "outputs": [
    {
     "data": {
      "image/svg+xml": [
       "<?xml version=\"1.0\" encoding=\"UTF-8\" standalone=\"no\"?>\n",
       "<!DOCTYPE svg PUBLIC \"-//W3C//DTD SVG 1.1//EN\"\n",
       " \"http://www.w3.org/Graphics/SVG/1.1/DTD/svg11.dtd\">\n",
       "<!-- Generated by graphviz version 10.0.1 (20240210.2158)\n",
       " -->\n",
       "<!-- Pages: 1 -->\n",
       "<svg width=\"1138pt\" height=\"385pt\"\n",
       " viewBox=\"0.00 0.00 1137.88 385.06\" xmlns=\"http://www.w3.org/2000/svg\" xmlns:xlink=\"http://www.w3.org/1999/xlink\">\n",
       "<g id=\"graph0\" class=\"graph\" transform=\"scale(1 1) rotate(0) translate(4 381.06)\">\n",
       "<polygon fill=\"white\" stroke=\"none\" points=\"-4,4 -4,-381.06 1133.88,-381.06 1133.88,4 -4,4\"/>\n",
       "<!-- Country -->\n",
       "<g id=\"node1\" class=\"node\">\n",
       "<title>Country</title>\n",
       "<ellipse fill=\"none\" stroke=\"black\" cx=\"514.59\" cy=\"-266.75\" rx=\"106.24\" ry=\"110.31\"/>\n",
       "<text text-anchor=\"middle\" x=\"514.59\" y=\"-327.45\" font-family=\"Times,serif\" font-size=\"14.00\">Country</text>\n",
       "<text text-anchor=\"middle\" x=\"514.59\" y=\"-294.95\" font-family=\"Times,serif\" font-size=\"14.00\">properties:</text>\n",
       "<text text-anchor=\"middle\" x=\"514.59\" y=\"-278.45\" font-family=\"Times,serif\" font-size=\"14.00\">id: id *unique*</text>\n",
       "<text text-anchor=\"middle\" x=\"514.59\" y=\"-261.95\" font-family=\"Times,serif\" font-size=\"14.00\">name: name</text>\n",
       "<text text-anchor=\"middle\" x=\"514.59\" y=\"-245.45\" font-family=\"Times,serif\" font-size=\"14.00\">phoneCode: phone_code</text>\n",
       "<text text-anchor=\"middle\" x=\"514.59\" y=\"-228.95\" font-family=\"Times,serif\" font-size=\"14.00\">capital: capital</text>\n",
       "<text text-anchor=\"middle\" x=\"514.59\" y=\"-212.45\" font-family=\"Times,serif\" font-size=\"14.00\">latitude: latitude</text>\n",
       "<text text-anchor=\"middle\" x=\"514.59\" y=\"-195.95\" font-family=\"Times,serif\" font-size=\"14.00\">longitude: longitude</text>\n",
       "</g>\n",
       "<!-- Region -->\n",
       "<g id=\"node2\" class=\"node\">\n",
       "<title>Region</title>\n",
       "<ellipse fill=\"none\" stroke=\"black\" cx=\"103.59\" cy=\"-51.97\" rx=\"103.59\" ry=\"51.97\"/>\n",
       "<text text-anchor=\"middle\" x=\"103.59\" y=\"-71.42\" font-family=\"Times,serif\" font-size=\"14.00\">Region</text>\n",
       "<text text-anchor=\"middle\" x=\"103.59\" y=\"-38.92\" font-family=\"Times,serif\" font-size=\"14.00\">properties:</text>\n",
       "<text text-anchor=\"middle\" x=\"103.59\" y=\"-22.42\" font-family=\"Times,serif\" font-size=\"14.00\">region: region *unique*</text>\n",
       "</g>\n",
       "<!-- Country&#45;&gt;Region -->\n",
       "<g id=\"edge1\" class=\"edge\">\n",
       "<title>Country&#45;&gt;Region</title>\n",
       "<path fill=\"none\" stroke=\"black\" d=\"M418.97,-218.09C371.83,-194.41 314.2,-165.21 262.84,-138.44 236.8,-124.88 208.52,-109.81 183.12,-96.15\"/>\n",
       "<polygon fill=\"black\" stroke=\"black\" points=\"184.96,-93.16 174.49,-91.5 181.64,-99.33 184.96,-93.16\"/>\n",
       "<text text-anchor=\"middle\" x=\"335.97\" y=\"-125.14\" font-family=\"Times,serif\" font-size=\"14.00\">BELONGS_TO_REGION</text>\n",
       "</g>\n",
       "<!-- Subregion -->\n",
       "<g id=\"node3\" class=\"node\">\n",
       "<title>Subregion</title>\n",
       "<ellipse fill=\"none\" stroke=\"black\" cx=\"355.59\" cy=\"-51.97\" rx=\"130.11\" ry=\"51.97\"/>\n",
       "<text text-anchor=\"middle\" x=\"355.59\" y=\"-71.42\" font-family=\"Times,serif\" font-size=\"14.00\">Subregion</text>\n",
       "<text text-anchor=\"middle\" x=\"355.59\" y=\"-38.92\" font-family=\"Times,serif\" font-size=\"14.00\">properties:</text>\n",
       "<text text-anchor=\"middle\" x=\"355.59\" y=\"-22.42\" font-family=\"Times,serif\" font-size=\"14.00\">subregion: subregion *unique*</text>\n",
       "</g>\n",
       "<!-- Country&#45;&gt;Subregion -->\n",
       "<g id=\"edge2\" class=\"edge\">\n",
       "<title>Country&#45;&gt;Subregion</title>\n",
       "<path fill=\"none\" stroke=\"black\" d=\"M449.69,-178.9C432.64,-156.08 414.65,-132.01 399.03,-111.1\"/>\n",
       "<polygon fill=\"black\" stroke=\"black\" points=\"401.95,-109.17 393.16,-103.25 396.35,-113.36 401.95,-109.17\"/>\n",
       "<text text-anchor=\"middle\" x=\"502.09\" y=\"-125.14\" font-family=\"Times,serif\" font-size=\"14.00\">BELONGS_TO_SUBREGION</text>\n",
       "</g>\n",
       "<!-- Currency -->\n",
       "<g id=\"node4\" class=\"node\">\n",
       "<title>Currency</title>\n",
       "<ellipse fill=\"none\" stroke=\"black\" cx=\"674.59\" cy=\"-51.97\" rx=\"170.94\" ry=\"51.97\"/>\n",
       "<text text-anchor=\"middle\" x=\"674.59\" y=\"-71.42\" font-family=\"Times,serif\" font-size=\"14.00\">Currency</text>\n",
       "<text text-anchor=\"middle\" x=\"674.59\" y=\"-38.92\" font-family=\"Times,serif\" font-size=\"14.00\">properties:</text>\n",
       "<text text-anchor=\"middle\" x=\"674.59\" y=\"-22.42\" font-family=\"Times,serif\" font-size=\"14.00\">currencyName: currency_name *unique*</text>\n",
       "</g>\n",
       "<!-- Country&#45;&gt;Currency -->\n",
       "<g id=\"edge3\" class=\"edge\">\n",
       "<title>Country&#45;&gt;Currency</title>\n",
       "<path fill=\"none\" stroke=\"black\" d=\"M579.67,-179.21C596.63,-156.66 614.51,-132.87 630.13,-112.1\"/>\n",
       "<polygon fill=\"black\" stroke=\"black\" points=\"632.78,-114.4 635.99,-104.31 627.18,-110.19 632.78,-114.4\"/>\n",
       "<text text-anchor=\"middle\" x=\"675.22\" y=\"-125.14\" font-family=\"Times,serif\" font-size=\"14.00\">USES_CURRENCY</text>\n",
       "</g>\n",
       "<!-- Timezone -->\n",
       "<g id=\"node5\" class=\"node\">\n",
       "<title>Timezone</title>\n",
       "<ellipse fill=\"none\" stroke=\"black\" cx=\"996.59\" cy=\"-51.97\" rx=\"133.29\" ry=\"51.97\"/>\n",
       "<text text-anchor=\"middle\" x=\"996.59\" y=\"-71.42\" font-family=\"Times,serif\" font-size=\"14.00\">Timezone</text>\n",
       "<text text-anchor=\"middle\" x=\"996.59\" y=\"-38.92\" font-family=\"Times,serif\" font-size=\"14.00\">properties:</text>\n",
       "<text text-anchor=\"middle\" x=\"996.59\" y=\"-22.42\" font-family=\"Times,serif\" font-size=\"14.00\">timezones: timezones *unique*</text>\n",
       "</g>\n",
       "<!-- Country&#45;&gt;Timezone -->\n",
       "<g id=\"edge4\" class=\"edge\">\n",
       "<title>Country&#45;&gt;Timezone</title>\n",
       "<path fill=\"none\" stroke=\"black\" d=\"M612.42,-222.57C695.81,-185.75 815.07,-133.11 898.52,-96.27\"/>\n",
       "<polygon fill=\"black\" stroke=\"black\" points=\"899.91,-99.48 907.64,-92.24 897.08,-93.08 899.91,-99.48\"/>\n",
       "<text text-anchor=\"middle\" x=\"879.34\" y=\"-125.14\" font-family=\"Times,serif\" font-size=\"14.00\">HAS_TIMEZONE</text>\n",
       "</g>\n",
       "</g>\n",
       "</svg>\n"
      ],
      "text/plain": [
       "<graphviz.graphs.Digraph at 0x14a2153d0>"
      ]
     },
     "execution_count": 14,
     "metadata": {},
     "output_type": "execute_result"
    }
   ],
   "source": [
    "gdm.current_model.visualize()"
   ]
  },
  {
   "cell_type": "code",
   "execution_count": null,
   "metadata": {},
   "outputs": [],
   "source": []
  }
 ],
 "metadata": {
  "kernelspec": {
   "display_name": "neo4j-runway-20CPAOlQ-py3.12",
   "language": "python",
   "name": "python3"
  },
  "language_info": {
   "codemirror_mode": {
    "name": "ipython",
    "version": 3
   },
   "file_extension": ".py",
   "mimetype": "text/x-python",
   "name": "python",
   "nbconvert_exporter": "python",
   "pygments_lexer": "ipython3",
   "version": "3.12.3"
  }
 },
 "nbformat": 4,
 "nbformat_minor": 2
}
