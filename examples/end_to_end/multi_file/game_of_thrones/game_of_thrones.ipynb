{
 "cells": [
  {
   "cell_type": "markdown",
   "metadata": {},
   "source": [
    "# Game of Thrones End-To-End Notebook"
   ]
  },
  {
   "cell_type": "markdown",
   "metadata": {},
   "source": [
    "This notebook contains an end-to-end workflow using multiple csv files of Game of Thrones battle data."
   ]
  },
  {
   "cell_type": "code",
   "execution_count": 1,
   "metadata": {},
   "outputs": [],
   "source": [
    "import os\n",
    "from neo4j_runway.utils.data import load_data_dictionary_from_yaml, load_local_files\n",
    "from neo4j_runway.llm.openai import OpenAIDataModelingLLM, OpenAIDiscoveryLLM\n",
    "from neo4j_runway.discovery import Discovery\n",
    "from neo4j_runway import GraphDataModeler\n",
    "from neo4j_runway.code_generation import PyIngestConfigGenerator\n",
    "from neo4j_runway.ingestion import PyIngest"
   ]
  },
  {
   "cell_type": "markdown",
   "metadata": {},
   "source": [
    "## Read Data"
   ]
  },
  {
   "cell_type": "code",
   "execution_count": 2,
   "metadata": {},
   "outputs": [
    {
     "data": {
      "text/plain": [
       "{'got_armies.csv': {'battle_number': 'A unique ID for the battle.',\n",
       "  'king': 'A king participating in the battle.',\n",
       "  'outcome': 'Whether the battle was won or lost.',\n",
       "  'family': 'A significant family in the battle.',\n",
       "  'size': 'The size of the army.',\n",
       "  'commander': 'The commander leading an army in the battle.',\n",
       "  'attacking': 'Whether the army is attacking or not.'},\n",
       " 'got_battles.csv': {'name': 'The name of the battle.',\n",
       "  'year': 'The year the battle took place.',\n",
       "  'battle_number': 'A unique ID for the battle.',\n",
       "  'summer': 'Whether the battle took place during Summer.',\n",
       "  'location': 'The location of the battle.',\n",
       "  'region': 'The larger region a battle took place in.'}}"
      ]
     },
     "execution_count": 2,
     "metadata": {},
     "output_type": "execute_result"
    }
   ],
   "source": [
    "data_dictionary = load_data_dictionary_from_yaml(\"data_dictionary.yaml\")\n",
    "data_dictionary"
   ]
  },
  {
   "cell_type": "code",
   "execution_count": 3,
   "metadata": {},
   "outputs": [],
   "source": [
    "data_directory = \"../../../data/got/multi/\"\n",
    "data = load_local_files(data_directory=data_directory, \n",
    "                        general_description=\"This file contains data on game of thrones battles\", \n",
    "                        data_dictionary=data_dictionary, \n",
    "                        use_cases=[\"What families have changed alliances?\", \n",
    "                                   \"how have army sizes changed over time?\", \n",
    "                                   \"Which families attack most often?\"],\n",
    "                        )"
   ]
  },
  {
   "cell_type": "code",
   "execution_count": 6,
   "metadata": {},
   "outputs": [
    {
     "data": {
      "text/html": [
       "<div>\n",
       "<style scoped>\n",
       "    .dataframe tbody tr th:only-of-type {\n",
       "        vertical-align: middle;\n",
       "    }\n",
       "\n",
       "    .dataframe tbody tr th {\n",
       "        vertical-align: top;\n",
       "    }\n",
       "\n",
       "    .dataframe thead th {\n",
       "        text-align: right;\n",
       "    }\n",
       "</style>\n",
       "<table border=\"1\" class=\"dataframe\">\n",
       "  <thead>\n",
       "    <tr style=\"text-align: right;\">\n",
       "      <th></th>\n",
       "      <th>battle_number</th>\n",
       "      <th>king</th>\n",
       "      <th>outcome</th>\n",
       "      <th>family</th>\n",
       "      <th>size</th>\n",
       "      <th>commander</th>\n",
       "      <th>attacking</th>\n",
       "    </tr>\n",
       "  </thead>\n",
       "  <tbody>\n",
       "    <tr>\n",
       "      <th>0</th>\n",
       "      <td>1</td>\n",
       "      <td>Joffrey/Tommen Baratheon</td>\n",
       "      <td>True</td>\n",
       "      <td>Lannister</td>\n",
       "      <td>15000.0</td>\n",
       "      <td>Jaime Lannister</td>\n",
       "      <td>True</td>\n",
       "    </tr>\n",
       "    <tr>\n",
       "      <th>1</th>\n",
       "      <td>2</td>\n",
       "      <td>Joffrey/Tommen Baratheon</td>\n",
       "      <td>True</td>\n",
       "      <td>Lannister</td>\n",
       "      <td>NaN</td>\n",
       "      <td>Gregor Clegane</td>\n",
       "      <td>True</td>\n",
       "    </tr>\n",
       "    <tr>\n",
       "      <th>2</th>\n",
       "      <td>3</td>\n",
       "      <td>Joffrey/Tommen Baratheon</td>\n",
       "      <td>True</td>\n",
       "      <td>Lannister</td>\n",
       "      <td>15000.0</td>\n",
       "      <td>Jaime Lannister</td>\n",
       "      <td>True</td>\n",
       "    </tr>\n",
       "    <tr>\n",
       "      <th>3</th>\n",
       "      <td>3</td>\n",
       "      <td>Joffrey/Tommen Baratheon</td>\n",
       "      <td>True</td>\n",
       "      <td>Lannister</td>\n",
       "      <td>15000.0</td>\n",
       "      <td>Andros Brax</td>\n",
       "      <td>True</td>\n",
       "    </tr>\n",
       "    <tr>\n",
       "      <th>4</th>\n",
       "      <td>4</td>\n",
       "      <td>Robb Stark</td>\n",
       "      <td>False</td>\n",
       "      <td>Stark</td>\n",
       "      <td>18000.0</td>\n",
       "      <td>Roose Bolton</td>\n",
       "      <td>True</td>\n",
       "    </tr>\n",
       "  </tbody>\n",
       "</table>\n",
       "</div>"
      ],
      "text/plain": [
       "   battle_number                      king outcome     family     size  \\\n",
       "0              1  Joffrey/Tommen Baratheon    True  Lannister  15000.0   \n",
       "1              2  Joffrey/Tommen Baratheon    True  Lannister      NaN   \n",
       "2              3  Joffrey/Tommen Baratheon    True  Lannister  15000.0   \n",
       "3              3  Joffrey/Tommen Baratheon    True  Lannister  15000.0   \n",
       "4              4                Robb Stark   False      Stark  18000.0   \n",
       "\n",
       "         commander  attacking  \n",
       "0  Jaime Lannister       True  \n",
       "1   Gregor Clegane       True  \n",
       "2  Jaime Lannister       True  \n",
       "3      Andros Brax       True  \n",
       "4     Roose Bolton       True  "
      ]
     },
     "execution_count": 6,
     "metadata": {},
     "output_type": "execute_result"
    }
   ],
   "source": [
    "data.tables[0].dataframe.head()"
   ]
  },
  {
   "cell_type": "code",
   "execution_count": 7,
   "metadata": {},
   "outputs": [
    {
     "data": {
      "text/html": [
       "<div>\n",
       "<style scoped>\n",
       "    .dataframe tbody tr th:only-of-type {\n",
       "        vertical-align: middle;\n",
       "    }\n",
       "\n",
       "    .dataframe tbody tr th {\n",
       "        vertical-align: top;\n",
       "    }\n",
       "\n",
       "    .dataframe thead th {\n",
       "        text-align: right;\n",
       "    }\n",
       "</style>\n",
       "<table border=\"1\" class=\"dataframe\">\n",
       "  <thead>\n",
       "    <tr style=\"text-align: right;\">\n",
       "      <th></th>\n",
       "      <th>location</th>\n",
       "      <th>region</th>\n",
       "      <th>battle_number</th>\n",
       "      <th>name</th>\n",
       "      <th>summer</th>\n",
       "      <th>year</th>\n",
       "    </tr>\n",
       "  </thead>\n",
       "  <tbody>\n",
       "    <tr>\n",
       "      <th>0</th>\n",
       "      <td>Golden Tooth</td>\n",
       "      <td>The Westerlands</td>\n",
       "      <td>1</td>\n",
       "      <td>Battle of the Golden Tooth</td>\n",
       "      <td>True</td>\n",
       "      <td>298</td>\n",
       "    </tr>\n",
       "    <tr>\n",
       "      <th>1</th>\n",
       "      <td>Mummer's Ford</td>\n",
       "      <td>The Riverlands</td>\n",
       "      <td>2</td>\n",
       "      <td>Battle at the Mummer's Ford</td>\n",
       "      <td>True</td>\n",
       "      <td>298</td>\n",
       "    </tr>\n",
       "    <tr>\n",
       "      <th>2</th>\n",
       "      <td>Riverrun</td>\n",
       "      <td>The Riverlands</td>\n",
       "      <td>3</td>\n",
       "      <td>Battle of Riverrun</td>\n",
       "      <td>True</td>\n",
       "      <td>298</td>\n",
       "    </tr>\n",
       "    <tr>\n",
       "      <th>3</th>\n",
       "      <td>Green Fork</td>\n",
       "      <td>The Riverlands</td>\n",
       "      <td>4</td>\n",
       "      <td>Battle of the Green Fork</td>\n",
       "      <td>True</td>\n",
       "      <td>298</td>\n",
       "    </tr>\n",
       "    <tr>\n",
       "      <th>4</th>\n",
       "      <td>Whispering Wood</td>\n",
       "      <td>The Riverlands</td>\n",
       "      <td>5</td>\n",
       "      <td>Battle of the Whispering Wood</td>\n",
       "      <td>True</td>\n",
       "      <td>298</td>\n",
       "    </tr>\n",
       "  </tbody>\n",
       "</table>\n",
       "</div>"
      ],
      "text/plain": [
       "          location           region  battle_number  \\\n",
       "0     Golden Tooth  The Westerlands              1   \n",
       "1    Mummer's Ford   The Riverlands              2   \n",
       "2         Riverrun   The Riverlands              3   \n",
       "3       Green Fork   The Riverlands              4   \n",
       "4  Whispering Wood   The Riverlands              5   \n",
       "\n",
       "                            name summer  year  \n",
       "0     Battle of the Golden Tooth   True   298  \n",
       "1    Battle at the Mummer's Ford   True   298  \n",
       "2             Battle of Riverrun   True   298  \n",
       "3       Battle of the Green Fork   True   298  \n",
       "4  Battle of the Whispering Wood   True   298  "
      ]
     },
     "execution_count": 7,
     "metadata": {},
     "output_type": "execute_result"
    }
   ],
   "source": [
    "data.tables[1].dataframe.head()"
   ]
  },
  {
   "cell_type": "markdown",
   "metadata": {},
   "source": [
    "## Discovery"
   ]
  },
  {
   "cell_type": "code",
   "execution_count": 8,
   "metadata": {},
   "outputs": [
    {
     "name": "stderr",
     "output_type": "stream",
     "text": [
      "/Users/alexandergilmore/Documents/projects/neo4j-runway/neo4j_runway/discovery/discovery.py:137: ExperimentalFeatureWarning: Multi file Discovery is an experimental feature and may not work as expected. Please use with caution and raise any issues encountered here: https://github.com/a-s-g93/neo4j-runway/issues\n",
      "  warnings.warn(\n"
     ]
    }
   ],
   "source": [
    "disc_llm = OpenAIDiscoveryLLM(model_name=\"gpt-4o-mini\", enable_async=True)\n",
    "disc = Discovery(llm=disc_llm, data=data)"
   ]
  },
  {
   "cell_type": "code",
   "execution_count": 9,
   "metadata": {},
   "outputs": [
    {
     "data": {
      "text/markdown": [
       "### Summary of Insights for Graph Data Model\n",
       "\n",
       "#### Unique Identifiers\n",
       "- **Battle Number**: Serves as a unique identifier for each battle, ranging from 1 to 38.\n",
       "- **Family**: Each family can be treated as a unique identifier for nodes representing families.\n",
       "- **Commander**: Unique identifiers for commanders involved in battles.\n",
       "\n",
       "#### Significant Properties\n",
       "- **Army Size**: Represents the size of the army involved in each battle, crucial for analyzing changes over time.\n",
       "- **Outcome**: Indicates whether the battle was won or lost, important for assessing family effectiveness.\n",
       "- **Year**: The year in which the battle occurred, essential for tracking changes over time.\n",
       "- **Location**: The specific location of the battle, providing geographical context.\n",
       "- **Region**: The broader region where the battle took place, useful for regional analysis.\n",
       "- **Attacking**: A boolean indicating whether the army was attacking, relevant for understanding aggressive strategies.\n",
       "\n",
       "#### Possible Node Labels\n",
       "- **Family**: Represents the different families involved in battles.\n",
       "- **Battle**: Represents each battle, identified by battle number.\n",
       "- **Commander**: Represents the commanders leading the armies.\n",
       "- **Year**: Represents the years in which battles occurred.\n",
       "\n",
       "#### Possible Relationships\n",
       "- **ATTACKED**: Connects a Family node to a Battle node, indicating which family attacked in that battle.\n",
       "- **PARTICIPATED_IN**: Connects a Family node to a Battle node, indicating which families participated in the battle.\n",
       "- **LED_BY**: Connects a Battle node to a Commander node, indicating which commander led the army in that battle.\n",
       "- **OCCURRED_IN**: Connects a Battle node to a Year node, indicating when the battle took place.\n",
       "\n",
       "#### Use Case Insights\n",
       "1. **Families Changing Alliances**: By analyzing the relationships between Family nodes and Battle nodes, we can track which families frequently switch between attacking and defending roles, as well as their common opponents over time.\n",
       "2. **Army Size Changes Over Time**: By correlating the Year node with the Army Size property in the Battle node, we can analyze trends in army sizes across different battles and families.\n",
       "3. **Most Frequent Attackers**: By examining the ATTACKED relationship between Family nodes and Battle nodes, we can identify which families are more aggressive in their strategies and how often they attack."
      ],
      "text/plain": [
       "<IPython.core.display.Markdown object>"
      ]
     },
     "metadata": {},
     "output_type": "display_data"
    }
   ],
   "source": [
    "disc.run_async()"
   ]
  },
  {
   "cell_type": "code",
   "execution_count": 10,
   "metadata": {},
   "outputs": [],
   "source": [
    "disc.to_markdown(file_dir=\"./outputs/\")"
   ]
  },
  {
   "cell_type": "markdown",
   "metadata": {},
   "source": [
    "## Data Modeling"
   ]
  },
  {
   "cell_type": "code",
   "execution_count": 11,
   "metadata": {},
   "outputs": [
    {
     "name": "stderr",
     "output_type": "stream",
     "text": [
      "/Users/alexandergilmore/Documents/projects/neo4j-runway/neo4j_runway/modeler/modeler.py:115: ExperimentalFeatureWarning: Multi file Data Modeling is an experimental feature and may not work as expected. Please use with caution and raise any issues encountered here: https://github.com/a-s-g93/neo4j-runway/issues\n",
      "  warnings.warn(\n"
     ]
    }
   ],
   "source": [
    "gdm_llm = OpenAIDataModelingLLM(model_name=\"gpt-4o\", model_params={\"temperature\": 0.3})\n",
    "gdm = GraphDataModeler(llm=gdm_llm, discovery=disc)"
   ]
  },
  {
   "cell_type": "markdown",
   "metadata": {},
   "source": [
    "### Initial Model"
   ]
  },
  {
   "cell_type": "code",
   "execution_count": 12,
   "metadata": {},
   "outputs": [
    {
     "name": "stdout",
     "output_type": "stream",
     "text": [
      "\u001b[1m> Generating Nodes...\u001b[00m\n",
      "\u001b[3mAttempts | 2  \u001b[0m\n",
      "Received \u001b[92mValid\u001b[00m Nodes\n",
      "Nodes\n",
      "* \u001b[96m(:Battle)\u001b[00m      * \u001b[96m(:Family)\u001b[00m\n",
      "* \u001b[96m(:Commander)\u001b[00m   * \u001b[96m(:Year)\u001b[00m \n",
      "\n",
      "\u001b[1m> Generating Data Model...\u001b[00m\n",
      "\u001b[3mAttempts | 2  \u001b[0m\n",
      "Recieved \u001b[92mValid\u001b[00m Data Model\n",
      "Nodes\n",
      "* \u001b[96m(:Battle)\u001b[00m      * \u001b[96m(:Family)\u001b[00m\n",
      "* \u001b[96m(:Commander)\u001b[00m   * \u001b[96m(:Year)\u001b[00m \n",
      "\n",
      "Relationships\n",
      "* \u001b[96m(:Family)-[:ATTACKED]->(:Battle)\u001b[00m    \n",
      "* \u001b[96m(:Battle)-[:LED_BY]->(:Commander)\u001b[00m   \n",
      "* \u001b[96m(:Battle)-[:OCCURRED_IN]->(:Year)\u001b[00m   \n"
     ]
    },
    {
     "data": {
      "text/plain": [
       "DataModel(nodes=[Node(label='Battle', properties=[Property(name='battleNumber', type='int', column_mapping='battle_number', alias='battle_number', is_unique=True, part_of_key=False), Property(name='name', type='str', column_mapping='name', alias=None, is_unique=False, part_of_key=False), Property(name='location', type='str', column_mapping='location', alias=None, is_unique=False, part_of_key=False), Property(name='region', type='str', column_mapping='region', alias=None, is_unique=False, part_of_key=False)], source_name='got_battles.csv'), Node(label='Family', properties=[Property(name='family', type='str', column_mapping='family', alias=None, is_unique=True, part_of_key=False)], source_name='got_armies.csv'), Node(label='Commander', properties=[Property(name='commander', type='str', column_mapping='commander', alias=None, is_unique=True, part_of_key=False)], source_name='got_armies.csv'), Node(label='Year', properties=[Property(name='year', type='int', column_mapping='year', alias=None, is_unique=True, part_of_key=False)], source_name='got_battles.csv')], relationships=[Relationship(type='ATTACKED', properties=[], source='Family', target='Battle', source_name='got_armies.csv'), Relationship(type='LED_BY', properties=[], source='Battle', target='Commander', source_name='got_armies.csv'), Relationship(type='OCCURRED_IN', properties=[], source='Battle', target='Year', source_name='got_battles.csv')], metadata=None)"
      ]
     },
     "execution_count": 12,
     "metadata": {},
     "output_type": "execute_result"
    }
   ],
   "source": [
    "gdm.create_initial_model(max_retries=3)"
   ]
  },
  {
   "cell_type": "code",
   "execution_count": 13,
   "metadata": {},
   "outputs": [
    {
     "data": {
      "image/svg+xml": [
       "<?xml version=\"1.0\" encoding=\"UTF-8\" standalone=\"no\"?>\n",
       "<!DOCTYPE svg PUBLIC \"-//W3C//DTD SVG 1.1//EN\"\n",
       " \"http://www.w3.org/Graphics/SVG/1.1/DTD/svg11.dtd\">\n",
       "<!-- Generated by graphviz version 10.0.1 (20240210.2158)\n",
       " -->\n",
       "<!-- Pages: 1 -->\n",
       "<svg width=\"496pt\" height=\"495pt\"\n",
       " viewBox=\"0.00 0.00 495.76 494.84\" xmlns=\"http://www.w3.org/2000/svg\" xmlns:xlink=\"http://www.w3.org/1999/xlink\">\n",
       "<g id=\"graph0\" class=\"graph\" transform=\"scale(1 1) rotate(0) translate(4 490.84)\">\n",
       "<polygon fill=\"white\" stroke=\"none\" points=\"-4,4 -4,-490.84 491.76,-490.84 491.76,4 -4,4\"/>\n",
       "<!-- Battle -->\n",
       "<g id=\"node1\" class=\"node\">\n",
       "<title>Battle</title>\n",
       "<ellipse fill=\"none\" stroke=\"black\" cx=\"273.08\" cy=\"-243.42\" rx=\"163.52\" ry=\"86.97\"/>\n",
       "<text text-anchor=\"middle\" x=\"273.08\" y=\"-287.62\" font-family=\"Times,serif\" font-size=\"14.00\">Battle</text>\n",
       "<text text-anchor=\"middle\" x=\"273.08\" y=\"-255.12\" font-family=\"Times,serif\" font-size=\"14.00\">properties:</text>\n",
       "<text text-anchor=\"middle\" x=\"273.08\" y=\"-238.62\" font-family=\"Times,serif\" font-size=\"14.00\">battleNumber: battle_number *unique*</text>\n",
       "<text text-anchor=\"middle\" x=\"273.08\" y=\"-222.12\" font-family=\"Times,serif\" font-size=\"14.00\">name: name</text>\n",
       "<text text-anchor=\"middle\" x=\"273.08\" y=\"-205.62\" font-family=\"Times,serif\" font-size=\"14.00\">location: location</text>\n",
       "<text text-anchor=\"middle\" x=\"273.08\" y=\"-189.12\" font-family=\"Times,serif\" font-size=\"14.00\">region: region</text>\n",
       "</g>\n",
       "<!-- Commander -->\n",
       "<g id=\"node3\" class=\"node\">\n",
       "<title>Commander</title>\n",
       "<ellipse fill=\"none\" stroke=\"black\" cx=\"147.08\" cy=\"-51.97\" rx=\"147.08\" ry=\"51.97\"/>\n",
       "<text text-anchor=\"middle\" x=\"147.08\" y=\"-71.42\" font-family=\"Times,serif\" font-size=\"14.00\">Commander</text>\n",
       "<text text-anchor=\"middle\" x=\"147.08\" y=\"-38.92\" font-family=\"Times,serif\" font-size=\"14.00\">properties:</text>\n",
       "<text text-anchor=\"middle\" x=\"147.08\" y=\"-22.42\" font-family=\"Times,serif\" font-size=\"14.00\">commander: commander *unique*</text>\n",
       "</g>\n",
       "<!-- Battle&#45;&gt;Commander -->\n",
       "<g id=\"edge2\" class=\"edge\">\n",
       "<title>Battle&#45;&gt;Commander</title>\n",
       "<path fill=\"none\" stroke=\"black\" d=\"M218.91,-160.98C208.03,-144.62 196.79,-127.72 186.52,-112.28\"/>\n",
       "<polygon fill=\"black\" stroke=\"black\" points=\"189.56,-110.53 181.11,-104.14 183.73,-114.4 189.56,-110.53\"/>\n",
       "<text text-anchor=\"middle\" x=\"228.95\" y=\"-125.14\" font-family=\"Times,serif\" font-size=\"14.00\">LED_BY</text>\n",
       "</g>\n",
       "<!-- Year -->\n",
       "<g id=\"node4\" class=\"node\">\n",
       "<title>Year</title>\n",
       "<ellipse fill=\"none\" stroke=\"black\" cx=\"400.08\" cy=\"-51.97\" rx=\"87.68\" ry=\"51.97\"/>\n",
       "<text text-anchor=\"middle\" x=\"400.08\" y=\"-71.42\" font-family=\"Times,serif\" font-size=\"14.00\">Year</text>\n",
       "<text text-anchor=\"middle\" x=\"400.08\" y=\"-38.92\" font-family=\"Times,serif\" font-size=\"14.00\">properties:</text>\n",
       "<text text-anchor=\"middle\" x=\"400.08\" y=\"-22.42\" font-family=\"Times,serif\" font-size=\"14.00\">year: year *unique*</text>\n",
       "</g>\n",
       "<!-- Battle&#45;&gt;Year -->\n",
       "<g id=\"edge3\" class=\"edge\">\n",
       "<title>Battle&#45;&gt;Year</title>\n",
       "<path fill=\"none\" stroke=\"black\" d=\"M327.67,-160.98C339.2,-143.79 351.12,-126.01 361.88,-109.96\"/>\n",
       "<polygon fill=\"black\" stroke=\"black\" points=\"364.56,-112.24 367.22,-101.98 358.75,-108.34 364.56,-112.24\"/>\n",
       "<text text-anchor=\"middle\" x=\"398.33\" y=\"-125.14\" font-family=\"Times,serif\" font-size=\"14.00\">OCCURRED_IN</text>\n",
       "</g>\n",
       "<!-- Family -->\n",
       "<g id=\"node2\" class=\"node\">\n",
       "<title>Family</title>\n",
       "<ellipse fill=\"none\" stroke=\"black\" cx=\"273.08\" cy=\"-434.87\" rx=\"105.71\" ry=\"51.97\"/>\n",
       "<text text-anchor=\"middle\" x=\"273.08\" y=\"-454.32\" font-family=\"Times,serif\" font-size=\"14.00\">Family</text>\n",
       "<text text-anchor=\"middle\" x=\"273.08\" y=\"-421.82\" font-family=\"Times,serif\" font-size=\"14.00\">properties:</text>\n",
       "<text text-anchor=\"middle\" x=\"273.08\" y=\"-405.32\" font-family=\"Times,serif\" font-size=\"14.00\">family: family *unique*</text>\n",
       "</g>\n",
       "<!-- Family&#45;&gt;Battle -->\n",
       "<g id=\"edge1\" class=\"edge\">\n",
       "<title>Family&#45;&gt;Battle</title>\n",
       "<path fill=\"none\" stroke=\"black\" d=\"M273.08,-382.6C273.08,-369.97 273.08,-356.04 273.08,-342.01\"/>\n",
       "<polygon fill=\"black\" stroke=\"black\" points=\"276.58,-342.29 273.08,-332.29 269.58,-342.29 276.58,-342.29\"/>\n",
       "<text text-anchor=\"middle\" x=\"308.7\" y=\"-351.59\" font-family=\"Times,serif\" font-size=\"14.00\">ATTACKED</text>\n",
       "</g>\n",
       "</g>\n",
       "</svg>\n"
      ],
      "text/plain": [
       "<graphviz.graphs.Digraph at 0x14cb68ef0>"
      ]
     },
     "execution_count": 13,
     "metadata": {},
     "output_type": "execute_result"
    }
   ],
   "source": [
    "gdm.current_model.visualize()"
   ]
  },
  {
   "cell_type": "markdown",
   "metadata": {},
   "source": [
    "### Making Corrections"
   ]
  },
  {
   "cell_type": "code",
   "execution_count": 14,
   "metadata": {},
   "outputs": [
    {
     "name": "stdout",
     "output_type": "stream",
     "text": [
      "\u001b[1m> Generating Data Model...\u001b[00m\n",
      "\u001b[3mAttempts | 2  \u001b[0m\n",
      "Recieved \u001b[92mValid\u001b[00m Data Model\n",
      "Nodes\n",
      "* \u001b[96m(:Battle)\u001b[00m      * \u001b[96m(:Family)\u001b[00m\n",
      "* \u001b[96m(:Commander)\u001b[00m   * \u001b[96m(:Year)\u001b[00m\n",
      "* \u001b[96m(:Location)\u001b[00m    * \u001b[96m(:Region)\u001b[00m\n",
      "* \u001b[96m(:King)\u001b[00m         \n",
      "\n",
      "Relationships\n",
      "* \u001b[96m(:Family)-[:PARTICIPATED_IN]->(:Battle)\u001b[00m   \n",
      "* \u001b[96m(:Battle)-[:LED_BY]->(:Commander)\u001b[00m         \n",
      "* \u001b[96m(:Battle)-[:OCCURRED_IN]->(:Year)\u001b[00m         \n",
      "* \u001b[96m(:Battle)-[:LOCATED_AT]->(:Location)\u001b[00m      \n",
      "* \u001b[96m(:Location)-[:REGION_OF]->(:Region)\u001b[00m       \n",
      "* \u001b[96m(:Battle)-[:RULED_BY]->(:King)\u001b[00m            \n"
     ]
    },
    {
     "data": {
      "text/plain": [
       "DataModel(nodes=[Node(label='Battle', properties=[Property(name='battleNumber', type='int', column_mapping='battle_number', alias='battle_number', is_unique=True, part_of_key=False), Property(name='name', type='str', column_mapping='name', alias=None, is_unique=False, part_of_key=False)], source_name='got_battles.csv'), Node(label='Family', properties=[Property(name='family', type='str', column_mapping='family', alias=None, is_unique=True, part_of_key=False)], source_name='got_armies.csv'), Node(label='Commander', properties=[Property(name='commander', type='str', column_mapping='commander', alias=None, is_unique=True, part_of_key=False)], source_name='got_armies.csv'), Node(label='Year', properties=[Property(name='year', type='int', column_mapping='year', alias=None, is_unique=True, part_of_key=False)], source_name='got_battles.csv'), Node(label='Location', properties=[Property(name='location', type='str', column_mapping='location', alias=None, is_unique=True, part_of_key=False)], source_name='got_battles.csv'), Node(label='Region', properties=[Property(name='region', type='str', column_mapping='region', alias=None, is_unique=True, part_of_key=False)], source_name='got_battles.csv'), Node(label='King', properties=[Property(name='king', type='str', column_mapping='king', alias=None, is_unique=True, part_of_key=False)], source_name='got_armies.csv')], relationships=[Relationship(type='PARTICIPATED_IN', properties=[Property(name='attacking', type='bool', column_mapping='attacking', alias=None, is_unique=False, part_of_key=False), Property(name='outcome', type='str', column_mapping='outcome', alias=None, is_unique=False, part_of_key=False)], source='Family', target='Battle', source_name='got_armies.csv'), Relationship(type='LED_BY', properties=[Property(name='attacking', type='bool', column_mapping='attacking', alias=None, is_unique=False, part_of_key=False), Property(name='outcome', type='str', column_mapping='outcome', alias=None, is_unique=False, part_of_key=False)], source='Battle', target='Commander', source_name='got_armies.csv'), Relationship(type='OCCURRED_IN', properties=[], source='Battle', target='Year', source_name='got_battles.csv'), Relationship(type='LOCATED_AT', properties=[], source='Battle', target='Location', source_name='got_battles.csv'), Relationship(type='REGION_OF', properties=[], source='Location', target='Region', source_name='got_battles.csv'), Relationship(type='RULED_BY', properties=[], source='Battle', target='King', source_name='got_armies.csv')], metadata=None)"
      ]
     },
     "execution_count": 14,
     "metadata": {},
     "output_type": "execute_result"
    }
   ],
   "source": [
    "corrections = \"\"\"\n",
    "1. Create separate nodes for location and region. \n",
    "2. Change ATTACKED to PARTICIPATED_IN. \n",
    "3. Give LED_BY and PARTICIPATED_IN relationships the attacking and outcome properties.\n",
    "4. Create a King node\"\"\"\n",
    "gdm.iterate_model(corrections=corrections, max_retries=3, allow_duplicate_properties=True)"
   ]
  },
  {
   "cell_type": "code",
   "execution_count": 15,
   "metadata": {},
   "outputs": [
    {
     "data": {
      "image/svg+xml": [
       "<?xml version=\"1.0\" encoding=\"UTF-8\" standalone=\"no\"?>\n",
       "<!DOCTYPE svg PUBLIC \"-//W3C//DTD SVG 1.1//EN\"\n",
       " \"http://www.w3.org/Graphics/SVG/1.1/DTD/svg11.dtd\">\n",
       "<!-- Generated by graphviz version 10.0.1 (20240210.2158)\n",
       " -->\n",
       "<!-- Pages: 1 -->\n",
       "<svg width=\"942pt\" height=\"736pt\"\n",
       " viewBox=\"0.00 0.00 941.82 735.61\" xmlns=\"http://www.w3.org/2000/svg\" xmlns:xlink=\"http://www.w3.org/1999/xlink\">\n",
       "<g id=\"graph0\" class=\"graph\" transform=\"scale(1 1) rotate(0) translate(4 731.61)\">\n",
       "<polygon fill=\"white\" stroke=\"none\" points=\"-4,4 -4,-731.61 937.82,-731.61 937.82,4 -4,4\"/>\n",
       "<!-- Battle -->\n",
       "<g id=\"node1\" class=\"node\">\n",
       "<title>Battle</title>\n",
       "<ellipse fill=\"none\" stroke=\"black\" cx=\"485.08\" cy=\"-442.03\" rx=\"163.52\" ry=\"63.64\"/>\n",
       "<text text-anchor=\"middle\" x=\"485.08\" y=\"-469.73\" font-family=\"Times,serif\" font-size=\"14.00\">Battle</text>\n",
       "<text text-anchor=\"middle\" x=\"485.08\" y=\"-437.23\" font-family=\"Times,serif\" font-size=\"14.00\">properties:</text>\n",
       "<text text-anchor=\"middle\" x=\"485.08\" y=\"-420.73\" font-family=\"Times,serif\" font-size=\"14.00\">battleNumber: battle_number *unique*</text>\n",
       "<text text-anchor=\"middle\" x=\"485.08\" y=\"-404.23\" font-family=\"Times,serif\" font-size=\"14.00\">name: name</text>\n",
       "</g>\n",
       "<!-- Commander -->\n",
       "<g id=\"node3\" class=\"node\">\n",
       "<title>Commander</title>\n",
       "<ellipse fill=\"none\" stroke=\"black\" cx=\"147.08\" cy=\"-208.42\" rx=\"147.08\" ry=\"51.97\"/>\n",
       "<text text-anchor=\"middle\" x=\"147.08\" y=\"-227.87\" font-family=\"Times,serif\" font-size=\"14.00\">Commander</text>\n",
       "<text text-anchor=\"middle\" x=\"147.08\" y=\"-195.37\" font-family=\"Times,serif\" font-size=\"14.00\">properties:</text>\n",
       "<text text-anchor=\"middle\" x=\"147.08\" y=\"-178.87\" font-family=\"Times,serif\" font-size=\"14.00\">commander: commander *unique*</text>\n",
       "</g>\n",
       "<!-- Battle&#45;&gt;Commander -->\n",
       "<g id=\"edge2\" class=\"edge\">\n",
       "<title>Battle&#45;&gt;Commander</title>\n",
       "<path fill=\"none\" stroke=\"black\" d=\"M374.48,-394.96C353.63,-384.65 332.47,-372.98 313.58,-360.39 272.9,-333.27 232.15,-296.53 201.15,-266.08\"/>\n",
       "<polygon fill=\"black\" stroke=\"black\" points=\"203.72,-263.7 194.15,-259.15 198.79,-268.67 203.72,-263.7\"/>\n",
       "<text text-anchor=\"middle\" x=\"367.33\" y=\"-347.09\" font-family=\"Times,serif\" font-size=\"14.00\">LED_BY</text>\n",
       "<text text-anchor=\"middle\" x=\"367.33\" y=\"-314.59\" font-family=\"Times,serif\" font-size=\"14.00\">properties:</text>\n",
       "<text text-anchor=\"middle\" x=\"367.33\" y=\"-298.09\" font-family=\"Times,serif\" font-size=\"14.00\">attacking: attacking</text>\n",
       "<text text-anchor=\"middle\" x=\"367.33\" y=\"-281.59\" font-family=\"Times,serif\" font-size=\"14.00\">outcome: outcome</text>\n",
       "</g>\n",
       "<!-- Year -->\n",
       "<g id=\"node4\" class=\"node\">\n",
       "<title>Year</title>\n",
       "<ellipse fill=\"none\" stroke=\"black\" cx=\"400.08\" cy=\"-208.42\" rx=\"87.68\" ry=\"51.97\"/>\n",
       "<text text-anchor=\"middle\" x=\"400.08\" y=\"-227.87\" font-family=\"Times,serif\" font-size=\"14.00\">Year</text>\n",
       "<text text-anchor=\"middle\" x=\"400.08\" y=\"-195.37\" font-family=\"Times,serif\" font-size=\"14.00\">properties:</text>\n",
       "<text text-anchor=\"middle\" x=\"400.08\" y=\"-178.87\" font-family=\"Times,serif\" font-size=\"14.00\">year: year *unique*</text>\n",
       "</g>\n",
       "<!-- Battle&#45;&gt;Year -->\n",
       "<g id=\"edge3\" class=\"edge\">\n",
       "<title>Battle&#45;&gt;Year</title>\n",
       "<path fill=\"none\" stroke=\"black\" d=\"M460.63,-379.03C458.22,-372.74 455.83,-366.45 453.58,-360.39 442.57,-330.83 430.81,-297.82 421.13,-270.22\"/>\n",
       "<polygon fill=\"black\" stroke=\"black\" points=\"424.5,-269.25 417.89,-260.97 417.89,-271.57 424.5,-269.25\"/>\n",
       "<text text-anchor=\"middle\" x=\"501.33\" y=\"-314.34\" font-family=\"Times,serif\" font-size=\"14.00\">OCCURRED_IN</text>\n",
       "</g>\n",
       "<!-- Location -->\n",
       "<g id=\"node5\" class=\"node\">\n",
       "<title>Location</title>\n",
       "<ellipse fill=\"none\" stroke=\"black\" cx=\"622.08\" cy=\"-208.42\" rx=\"116.32\" ry=\"51.97\"/>\n",
       "<text text-anchor=\"middle\" x=\"622.08\" y=\"-227.87\" font-family=\"Times,serif\" font-size=\"14.00\">Location</text>\n",
       "<text text-anchor=\"middle\" x=\"622.08\" y=\"-195.37\" font-family=\"Times,serif\" font-size=\"14.00\">properties:</text>\n",
       "<text text-anchor=\"middle\" x=\"622.08\" y=\"-178.87\" font-family=\"Times,serif\" font-size=\"14.00\">location: location *unique*</text>\n",
       "</g>\n",
       "<!-- Battle&#45;&gt;Location -->\n",
       "<g id=\"edge4\" class=\"edge\">\n",
       "<title>Battle&#45;&gt;Location</title>\n",
       "<path fill=\"none\" stroke=\"black\" d=\"M533.95,-381.25C538.93,-374.36 543.74,-367.32 548.08,-360.39 566.02,-331.75 582.86,-298.13 595.94,-269.9\"/>\n",
       "<polygon fill=\"black\" stroke=\"black\" points=\"598.97,-271.69 599.95,-261.14 592.61,-268.77 598.97,-271.69\"/>\n",
       "<text text-anchor=\"middle\" x=\"634.45\" y=\"-314.34\" font-family=\"Times,serif\" font-size=\"14.00\">LOCATED_AT</text>\n",
       "</g>\n",
       "<!-- King -->\n",
       "<g id=\"node7\" class=\"node\">\n",
       "<title>King</title>\n",
       "<ellipse fill=\"none\" stroke=\"black\" cx=\"845.08\" cy=\"-208.42\" rx=\"88.74\" ry=\"51.97\"/>\n",
       "<text text-anchor=\"middle\" x=\"845.08\" y=\"-227.87\" font-family=\"Times,serif\" font-size=\"14.00\">King</text>\n",
       "<text text-anchor=\"middle\" x=\"845.08\" y=\"-195.37\" font-family=\"Times,serif\" font-size=\"14.00\">properties:</text>\n",
       "<text text-anchor=\"middle\" x=\"845.08\" y=\"-178.87\" font-family=\"Times,serif\" font-size=\"14.00\">king: king *unique*</text>\n",
       "</g>\n",
       "<!-- Battle&#45;&gt;King -->\n",
       "<g id=\"edge6\" class=\"edge\">\n",
       "<title>Battle&#45;&gt;King</title>\n",
       "<path fill=\"none\" stroke=\"black\" d=\"M606.34,-399C631.87,-388.02 658.04,-375.07 681.08,-360.39 723.62,-333.29 765.36,-294.64 796.09,-263.24\"/>\n",
       "<polygon fill=\"black\" stroke=\"black\" points=\"798.56,-265.71 803,-256.09 793.53,-260.84 798.56,-265.71\"/>\n",
       "<text text-anchor=\"middle\" x=\"814.33\" y=\"-314.34\" font-family=\"Times,serif\" font-size=\"14.00\">RULED_BY</text>\n",
       "</g>\n",
       "<!-- Family -->\n",
       "<g id=\"node2\" class=\"node\">\n",
       "<title>Family</title>\n",
       "<ellipse fill=\"none\" stroke=\"black\" cx=\"485.08\" cy=\"-675.64\" rx=\"105.71\" ry=\"51.97\"/>\n",
       "<text text-anchor=\"middle\" x=\"485.08\" y=\"-695.09\" font-family=\"Times,serif\" font-size=\"14.00\">Family</text>\n",
       "<text text-anchor=\"middle\" x=\"485.08\" y=\"-662.59\" font-family=\"Times,serif\" font-size=\"14.00\">properties:</text>\n",
       "<text text-anchor=\"middle\" x=\"485.08\" y=\"-646.09\" font-family=\"Times,serif\" font-size=\"14.00\">family: family *unique*</text>\n",
       "</g>\n",
       "<!-- Family&#45;&gt;Battle -->\n",
       "<g id=\"edge1\" class=\"edge\">\n",
       "<title>Family&#45;&gt;Battle</title>\n",
       "<path fill=\"none\" stroke=\"black\" d=\"M485.08,-623.24C485.08,-592.11 485.08,-551.87 485.08,-517.32\"/>\n",
       "<polygon fill=\"black\" stroke=\"black\" points=\"488.58,-517.35 485.08,-507.35 481.58,-517.35 488.58,-517.35\"/>\n",
       "<text text-anchor=\"middle\" x=\"542.83\" y=\"-592.37\" font-family=\"Times,serif\" font-size=\"14.00\">PARTICIPATED_IN</text>\n",
       "<text text-anchor=\"middle\" x=\"542.83\" y=\"-559.87\" font-family=\"Times,serif\" font-size=\"14.00\">properties:</text>\n",
       "<text text-anchor=\"middle\" x=\"542.83\" y=\"-543.37\" font-family=\"Times,serif\" font-size=\"14.00\">attacking: attacking</text>\n",
       "<text text-anchor=\"middle\" x=\"542.83\" y=\"-526.87\" font-family=\"Times,serif\" font-size=\"14.00\">outcome: outcome</text>\n",
       "</g>\n",
       "<!-- Region -->\n",
       "<g id=\"node6\" class=\"node\">\n",
       "<title>Region</title>\n",
       "<ellipse fill=\"none\" stroke=\"black\" cx=\"622.08\" cy=\"-51.97\" rx=\"103.59\" ry=\"51.97\"/>\n",
       "<text text-anchor=\"middle\" x=\"622.08\" y=\"-71.42\" font-family=\"Times,serif\" font-size=\"14.00\">Region</text>\n",
       "<text text-anchor=\"middle\" x=\"622.08\" y=\"-38.92\" font-family=\"Times,serif\" font-size=\"14.00\">properties:</text>\n",
       "<text text-anchor=\"middle\" x=\"622.08\" y=\"-22.42\" font-family=\"Times,serif\" font-size=\"14.00\">region: region *unique*</text>\n",
       "</g>\n",
       "<!-- Location&#45;&gt;Region -->\n",
       "<g id=\"edge5\" class=\"edge\">\n",
       "<title>Location&#45;&gt;Region</title>\n",
       "<path fill=\"none\" stroke=\"black\" d=\"M622.08,-155.99C622.08,-143.16 622.08,-129.26 622.08,-115.95\"/>\n",
       "<polygon fill=\"black\" stroke=\"black\" points=\"625.58,-115.95 622.08,-105.95 618.58,-115.95 625.58,-115.95\"/>\n",
       "<text text-anchor=\"middle\" x=\"659.58\" y=\"-125.14\" font-family=\"Times,serif\" font-size=\"14.00\">REGION_OF</text>\n",
       "</g>\n",
       "</g>\n",
       "</svg>\n"
      ],
      "text/plain": [
       "<graphviz.graphs.Digraph at 0x14cb29bb0>"
      ]
     },
     "execution_count": 15,
     "metadata": {},
     "output_type": "execute_result"
    }
   ],
   "source": [
    "gdm.current_model.visualize()"
   ]
  },
  {
   "cell_type": "code",
   "execution_count": 16,
   "metadata": {},
   "outputs": [
    {
     "name": "stdout",
     "output_type": "stream",
     "text": [
      "\u001b[1m> Generating Data Model...\u001b[00m\n",
      "\u001b[3mAttempts | 3  \u001b[0m\n",
      "Recieved \u001b[92mValid\u001b[00m Data Model\n",
      "Nodes\n",
      "* \u001b[96m(:Battle)\u001b[00m      * \u001b[96m(:Family)\u001b[00m\n",
      "* \u001b[96m(:Commander)\u001b[00m   * \u001b[96m(:Year)\u001b[00m\n",
      "* \u001b[96m(:Location)\u001b[00m    * \u001b[96m(:Region)\u001b[00m\n",
      "* \u001b[96m(:King)\u001b[00m         \n",
      "\n",
      "Relationships\n",
      "* \u001b[96m(:Family)-[:PARTICIPATED_IN]->(:Battle)\u001b[00m   \n",
      "* \u001b[96m(:Battle)-[:LED_BY]->(:Commander)\u001b[00m         \n",
      "* \u001b[96m(:Battle)-[:OCCURRED_IN]->(:Year)\u001b[00m         \n",
      "* \u001b[96m(:Battle)-[:LOCATED_AT]->(:Location)\u001b[00m      \n",
      "* \u001b[96m(:Location)-[:REGION_OF]->(:Region)\u001b[00m       \n",
      "* \u001b[96m(:Family)-[:RULED_BY]->(:King)\u001b[00m            \n"
     ]
    },
    {
     "data": {
      "text/plain": [
       "DataModel(nodes=[Node(label='Battle', properties=[Property(name='battleNumber', type='int', column_mapping='battle_number', alias='battle_number', is_unique=True, part_of_key=False), Property(name='name', type='str', column_mapping='name', alias=None, is_unique=False, part_of_key=False)], source_name='got_battles.csv'), Node(label='Family', properties=[Property(name='family', type='str', column_mapping='family', alias=None, is_unique=True, part_of_key=False)], source_name='got_armies.csv'), Node(label='Commander', properties=[Property(name='commander', type='str', column_mapping='commander', alias=None, is_unique=True, part_of_key=False)], source_name='got_armies.csv'), Node(label='Year', properties=[Property(name='year', type='int', column_mapping='year', alias=None, is_unique=True, part_of_key=False)], source_name='got_battles.csv'), Node(label='Location', properties=[Property(name='location', type='str', column_mapping='location', alias=None, is_unique=True, part_of_key=False)], source_name='got_battles.csv'), Node(label='Region', properties=[Property(name='region', type='str', column_mapping='region', alias=None, is_unique=True, part_of_key=False)], source_name='got_battles.csv'), Node(label='King', properties=[Property(name='king', type='str', column_mapping='king', alias=None, is_unique=True, part_of_key=False)], source_name='got_armies.csv')], relationships=[Relationship(type='PARTICIPATED_IN', properties=[Property(name='attacking', type='bool', column_mapping='attacking', alias=None, is_unique=False, part_of_key=False), Property(name='outcome', type='str', column_mapping='outcome', alias=None, is_unique=False, part_of_key=False), Property(name='size', type='int', column_mapping='size', alias=None, is_unique=False, part_of_key=False)], source='Family', target='Battle', source_name='got_armies.csv'), Relationship(type='LED_BY', properties=[], source='Battle', target='Commander', source_name='got_armies.csv'), Relationship(type='OCCURRED_IN', properties=[], source='Battle', target='Year', source_name='got_battles.csv'), Relationship(type='LOCATED_AT', properties=[], source='Battle', target='Location', source_name='got_battles.csv'), Relationship(type='REGION_OF', properties=[], source='Location', target='Region', source_name='got_battles.csv'), Relationship(type='RULED_BY', properties=[], source='Family', target='King', source_name='got_armies.csv')], metadata=None)"
      ]
     },
     "execution_count": 16,
     "metadata": {},
     "output_type": "execute_result"
    }
   ],
   "source": [
    "corrections = \"\"\"\n",
    "1. Create a relationship between Family and King\n",
    "2. Remove relationship between Battle and King\"\"\"\n",
    "gdm.iterate_model(corrections=corrections, max_retries=3, allow_duplicate_properties=True)"
   ]
  },
  {
   "cell_type": "code",
   "execution_count": 17,
   "metadata": {},
   "outputs": [
    {
     "data": {
      "image/svg+xml": [
       "<?xml version=\"1.0\" encoding=\"UTF-8\" standalone=\"no\"?>\n",
       "<!DOCTYPE svg PUBLIC \"-//W3C//DTD SVG 1.1//EN\"\n",
       " \"http://www.w3.org/Graphics/SVG/1.1/DTD/svg11.dtd\">\n",
       "<!-- Generated by graphviz version 10.0.1 (20240210.2158)\n",
       " -->\n",
       "<!-- Pages: 1 -->\n",
       "<svg width=\"767pt\" height=\"687pt\"\n",
       " viewBox=\"0.00 0.00 766.82 686.61\" xmlns=\"http://www.w3.org/2000/svg\" xmlns:xlink=\"http://www.w3.org/1999/xlink\">\n",
       "<g id=\"graph0\" class=\"graph\" transform=\"scale(1 1) rotate(0) translate(4 682.61)\">\n",
       "<polygon fill=\"white\" stroke=\"none\" points=\"-4,4 -4,-682.61 762.82,-682.61 762.82,4 -4,4\"/>\n",
       "<!-- Battle -->\n",
       "<g id=\"node1\" class=\"node\">\n",
       "<title>Battle</title>\n",
       "<ellipse fill=\"none\" stroke=\"black\" cx=\"400.08\" cy=\"-376.53\" rx=\"163.52\" ry=\"63.64\"/>\n",
       "<text text-anchor=\"middle\" x=\"400.08\" y=\"-404.23\" font-family=\"Times,serif\" font-size=\"14.00\">Battle</text>\n",
       "<text text-anchor=\"middle\" x=\"400.08\" y=\"-371.73\" font-family=\"Times,serif\" font-size=\"14.00\">properties:</text>\n",
       "<text text-anchor=\"middle\" x=\"400.08\" y=\"-355.23\" font-family=\"Times,serif\" font-size=\"14.00\">battleNumber: battle_number *unique*</text>\n",
       "<text text-anchor=\"middle\" x=\"400.08\" y=\"-338.73\" font-family=\"Times,serif\" font-size=\"14.00\">name: name</text>\n",
       "</g>\n",
       "<!-- Commander -->\n",
       "<g id=\"node3\" class=\"node\">\n",
       "<title>Commander</title>\n",
       "<ellipse fill=\"none\" stroke=\"black\" cx=\"147.08\" cy=\"-208.42\" rx=\"147.08\" ry=\"51.97\"/>\n",
       "<text text-anchor=\"middle\" x=\"147.08\" y=\"-227.87\" font-family=\"Times,serif\" font-size=\"14.00\">Commander</text>\n",
       "<text text-anchor=\"middle\" x=\"147.08\" y=\"-195.37\" font-family=\"Times,serif\" font-size=\"14.00\">properties:</text>\n",
       "<text text-anchor=\"middle\" x=\"147.08\" y=\"-178.87\" font-family=\"Times,serif\" font-size=\"14.00\">commander: commander *unique*</text>\n",
       "</g>\n",
       "<!-- Battle&#45;&gt;Commander -->\n",
       "<g id=\"edge2\" class=\"edge\">\n",
       "<title>Battle&#45;&gt;Commander</title>\n",
       "<path fill=\"none\" stroke=\"black\" d=\"M317.59,-321.37C287.92,-301.89 254.56,-279.99 225.27,-260.76\"/>\n",
       "<polygon fill=\"black\" stroke=\"black\" points=\"227.46,-258.01 217.18,-255.44 223.62,-263.86 227.46,-258.01\"/>\n",
       "<text text-anchor=\"middle\" x=\"299.95\" y=\"-281.59\" font-family=\"Times,serif\" font-size=\"14.00\">LED_BY</text>\n",
       "</g>\n",
       "<!-- Year -->\n",
       "<g id=\"node4\" class=\"node\">\n",
       "<title>Year</title>\n",
       "<ellipse fill=\"none\" stroke=\"black\" cx=\"400.08\" cy=\"-208.42\" rx=\"87.68\" ry=\"51.97\"/>\n",
       "<text text-anchor=\"middle\" x=\"400.08\" y=\"-227.87\" font-family=\"Times,serif\" font-size=\"14.00\">Year</text>\n",
       "<text text-anchor=\"middle\" x=\"400.08\" y=\"-195.37\" font-family=\"Times,serif\" font-size=\"14.00\">properties:</text>\n",
       "<text text-anchor=\"middle\" x=\"400.08\" y=\"-178.87\" font-family=\"Times,serif\" font-size=\"14.00\">year: year *unique*</text>\n",
       "</g>\n",
       "<!-- Battle&#45;&gt;Year -->\n",
       "<g id=\"edge3\" class=\"edge\">\n",
       "<title>Battle&#45;&gt;Year</title>\n",
       "<path fill=\"none\" stroke=\"black\" d=\"M400.08,-312.73C400.08,-299.44 400.08,-285.42 400.08,-272.13\"/>\n",
       "<polygon fill=\"black\" stroke=\"black\" points=\"403.58,-272.2 400.08,-262.2 396.58,-272.2 403.58,-272.2\"/>\n",
       "<text text-anchor=\"middle\" x=\"447.33\" y=\"-281.59\" font-family=\"Times,serif\" font-size=\"14.00\">OCCURRED_IN</text>\n",
       "</g>\n",
       "<!-- Location -->\n",
       "<g id=\"node5\" class=\"node\">\n",
       "<title>Location</title>\n",
       "<ellipse fill=\"none\" stroke=\"black\" cx=\"622.08\" cy=\"-208.42\" rx=\"116.32\" ry=\"51.97\"/>\n",
       "<text text-anchor=\"middle\" x=\"622.08\" y=\"-227.87\" font-family=\"Times,serif\" font-size=\"14.00\">Location</text>\n",
       "<text text-anchor=\"middle\" x=\"622.08\" y=\"-195.37\" font-family=\"Times,serif\" font-size=\"14.00\">properties:</text>\n",
       "<text text-anchor=\"middle\" x=\"622.08\" y=\"-178.87\" font-family=\"Times,serif\" font-size=\"14.00\">location: location *unique*</text>\n",
       "</g>\n",
       "<!-- Battle&#45;&gt;Location -->\n",
       "<g id=\"edge4\" class=\"edge\">\n",
       "<title>Battle&#45;&gt;Location</title>\n",
       "<path fill=\"none\" stroke=\"black\" d=\"M474.93,-319.52C500.49,-300.4 528.92,-279.12 553.93,-260.41\"/>\n",
       "<polygon fill=\"black\" stroke=\"black\" points=\"555.85,-263.34 561.76,-254.55 551.66,-257.74 555.85,-263.34\"/>\n",
       "<text text-anchor=\"middle\" x=\"567.45\" y=\"-281.59\" font-family=\"Times,serif\" font-size=\"14.00\">LOCATED_AT</text>\n",
       "</g>\n",
       "<!-- Family -->\n",
       "<g id=\"node2\" class=\"node\">\n",
       "<title>Family</title>\n",
       "<ellipse fill=\"none\" stroke=\"black\" cx=\"535.08\" cy=\"-626.64\" rx=\"105.71\" ry=\"51.97\"/>\n",
       "<text text-anchor=\"middle\" x=\"535.08\" y=\"-646.09\" font-family=\"Times,serif\" font-size=\"14.00\">Family</text>\n",
       "<text text-anchor=\"middle\" x=\"535.08\" y=\"-613.59\" font-family=\"Times,serif\" font-size=\"14.00\">properties:</text>\n",
       "<text text-anchor=\"middle\" x=\"535.08\" y=\"-597.09\" font-family=\"Times,serif\" font-size=\"14.00\">family: family *unique*</text>\n",
       "</g>\n",
       "<!-- Family&#45;&gt;Battle -->\n",
       "<g id=\"edge1\" class=\"edge\">\n",
       "<title>Family&#45;&gt;Battle</title>\n",
       "<path fill=\"none\" stroke=\"black\" d=\"M508.08,-576.03C488.25,-539.58 461.01,-489.52 438.86,-448.8\"/>\n",
       "<polygon fill=\"black\" stroke=\"black\" points=\"442.06,-447.37 434.21,-440.26 435.91,-450.71 442.06,-447.37\"/>\n",
       "<text text-anchor=\"middle\" x=\"553.83\" y=\"-543.37\" font-family=\"Times,serif\" font-size=\"14.00\">PARTICIPATED_IN</text>\n",
       "<text text-anchor=\"middle\" x=\"553.83\" y=\"-510.87\" font-family=\"Times,serif\" font-size=\"14.00\">properties:</text>\n",
       "<text text-anchor=\"middle\" x=\"553.83\" y=\"-494.37\" font-family=\"Times,serif\" font-size=\"14.00\">attacking: attacking</text>\n",
       "<text text-anchor=\"middle\" x=\"553.83\" y=\"-477.87\" font-family=\"Times,serif\" font-size=\"14.00\">outcome: outcome</text>\n",
       "<text text-anchor=\"middle\" x=\"553.83\" y=\"-461.37\" font-family=\"Times,serif\" font-size=\"14.00\">size: size</text>\n",
       "</g>\n",
       "<!-- King -->\n",
       "<g id=\"node7\" class=\"node\">\n",
       "<title>King</title>\n",
       "<ellipse fill=\"none\" stroke=\"black\" cx=\"670.08\" cy=\"-376.53\" rx=\"88.74\" ry=\"51.97\"/>\n",
       "<text text-anchor=\"middle\" x=\"670.08\" y=\"-395.98\" font-family=\"Times,serif\" font-size=\"14.00\">King</text>\n",
       "<text text-anchor=\"middle\" x=\"670.08\" y=\"-363.48\" font-family=\"Times,serif\" font-size=\"14.00\">properties:</text>\n",
       "<text text-anchor=\"middle\" x=\"670.08\" y=\"-346.98\" font-family=\"Times,serif\" font-size=\"14.00\">king: king *unique*</text>\n",
       "</g>\n",
       "<!-- Family&#45;&gt;King -->\n",
       "<g id=\"edge6\" class=\"edge\">\n",
       "<title>Family&#45;&gt;King</title>\n",
       "<path fill=\"none\" stroke=\"black\" d=\"M593.74,-582.96C602.09,-574.95 609.91,-566.1 616.08,-556.67 639.12,-521.44 652.67,-475.97 660.43,-439.66\"/>\n",
       "<polygon fill=\"black\" stroke=\"black\" points=\"663.8,-440.68 662.36,-430.19 656.94,-439.29 663.8,-440.68\"/>\n",
       "<text text-anchor=\"middle\" x=\"690.33\" y=\"-502.37\" font-family=\"Times,serif\" font-size=\"14.00\">RULED_BY</text>\n",
       "</g>\n",
       "<!-- Region -->\n",
       "<g id=\"node6\" class=\"node\">\n",
       "<title>Region</title>\n",
       "<ellipse fill=\"none\" stroke=\"black\" cx=\"622.08\" cy=\"-51.97\" rx=\"103.59\" ry=\"51.97\"/>\n",
       "<text text-anchor=\"middle\" x=\"622.08\" y=\"-71.42\" font-family=\"Times,serif\" font-size=\"14.00\">Region</text>\n",
       "<text text-anchor=\"middle\" x=\"622.08\" y=\"-38.92\" font-family=\"Times,serif\" font-size=\"14.00\">properties:</text>\n",
       "<text text-anchor=\"middle\" x=\"622.08\" y=\"-22.42\" font-family=\"Times,serif\" font-size=\"14.00\">region: region *unique*</text>\n",
       "</g>\n",
       "<!-- Location&#45;&gt;Region -->\n",
       "<g id=\"edge5\" class=\"edge\">\n",
       "<title>Location&#45;&gt;Region</title>\n",
       "<path fill=\"none\" stroke=\"black\" d=\"M622.08,-155.99C622.08,-143.16 622.08,-129.26 622.08,-115.95\"/>\n",
       "<polygon fill=\"black\" stroke=\"black\" points=\"625.58,-115.95 622.08,-105.95 618.58,-115.95 625.58,-115.95\"/>\n",
       "<text text-anchor=\"middle\" x=\"659.58\" y=\"-125.14\" font-family=\"Times,serif\" font-size=\"14.00\">REGION_OF</text>\n",
       "</g>\n",
       "</g>\n",
       "</svg>\n"
      ],
      "text/plain": [
       "<graphviz.graphs.Digraph at 0x14cb8b9b0>"
      ]
     },
     "execution_count": 17,
     "metadata": {},
     "output_type": "execute_result"
    }
   ],
   "source": [
    "gdm.current_model.visualize()"
   ]
  },
  {
   "cell_type": "markdown",
   "metadata": {},
   "source": [
    "## Code Generation"
   ]
  },
  {
   "cell_type": "code",
   "execution_count": 18,
   "metadata": {},
   "outputs": [],
   "source": [
    "gen = PyIngestConfigGenerator(data_model=gdm.current_model, database=\"gameofthronesmulti\", username=\"neo4j\", uri=os.environ.get(\"NEO4J_URI\"), password=os.environ.get(\"NEO4J_PASSWORD\"), file_directory=data_directory)"
   ]
  },
  {
   "cell_type": "markdown",
   "metadata": {},
   "source": [
    "Generating a file isn't necessary, but it's nice to have in case we want to reload data in the future."
   ]
  },
  {
   "cell_type": "code",
   "execution_count": 19,
   "metadata": {},
   "outputs": [],
   "source": [
    "gen.generate_config_yaml(file_name=\"./outputs/config.yaml\")"
   ]
  },
  {
   "cell_type": "markdown",
   "metadata": {},
   "source": [
    "## Ingest"
   ]
  },
  {
   "cell_type": "code",
   "execution_count": 20,
   "metadata": {},
   "outputs": [],
   "source": [
    "PyIngest(config=gen.generate_config_string())"
   ]
  }
 ],
 "metadata": {
  "kernelspec": {
   "display_name": "neo4j-runway-20CPAOlQ-py3.12",
   "language": "python",
   "name": "python3"
  },
  "language_info": {
   "codemirror_mode": {
    "name": "ipython",
    "version": 3
   },
   "file_extension": ".py",
   "mimetype": "text/x-python",
   "name": "python",
   "nbconvert_exporter": "python",
   "pygments_lexer": "ipython3",
   "version": "3.12.3"
  }
 },
 "nbformat": 4,
 "nbformat_minor": 2
}
