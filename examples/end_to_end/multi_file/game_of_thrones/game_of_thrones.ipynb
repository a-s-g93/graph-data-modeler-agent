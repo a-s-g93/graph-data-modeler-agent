{
 "cells": [
  {
   "cell_type": "markdown",
   "metadata": {},
   "source": [
    "# Game of Thrones End-To-End Notebook"
   ]
  },
  {
   "cell_type": "markdown",
   "metadata": {},
   "source": [
    "This notebook contains an end-to-end workflow using multiple csv files of Game of Thrones battle data."
   ]
  },
  {
   "cell_type": "code",
   "execution_count": 1,
   "metadata": {},
   "outputs": [],
   "source": [
    "import os\n",
    "from neo4j_runway.utils.data import load_data_dictionary_from_yaml, load_local_files\n",
    "from neo4j_runway.llm.openai import OpenAIDataModelingLLM, OpenAIDiscoveryLLM\n",
    "from neo4j_runway.discovery import Discovery\n",
    "from neo4j_runway import GraphDataModeler\n",
    "from neo4j_runway.code_generation import PyIngestConfigGenerator\n",
    "from neo4j_runway.ingestion import PyIngest"
   ]
  },
  {
   "cell_type": "markdown",
   "metadata": {},
   "source": [
    "## Read Data"
   ]
  },
  {
   "cell_type": "code",
   "execution_count": 2,
   "metadata": {},
   "outputs": [
    {
     "data": {
      "text/plain": [
       "{'got_armies.csv': {'battle_number': 'A unique ID for the battle.',\n",
       "  'king': 'A king participating in the battle.',\n",
       "  'outcome': 'Whether the battle was won or lost.',\n",
       "  'family': 'A significant family in the battle.',\n",
       "  'size': 'The size of the army.',\n",
       "  'commander': 'The commander leading an army in the battle.',\n",
       "  'attacking': 'Whether the army is attacking or not.'},\n",
       " 'got_battles.csv': {'name': 'The name of the battle.',\n",
       "  'year': 'The year the battle took place.',\n",
       "  'battle_number': 'A unique ID for the battle.',\n",
       "  'summer': 'Whether the battle took place during Summer.',\n",
       "  'location': 'The location of the battle.',\n",
       "  'region': 'The larger region a battle took place in.'}}"
      ]
     },
     "execution_count": 2,
     "metadata": {},
     "output_type": "execute_result"
    }
   ],
   "source": [
    "data_dictionary = load_data_dictionary_from_yaml(\"data_dictionary.yaml\")\n",
    "data_dictionary"
   ]
  },
  {
   "cell_type": "code",
   "execution_count": 3,
   "metadata": {},
   "outputs": [],
   "source": [
    "data_directory = \"../../../data/got/multi/\"\n",
    "data = load_local_files(data_directory=data_directory, \n",
    "                        general_description=\"This file contains data on game of thrones battles\", \n",
    "                        data_dictionary=data_dictionary, \n",
    "                        use_cases=[\"What families have changed alliances?\", \n",
    "                                   \"how have army sizes changed over time?\", \n",
    "                                   \"Which families attack most often?\"],\n",
    "                        )"
   ]
  },
  {
   "cell_type": "code",
   "execution_count": 4,
   "metadata": {},
   "outputs": [
    {
     "data": {
      "text/html": [
       "<div>\n",
       "<style scoped>\n",
       "    .dataframe tbody tr th:only-of-type {\n",
       "        vertical-align: middle;\n",
       "    }\n",
       "\n",
       "    .dataframe tbody tr th {\n",
       "        vertical-align: top;\n",
       "    }\n",
       "\n",
       "    .dataframe thead th {\n",
       "        text-align: right;\n",
       "    }\n",
       "</style>\n",
       "<table border=\"1\" class=\"dataframe\">\n",
       "  <thead>\n",
       "    <tr style=\"text-align: right;\">\n",
       "      <th></th>\n",
       "      <th>battle_number</th>\n",
       "      <th>king</th>\n",
       "      <th>outcome</th>\n",
       "      <th>family</th>\n",
       "      <th>size</th>\n",
       "      <th>commander</th>\n",
       "      <th>attacking</th>\n",
       "    </tr>\n",
       "  </thead>\n",
       "  <tbody>\n",
       "    <tr>\n",
       "      <th>0</th>\n",
       "      <td>1</td>\n",
       "      <td>Joffrey/Tommen Baratheon</td>\n",
       "      <td>True</td>\n",
       "      <td>Lannister</td>\n",
       "      <td>15000.0</td>\n",
       "      <td>Jaime Lannister</td>\n",
       "      <td>True</td>\n",
       "    </tr>\n",
       "    <tr>\n",
       "      <th>1</th>\n",
       "      <td>2</td>\n",
       "      <td>Joffrey/Tommen Baratheon</td>\n",
       "      <td>True</td>\n",
       "      <td>Lannister</td>\n",
       "      <td>NaN</td>\n",
       "      <td>Gregor Clegane</td>\n",
       "      <td>True</td>\n",
       "    </tr>\n",
       "    <tr>\n",
       "      <th>2</th>\n",
       "      <td>3</td>\n",
       "      <td>Joffrey/Tommen Baratheon</td>\n",
       "      <td>True</td>\n",
       "      <td>Lannister</td>\n",
       "      <td>15000.0</td>\n",
       "      <td>Jaime Lannister</td>\n",
       "      <td>True</td>\n",
       "    </tr>\n",
       "    <tr>\n",
       "      <th>3</th>\n",
       "      <td>3</td>\n",
       "      <td>Joffrey/Tommen Baratheon</td>\n",
       "      <td>True</td>\n",
       "      <td>Lannister</td>\n",
       "      <td>15000.0</td>\n",
       "      <td>Andros Brax</td>\n",
       "      <td>True</td>\n",
       "    </tr>\n",
       "    <tr>\n",
       "      <th>4</th>\n",
       "      <td>4</td>\n",
       "      <td>Robb Stark</td>\n",
       "      <td>False</td>\n",
       "      <td>Stark</td>\n",
       "      <td>18000.0</td>\n",
       "      <td>Roose Bolton</td>\n",
       "      <td>True</td>\n",
       "    </tr>\n",
       "  </tbody>\n",
       "</table>\n",
       "</div>"
      ],
      "text/plain": [
       "   battle_number                      king outcome     family     size  \\\n",
       "0              1  Joffrey/Tommen Baratheon    True  Lannister  15000.0   \n",
       "1              2  Joffrey/Tommen Baratheon    True  Lannister      NaN   \n",
       "2              3  Joffrey/Tommen Baratheon    True  Lannister  15000.0   \n",
       "3              3  Joffrey/Tommen Baratheon    True  Lannister  15000.0   \n",
       "4              4                Robb Stark   False      Stark  18000.0   \n",
       "\n",
       "         commander  attacking  \n",
       "0  Jaime Lannister       True  \n",
       "1   Gregor Clegane       True  \n",
       "2  Jaime Lannister       True  \n",
       "3      Andros Brax       True  \n",
       "4     Roose Bolton       True  "
      ]
     },
     "execution_count": 4,
     "metadata": {},
     "output_type": "execute_result"
    }
   ],
   "source": [
    "data.tables[0].dataframe.head()"
   ]
  },
  {
   "cell_type": "code",
   "execution_count": 5,
   "metadata": {},
   "outputs": [
    {
     "data": {
      "text/html": [
       "<div>\n",
       "<style scoped>\n",
       "    .dataframe tbody tr th:only-of-type {\n",
       "        vertical-align: middle;\n",
       "    }\n",
       "\n",
       "    .dataframe tbody tr th {\n",
       "        vertical-align: top;\n",
       "    }\n",
       "\n",
       "    .dataframe thead th {\n",
       "        text-align: right;\n",
       "    }\n",
       "</style>\n",
       "<table border=\"1\" class=\"dataframe\">\n",
       "  <thead>\n",
       "    <tr style=\"text-align: right;\">\n",
       "      <th></th>\n",
       "      <th>location</th>\n",
       "      <th>region</th>\n",
       "      <th>battle_number</th>\n",
       "      <th>name</th>\n",
       "      <th>summer</th>\n",
       "      <th>year</th>\n",
       "    </tr>\n",
       "  </thead>\n",
       "  <tbody>\n",
       "    <tr>\n",
       "      <th>0</th>\n",
       "      <td>Golden Tooth</td>\n",
       "      <td>The Westerlands</td>\n",
       "      <td>1</td>\n",
       "      <td>Battle of the Golden Tooth</td>\n",
       "      <td>True</td>\n",
       "      <td>298</td>\n",
       "    </tr>\n",
       "    <tr>\n",
       "      <th>1</th>\n",
       "      <td>Mummer's Ford</td>\n",
       "      <td>The Riverlands</td>\n",
       "      <td>2</td>\n",
       "      <td>Battle at the Mummer's Ford</td>\n",
       "      <td>True</td>\n",
       "      <td>298</td>\n",
       "    </tr>\n",
       "    <tr>\n",
       "      <th>2</th>\n",
       "      <td>Riverrun</td>\n",
       "      <td>The Riverlands</td>\n",
       "      <td>3</td>\n",
       "      <td>Battle of Riverrun</td>\n",
       "      <td>True</td>\n",
       "      <td>298</td>\n",
       "    </tr>\n",
       "    <tr>\n",
       "      <th>3</th>\n",
       "      <td>Green Fork</td>\n",
       "      <td>The Riverlands</td>\n",
       "      <td>4</td>\n",
       "      <td>Battle of the Green Fork</td>\n",
       "      <td>True</td>\n",
       "      <td>298</td>\n",
       "    </tr>\n",
       "    <tr>\n",
       "      <th>4</th>\n",
       "      <td>Whispering Wood</td>\n",
       "      <td>The Riverlands</td>\n",
       "      <td>5</td>\n",
       "      <td>Battle of the Whispering Wood</td>\n",
       "      <td>True</td>\n",
       "      <td>298</td>\n",
       "    </tr>\n",
       "  </tbody>\n",
       "</table>\n",
       "</div>"
      ],
      "text/plain": [
       "          location           region  battle_number  \\\n",
       "0     Golden Tooth  The Westerlands              1   \n",
       "1    Mummer's Ford   The Riverlands              2   \n",
       "2         Riverrun   The Riverlands              3   \n",
       "3       Green Fork   The Riverlands              4   \n",
       "4  Whispering Wood   The Riverlands              5   \n",
       "\n",
       "                            name summer  year  \n",
       "0     Battle of the Golden Tooth   True   298  \n",
       "1    Battle at the Mummer's Ford   True   298  \n",
       "2             Battle of Riverrun   True   298  \n",
       "3       Battle of the Green Fork   True   298  \n",
       "4  Battle of the Whispering Wood   True   298  "
      ]
     },
     "execution_count": 5,
     "metadata": {},
     "output_type": "execute_result"
    }
   ],
   "source": [
    "data.tables[1].dataframe.head()"
   ]
  },
  {
   "cell_type": "markdown",
   "metadata": {},
   "source": [
    "## Discovery"
   ]
  },
  {
   "cell_type": "code",
   "execution_count": 6,
   "metadata": {},
   "outputs": [
    {
     "name": "stderr",
     "output_type": "stream",
     "text": [
      "/Users/alexandergilmore/Documents/projects/neo4j-runway/neo4j_runway/discovery/discovery.py:133: ExperimentalFeatureWarning: Multi file Discovery is an experimental feature and may not work as expected. Please use with caution and raise any issues encountered here: https://github.com/a-s-g93/neo4j-runway/issues\n",
      "  warnings.warn(\n"
     ]
    }
   ],
   "source": [
    "disc_llm = OpenAIDiscoveryLLM(model_name=\"gpt-4o-mini\", enable_async=True)\n",
    "disc = Discovery(llm=disc_llm, data=data)"
   ]
  },
  {
   "cell_type": "code",
   "execution_count": 7,
   "metadata": {},
   "outputs": [
    {
     "data": {
      "text/markdown": [
       "### Summary of Insights for Graph Data Model\n",
       "\n",
       "#### Unique Identifiers\n",
       "1. **battle_number**: Serves as a unique identifier for each battle, allowing for tracking and referencing.\n",
       "2. **family**: Identifies the family associated with each army, crucial for analyzing alliances and rivalries.\n",
       "3. **king**: Identifies the king associated with each army, important for understanding alliances.\n",
       "4. **commander**: Identifies the commanders leading the armies, which can help in understanding leadership dynamics.\n",
       "\n",
       "#### Significant Properties\n",
       "1. **year**: The year in which the battle occurred, useful for analyzing trends over time.\n",
       "2. **location**: The specific location of the battle, providing context for geographical patterns.\n",
       "3. **region**: The broader region where the battle took place, helping to analyze regional conflicts.\n",
       "4. **size**: The size of the army, key for analyzing trends in army strength over time.\n",
       "5. **outcome**: Indicates whether the battle was won or lost, essential for assessing effectiveness.\n",
       "6. **attacking**: Indicates whether the army was attacking, crucial for understanding battle dynamics.\n",
       "\n",
       "#### Possible Node Labels\n",
       "1. **Battle**: Represents each battle, with properties like battle_number, year, location, region, name, and summer.\n",
       "2. **Family**: Represents each family involved in the battles, with properties like family name.\n",
       "3. **King**: Represents each king associated with the armies, with properties like king name.\n",
       "4. **Commander**: Represents each commander leading the armies, with properties like commander name.\n",
       "\n",
       "#### Possible Relationships\n",
       "1. **PARTICIPATED_IN**: Between Family and Battle, indicating which families participated in which battles.\n",
       "2. **LED_BY**: Between Battle and Commander, indicating which commander led the battle.\n",
       "3. **AFFILIATED_WITH**: Between Family and King, indicating which families are allied with which kings.\n",
       "4. **HAS_ARMY**: Between Family and Army, indicating the size of the army associated with each family.\n",
       "\n",
       "#### Addressing Use Cases\n",
       "- **What families have changed alliances?**: By analyzing the **AFFILIATED_WITH** relationship over time, we can track shifts in family alliances based on their association with different kings.\n",
       "- **How have army sizes changed over time?**: The **HAS_ARMY** relationship can be used to correlate army sizes with **year** to visualize trends in army strength across battles.\n",
       "- **Which families attack most often?**: The **PARTICIPATED_IN** relationship can be analyzed to determine the frequency of battles involving each family, particularly focusing on the **attacking** property to identify aggressiveness."
      ],
      "text/plain": [
       "<IPython.core.display.Markdown object>"
      ]
     },
     "metadata": {},
     "output_type": "display_data"
    }
   ],
   "source": [
    "disc.run_async()"
   ]
  },
  {
   "cell_type": "code",
   "execution_count": 8,
   "metadata": {},
   "outputs": [],
   "source": [
    "disc.to_markdown(file_dir=\"./outputs/\")"
   ]
  },
  {
   "cell_type": "markdown",
   "metadata": {},
   "source": [
    "## Data Modeling"
   ]
  },
  {
   "cell_type": "code",
   "execution_count": 9,
   "metadata": {},
   "outputs": [],
   "source": [
    "gdm_llm = OpenAIDataModelingLLM(model_name=\"gpt-4o\", model_params={\"temperature\": 0.6})\n",
    "gdm = GraphDataModeler(llm=gdm_llm, discovery=disc)"
   ]
  },
  {
   "cell_type": "markdown",
   "metadata": {},
   "source": [
    "### Initial Model"
   ]
  },
  {
   "cell_type": "code",
   "execution_count": 10,
   "metadata": {},
   "outputs": [
    {
     "name": "stdout",
     "output_type": "stream",
     "text": [
      "Entity Pool Generation Attempt: 1\n",
      "nodes : ['Battle', 'Family', 'King', 'Commander']\n",
      "rels  : ['PARTICIPATED_IN', 'LED_BY', 'AFFILIATED_WITH']\n",
      "Received Valid Entity Pool.\n",
      "validation failed\n",
      "Number of Errors:  7 \n",
      "\n",
      "Analyzing errors...\n",
      "validation failed\n",
      "Number of Errors:  3 \n",
      "\n",
      "Analyzing errors...\n",
      "validation failed\n",
      "Number of Errors:  1 \n",
      "\n",
      "Analyzing errors...\n"
     ]
    },
    {
     "data": {
      "text/plain": [
       "DataModel(nodes=[Node(label='Battle', properties=[Property(name='battleNumber', type='int', column_mapping='battle_number', alias='battle_number', is_unique=True, part_of_key=False), Property(name='year', type='int', column_mapping='year', alias=None, is_unique=False, part_of_key=False), Property(name='name', type='str', column_mapping='name', alias=None, is_unique=False, part_of_key=False), Property(name='summer', type='bool', column_mapping='summer', alias=None, is_unique=False, part_of_key=False), Property(name='location', type='str', column_mapping='location', alias=None, is_unique=False, part_of_key=False), Property(name='region', type='str', column_mapping='region', alias=None, is_unique=False, part_of_key=False)], source_name='got_battles.csv'), Node(label='Family', properties=[Property(name='family', type='str', column_mapping='family', alias=None, is_unique=True, part_of_key=False)], source_name='got_armies.csv'), Node(label='King', properties=[Property(name='king', type='str', column_mapping='king', alias=None, is_unique=True, part_of_key=False)], source_name='got_armies.csv'), Node(label='Commander', properties=[Property(name='commander', type='str', column_mapping='commander', alias=None, is_unique=True, part_of_key=False)], source_name='got_armies.csv')], relationships=[Relationship(type='PARTICIPATED_IN', properties=[Property(name='battleNumber', type='int', column_mapping='battle_number', alias=None, is_unique=False, part_of_key=False), Property(name='outcome', type='str', column_mapping='outcome', alias=None, is_unique=False, part_of_key=False), Property(name='size', type='int', column_mapping='size', alias=None, is_unique=False, part_of_key=False), Property(name='attacking', type='bool', column_mapping='attacking', alias=None, is_unique=False, part_of_key=False)], source='Family', target='Battle', source_name='got_armies.csv'), Relationship(type='LED_BY', properties=[Property(name='commanderName', type='str', column_mapping='commander', alias=None, is_unique=False, part_of_key=False)], source='Battle', target='Commander', source_name='got_armies.csv'), Relationship(type='AFFILIATED_WITH', properties=[], source='Family', target='King', source_name='got_armies.csv')], metadata=None)"
      ]
     },
     "execution_count": 10,
     "metadata": {},
     "output_type": "execute_result"
    }
   ],
   "source": [
    "gdm.create_initial_model(max_retries=3)"
   ]
  },
  {
   "cell_type": "code",
   "execution_count": 11,
   "metadata": {},
   "outputs": [
    {
     "data": {
      "image/svg+xml": [
       "<?xml version=\"1.0\" encoding=\"UTF-8\" standalone=\"no\"?>\n",
       "<!DOCTYPE svg PUBLIC \"-//W3C//DTD SVG 1.1//EN\"\n",
       " \"http://www.w3.org/Graphics/SVG/1.1/DTD/svg11.dtd\">\n",
       "<!-- Generated by graphviz version 10.0.1 (20240210.2158)\n",
       " -->\n",
       "<!-- Pages: 1 -->\n",
       "<svg width=\"537pt\" height=\"689pt\"\n",
       " viewBox=\"0.00 0.00 536.77 689.01\" xmlns=\"http://www.w3.org/2000/svg\" xmlns:xlink=\"http://www.w3.org/1999/xlink\">\n",
       "<g id=\"graph0\" class=\"graph\" transform=\"scale(1 1) rotate(0) translate(4 685.01)\">\n",
       "<polygon fill=\"white\" stroke=\"none\" points=\"-4,4 -4,-685.01 532.77,-685.01 532.77,4 -4,4\"/>\n",
       "<!-- Battle -->\n",
       "<g id=\"node1\" class=\"node\">\n",
       "<title>Battle</title>\n",
       "<ellipse fill=\"none\" stroke=\"black\" cx=\"163.52\" cy=\"-315.75\" rx=\"163.52\" ry=\"110.31\"/>\n",
       "<text text-anchor=\"middle\" x=\"163.52\" y=\"-376.45\" font-family=\"Times,serif\" font-size=\"14.00\">Battle</text>\n",
       "<text text-anchor=\"middle\" x=\"163.52\" y=\"-343.95\" font-family=\"Times,serif\" font-size=\"14.00\">properties:</text>\n",
       "<text text-anchor=\"middle\" x=\"163.52\" y=\"-327.45\" font-family=\"Times,serif\" font-size=\"14.00\">battleNumber: battle_number *unique*</text>\n",
       "<text text-anchor=\"middle\" x=\"163.52\" y=\"-310.95\" font-family=\"Times,serif\" font-size=\"14.00\">year: year</text>\n",
       "<text text-anchor=\"middle\" x=\"163.52\" y=\"-294.45\" font-family=\"Times,serif\" font-size=\"14.00\">name: name</text>\n",
       "<text text-anchor=\"middle\" x=\"163.52\" y=\"-277.95\" font-family=\"Times,serif\" font-size=\"14.00\">summer: summer</text>\n",
       "<text text-anchor=\"middle\" x=\"163.52\" y=\"-261.45\" font-family=\"Times,serif\" font-size=\"14.00\">location: location</text>\n",
       "<text text-anchor=\"middle\" x=\"163.52\" y=\"-244.95\" font-family=\"Times,serif\" font-size=\"14.00\">region: region</text>\n",
       "</g>\n",
       "<!-- Commander -->\n",
       "<g id=\"node4\" class=\"node\">\n",
       "<title>Commander</title>\n",
       "<ellipse fill=\"none\" stroke=\"black\" cx=\"163.52\" cy=\"-51.97\" rx=\"147.08\" ry=\"51.97\"/>\n",
       "<text text-anchor=\"middle\" x=\"163.52\" y=\"-71.42\" font-family=\"Times,serif\" font-size=\"14.00\">Commander</text>\n",
       "<text text-anchor=\"middle\" x=\"163.52\" y=\"-38.92\" font-family=\"Times,serif\" font-size=\"14.00\">properties:</text>\n",
       "<text text-anchor=\"middle\" x=\"163.52\" y=\"-22.42\" font-family=\"Times,serif\" font-size=\"14.00\">commander: commander *unique*</text>\n",
       "</g>\n",
       "<!-- Battle&#45;&gt;Commander -->\n",
       "<g id=\"edge2\" class=\"edge\">\n",
       "<title>Battle&#45;&gt;Commander</title>\n",
       "<path fill=\"none\" stroke=\"black\" d=\"M163.52,-205.25C163.52,-174.6 163.52,-142.35 163.52,-115.45\"/>\n",
       "<polygon fill=\"black\" stroke=\"black\" points=\"167.02,-115.79 163.52,-105.79 160.02,-115.79 167.02,-115.79\"/>\n",
       "<text text-anchor=\"middle\" x=\"249.02\" y=\"-174.14\" font-family=\"Times,serif\" font-size=\"14.00\">LED_BY</text>\n",
       "<text text-anchor=\"middle\" x=\"249.02\" y=\"-141.64\" font-family=\"Times,serif\" font-size=\"14.00\">properties:</text>\n",
       "<text text-anchor=\"middle\" x=\"249.02\" y=\"-125.14\" font-family=\"Times,serif\" font-size=\"14.00\">commanderName: commander</text>\n",
       "</g>\n",
       "<!-- Family -->\n",
       "<g id=\"node2\" class=\"node\">\n",
       "<title>Family</title>\n",
       "<ellipse fill=\"none\" stroke=\"black\" cx=\"319.52\" cy=\"-629.03\" rx=\"105.71\" ry=\"51.97\"/>\n",
       "<text text-anchor=\"middle\" x=\"319.52\" y=\"-648.48\" font-family=\"Times,serif\" font-size=\"14.00\">Family</text>\n",
       "<text text-anchor=\"middle\" x=\"319.52\" y=\"-615.98\" font-family=\"Times,serif\" font-size=\"14.00\">properties:</text>\n",
       "<text text-anchor=\"middle\" x=\"319.52\" y=\"-599.48\" font-family=\"Times,serif\" font-size=\"14.00\">family: family *unique*</text>\n",
       "</g>\n",
       "<!-- Family&#45;&gt;Battle -->\n",
       "<g id=\"edge1\" class=\"edge\">\n",
       "<title>Family&#45;&gt;Battle</title>\n",
       "<path fill=\"none\" stroke=\"black\" d=\"M242.01,-593.18C228.3,-583.88 215.49,-572.56 206.27,-559.06 182.16,-523.76 170.37,-479.03 164.94,-437.64\"/>\n",
       "<polygon fill=\"black\" stroke=\"black\" points=\"168.44,-437.37 163.79,-427.85 161.49,-438.19 168.44,-437.37\"/>\n",
       "<text text-anchor=\"middle\" x=\"287.14\" y=\"-545.76\" font-family=\"Times,serif\" font-size=\"14.00\">PARTICIPATED_IN</text>\n",
       "<text text-anchor=\"middle\" x=\"287.14\" y=\"-513.26\" font-family=\"Times,serif\" font-size=\"14.00\">properties:</text>\n",
       "<text text-anchor=\"middle\" x=\"287.14\" y=\"-496.76\" font-family=\"Times,serif\" font-size=\"14.00\">battleNumber: battle_number</text>\n",
       "<text text-anchor=\"middle\" x=\"287.14\" y=\"-480.26\" font-family=\"Times,serif\" font-size=\"14.00\">outcome: outcome</text>\n",
       "<text text-anchor=\"middle\" x=\"287.14\" y=\"-463.76\" font-family=\"Times,serif\" font-size=\"14.00\">size: size</text>\n",
       "<text text-anchor=\"middle\" x=\"287.14\" y=\"-447.26\" font-family=\"Times,serif\" font-size=\"14.00\">attacking: attacking</text>\n",
       "</g>\n",
       "<!-- King -->\n",
       "<g id=\"node3\" class=\"node\">\n",
       "<title>King</title>\n",
       "<ellipse fill=\"none\" stroke=\"black\" cx=\"433.52\" cy=\"-315.75\" rx=\"88.74\" ry=\"51.97\"/>\n",
       "<text text-anchor=\"middle\" x=\"433.52\" y=\"-335.2\" font-family=\"Times,serif\" font-size=\"14.00\">King</text>\n",
       "<text text-anchor=\"middle\" x=\"433.52\" y=\"-302.7\" font-family=\"Times,serif\" font-size=\"14.00\">properties:</text>\n",
       "<text text-anchor=\"middle\" x=\"433.52\" y=\"-286.2\" font-family=\"Times,serif\" font-size=\"14.00\">king: king *unique*</text>\n",
       "</g>\n",
       "<!-- Family&#45;&gt;King -->\n",
       "<g id=\"edge3\" class=\"edge\">\n",
       "<title>Family&#45;&gt;King</title>\n",
       "<path fill=\"none\" stroke=\"black\" d=\"M359,-580.61C363.67,-573.65 368.01,-566.36 371.52,-559.06 399.34,-501.22 415.7,-429.38 424.56,-379\"/>\n",
       "<polygon fill=\"black\" stroke=\"black\" points=\"427.96,-379.89 426.19,-369.45 421.06,-378.72 427.96,-379.89\"/>\n",
       "<text text-anchor=\"middle\" x=\"469.14\" y=\"-496.51\" font-family=\"Times,serif\" font-size=\"14.00\">AFFILIATED_WITH</text>\n",
       "</g>\n",
       "</g>\n",
       "</svg>\n"
      ],
      "text/plain": [
       "<graphviz.graphs.Digraph at 0x164660290>"
      ]
     },
     "execution_count": 11,
     "metadata": {},
     "output_type": "execute_result"
    }
   ],
   "source": [
    "gdm.current_model.visualize()"
   ]
  },
  {
   "cell_type": "markdown",
   "metadata": {},
   "source": [
    "### Making Corrections"
   ]
  },
  {
   "cell_type": "code",
   "execution_count": 12,
   "metadata": {},
   "outputs": [
    {
     "name": "stdout",
     "output_type": "stream",
     "text": [
      "validation failed\n",
      "Number of Errors:  2 \n",
      "\n",
      "Analyzing errors...\n",
      "recieved a valid response\n"
     ]
    },
    {
     "data": {
      "text/plain": [
       "DataModel(nodes=[Node(label='Battle', properties=[Property(name='battleNumber', type='int', column_mapping='battle_number', alias='battle_number', is_unique=True, part_of_key=False), Property(name='year', type='int', column_mapping='year', alias=None, is_unique=False, part_of_key=False), Property(name='name', type='str', column_mapping='name', alias=None, is_unique=False, part_of_key=False), Property(name='summer', type='bool', column_mapping='summer', alias=None, is_unique=False, part_of_key=False)], source_name='got_battles.csv'), Node(label='Family', properties=[Property(name='family', type='str', column_mapping='family', alias=None, is_unique=True, part_of_key=False)], source_name='got_armies.csv'), Node(label='King', properties=[Property(name='king', type='str', column_mapping='king', alias=None, is_unique=True, part_of_key=False)], source_name='got_armies.csv'), Node(label='Commander', properties=[Property(name='commander', type='str', column_mapping='commander', alias=None, is_unique=True, part_of_key=False)], source_name='got_armies.csv'), Node(label='Location', properties=[Property(name='location', type='str', column_mapping='location', alias=None, is_unique=True, part_of_key=False)], source_name='got_battles.csv'), Node(label='Region', properties=[Property(name='region', type='str', column_mapping='region', alias=None, is_unique=True, part_of_key=False)], source_name='got_battles.csv')], relationships=[Relationship(type='PARTICIPATED_IN', properties=[Property(name='outcome', type='str', column_mapping='outcome', alias=None, is_unique=False, part_of_key=False), Property(name='attacking', type='bool', column_mapping='attacking', alias=None, is_unique=False, part_of_key=False)], source='Family', target='Battle', source_name='got_armies.csv'), Relationship(type='LED_BY', properties=[Property(name='outcome', type='str', column_mapping='outcome', alias=None, is_unique=False, part_of_key=False), Property(name='attacking', type='bool', column_mapping='attacking', alias=None, is_unique=False, part_of_key=False)], source='Battle', target='Commander', source_name='got_armies.csv'), Relationship(type='AFFILIATED_WITH', properties=[], source='Family', target='King', source_name='got_armies.csv'), Relationship(type='LOCATED_AT', properties=[], source='Battle', target='Location', source_name='got_battles.csv'), Relationship(type='REGION_OF', properties=[], source='Location', target='Region', source_name='got_battles.csv')], metadata=None)"
      ]
     },
     "execution_count": 12,
     "metadata": {},
     "output_type": "execute_result"
    }
   ],
   "source": [
    "corrections = \"\"\"\n",
    "1. Create separate nodes for location and region. \n",
    "2. Remove the commanderName property from the LED_BY relationship. \n",
    "3. Give LED_BY and PARTICIPATED_IN relationships the attacking and outcome properties.\"\"\"\n",
    "gdm.iterate_model(corrections=corrections, max_retries=3, allow_duplicate_properties=True)"
   ]
  },
  {
   "cell_type": "code",
   "execution_count": 13,
   "metadata": {},
   "outputs": [
    {
     "data": {
      "image/svg+xml": [
       "<?xml version=\"1.0\" encoding=\"UTF-8\" standalone=\"no\"?>\n",
       "<!DOCTYPE svg PUBLIC \"-//W3C//DTD SVG 1.1//EN\"\n",
       " \"http://www.w3.org/Graphics/SVG/1.1/DTD/svg11.dtd\">\n",
       "<!-- Generated by graphviz version 10.0.1 (20240210.2158)\n",
       " -->\n",
       "<!-- Pages: 1 -->\n",
       "<svg width=\"590pt\" height=\"782pt\"\n",
       " viewBox=\"0.00 0.00 590.33 782.28\" xmlns=\"http://www.w3.org/2000/svg\" xmlns:xlink=\"http://www.w3.org/1999/xlink\">\n",
       "<g id=\"graph0\" class=\"graph\" transform=\"scale(1 1) rotate(0) translate(4 778.28)\">\n",
       "<polygon fill=\"white\" stroke=\"none\" points=\"-4,4 -4,-778.28 586.33,-778.28 586.33,4 -4,4\"/>\n",
       "<!-- Battle -->\n",
       "<g id=\"node1\" class=\"node\">\n",
       "<title>Battle</title>\n",
       "<ellipse fill=\"none\" stroke=\"black\" cx=\"212.08\" cy=\"-465.36\" rx=\"163.52\" ry=\"86.97\"/>\n",
       "<text text-anchor=\"middle\" x=\"212.08\" y=\"-509.56\" font-family=\"Times,serif\" font-size=\"14.00\">Battle</text>\n",
       "<text text-anchor=\"middle\" x=\"212.08\" y=\"-477.06\" font-family=\"Times,serif\" font-size=\"14.00\">properties:</text>\n",
       "<text text-anchor=\"middle\" x=\"212.08\" y=\"-460.56\" font-family=\"Times,serif\" font-size=\"14.00\">battleNumber: battle_number *unique*</text>\n",
       "<text text-anchor=\"middle\" x=\"212.08\" y=\"-444.06\" font-family=\"Times,serif\" font-size=\"14.00\">year: year</text>\n",
       "<text text-anchor=\"middle\" x=\"212.08\" y=\"-427.56\" font-family=\"Times,serif\" font-size=\"14.00\">name: name</text>\n",
       "<text text-anchor=\"middle\" x=\"212.08\" y=\"-411.06\" font-family=\"Times,serif\" font-size=\"14.00\">summer: summer</text>\n",
       "</g>\n",
       "<!-- Commander -->\n",
       "<g id=\"node4\" class=\"node\">\n",
       "<title>Commander</title>\n",
       "<ellipse fill=\"none\" stroke=\"black\" cx=\"147.08\" cy=\"-208.42\" rx=\"147.08\" ry=\"51.97\"/>\n",
       "<text text-anchor=\"middle\" x=\"147.08\" y=\"-227.87\" font-family=\"Times,serif\" font-size=\"14.00\">Commander</text>\n",
       "<text text-anchor=\"middle\" x=\"147.08\" y=\"-195.37\" font-family=\"Times,serif\" font-size=\"14.00\">properties:</text>\n",
       "<text text-anchor=\"middle\" x=\"147.08\" y=\"-178.87\" font-family=\"Times,serif\" font-size=\"14.00\">commander: commander *unique*</text>\n",
       "</g>\n",
       "<!-- Battle&#45;&gt;Commander -->\n",
       "<g id=\"edge2\" class=\"edge\">\n",
       "<title>Battle&#45;&gt;Commander</title>\n",
       "<path fill=\"none\" stroke=\"black\" d=\"M190.25,-378.76C181.31,-343.69 171.16,-303.87 162.95,-271.66\"/>\n",
       "<polygon fill=\"black\" stroke=\"black\" points=\"166.36,-270.89 160.5,-262.07 159.58,-272.62 166.36,-270.89\"/>\n",
       "<text text-anchor=\"middle\" x=\"239.33\" y=\"-347.09\" font-family=\"Times,serif\" font-size=\"14.00\">LED_BY</text>\n",
       "<text text-anchor=\"middle\" x=\"239.33\" y=\"-314.59\" font-family=\"Times,serif\" font-size=\"14.00\">properties:</text>\n",
       "<text text-anchor=\"middle\" x=\"239.33\" y=\"-298.09\" font-family=\"Times,serif\" font-size=\"14.00\">outcome: outcome</text>\n",
       "<text text-anchor=\"middle\" x=\"239.33\" y=\"-281.59\" font-family=\"Times,serif\" font-size=\"14.00\">attacking: attacking</text>\n",
       "</g>\n",
       "<!-- Location -->\n",
       "<g id=\"node5\" class=\"node\">\n",
       "<title>Location</title>\n",
       "<ellipse fill=\"none\" stroke=\"black\" cx=\"428.08\" cy=\"-208.42\" rx=\"116.32\" ry=\"51.97\"/>\n",
       "<text text-anchor=\"middle\" x=\"428.08\" y=\"-227.87\" font-family=\"Times,serif\" font-size=\"14.00\">Location</text>\n",
       "<text text-anchor=\"middle\" x=\"428.08\" y=\"-195.37\" font-family=\"Times,serif\" font-size=\"14.00\">properties:</text>\n",
       "<text text-anchor=\"middle\" x=\"428.08\" y=\"-178.87\" font-family=\"Times,serif\" font-size=\"14.00\">location: location *unique*</text>\n",
       "</g>\n",
       "<!-- Battle&#45;&gt;Location -->\n",
       "<g id=\"edge4\" class=\"edge\">\n",
       "<title>Battle&#45;&gt;Location</title>\n",
       "<path fill=\"none\" stroke=\"black\" d=\"M278.65,-385.79C311.44,-347.08 350.25,-301.28 380.09,-266.05\"/>\n",
       "<polygon fill=\"black\" stroke=\"black\" points=\"382.71,-268.38 386.5,-258.49 377.37,-263.86 382.71,-268.38\"/>\n",
       "<text text-anchor=\"middle\" x=\"406.45\" y=\"-314.34\" font-family=\"Times,serif\" font-size=\"14.00\">LOCATED_AT</text>\n",
       "</g>\n",
       "<!-- Family -->\n",
       "<g id=\"node2\" class=\"node\">\n",
       "<title>Family</title>\n",
       "<ellipse fill=\"none\" stroke=\"black\" cx=\"347.08\" cy=\"-722.31\" rx=\"105.71\" ry=\"51.97\"/>\n",
       "<text text-anchor=\"middle\" x=\"347.08\" y=\"-741.76\" font-family=\"Times,serif\" font-size=\"14.00\">Family</text>\n",
       "<text text-anchor=\"middle\" x=\"347.08\" y=\"-709.26\" font-family=\"Times,serif\" font-size=\"14.00\">properties:</text>\n",
       "<text text-anchor=\"middle\" x=\"347.08\" y=\"-692.76\" font-family=\"Times,serif\" font-size=\"14.00\">family: family *unique*</text>\n",
       "</g>\n",
       "<!-- Family&#45;&gt;Battle -->\n",
       "<g id=\"edge1\" class=\"edge\">\n",
       "<title>Family&#45;&gt;Battle</title>\n",
       "<path fill=\"none\" stroke=\"black\" d=\"M320.73,-671.55C303.86,-639.69 281.44,-597.36 261.35,-559.42\"/>\n",
       "<polygon fill=\"black\" stroke=\"black\" points=\"264.51,-557.91 256.74,-550.71 258.33,-561.18 264.51,-557.91\"/>\n",
       "<text text-anchor=\"middle\" x=\"365.83\" y=\"-639.04\" font-family=\"Times,serif\" font-size=\"14.00\">PARTICIPATED_IN</text>\n",
       "<text text-anchor=\"middle\" x=\"365.83\" y=\"-606.54\" font-family=\"Times,serif\" font-size=\"14.00\">properties:</text>\n",
       "<text text-anchor=\"middle\" x=\"365.83\" y=\"-590.04\" font-family=\"Times,serif\" font-size=\"14.00\">outcome: outcome</text>\n",
       "<text text-anchor=\"middle\" x=\"365.83\" y=\"-573.54\" font-family=\"Times,serif\" font-size=\"14.00\">attacking: attacking</text>\n",
       "</g>\n",
       "<!-- King -->\n",
       "<g id=\"node3\" class=\"node\">\n",
       "<title>King</title>\n",
       "<ellipse fill=\"none\" stroke=\"black\" cx=\"482.08\" cy=\"-465.36\" rx=\"88.74\" ry=\"51.97\"/>\n",
       "<text text-anchor=\"middle\" x=\"482.08\" y=\"-484.81\" font-family=\"Times,serif\" font-size=\"14.00\">King</text>\n",
       "<text text-anchor=\"middle\" x=\"482.08\" y=\"-452.31\" font-family=\"Times,serif\" font-size=\"14.00\">properties:</text>\n",
       "<text text-anchor=\"middle\" x=\"482.08\" y=\"-435.81\" font-family=\"Times,serif\" font-size=\"14.00\">king: king *unique*</text>\n",
       "</g>\n",
       "<!-- Family&#45;&gt;King -->\n",
       "<g id=\"edge3\" class=\"edge\">\n",
       "<title>Family&#45;&gt;King</title>\n",
       "<path fill=\"none\" stroke=\"black\" d=\"M405.82,-678.69C414.16,-670.67 421.96,-661.8 428.08,-652.34 452.25,-614.95 465.87,-566.48 473.38,-528.39\"/>\n",
       "<polygon fill=\"black\" stroke=\"black\" points=\"476.75,-529.4 475.15,-518.93 469.87,-528.11 476.75,-529.4\"/>\n",
       "<text text-anchor=\"middle\" x=\"522.7\" y=\"-606.29\" font-family=\"Times,serif\" font-size=\"14.00\">AFFILIATED_WITH</text>\n",
       "</g>\n",
       "<!-- Region -->\n",
       "<g id=\"node6\" class=\"node\">\n",
       "<title>Region</title>\n",
       "<ellipse fill=\"none\" stroke=\"black\" cx=\"428.08\" cy=\"-51.97\" rx=\"103.59\" ry=\"51.97\"/>\n",
       "<text text-anchor=\"middle\" x=\"428.08\" y=\"-71.42\" font-family=\"Times,serif\" font-size=\"14.00\">Region</text>\n",
       "<text text-anchor=\"middle\" x=\"428.08\" y=\"-38.92\" font-family=\"Times,serif\" font-size=\"14.00\">properties:</text>\n",
       "<text text-anchor=\"middle\" x=\"428.08\" y=\"-22.42\" font-family=\"Times,serif\" font-size=\"14.00\">region: region *unique*</text>\n",
       "</g>\n",
       "<!-- Location&#45;&gt;Region -->\n",
       "<g id=\"edge5\" class=\"edge\">\n",
       "<title>Location&#45;&gt;Region</title>\n",
       "<path fill=\"none\" stroke=\"black\" d=\"M428.08,-155.99C428.08,-143.16 428.08,-129.26 428.08,-115.95\"/>\n",
       "<polygon fill=\"black\" stroke=\"black\" points=\"431.58,-115.95 428.08,-105.95 424.58,-115.95 431.58,-115.95\"/>\n",
       "<text text-anchor=\"middle\" x=\"465.58\" y=\"-125.14\" font-family=\"Times,serif\" font-size=\"14.00\">REGION_OF</text>\n",
       "</g>\n",
       "</g>\n",
       "</svg>\n"
      ],
      "text/plain": [
       "<graphviz.graphs.Digraph at 0x1646c6090>"
      ]
     },
     "execution_count": 13,
     "metadata": {},
     "output_type": "execute_result"
    }
   ],
   "source": [
    "gdm.current_model.visualize()"
   ]
  },
  {
   "cell_type": "markdown",
   "metadata": {},
   "source": [
    "## Code Generation"
   ]
  },
  {
   "cell_type": "code",
   "execution_count": 14,
   "metadata": {},
   "outputs": [],
   "source": [
    "gen = PyIngestConfigGenerator(data_model=gdm.current_model, database=\"gameofthronesmulti\", username=\"neo4j\", uri=os.environ.get(\"NEO4J_URI\"), password=os.environ.get(\"NEO4J_PASSWORD\"), file_directory=data_directory)"
   ]
  },
  {
   "cell_type": "markdown",
   "metadata": {},
   "source": [
    "Generating a file isn't necessary, but it's nice to have in case we want to reload data in the future."
   ]
  },
  {
   "cell_type": "code",
   "execution_count": 15,
   "metadata": {},
   "outputs": [],
   "source": [
    "gen.generate_config_yaml(file_name=\"./outputs/config.yaml\")"
   ]
  },
  {
   "cell_type": "markdown",
   "metadata": {},
   "source": [
    "## Ingest"
   ]
  },
  {
   "cell_type": "code",
   "execution_count": 16,
   "metadata": {},
   "outputs": [],
   "source": [
    "PyIngest(config=gen.generate_config_string())"
   ]
  }
 ],
 "metadata": {
  "kernelspec": {
   "display_name": "neo4j-runway-20CPAOlQ-py3.12",
   "language": "python",
   "name": "python3"
  },
  "language_info": {
   "codemirror_mode": {
    "name": "ipython",
    "version": 3
   },
   "file_extension": ".py",
   "mimetype": "text/x-python",
   "name": "python",
   "nbconvert_exporter": "python",
   "pygments_lexer": "ipython3",
   "version": "3.12.3"
  }
 },
 "nbformat": 4,
 "nbformat_minor": 2
}
