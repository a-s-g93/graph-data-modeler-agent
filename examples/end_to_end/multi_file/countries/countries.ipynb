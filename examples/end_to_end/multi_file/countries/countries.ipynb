{
 "cells": [
  {
   "cell_type": "code",
   "execution_count": 1,
   "metadata": {},
   "outputs": [
    {
     "name": "stdout",
     "output_type": "stream",
     "text": [
      "Requirement already satisfied: nest_asyncio in /Users/alexandergilmore/Library/Caches/pypoetry/virtualenvs/neo4j-runway-20CPAOlQ-py3.12/lib/python3.12/site-packages (1.6.0)\n",
      "\n",
      "\u001b[1m[\u001b[0m\u001b[34;49mnotice\u001b[0m\u001b[1;39;49m]\u001b[0m\u001b[39;49m A new release of pip is available: \u001b[0m\u001b[31;49m24.0\u001b[0m\u001b[39;49m -> \u001b[0m\u001b[32;49m24.2\u001b[0m\n",
      "\u001b[1m[\u001b[0m\u001b[34;49mnotice\u001b[0m\u001b[1;39;49m]\u001b[0m\u001b[39;49m To update, run: \u001b[0m\u001b[32;49mpip install --upgrade pip\u001b[0m\n"
     ]
    }
   ],
   "source": [
    "!pip install nest_asyncio\n",
    "import nest_asyncio\n",
    "nest_asyncio.apply()"
   ]
  },
  {
   "cell_type": "code",
   "execution_count": 2,
   "metadata": {},
   "outputs": [
    {
     "data": {
      "text/plain": [
       "True"
      ]
     },
     "execution_count": 2,
     "metadata": {},
     "output_type": "execute_result"
    }
   ],
   "source": [
    "from neo4j_runway import Discovery\n",
    "from neo4j_runway.llm.openai import OpenAIDataModelingLLM, OpenAIDiscoveryLLM\n",
    "from neo4j_runway.utils.data import load_data_dictionary_from_yaml, load_local_files\n",
    "\n",
    "from dotenv import load_dotenv\n",
    "\n",
    "load_dotenv()"
   ]
  },
  {
   "cell_type": "markdown",
   "metadata": {},
   "source": [
    "# Load Data"
   ]
  },
  {
   "cell_type": "code",
   "execution_count": 3,
   "metadata": {},
   "outputs": [],
   "source": [
    "use_cases = [\"How many subregions are in a region and how many countries are in a subregion?\",\n",
    "    \"What is the most common currency?\",\n",
    "    \"Which subregions contain the most cities?\"]\n",
    "data_dictionary = load_data_dictionary_from_yaml(\"./data_dictionary.yaml\")\n",
    "data = load_local_files(data_directory=\"../../../data/countries/\", general_description=\"These files contain information on countries.\", use_cases=use_cases, data_dictionary=data_dictionary)"
   ]
  },
  {
   "cell_type": "markdown",
   "metadata": {},
   "source": [
    "# Discovery"
   ]
  },
  {
   "cell_type": "code",
   "execution_count": 4,
   "metadata": {},
   "outputs": [
    {
     "name": "stderr",
     "output_type": "stream",
     "text": [
      "/Users/alexandergilmore/Documents/projects/neo4j-runway/neo4j_runway/discovery/discovery.py:133: ExperimentalFeatureWarning: Multi file Discovery is an experimental feature and may not work as expected. Please use with caution and raise any issues encountered here: https://github.com/a-s-g93/neo4j-runway/issues\n",
      "  warnings.warn(\n"
     ]
    }
   ],
   "source": [
    "disc_llm = OpenAIDiscoveryLLM(model_name=\"gpt-4o-mini-2024-07-18\", enable_async=True)\n",
    "discovery = Discovery(llm=disc_llm, data=data)"
   ]
  },
  {
   "cell_type": "code",
   "execution_count": 5,
   "metadata": {},
   "outputs": [
    {
     "data": {
      "text/markdown": [
       "### Summary of Insights for Graph Data Model\n",
       "\n",
       "#### Unique Identifiers\n",
       "1. **State ID (`id`)**: Unique identifier for each state.\n",
       "2. **Country ID (`country_id`)**: Unique identifier for each country, linking states to their respective countries.\n",
       "3. **Subregion ID**: Unique identifier for each subregion, derived from the `subregion` column in the `countries.csv` file.\n",
       "4. **City ID**: Unique identifier for each city, linked to `country_id` in the `cities.csv` file.\n",
       "\n",
       "#### Significant Properties\n",
       "1. **State Name (`name`)**: Name of the state, important for geographical identification.\n",
       "2. **Country Name**: Name of the country, linked to `country_id`.\n",
       "3. **Subregion Name**: Name of the subregion, linked to the `subregion` column.\n",
       "4. **Currency**: Indicates the currency used in each country, important for economic analysis.\n",
       "5. **City Name**: Name of the city, important for urban analysis.\n",
       "\n",
       "#### Possible Node Labels\n",
       "1. **State**: Represents each state with properties like `id`, `name`, and `country_id`.\n",
       "2. **Country**: Represents each country with properties like `country_id`, `name`, `subregion`, and `currency`.\n",
       "3. **Subregion**: Represents each subregion with properties like `subregion_id` and `name`.\n",
       "4. **City**: Represents each city with properties like `city_id`, `name`, and `country_id`.\n",
       "\n",
       "#### Possible Relationships\n",
       "1. **State - Country**: Each state belongs to one country.\n",
       "2. **Country - Subregion**: Each country belongs to one subregion.\n",
       "3. **Country - Currency**: Each country has one currency.\n",
       "4. **City - Country**: Each city belongs to one country.\n",
       "5. **City - Subregion**: Each city can be linked to a subregion through its country.\n",
       "\n",
       "#### Addressing Use Cases\n",
       "1. **Subregions and Countries**:\n",
       "   - There are **22 unique subregions**. The most populous subregion is **Africa** with **60 countries**, while the **Caribbean** has **28 countries**. This can be modeled with a relationship between `Country` and `Subregion` nodes.\n",
       "\n",
       "2. **Most Common Currency**:\n",
       "   - The most common currency is the **Euro (EUR)**, used by **35 countries**. This can be represented as a property of the `Country` node, linking it to the `Currency` node.\n",
       "\n",
       "3. **Subregions with Most Cities**:\n",
       "   - The analysis of cities can be performed by aggregating city counts linked to their respective `Country` and `Subregion`. This will help identify which subregions have the highest urban density, represented through relationships between `City`, `Country`, and `Subregion` nodes.\n",
       "\n",
       "### Conclusion\n",
       "The proposed graph data model will effectively represent the relationships between states, countries, subregions, and cities, while addressing the specified use cases. The unique identifiers and properties will ensure that each node is distinct and relationships are clearly defined."
      ],
      "text/plain": [
       "<IPython.core.display.Markdown object>"
      ]
     },
     "metadata": {},
     "output_type": "display_data"
    }
   ],
   "source": [
    "discovery.run_async(num_calls=3)"
   ]
  },
  {
   "cell_type": "code",
   "execution_count": 6,
   "metadata": {},
   "outputs": [],
   "source": [
    "# with open(\"./outputs/final_discovery.md\") as f:\n",
    "#     discovery = f.read()"
   ]
  },
  {
   "cell_type": "code",
   "execution_count": 7,
   "metadata": {},
   "outputs": [],
   "source": [
    "# print(discovery)"
   ]
  },
  {
   "cell_type": "markdown",
   "metadata": {},
   "source": [
    "## Save Insights"
   ]
  },
  {
   "cell_type": "code",
   "execution_count": 8,
   "metadata": {},
   "outputs": [],
   "source": [
    "# discovery.to_markdown(file_dir=\"./outputs/\")"
   ]
  },
  {
   "cell_type": "markdown",
   "metadata": {},
   "source": [
    "# Data Modeling"
   ]
  },
  {
   "cell_type": "code",
   "execution_count": 9,
   "metadata": {},
   "outputs": [],
   "source": [
    "from neo4j_runway import GraphDataModeler"
   ]
  },
  {
   "cell_type": "code",
   "execution_count": 10,
   "metadata": {},
   "outputs": [
    {
     "name": "stderr",
     "output_type": "stream",
     "text": [
      "/Users/alexandergilmore/Documents/projects/neo4j-runway/neo4j_runway/modeler/modeler.py:115: ExperimentalFeatureWarning: Multi file Data Modeling is an experimental feature and may not work as expected. Please use with caution and raise any issues encountered here: https://github.com/a-s-g93/neo4j-runway/issues\n",
      "  warnings.warn(\n"
     ]
    }
   ],
   "source": [
    "modeling_llm = OpenAIDataModelingLLM(model_name=\"o1-preview\", model_params={\"temperature\": 0.5})\n",
    "gdm = GraphDataModeler(llm=modeling_llm, discovery=discovery, data_dictionary=data_dictionary)"
   ]
  },
  {
   "cell_type": "code",
   "execution_count": 11,
   "metadata": {},
   "outputs": [
    {
     "ename": "BadRequestError",
     "evalue": "Error code: 400 - {'error': {'message': \"Unsupported parameter: 'tools' is not supported with this model.\", 'type': 'invalid_request_error', 'param': 'tools', 'code': 'unsupported_parameter'}}",
     "output_type": "error",
     "traceback": [
      "\u001b[0;31m---------------------------------------------------------------------------\u001b[0m",
      "\u001b[0;31mBadRequestError\u001b[0m                           Traceback (most recent call last)",
      "Cell \u001b[0;32mIn[11], line 1\u001b[0m\n\u001b[0;32m----> 1\u001b[0m \u001b[43mgdm\u001b[49m\u001b[38;5;241;43m.\u001b[39;49m\u001b[43mcreate_initial_model\u001b[49m\u001b[43m(\u001b[49m\u001b[43muse_advanced_data_model_generation_rules\u001b[49m\u001b[38;5;241;43m=\u001b[39;49m\u001b[38;5;28;43;01mFalse\u001b[39;49;00m\u001b[43m,\u001b[49m\u001b[43m \u001b[49m\u001b[43muse_yaml_data_model\u001b[49m\u001b[38;5;241;43m=\u001b[39;49m\u001b[38;5;28;43;01mTrue\u001b[39;49;00m\u001b[43m)\u001b[49m\n",
      "File \u001b[0;32m~/Documents/projects/neo4j-runway/neo4j_runway/modeler/modeler.py:302\u001b[0m, in \u001b[0;36mGraphDataModeler.create_initial_model\u001b[0;34m(self, max_retries, use_yaml_data_model, use_advanced_data_model_generation_rules, allow_duplicate_properties, enforce_uniqueness)\u001b[0m\n\u001b[1;32m    269\u001b[0m \u001b[38;5;28;01mdef\u001b[39;00m \u001b[38;5;21mcreate_initial_model\u001b[39m(\n\u001b[1;32m    270\u001b[0m     \u001b[38;5;28mself\u001b[39m,\n\u001b[1;32m    271\u001b[0m     max_retries: \u001b[38;5;28mint\u001b[39m \u001b[38;5;241m=\u001b[39m \u001b[38;5;241m3\u001b[39m,\n\u001b[0;32m   (...)\u001b[0m\n\u001b[1;32m    275\u001b[0m     enforce_uniqueness: \u001b[38;5;28mbool\u001b[39m \u001b[38;5;241m=\u001b[39m \u001b[38;5;28;01mTrue\u001b[39;00m,\n\u001b[1;32m    276\u001b[0m ) \u001b[38;5;241m-\u001b[39m\u001b[38;5;241m>\u001b[39m Union[DataModel, Dict[\u001b[38;5;28mstr\u001b[39m, Any]]:\n\u001b[1;32m    277\u001b[0m \u001b[38;5;250m    \u001b[39m\u001b[38;5;124;03m\"\"\"\u001b[39;00m\n\u001b[1;32m    278\u001b[0m \u001b[38;5;124;03m    Generate the initial model.\u001b[39;00m\n\u001b[1;32m    279\u001b[0m \u001b[38;5;124;03m    You may access this model with the `get_model` method and providing `version=1`.\u001b[39;00m\n\u001b[0;32m   (...)\u001b[0m\n\u001b[1;32m    299\u001b[0m \u001b[38;5;124;03m        A dictionary containing information about the failed generation attempt.\u001b[39;00m\n\u001b[1;32m    300\u001b[0m \u001b[38;5;124;03m    \"\"\"\u001b[39;00m\n\u001b[0;32m--> 302\u001b[0m     response \u001b[38;5;241m=\u001b[39m \u001b[38;5;28;43mself\u001b[39;49m\u001b[38;5;241;43m.\u001b[39;49m\u001b[43mllm\u001b[49m\u001b[38;5;241;43m.\u001b[39;49m\u001b[43m_get_initial_data_model_response\u001b[49m\u001b[43m(\u001b[49m\n\u001b[1;32m    303\u001b[0m \u001b[43m        \u001b[49m\u001b[43mdiscovery_text\u001b[49m\u001b[38;5;241;43m=\u001b[39;49m\u001b[38;5;28;43mself\u001b[39;49m\u001b[38;5;241;43m.\u001b[39;49m\u001b[43mdiscovery\u001b[49m\u001b[43m,\u001b[49m\n\u001b[1;32m    304\u001b[0m \u001b[43m        \u001b[49m\u001b[43mvalid_columns\u001b[49m\u001b[38;5;241;43m=\u001b[39;49m\u001b[38;5;28;43mself\u001b[39;49m\u001b[38;5;241;43m.\u001b[39;49m\u001b[43mallowed_columns\u001b[49m\u001b[43m,\u001b[49m\n\u001b[1;32m    305\u001b[0m \u001b[43m        \u001b[49m\u001b[43mdata_dictionary\u001b[49m\u001b[38;5;241;43m=\u001b[39;49m\u001b[38;5;28;43mself\u001b[39;49m\u001b[38;5;241;43m.\u001b[39;49m\u001b[43m_data_dictionary\u001b[49m\u001b[43m,\u001b[49m\n\u001b[1;32m    306\u001b[0m \u001b[43m        \u001b[49m\u001b[43muse_cases\u001b[49m\u001b[38;5;241;43m=\u001b[39;49m\u001b[38;5;28;43mself\u001b[39;49m\u001b[38;5;241;43m.\u001b[39;49m\u001b[43muser_input\u001b[49m\u001b[38;5;241;43m.\u001b[39;49m\u001b[43mpretty_use_cases\u001b[49m\u001b[43m,\u001b[49m\n\u001b[1;32m    307\u001b[0m \u001b[43m        \u001b[49m\u001b[43mmultifile\u001b[49m\u001b[38;5;241;43m=\u001b[39;49m\u001b[38;5;28;43mself\u001b[39;49m\u001b[38;5;241;43m.\u001b[39;49m\u001b[43mis_multifile\u001b[49m\u001b[43m,\u001b[49m\n\u001b[1;32m    308\u001b[0m \u001b[43m        \u001b[49m\u001b[43muse_advanced_data_model_generation_rules\u001b[49m\u001b[38;5;241;43m=\u001b[39;49m\u001b[43muse_advanced_data_model_generation_rules\u001b[49m\u001b[43m,\u001b[49m\n\u001b[1;32m    309\u001b[0m \u001b[43m        \u001b[49m\u001b[43mmax_retries\u001b[49m\u001b[38;5;241;43m=\u001b[39;49m\u001b[43mmax_retries\u001b[49m\u001b[43m,\u001b[49m\n\u001b[1;32m    310\u001b[0m \u001b[43m        \u001b[49m\u001b[43muse_yaml_data_model\u001b[49m\u001b[38;5;241;43m=\u001b[39;49m\u001b[43muse_yaml_data_model\u001b[49m\u001b[43m,\u001b[49m\n\u001b[1;32m    311\u001b[0m \u001b[43m        \u001b[49m\u001b[43mallow_duplicate_properties\u001b[49m\u001b[38;5;241;43m=\u001b[39;49m\u001b[43mallow_duplicate_properties\u001b[49m\u001b[43m,\u001b[49m\n\u001b[1;32m    312\u001b[0m \u001b[43m        \u001b[49m\u001b[43menforce_uniqueness\u001b[49m\u001b[38;5;241;43m=\u001b[39;49m\u001b[43menforce_uniqueness\u001b[49m\u001b[43m,\u001b[49m\n\u001b[1;32m    313\u001b[0m \u001b[43m    \u001b[49m\u001b[43m)\u001b[49m\n\u001b[1;32m    315\u001b[0m     \u001b[38;5;28;01mif\u001b[39;00m \u001b[38;5;28misinstance\u001b[39m(response, \u001b[38;5;28mdict\u001b[39m):\n\u001b[1;32m    316\u001b[0m         \u001b[38;5;28;01mreturn\u001b[39;00m response\n",
      "File \u001b[0;32m~/Documents/projects/neo4j-runway/neo4j_runway/llm/base.py:174\u001b[0m, in \u001b[0;36mBaseDataModelingLLM._get_initial_data_model_response\u001b[0;34m(self, discovery_text, valid_columns, use_cases, multifile, use_advanced_data_model_generation_rules, data_dictionary, max_retries, use_yaml_data_model, allow_duplicate_properties, enforce_uniqueness)\u001b[0m\n\u001b[1;32m    160\u001b[0m context \u001b[38;5;241m=\u001b[39m create_context(\n\u001b[1;32m    161\u001b[0m     data_dictionary\u001b[38;5;241m=\u001b[39mdata_dictionary,\n\u001b[1;32m    162\u001b[0m     valid_columns\u001b[38;5;241m=\u001b[39mvalid_columns,\n\u001b[1;32m    163\u001b[0m     allow_duplicate_column_mappings\u001b[38;5;241m=\u001b[39mallow_duplicate_properties,\n\u001b[1;32m    164\u001b[0m     enforce_uniqueness\u001b[38;5;241m=\u001b[39menforce_uniqueness,\n\u001b[1;32m    165\u001b[0m )\n\u001b[1;32m    166\u001b[0m formatted_prompt \u001b[38;5;241m=\u001b[39m create_initial_nodes_prompt(\n\u001b[1;32m    167\u001b[0m     discovery_text\u001b[38;5;241m=\u001b[39mdiscovery_text,\n\u001b[1;32m    168\u001b[0m     multifile\u001b[38;5;241m=\u001b[39mmultifile,\n\u001b[0;32m   (...)\u001b[0m\n\u001b[1;32m    171\u001b[0m     valid_columns\u001b[38;5;241m=\u001b[39mvalid_columns,\n\u001b[1;32m    172\u001b[0m )\n\u001b[0;32m--> 174\u001b[0m nodes: Nodes \u001b[38;5;241m=\u001b[39m \u001b[38;5;28;43mself\u001b[39;49m\u001b[38;5;241;43m.\u001b[39;49m\u001b[43mclient\u001b[49m\u001b[38;5;241;43m.\u001b[39;49m\u001b[43mchat\u001b[49m\u001b[38;5;241;43m.\u001b[39;49m\u001b[43mcompletions\u001b[49m\u001b[38;5;241;43m.\u001b[39;49m\u001b[43mcreate\u001b[49m\u001b[43m(\u001b[49m\n\u001b[1;32m    175\u001b[0m \u001b[43m    \u001b[49m\u001b[43mmodel\u001b[49m\u001b[38;5;241;43m=\u001b[39;49m\u001b[38;5;28;43mself\u001b[39;49m\u001b[38;5;241;43m.\u001b[39;49m\u001b[43mmodel_name\u001b[49m\u001b[43m,\u001b[49m\n\u001b[1;32m    176\u001b[0m \u001b[43m    \u001b[49m\u001b[43mresponse_model\u001b[49m\u001b[38;5;241;43m=\u001b[39;49m\u001b[43mNodes\u001b[49m\u001b[43m,\u001b[49m\n\u001b[1;32m    177\u001b[0m \u001b[43m    \u001b[49m\u001b[43mmessages\u001b[49m\u001b[38;5;241;43m=\u001b[39;49m\u001b[43m[\u001b[49m\n\u001b[1;32m    178\u001b[0m \u001b[43m        \u001b[49m\u001b[38;5;66;43;03m# {\u001b[39;49;00m\n\u001b[1;32m    179\u001b[0m \u001b[43m        \u001b[49m\u001b[38;5;66;43;03m#     \"role\": \"system\",\u001b[39;49;00m\n\u001b[1;32m    180\u001b[0m \u001b[43m        \u001b[49m\u001b[38;5;66;43;03m#     \"content\": SYSTEM_PROMPTS[\"initial_nodes\"],\u001b[39;49;00m\n\u001b[1;32m    181\u001b[0m \u001b[43m        \u001b[49m\u001b[38;5;66;43;03m# },\u001b[39;49;00m\n\u001b[1;32m    182\u001b[0m \u001b[43m        \u001b[49m\u001b[43m{\u001b[49m\u001b[38;5;124;43m\"\u001b[39;49m\u001b[38;5;124;43mrole\u001b[39;49m\u001b[38;5;124;43m\"\u001b[39;49m\u001b[43m:\u001b[49m\u001b[43m \u001b[49m\u001b[38;5;124;43m\"\u001b[39;49m\u001b[38;5;124;43muser\u001b[39;49m\u001b[38;5;124;43m\"\u001b[39;49m\u001b[43m,\u001b[49m\u001b[43m \u001b[49m\u001b[38;5;124;43m\"\u001b[39;49m\u001b[38;5;124;43mcontent\u001b[39;49m\u001b[38;5;124;43m\"\u001b[39;49m\u001b[43m:\u001b[49m\u001b[43m \u001b[49m\u001b[43mformatted_prompt\u001b[49m\u001b[43m}\u001b[49m\u001b[43m,\u001b[49m\n\u001b[1;32m    183\u001b[0m \u001b[43m    \u001b[49m\u001b[43m]\u001b[49m\u001b[43m,\u001b[49m\n\u001b[1;32m    184\u001b[0m \u001b[43m    \u001b[49m\u001b[43mvalidation_context\u001b[49m\u001b[38;5;241;43m=\u001b[39;49m\u001b[43mcontext\u001b[49m\u001b[43m,\u001b[49m\n\u001b[1;32m    185\u001b[0m \u001b[43m    \u001b[49m\u001b[43mmax_retries\u001b[49m\u001b[38;5;241;43m=\u001b[39;49m\u001b[43mmax_retries\u001b[49m\u001b[43m,\u001b[49m\n\u001b[1;32m    186\u001b[0m \u001b[43m    \u001b[49m\u001b[38;5;241;43m*\u001b[39;49m\u001b[38;5;241;43m*\u001b[39;49m\u001b[38;5;28;43mself\u001b[39;49m\u001b[38;5;241;43m.\u001b[39;49m\u001b[43mmodel_params\u001b[49m\u001b[43m,\u001b[49m\n\u001b[1;32m    187\u001b[0m \u001b[43m\u001b[49m\u001b[43m)\u001b[49m\n\u001b[1;32m    189\u001b[0m \u001b[38;5;28mprint\u001b[39m(\u001b[38;5;124m\"\u001b[39m\u001b[38;5;124mReceived Valid Initial Nodes.\u001b[39m\u001b[38;5;124m\"\u001b[39m)\n\u001b[1;32m    190\u001b[0m \u001b[38;5;28mprint\u001b[39m(nodes)\n",
      "File \u001b[0;32m~/Library/Caches/pypoetry/virtualenvs/neo4j-runway-20CPAOlQ-py3.12/lib/python3.12/site-packages/instructor/client.py:93\u001b[0m, in \u001b[0;36mInstructor.create\u001b[0;34m(self, response_model, messages, max_retries, validation_context, strict, **kwargs)\u001b[0m\n\u001b[1;32m     82\u001b[0m \u001b[38;5;28;01mdef\u001b[39;00m \u001b[38;5;21mcreate\u001b[39m(\n\u001b[1;32m     83\u001b[0m     \u001b[38;5;28mself\u001b[39m,\n\u001b[1;32m     84\u001b[0m     response_model: \u001b[38;5;28mtype\u001b[39m[T],\n\u001b[0;32m   (...)\u001b[0m\n\u001b[1;32m     89\u001b[0m     \u001b[38;5;241m*\u001b[39m\u001b[38;5;241m*\u001b[39mkwargs: Any,\n\u001b[1;32m     90\u001b[0m ) \u001b[38;5;241m-\u001b[39m\u001b[38;5;241m>\u001b[39m T \u001b[38;5;241m|\u001b[39m Awaitable[T]:\n\u001b[1;32m     91\u001b[0m     kwargs \u001b[38;5;241m=\u001b[39m \u001b[38;5;28mself\u001b[39m\u001b[38;5;241m.\u001b[39mhandle_kwargs(kwargs)\n\u001b[0;32m---> 93\u001b[0m     \u001b[38;5;28;01mreturn\u001b[39;00m \u001b[38;5;28;43mself\u001b[39;49m\u001b[38;5;241;43m.\u001b[39;49m\u001b[43mcreate_fn\u001b[49m\u001b[43m(\u001b[49m\n\u001b[1;32m     94\u001b[0m \u001b[43m        \u001b[49m\u001b[43mresponse_model\u001b[49m\u001b[38;5;241;43m=\u001b[39;49m\u001b[43mresponse_model\u001b[49m\u001b[43m,\u001b[49m\n\u001b[1;32m     95\u001b[0m \u001b[43m        \u001b[49m\u001b[43mmessages\u001b[49m\u001b[38;5;241;43m=\u001b[39;49m\u001b[43mmessages\u001b[49m\u001b[43m,\u001b[49m\n\u001b[1;32m     96\u001b[0m \u001b[43m        \u001b[49m\u001b[43mmax_retries\u001b[49m\u001b[38;5;241;43m=\u001b[39;49m\u001b[43mmax_retries\u001b[49m\u001b[43m,\u001b[49m\n\u001b[1;32m     97\u001b[0m \u001b[43m        \u001b[49m\u001b[43mvalidation_context\u001b[49m\u001b[38;5;241;43m=\u001b[39;49m\u001b[43mvalidation_context\u001b[49m\u001b[43m,\u001b[49m\n\u001b[1;32m     98\u001b[0m \u001b[43m        \u001b[49m\u001b[43mstrict\u001b[49m\u001b[38;5;241;43m=\u001b[39;49m\u001b[43mstrict\u001b[49m\u001b[43m,\u001b[49m\n\u001b[1;32m     99\u001b[0m \u001b[43m        \u001b[49m\u001b[38;5;241;43m*\u001b[39;49m\u001b[38;5;241;43m*\u001b[39;49m\u001b[43mkwargs\u001b[49m\u001b[43m,\u001b[49m\n\u001b[1;32m    100\u001b[0m \u001b[43m    \u001b[49m\u001b[43m)\u001b[49m\n",
      "File \u001b[0;32m~/Library/Caches/pypoetry/virtualenvs/neo4j-runway-20CPAOlQ-py3.12/lib/python3.12/site-packages/instructor/patch.py:143\u001b[0m, in \u001b[0;36mpatch.<locals>.new_create_sync\u001b[0;34m(response_model, validation_context, max_retries, strict, *args, **kwargs)\u001b[0m\n\u001b[1;32m    131\u001b[0m \u001b[38;5;129m@wraps\u001b[39m(func)\n\u001b[1;32m    132\u001b[0m \u001b[38;5;28;01mdef\u001b[39;00m \u001b[38;5;21mnew_create_sync\u001b[39m(\n\u001b[1;32m    133\u001b[0m     response_model: \u001b[38;5;28mtype\u001b[39m[T_Model] \u001b[38;5;241m=\u001b[39m \u001b[38;5;28;01mNone\u001b[39;00m,\n\u001b[0;32m   (...)\u001b[0m\n\u001b[1;32m    138\u001b[0m     \u001b[38;5;241m*\u001b[39m\u001b[38;5;241m*\u001b[39mkwargs: T_ParamSpec\u001b[38;5;241m.\u001b[39mkwargs,\n\u001b[1;32m    139\u001b[0m ) \u001b[38;5;241m-\u001b[39m\u001b[38;5;241m>\u001b[39m T_Model:\n\u001b[1;32m    140\u001b[0m     response_model, new_kwargs \u001b[38;5;241m=\u001b[39m handle_response_model(\n\u001b[1;32m    141\u001b[0m         response_model\u001b[38;5;241m=\u001b[39mresponse_model, mode\u001b[38;5;241m=\u001b[39mmode, \u001b[38;5;241m*\u001b[39m\u001b[38;5;241m*\u001b[39mkwargs\n\u001b[1;32m    142\u001b[0m     )\n\u001b[0;32m--> 143\u001b[0m     response \u001b[38;5;241m=\u001b[39m \u001b[43mretry_sync\u001b[49m\u001b[43m(\u001b[49m\n\u001b[1;32m    144\u001b[0m \u001b[43m        \u001b[49m\u001b[43mfunc\u001b[49m\u001b[38;5;241;43m=\u001b[39;49m\u001b[43mfunc\u001b[49m\u001b[43m,\u001b[49m\n\u001b[1;32m    145\u001b[0m \u001b[43m        \u001b[49m\u001b[43mresponse_model\u001b[49m\u001b[38;5;241;43m=\u001b[39;49m\u001b[43mresponse_model\u001b[49m\u001b[43m,\u001b[49m\n\u001b[1;32m    146\u001b[0m \u001b[43m        \u001b[49m\u001b[43mvalidation_context\u001b[49m\u001b[38;5;241;43m=\u001b[39;49m\u001b[43mvalidation_context\u001b[49m\u001b[43m,\u001b[49m\n\u001b[1;32m    147\u001b[0m \u001b[43m        \u001b[49m\u001b[43mmax_retries\u001b[49m\u001b[38;5;241;43m=\u001b[39;49m\u001b[43mmax_retries\u001b[49m\u001b[43m,\u001b[49m\n\u001b[1;32m    148\u001b[0m \u001b[43m        \u001b[49m\u001b[43margs\u001b[49m\u001b[38;5;241;43m=\u001b[39;49m\u001b[43margs\u001b[49m\u001b[43m,\u001b[49m\n\u001b[1;32m    149\u001b[0m \u001b[43m        \u001b[49m\u001b[43mstrict\u001b[49m\u001b[38;5;241;43m=\u001b[39;49m\u001b[43mstrict\u001b[49m\u001b[43m,\u001b[49m\n\u001b[1;32m    150\u001b[0m \u001b[43m        \u001b[49m\u001b[43mkwargs\u001b[49m\u001b[38;5;241;43m=\u001b[39;49m\u001b[43mnew_kwargs\u001b[49m\u001b[43m,\u001b[49m\n\u001b[1;32m    151\u001b[0m \u001b[43m        \u001b[49m\u001b[43mmode\u001b[49m\u001b[38;5;241;43m=\u001b[39;49m\u001b[43mmode\u001b[49m\u001b[43m,\u001b[49m\n\u001b[1;32m    152\u001b[0m \u001b[43m    \u001b[49m\u001b[43m)\u001b[49m\n\u001b[1;32m    153\u001b[0m     \u001b[38;5;28;01mreturn\u001b[39;00m response\n",
      "File \u001b[0;32m~/Library/Caches/pypoetry/virtualenvs/neo4j-runway-20CPAOlQ-py3.12/lib/python3.12/site-packages/instructor/retry.py:162\u001b[0m, in \u001b[0;36mretry_sync\u001b[0;34m(func, response_model, validation_context, args, kwargs, max_retries, strict, mode)\u001b[0m\n\u001b[1;32m    160\u001b[0m \u001b[38;5;28;01mtry\u001b[39;00m:\n\u001b[1;32m    161\u001b[0m     response \u001b[38;5;241m=\u001b[39m \u001b[38;5;28;01mNone\u001b[39;00m\n\u001b[0;32m--> 162\u001b[0m \u001b[43m    \u001b[49m\u001b[38;5;28;43;01mfor\u001b[39;49;00m\u001b[43m \u001b[49m\u001b[43mattempt\u001b[49m\u001b[43m \u001b[49m\u001b[38;5;129;43;01min\u001b[39;49;00m\u001b[43m \u001b[49m\u001b[43mmax_retries\u001b[49m\u001b[43m:\u001b[49m\n\u001b[1;32m    163\u001b[0m \u001b[43m        \u001b[49m\u001b[38;5;28;43;01mwith\u001b[39;49;00m\u001b[43m \u001b[49m\u001b[43mattempt\u001b[49m\u001b[43m:\u001b[49m\n\u001b[1;32m    164\u001b[0m \u001b[43m            \u001b[49m\u001b[38;5;28;43;01mtry\u001b[39;49;00m\u001b[43m:\u001b[49m\n",
      "File \u001b[0;32m~/Library/Caches/pypoetry/virtualenvs/neo4j-runway-20CPAOlQ-py3.12/lib/python3.12/site-packages/tenacity/__init__.py:443\u001b[0m, in \u001b[0;36mBaseRetrying.__iter__\u001b[0;34m(self)\u001b[0m\n\u001b[1;32m    441\u001b[0m retry_state \u001b[38;5;241m=\u001b[39m RetryCallState(\u001b[38;5;28mself\u001b[39m, fn\u001b[38;5;241m=\u001b[39m\u001b[38;5;28;01mNone\u001b[39;00m, args\u001b[38;5;241m=\u001b[39m(), kwargs\u001b[38;5;241m=\u001b[39m{})\n\u001b[1;32m    442\u001b[0m \u001b[38;5;28;01mwhile\u001b[39;00m \u001b[38;5;28;01mTrue\u001b[39;00m:\n\u001b[0;32m--> 443\u001b[0m     do \u001b[38;5;241m=\u001b[39m \u001b[38;5;28;43mself\u001b[39;49m\u001b[38;5;241;43m.\u001b[39;49m\u001b[43miter\u001b[49m\u001b[43m(\u001b[49m\u001b[43mretry_state\u001b[49m\u001b[38;5;241;43m=\u001b[39;49m\u001b[43mretry_state\u001b[49m\u001b[43m)\u001b[49m\n\u001b[1;32m    444\u001b[0m     \u001b[38;5;28;01mif\u001b[39;00m \u001b[38;5;28misinstance\u001b[39m(do, DoAttempt):\n\u001b[1;32m    445\u001b[0m         \u001b[38;5;28;01myield\u001b[39;00m AttemptManager(retry_state\u001b[38;5;241m=\u001b[39mretry_state)\n",
      "File \u001b[0;32m~/Library/Caches/pypoetry/virtualenvs/neo4j-runway-20CPAOlQ-py3.12/lib/python3.12/site-packages/tenacity/__init__.py:376\u001b[0m, in \u001b[0;36mBaseRetrying.iter\u001b[0;34m(self, retry_state)\u001b[0m\n\u001b[1;32m    374\u001b[0m result \u001b[38;5;241m=\u001b[39m \u001b[38;5;28;01mNone\u001b[39;00m\n\u001b[1;32m    375\u001b[0m \u001b[38;5;28;01mfor\u001b[39;00m action \u001b[38;5;129;01min\u001b[39;00m \u001b[38;5;28mself\u001b[39m\u001b[38;5;241m.\u001b[39miter_state\u001b[38;5;241m.\u001b[39mactions:\n\u001b[0;32m--> 376\u001b[0m     result \u001b[38;5;241m=\u001b[39m \u001b[43maction\u001b[49m\u001b[43m(\u001b[49m\u001b[43mretry_state\u001b[49m\u001b[43m)\u001b[49m\n\u001b[1;32m    377\u001b[0m \u001b[38;5;28;01mreturn\u001b[39;00m result\n",
      "File \u001b[0;32m~/Library/Caches/pypoetry/virtualenvs/neo4j-runway-20CPAOlQ-py3.12/lib/python3.12/site-packages/tenacity/__init__.py:418\u001b[0m, in \u001b[0;36mBaseRetrying._post_stop_check_actions.<locals>.exc_check\u001b[0;34m(rs)\u001b[0m\n\u001b[1;32m    416\u001b[0m retry_exc \u001b[38;5;241m=\u001b[39m \u001b[38;5;28mself\u001b[39m\u001b[38;5;241m.\u001b[39mretry_error_cls(fut)\n\u001b[1;32m    417\u001b[0m \u001b[38;5;28;01mif\u001b[39;00m \u001b[38;5;28mself\u001b[39m\u001b[38;5;241m.\u001b[39mreraise:\n\u001b[0;32m--> 418\u001b[0m     \u001b[38;5;28;01mraise\u001b[39;00m \u001b[43mretry_exc\u001b[49m\u001b[38;5;241;43m.\u001b[39;49m\u001b[43mreraise\u001b[49m\u001b[43m(\u001b[49m\u001b[43m)\u001b[49m\n\u001b[1;32m    419\u001b[0m \u001b[38;5;28;01mraise\u001b[39;00m retry_exc \u001b[38;5;28;01mfrom\u001b[39;00m \u001b[38;5;21;01mfut\u001b[39;00m\u001b[38;5;21;01m.\u001b[39;00m\u001b[38;5;21;01mexception\u001b[39;00m()\n",
      "File \u001b[0;32m~/Library/Caches/pypoetry/virtualenvs/neo4j-runway-20CPAOlQ-py3.12/lib/python3.12/site-packages/tenacity/__init__.py:185\u001b[0m, in \u001b[0;36mRetryError.reraise\u001b[0;34m(self)\u001b[0m\n\u001b[1;32m    183\u001b[0m \u001b[38;5;28;01mdef\u001b[39;00m \u001b[38;5;21mreraise\u001b[39m(\u001b[38;5;28mself\u001b[39m) \u001b[38;5;241m-\u001b[39m\u001b[38;5;241m>\u001b[39m t\u001b[38;5;241m.\u001b[39mNoReturn:\n\u001b[1;32m    184\u001b[0m     \u001b[38;5;28;01mif\u001b[39;00m \u001b[38;5;28mself\u001b[39m\u001b[38;5;241m.\u001b[39mlast_attempt\u001b[38;5;241m.\u001b[39mfailed:\n\u001b[0;32m--> 185\u001b[0m         \u001b[38;5;28;01mraise\u001b[39;00m \u001b[38;5;28;43mself\u001b[39;49m\u001b[38;5;241;43m.\u001b[39;49m\u001b[43mlast_attempt\u001b[49m\u001b[38;5;241;43m.\u001b[39;49m\u001b[43mresult\u001b[49m\u001b[43m(\u001b[49m\u001b[43m)\u001b[49m\n\u001b[1;32m    186\u001b[0m     \u001b[38;5;28;01mraise\u001b[39;00m \u001b[38;5;28mself\u001b[39m\n",
      "File \u001b[0;32m/opt/homebrew/Cellar/python@3.12/3.12.3/Frameworks/Python.framework/Versions/3.12/lib/python3.12/concurrent/futures/_base.py:449\u001b[0m, in \u001b[0;36mFuture.result\u001b[0;34m(self, timeout)\u001b[0m\n\u001b[1;32m    447\u001b[0m     \u001b[38;5;28;01mraise\u001b[39;00m CancelledError()\n\u001b[1;32m    448\u001b[0m \u001b[38;5;28;01melif\u001b[39;00m \u001b[38;5;28mself\u001b[39m\u001b[38;5;241m.\u001b[39m_state \u001b[38;5;241m==\u001b[39m FINISHED:\n\u001b[0;32m--> 449\u001b[0m     \u001b[38;5;28;01mreturn\u001b[39;00m \u001b[38;5;28;43mself\u001b[39;49m\u001b[38;5;241;43m.\u001b[39;49m\u001b[43m__get_result\u001b[49m\u001b[43m(\u001b[49m\u001b[43m)\u001b[49m\n\u001b[1;32m    451\u001b[0m \u001b[38;5;28mself\u001b[39m\u001b[38;5;241m.\u001b[39m_condition\u001b[38;5;241m.\u001b[39mwait(timeout)\n\u001b[1;32m    453\u001b[0m \u001b[38;5;28;01mif\u001b[39;00m \u001b[38;5;28mself\u001b[39m\u001b[38;5;241m.\u001b[39m_state \u001b[38;5;129;01min\u001b[39;00m [CANCELLED, CANCELLED_AND_NOTIFIED]:\n",
      "File \u001b[0;32m/opt/homebrew/Cellar/python@3.12/3.12.3/Frameworks/Python.framework/Versions/3.12/lib/python3.12/concurrent/futures/_base.py:401\u001b[0m, in \u001b[0;36mFuture.__get_result\u001b[0;34m(self)\u001b[0m\n\u001b[1;32m    399\u001b[0m \u001b[38;5;28;01mif\u001b[39;00m \u001b[38;5;28mself\u001b[39m\u001b[38;5;241m.\u001b[39m_exception:\n\u001b[1;32m    400\u001b[0m     \u001b[38;5;28;01mtry\u001b[39;00m:\n\u001b[0;32m--> 401\u001b[0m         \u001b[38;5;28;01mraise\u001b[39;00m \u001b[38;5;28mself\u001b[39m\u001b[38;5;241m.\u001b[39m_exception\n\u001b[1;32m    402\u001b[0m     \u001b[38;5;28;01mfinally\u001b[39;00m:\n\u001b[1;32m    403\u001b[0m         \u001b[38;5;66;03m# Break a reference cycle with the exception in self._exception\u001b[39;00m\n\u001b[1;32m    404\u001b[0m         \u001b[38;5;28mself\u001b[39m \u001b[38;5;241m=\u001b[39m \u001b[38;5;28;01mNone\u001b[39;00m\n",
      "File \u001b[0;32m~/Library/Caches/pypoetry/virtualenvs/neo4j-runway-20CPAOlQ-py3.12/lib/python3.12/site-packages/instructor/retry.py:165\u001b[0m, in \u001b[0;36mretry_sync\u001b[0;34m(func, response_model, validation_context, args, kwargs, max_retries, strict, mode)\u001b[0m\n\u001b[1;32m    163\u001b[0m \u001b[38;5;28;01mwith\u001b[39;00m attempt:\n\u001b[1;32m    164\u001b[0m     \u001b[38;5;28;01mtry\u001b[39;00m:\n\u001b[0;32m--> 165\u001b[0m         response \u001b[38;5;241m=\u001b[39m \u001b[43mfunc\u001b[49m\u001b[43m(\u001b[49m\u001b[38;5;241;43m*\u001b[39;49m\u001b[43margs\u001b[49m\u001b[43m,\u001b[49m\u001b[43m \u001b[49m\u001b[38;5;241;43m*\u001b[39;49m\u001b[38;5;241;43m*\u001b[39;49m\u001b[43mkwargs\u001b[49m\u001b[43m)\u001b[49m\n\u001b[1;32m    166\u001b[0m         stream \u001b[38;5;241m=\u001b[39m kwargs\u001b[38;5;241m.\u001b[39mget(\u001b[38;5;124m\"\u001b[39m\u001b[38;5;124mstream\u001b[39m\u001b[38;5;124m\"\u001b[39m, \u001b[38;5;28;01mFalse\u001b[39;00m)\n\u001b[1;32m    167\u001b[0m         response \u001b[38;5;241m=\u001b[39m update_total_usage(response, total_usage)\n",
      "File \u001b[0;32m~/Library/Caches/pypoetry/virtualenvs/neo4j-runway-20CPAOlQ-py3.12/lib/python3.12/site-packages/openai/_utils/_utils.py:277\u001b[0m, in \u001b[0;36mrequired_args.<locals>.inner.<locals>.wrapper\u001b[0;34m(*args, **kwargs)\u001b[0m\n\u001b[1;32m    275\u001b[0m             msg \u001b[38;5;241m=\u001b[39m \u001b[38;5;124mf\u001b[39m\u001b[38;5;124m\"\u001b[39m\u001b[38;5;124mMissing required argument: \u001b[39m\u001b[38;5;132;01m{\u001b[39;00mquote(missing[\u001b[38;5;241m0\u001b[39m])\u001b[38;5;132;01m}\u001b[39;00m\u001b[38;5;124m\"\u001b[39m\n\u001b[1;32m    276\u001b[0m     \u001b[38;5;28;01mraise\u001b[39;00m \u001b[38;5;167;01mTypeError\u001b[39;00m(msg)\n\u001b[0;32m--> 277\u001b[0m \u001b[38;5;28;01mreturn\u001b[39;00m \u001b[43mfunc\u001b[49m\u001b[43m(\u001b[49m\u001b[38;5;241;43m*\u001b[39;49m\u001b[43margs\u001b[49m\u001b[43m,\u001b[49m\u001b[43m \u001b[49m\u001b[38;5;241;43m*\u001b[39;49m\u001b[38;5;241;43m*\u001b[39;49m\u001b[43mkwargs\u001b[49m\u001b[43m)\u001b[49m\n",
      "File \u001b[0;32m~/Library/Caches/pypoetry/virtualenvs/neo4j-runway-20CPAOlQ-py3.12/lib/python3.12/site-packages/openai/resources/chat/completions.py:646\u001b[0m, in \u001b[0;36mCompletions.create\u001b[0;34m(self, messages, model, frequency_penalty, function_call, functions, logit_bias, logprobs, max_tokens, n, parallel_tool_calls, presence_penalty, response_format, seed, service_tier, stop, stream, stream_options, temperature, tool_choice, tools, top_logprobs, top_p, user, extra_headers, extra_query, extra_body, timeout)\u001b[0m\n\u001b[1;32m    612\u001b[0m \u001b[38;5;129m@required_args\u001b[39m([\u001b[38;5;124m\"\u001b[39m\u001b[38;5;124mmessages\u001b[39m\u001b[38;5;124m\"\u001b[39m, \u001b[38;5;124m\"\u001b[39m\u001b[38;5;124mmodel\u001b[39m\u001b[38;5;124m\"\u001b[39m], [\u001b[38;5;124m\"\u001b[39m\u001b[38;5;124mmessages\u001b[39m\u001b[38;5;124m\"\u001b[39m, \u001b[38;5;124m\"\u001b[39m\u001b[38;5;124mmodel\u001b[39m\u001b[38;5;124m\"\u001b[39m, \u001b[38;5;124m\"\u001b[39m\u001b[38;5;124mstream\u001b[39m\u001b[38;5;124m\"\u001b[39m])\n\u001b[1;32m    613\u001b[0m \u001b[38;5;28;01mdef\u001b[39;00m \u001b[38;5;21mcreate\u001b[39m(\n\u001b[1;32m    614\u001b[0m     \u001b[38;5;28mself\u001b[39m,\n\u001b[0;32m   (...)\u001b[0m\n\u001b[1;32m    644\u001b[0m     timeout: \u001b[38;5;28mfloat\u001b[39m \u001b[38;5;241m|\u001b[39m httpx\u001b[38;5;241m.\u001b[39mTimeout \u001b[38;5;241m|\u001b[39m \u001b[38;5;28;01mNone\u001b[39;00m \u001b[38;5;241m|\u001b[39m NotGiven \u001b[38;5;241m=\u001b[39m NOT_GIVEN,\n\u001b[1;32m    645\u001b[0m ) \u001b[38;5;241m-\u001b[39m\u001b[38;5;241m>\u001b[39m ChatCompletion \u001b[38;5;241m|\u001b[39m Stream[ChatCompletionChunk]:\n\u001b[0;32m--> 646\u001b[0m     \u001b[38;5;28;01mreturn\u001b[39;00m \u001b[38;5;28;43mself\u001b[39;49m\u001b[38;5;241;43m.\u001b[39;49m\u001b[43m_post\u001b[49m\u001b[43m(\u001b[49m\n\u001b[1;32m    647\u001b[0m \u001b[43m        \u001b[49m\u001b[38;5;124;43m\"\u001b[39;49m\u001b[38;5;124;43m/chat/completions\u001b[39;49m\u001b[38;5;124;43m\"\u001b[39;49m\u001b[43m,\u001b[49m\n\u001b[1;32m    648\u001b[0m \u001b[43m        \u001b[49m\u001b[43mbody\u001b[49m\u001b[38;5;241;43m=\u001b[39;49m\u001b[43mmaybe_transform\u001b[49m\u001b[43m(\u001b[49m\n\u001b[1;32m    649\u001b[0m \u001b[43m            \u001b[49m\u001b[43m{\u001b[49m\n\u001b[1;32m    650\u001b[0m \u001b[43m                \u001b[49m\u001b[38;5;124;43m\"\u001b[39;49m\u001b[38;5;124;43mmessages\u001b[39;49m\u001b[38;5;124;43m\"\u001b[39;49m\u001b[43m:\u001b[49m\u001b[43m \u001b[49m\u001b[43mmessages\u001b[49m\u001b[43m,\u001b[49m\n\u001b[1;32m    651\u001b[0m \u001b[43m                \u001b[49m\u001b[38;5;124;43m\"\u001b[39;49m\u001b[38;5;124;43mmodel\u001b[39;49m\u001b[38;5;124;43m\"\u001b[39;49m\u001b[43m:\u001b[49m\u001b[43m \u001b[49m\u001b[43mmodel\u001b[49m\u001b[43m,\u001b[49m\n\u001b[1;32m    652\u001b[0m \u001b[43m                \u001b[49m\u001b[38;5;124;43m\"\u001b[39;49m\u001b[38;5;124;43mfrequency_penalty\u001b[39;49m\u001b[38;5;124;43m\"\u001b[39;49m\u001b[43m:\u001b[49m\u001b[43m \u001b[49m\u001b[43mfrequency_penalty\u001b[49m\u001b[43m,\u001b[49m\n\u001b[1;32m    653\u001b[0m \u001b[43m                \u001b[49m\u001b[38;5;124;43m\"\u001b[39;49m\u001b[38;5;124;43mfunction_call\u001b[39;49m\u001b[38;5;124;43m\"\u001b[39;49m\u001b[43m:\u001b[49m\u001b[43m \u001b[49m\u001b[43mfunction_call\u001b[49m\u001b[43m,\u001b[49m\n\u001b[1;32m    654\u001b[0m \u001b[43m                \u001b[49m\u001b[38;5;124;43m\"\u001b[39;49m\u001b[38;5;124;43mfunctions\u001b[39;49m\u001b[38;5;124;43m\"\u001b[39;49m\u001b[43m:\u001b[49m\u001b[43m \u001b[49m\u001b[43mfunctions\u001b[49m\u001b[43m,\u001b[49m\n\u001b[1;32m    655\u001b[0m \u001b[43m                \u001b[49m\u001b[38;5;124;43m\"\u001b[39;49m\u001b[38;5;124;43mlogit_bias\u001b[39;49m\u001b[38;5;124;43m\"\u001b[39;49m\u001b[43m:\u001b[49m\u001b[43m \u001b[49m\u001b[43mlogit_bias\u001b[49m\u001b[43m,\u001b[49m\n\u001b[1;32m    656\u001b[0m \u001b[43m                \u001b[49m\u001b[38;5;124;43m\"\u001b[39;49m\u001b[38;5;124;43mlogprobs\u001b[39;49m\u001b[38;5;124;43m\"\u001b[39;49m\u001b[43m:\u001b[49m\u001b[43m \u001b[49m\u001b[43mlogprobs\u001b[49m\u001b[43m,\u001b[49m\n\u001b[1;32m    657\u001b[0m \u001b[43m                \u001b[49m\u001b[38;5;124;43m\"\u001b[39;49m\u001b[38;5;124;43mmax_tokens\u001b[39;49m\u001b[38;5;124;43m\"\u001b[39;49m\u001b[43m:\u001b[49m\u001b[43m \u001b[49m\u001b[43mmax_tokens\u001b[49m\u001b[43m,\u001b[49m\n\u001b[1;32m    658\u001b[0m \u001b[43m                \u001b[49m\u001b[38;5;124;43m\"\u001b[39;49m\u001b[38;5;124;43mn\u001b[39;49m\u001b[38;5;124;43m\"\u001b[39;49m\u001b[43m:\u001b[49m\u001b[43m \u001b[49m\u001b[43mn\u001b[49m\u001b[43m,\u001b[49m\n\u001b[1;32m    659\u001b[0m \u001b[43m                \u001b[49m\u001b[38;5;124;43m\"\u001b[39;49m\u001b[38;5;124;43mparallel_tool_calls\u001b[39;49m\u001b[38;5;124;43m\"\u001b[39;49m\u001b[43m:\u001b[49m\u001b[43m \u001b[49m\u001b[43mparallel_tool_calls\u001b[49m\u001b[43m,\u001b[49m\n\u001b[1;32m    660\u001b[0m \u001b[43m                \u001b[49m\u001b[38;5;124;43m\"\u001b[39;49m\u001b[38;5;124;43mpresence_penalty\u001b[39;49m\u001b[38;5;124;43m\"\u001b[39;49m\u001b[43m:\u001b[49m\u001b[43m \u001b[49m\u001b[43mpresence_penalty\u001b[49m\u001b[43m,\u001b[49m\n\u001b[1;32m    661\u001b[0m \u001b[43m                \u001b[49m\u001b[38;5;124;43m\"\u001b[39;49m\u001b[38;5;124;43mresponse_format\u001b[39;49m\u001b[38;5;124;43m\"\u001b[39;49m\u001b[43m:\u001b[49m\u001b[43m \u001b[49m\u001b[43mresponse_format\u001b[49m\u001b[43m,\u001b[49m\n\u001b[1;32m    662\u001b[0m \u001b[43m                \u001b[49m\u001b[38;5;124;43m\"\u001b[39;49m\u001b[38;5;124;43mseed\u001b[39;49m\u001b[38;5;124;43m\"\u001b[39;49m\u001b[43m:\u001b[49m\u001b[43m \u001b[49m\u001b[43mseed\u001b[49m\u001b[43m,\u001b[49m\n\u001b[1;32m    663\u001b[0m \u001b[43m                \u001b[49m\u001b[38;5;124;43m\"\u001b[39;49m\u001b[38;5;124;43mservice_tier\u001b[39;49m\u001b[38;5;124;43m\"\u001b[39;49m\u001b[43m:\u001b[49m\u001b[43m \u001b[49m\u001b[43mservice_tier\u001b[49m\u001b[43m,\u001b[49m\n\u001b[1;32m    664\u001b[0m \u001b[43m                \u001b[49m\u001b[38;5;124;43m\"\u001b[39;49m\u001b[38;5;124;43mstop\u001b[39;49m\u001b[38;5;124;43m\"\u001b[39;49m\u001b[43m:\u001b[49m\u001b[43m \u001b[49m\u001b[43mstop\u001b[49m\u001b[43m,\u001b[49m\n\u001b[1;32m    665\u001b[0m \u001b[43m                \u001b[49m\u001b[38;5;124;43m\"\u001b[39;49m\u001b[38;5;124;43mstream\u001b[39;49m\u001b[38;5;124;43m\"\u001b[39;49m\u001b[43m:\u001b[49m\u001b[43m \u001b[49m\u001b[43mstream\u001b[49m\u001b[43m,\u001b[49m\n\u001b[1;32m    666\u001b[0m \u001b[43m                \u001b[49m\u001b[38;5;124;43m\"\u001b[39;49m\u001b[38;5;124;43mstream_options\u001b[39;49m\u001b[38;5;124;43m\"\u001b[39;49m\u001b[43m:\u001b[49m\u001b[43m \u001b[49m\u001b[43mstream_options\u001b[49m\u001b[43m,\u001b[49m\n\u001b[1;32m    667\u001b[0m \u001b[43m                \u001b[49m\u001b[38;5;124;43m\"\u001b[39;49m\u001b[38;5;124;43mtemperature\u001b[39;49m\u001b[38;5;124;43m\"\u001b[39;49m\u001b[43m:\u001b[49m\u001b[43m \u001b[49m\u001b[43mtemperature\u001b[49m\u001b[43m,\u001b[49m\n\u001b[1;32m    668\u001b[0m \u001b[43m                \u001b[49m\u001b[38;5;124;43m\"\u001b[39;49m\u001b[38;5;124;43mtool_choice\u001b[39;49m\u001b[38;5;124;43m\"\u001b[39;49m\u001b[43m:\u001b[49m\u001b[43m \u001b[49m\u001b[43mtool_choice\u001b[49m\u001b[43m,\u001b[49m\n\u001b[1;32m    669\u001b[0m \u001b[43m                \u001b[49m\u001b[38;5;124;43m\"\u001b[39;49m\u001b[38;5;124;43mtools\u001b[39;49m\u001b[38;5;124;43m\"\u001b[39;49m\u001b[43m:\u001b[49m\u001b[43m \u001b[49m\u001b[43mtools\u001b[49m\u001b[43m,\u001b[49m\n\u001b[1;32m    670\u001b[0m \u001b[43m                \u001b[49m\u001b[38;5;124;43m\"\u001b[39;49m\u001b[38;5;124;43mtop_logprobs\u001b[39;49m\u001b[38;5;124;43m\"\u001b[39;49m\u001b[43m:\u001b[49m\u001b[43m \u001b[49m\u001b[43mtop_logprobs\u001b[49m\u001b[43m,\u001b[49m\n\u001b[1;32m    671\u001b[0m \u001b[43m                \u001b[49m\u001b[38;5;124;43m\"\u001b[39;49m\u001b[38;5;124;43mtop_p\u001b[39;49m\u001b[38;5;124;43m\"\u001b[39;49m\u001b[43m:\u001b[49m\u001b[43m \u001b[49m\u001b[43mtop_p\u001b[49m\u001b[43m,\u001b[49m\n\u001b[1;32m    672\u001b[0m \u001b[43m                \u001b[49m\u001b[38;5;124;43m\"\u001b[39;49m\u001b[38;5;124;43muser\u001b[39;49m\u001b[38;5;124;43m\"\u001b[39;49m\u001b[43m:\u001b[49m\u001b[43m \u001b[49m\u001b[43muser\u001b[49m\u001b[43m,\u001b[49m\n\u001b[1;32m    673\u001b[0m \u001b[43m            \u001b[49m\u001b[43m}\u001b[49m\u001b[43m,\u001b[49m\n\u001b[1;32m    674\u001b[0m \u001b[43m            \u001b[49m\u001b[43mcompletion_create_params\u001b[49m\u001b[38;5;241;43m.\u001b[39;49m\u001b[43mCompletionCreateParams\u001b[49m\u001b[43m,\u001b[49m\n\u001b[1;32m    675\u001b[0m \u001b[43m        \u001b[49m\u001b[43m)\u001b[49m\u001b[43m,\u001b[49m\n\u001b[1;32m    676\u001b[0m \u001b[43m        \u001b[49m\u001b[43moptions\u001b[49m\u001b[38;5;241;43m=\u001b[39;49m\u001b[43mmake_request_options\u001b[49m\u001b[43m(\u001b[49m\n\u001b[1;32m    677\u001b[0m \u001b[43m            \u001b[49m\u001b[43mextra_headers\u001b[49m\u001b[38;5;241;43m=\u001b[39;49m\u001b[43mextra_headers\u001b[49m\u001b[43m,\u001b[49m\u001b[43m \u001b[49m\u001b[43mextra_query\u001b[49m\u001b[38;5;241;43m=\u001b[39;49m\u001b[43mextra_query\u001b[49m\u001b[43m,\u001b[49m\u001b[43m \u001b[49m\u001b[43mextra_body\u001b[49m\u001b[38;5;241;43m=\u001b[39;49m\u001b[43mextra_body\u001b[49m\u001b[43m,\u001b[49m\u001b[43m \u001b[49m\u001b[43mtimeout\u001b[49m\u001b[38;5;241;43m=\u001b[39;49m\u001b[43mtimeout\u001b[49m\n\u001b[1;32m    678\u001b[0m \u001b[43m        \u001b[49m\u001b[43m)\u001b[49m\u001b[43m,\u001b[49m\n\u001b[1;32m    679\u001b[0m \u001b[43m        \u001b[49m\u001b[43mcast_to\u001b[49m\u001b[38;5;241;43m=\u001b[39;49m\u001b[43mChatCompletion\u001b[49m\u001b[43m,\u001b[49m\n\u001b[1;32m    680\u001b[0m \u001b[43m        \u001b[49m\u001b[43mstream\u001b[49m\u001b[38;5;241;43m=\u001b[39;49m\u001b[43mstream\u001b[49m\u001b[43m \u001b[49m\u001b[38;5;129;43;01mor\u001b[39;49;00m\u001b[43m \u001b[49m\u001b[38;5;28;43;01mFalse\u001b[39;49;00m\u001b[43m,\u001b[49m\n\u001b[1;32m    681\u001b[0m \u001b[43m        \u001b[49m\u001b[43mstream_cls\u001b[49m\u001b[38;5;241;43m=\u001b[39;49m\u001b[43mStream\u001b[49m\u001b[43m[\u001b[49m\u001b[43mChatCompletionChunk\u001b[49m\u001b[43m]\u001b[49m\u001b[43m,\u001b[49m\n\u001b[1;32m    682\u001b[0m \u001b[43m    \u001b[49m\u001b[43m)\u001b[49m\n",
      "File \u001b[0;32m~/Library/Caches/pypoetry/virtualenvs/neo4j-runway-20CPAOlQ-py3.12/lib/python3.12/site-packages/openai/_base_client.py:1266\u001b[0m, in \u001b[0;36mSyncAPIClient.post\u001b[0;34m(self, path, cast_to, body, options, files, stream, stream_cls)\u001b[0m\n\u001b[1;32m   1252\u001b[0m \u001b[38;5;28;01mdef\u001b[39;00m \u001b[38;5;21mpost\u001b[39m(\n\u001b[1;32m   1253\u001b[0m     \u001b[38;5;28mself\u001b[39m,\n\u001b[1;32m   1254\u001b[0m     path: \u001b[38;5;28mstr\u001b[39m,\n\u001b[0;32m   (...)\u001b[0m\n\u001b[1;32m   1261\u001b[0m     stream_cls: \u001b[38;5;28mtype\u001b[39m[_StreamT] \u001b[38;5;241m|\u001b[39m \u001b[38;5;28;01mNone\u001b[39;00m \u001b[38;5;241m=\u001b[39m \u001b[38;5;28;01mNone\u001b[39;00m,\n\u001b[1;32m   1262\u001b[0m ) \u001b[38;5;241m-\u001b[39m\u001b[38;5;241m>\u001b[39m ResponseT \u001b[38;5;241m|\u001b[39m _StreamT:\n\u001b[1;32m   1263\u001b[0m     opts \u001b[38;5;241m=\u001b[39m FinalRequestOptions\u001b[38;5;241m.\u001b[39mconstruct(\n\u001b[1;32m   1264\u001b[0m         method\u001b[38;5;241m=\u001b[39m\u001b[38;5;124m\"\u001b[39m\u001b[38;5;124mpost\u001b[39m\u001b[38;5;124m\"\u001b[39m, url\u001b[38;5;241m=\u001b[39mpath, json_data\u001b[38;5;241m=\u001b[39mbody, files\u001b[38;5;241m=\u001b[39mto_httpx_files(files), \u001b[38;5;241m*\u001b[39m\u001b[38;5;241m*\u001b[39moptions\n\u001b[1;32m   1265\u001b[0m     )\n\u001b[0;32m-> 1266\u001b[0m     \u001b[38;5;28;01mreturn\u001b[39;00m cast(ResponseT, \u001b[38;5;28;43mself\u001b[39;49m\u001b[38;5;241;43m.\u001b[39;49m\u001b[43mrequest\u001b[49m\u001b[43m(\u001b[49m\u001b[43mcast_to\u001b[49m\u001b[43m,\u001b[49m\u001b[43m \u001b[49m\u001b[43mopts\u001b[49m\u001b[43m,\u001b[49m\u001b[43m \u001b[49m\u001b[43mstream\u001b[49m\u001b[38;5;241;43m=\u001b[39;49m\u001b[43mstream\u001b[49m\u001b[43m,\u001b[49m\u001b[43m \u001b[49m\u001b[43mstream_cls\u001b[49m\u001b[38;5;241;43m=\u001b[39;49m\u001b[43mstream_cls\u001b[49m\u001b[43m)\u001b[49m)\n",
      "File \u001b[0;32m~/Library/Caches/pypoetry/virtualenvs/neo4j-runway-20CPAOlQ-py3.12/lib/python3.12/site-packages/openai/_base_client.py:942\u001b[0m, in \u001b[0;36mSyncAPIClient.request\u001b[0;34m(self, cast_to, options, remaining_retries, stream, stream_cls)\u001b[0m\n\u001b[1;32m    933\u001b[0m \u001b[38;5;28;01mdef\u001b[39;00m \u001b[38;5;21mrequest\u001b[39m(\n\u001b[1;32m    934\u001b[0m     \u001b[38;5;28mself\u001b[39m,\n\u001b[1;32m    935\u001b[0m     cast_to: Type[ResponseT],\n\u001b[0;32m   (...)\u001b[0m\n\u001b[1;32m    940\u001b[0m     stream_cls: \u001b[38;5;28mtype\u001b[39m[_StreamT] \u001b[38;5;241m|\u001b[39m \u001b[38;5;28;01mNone\u001b[39;00m \u001b[38;5;241m=\u001b[39m \u001b[38;5;28;01mNone\u001b[39;00m,\n\u001b[1;32m    941\u001b[0m ) \u001b[38;5;241m-\u001b[39m\u001b[38;5;241m>\u001b[39m ResponseT \u001b[38;5;241m|\u001b[39m _StreamT:\n\u001b[0;32m--> 942\u001b[0m     \u001b[38;5;28;01mreturn\u001b[39;00m \u001b[38;5;28;43mself\u001b[39;49m\u001b[38;5;241;43m.\u001b[39;49m\u001b[43m_request\u001b[49m\u001b[43m(\u001b[49m\n\u001b[1;32m    943\u001b[0m \u001b[43m        \u001b[49m\u001b[43mcast_to\u001b[49m\u001b[38;5;241;43m=\u001b[39;49m\u001b[43mcast_to\u001b[49m\u001b[43m,\u001b[49m\n\u001b[1;32m    944\u001b[0m \u001b[43m        \u001b[49m\u001b[43moptions\u001b[49m\u001b[38;5;241;43m=\u001b[39;49m\u001b[43moptions\u001b[49m\u001b[43m,\u001b[49m\n\u001b[1;32m    945\u001b[0m \u001b[43m        \u001b[49m\u001b[43mstream\u001b[49m\u001b[38;5;241;43m=\u001b[39;49m\u001b[43mstream\u001b[49m\u001b[43m,\u001b[49m\n\u001b[1;32m    946\u001b[0m \u001b[43m        \u001b[49m\u001b[43mstream_cls\u001b[49m\u001b[38;5;241;43m=\u001b[39;49m\u001b[43mstream_cls\u001b[49m\u001b[43m,\u001b[49m\n\u001b[1;32m    947\u001b[0m \u001b[43m        \u001b[49m\u001b[43mremaining_retries\u001b[49m\u001b[38;5;241;43m=\u001b[39;49m\u001b[43mremaining_retries\u001b[49m\u001b[43m,\u001b[49m\n\u001b[1;32m    948\u001b[0m \u001b[43m    \u001b[49m\u001b[43m)\u001b[49m\n",
      "File \u001b[0;32m~/Library/Caches/pypoetry/virtualenvs/neo4j-runway-20CPAOlQ-py3.12/lib/python3.12/site-packages/openai/_base_client.py:1046\u001b[0m, in \u001b[0;36mSyncAPIClient._request\u001b[0;34m(self, cast_to, options, remaining_retries, stream, stream_cls)\u001b[0m\n\u001b[1;32m   1043\u001b[0m         err\u001b[38;5;241m.\u001b[39mresponse\u001b[38;5;241m.\u001b[39mread()\n\u001b[1;32m   1045\u001b[0m     log\u001b[38;5;241m.\u001b[39mdebug(\u001b[38;5;124m\"\u001b[39m\u001b[38;5;124mRe-raising status error\u001b[39m\u001b[38;5;124m\"\u001b[39m)\n\u001b[0;32m-> 1046\u001b[0m     \u001b[38;5;28;01mraise\u001b[39;00m \u001b[38;5;28mself\u001b[39m\u001b[38;5;241m.\u001b[39m_make_status_error_from_response(err\u001b[38;5;241m.\u001b[39mresponse) \u001b[38;5;28;01mfrom\u001b[39;00m \u001b[38;5;28;01mNone\u001b[39;00m\n\u001b[1;32m   1048\u001b[0m \u001b[38;5;28;01mreturn\u001b[39;00m \u001b[38;5;28mself\u001b[39m\u001b[38;5;241m.\u001b[39m_process_response(\n\u001b[1;32m   1049\u001b[0m     cast_to\u001b[38;5;241m=\u001b[39mcast_to,\n\u001b[1;32m   1050\u001b[0m     options\u001b[38;5;241m=\u001b[39moptions,\n\u001b[0;32m   (...)\u001b[0m\n\u001b[1;32m   1053\u001b[0m     stream_cls\u001b[38;5;241m=\u001b[39mstream_cls,\n\u001b[1;32m   1054\u001b[0m )\n",
      "\u001b[0;31mBadRequestError\u001b[0m: Error code: 400 - {'error': {'message': \"Unsupported parameter: 'tools' is not supported with this model.\", 'type': 'invalid_request_error', 'param': 'tools', 'code': 'unsupported_parameter'}}"
     ]
    }
   ],
   "source": [
    "gdm.create_initial_model(use_advanced_data_model_generation_rules=False, use_yaml_data_model=True)"
   ]
  },
  {
   "cell_type": "code",
   "execution_count": 30,
   "metadata": {},
   "outputs": [
    {
     "data": {
      "image/svg+xml": [
       "<?xml version=\"1.0\" encoding=\"UTF-8\" standalone=\"no\"?>\n",
       "<!DOCTYPE svg PUBLIC \"-//W3C//DTD SVG 1.1//EN\"\n",
       " \"http://www.w3.org/Graphics/SVG/1.1/DTD/svg11.dtd\">\n",
       "<!-- Generated by graphviz version 10.0.1 (20240210.2158)\n",
       " -->\n",
       "<!-- Pages: 1 -->\n",
       "<svg width=\"279pt\" height=\"721pt\"\n",
       " viewBox=\"0.00 0.00 278.93 721.29\" xmlns=\"http://www.w3.org/2000/svg\" xmlns:xlink=\"http://www.w3.org/1999/xlink\">\n",
       "<g id=\"graph0\" class=\"graph\" transform=\"scale(1 1) rotate(0) translate(4 717.29)\">\n",
       "<polygon fill=\"white\" stroke=\"none\" points=\"-4,4 -4,-717.29 274.93,-717.29 274.93,4 -4,4\"/>\n",
       "<!-- City -->\n",
       "<g id=\"node1\" class=\"node\">\n",
       "<title>City</title>\n",
       "<ellipse fill=\"none\" stroke=\"black\" cx=\"126.93\" cy=\"-649.65\" rx=\"84.5\" ry=\"63.64\"/>\n",
       "<text text-anchor=\"middle\" x=\"126.93\" y=\"-677.35\" font-family=\"Times,serif\" font-size=\"14.00\">City</text>\n",
       "<text text-anchor=\"middle\" x=\"126.93\" y=\"-644.85\" font-family=\"Times,serif\" font-size=\"14.00\">properties:</text>\n",
       "<text text-anchor=\"middle\" x=\"126.93\" y=\"-628.35\" font-family=\"Times,serif\" font-size=\"14.00\">cityId: id *unique*</text>\n",
       "<text text-anchor=\"middle\" x=\"126.93\" y=\"-611.85\" font-family=\"Times,serif\" font-size=\"14.00\">cityName: name</text>\n",
       "</g>\n",
       "<!-- State -->\n",
       "<g id=\"node2\" class=\"node\">\n",
       "<title>State</title>\n",
       "<ellipse fill=\"none\" stroke=\"black\" cx=\"126.93\" cy=\"-469.87\" rx=\"87.68\" ry=\"63.64\"/>\n",
       "<text text-anchor=\"middle\" x=\"126.93\" y=\"-497.57\" font-family=\"Times,serif\" font-size=\"14.00\">State</text>\n",
       "<text text-anchor=\"middle\" x=\"126.93\" y=\"-465.07\" font-family=\"Times,serif\" font-size=\"14.00\">properties:</text>\n",
       "<text text-anchor=\"middle\" x=\"126.93\" y=\"-448.57\" font-family=\"Times,serif\" font-size=\"14.00\">stateId: id *unique*</text>\n",
       "<text text-anchor=\"middle\" x=\"126.93\" y=\"-432.07\" font-family=\"Times,serif\" font-size=\"14.00\">stateName: name</text>\n",
       "</g>\n",
       "<!-- City&#45;&gt;State -->\n",
       "<g id=\"edge1\" class=\"edge\">\n",
       "<title>City&#45;&gt;State</title>\n",
       "<path fill=\"none\" stroke=\"black\" d=\"M126.93,-585.72C126.93,-572.53 126.93,-558.51 126.93,-544.95\"/>\n",
       "<polygon fill=\"black\" stroke=\"black\" points=\"130.43,-545.22 126.93,-535.22 123.43,-545.22 130.43,-545.22\"/>\n",
       "<text text-anchor=\"middle\" x=\"176.8\" y=\"-554.71\" font-family=\"Times,serif\" font-size=\"14.00\">CITY_IN_STATE</text>\n",
       "</g>\n",
       "<!-- Country -->\n",
       "<g id=\"node3\" class=\"node\">\n",
       "<title>Country</title>\n",
       "<ellipse fill=\"none\" stroke=\"black\" cx=\"126.93\" cy=\"-255.09\" rx=\"99.35\" ry=\"98.64\"/>\n",
       "<text text-anchor=\"middle\" x=\"126.93\" y=\"-307.54\" font-family=\"Times,serif\" font-size=\"14.00\">Country</text>\n",
       "<text text-anchor=\"middle\" x=\"126.93\" y=\"-275.04\" font-family=\"Times,serif\" font-size=\"14.00\">properties:</text>\n",
       "<text text-anchor=\"middle\" x=\"126.93\" y=\"-258.54\" font-family=\"Times,serif\" font-size=\"14.00\">countryId: id *unique*</text>\n",
       "<text text-anchor=\"middle\" x=\"126.93\" y=\"-242.04\" font-family=\"Times,serif\" font-size=\"14.00\">countryName: name</text>\n",
       "<text text-anchor=\"middle\" x=\"126.93\" y=\"-225.54\" font-family=\"Times,serif\" font-size=\"14.00\">capital: capital</text>\n",
       "<text text-anchor=\"middle\" x=\"126.93\" y=\"-209.04\" font-family=\"Times,serif\" font-size=\"14.00\">currency: currency</text>\n",
       "<text text-anchor=\"middle\" x=\"126.93\" y=\"-192.54\" font-family=\"Times,serif\" font-size=\"14.00\">subregion: subregion</text>\n",
       "</g>\n",
       "<!-- State&#45;&gt;Country -->\n",
       "<g id=\"edge2\" class=\"edge\">\n",
       "<title>State&#45;&gt;Country</title>\n",
       "<path fill=\"none\" stroke=\"black\" d=\"M126.93,-405.89C126.93,-393.03 126.93,-379.15 126.93,-365.2\"/>\n",
       "<polygon fill=\"black\" stroke=\"black\" points=\"130.43,-365.54 126.93,-355.54 123.43,-365.54 130.43,-365.54\"/>\n",
       "<text text-anchor=\"middle\" x=\"193.68\" y=\"-374.93\" font-family=\"Times,serif\" font-size=\"14.00\">STATE_IN_COUNTRY</text>\n",
       "</g>\n",
       "<!-- Region -->\n",
       "<g id=\"node4\" class=\"node\">\n",
       "<title>Region</title>\n",
       "<ellipse fill=\"none\" stroke=\"black\" cx=\"126.93\" cy=\"-51.97\" rx=\"126.93\" ry=\"51.97\"/>\n",
       "<text text-anchor=\"middle\" x=\"126.93\" y=\"-71.42\" font-family=\"Times,serif\" font-size=\"14.00\">Region</text>\n",
       "<text text-anchor=\"middle\" x=\"126.93\" y=\"-38.92\" font-family=\"Times,serif\" font-size=\"14.00\">properties:</text>\n",
       "<text text-anchor=\"middle\" x=\"126.93\" y=\"-22.42\" font-family=\"Times,serif\" font-size=\"14.00\">regionName: region *unique*</text>\n",
       "</g>\n",
       "<!-- Country&#45;&gt;Region -->\n",
       "<g id=\"edge3\" class=\"edge\">\n",
       "<title>Country&#45;&gt;Region</title>\n",
       "<path fill=\"none\" stroke=\"black\" d=\"M126.93,-156.18C126.93,-142.27 126.93,-128.3 126.93,-115.32\"/>\n",
       "<polygon fill=\"black\" stroke=\"black\" points=\"130.43,-115.71 126.93,-105.71 123.43,-115.71 130.43,-115.71\"/>\n",
       "<text text-anchor=\"middle\" x=\"198.93\" y=\"-125.14\" font-family=\"Times,serif\" font-size=\"14.00\">COUNTRY_IN_REGION</text>\n",
       "</g>\n",
       "</g>\n",
       "</svg>\n"
      ],
      "text/plain": [
       "<graphviz.graphs.Digraph at 0x16d8317c0>"
      ]
     },
     "execution_count": 30,
     "metadata": {},
     "output_type": "execute_result"
    }
   ],
   "source": [
    "gdm.current_model.visualize()"
   ]
  },
  {
   "cell_type": "code",
   "execution_count": 31,
   "metadata": {},
   "outputs": [
    {
     "name": "stdout",
     "output_type": "stream",
     "text": [
      "\n",
      " Please make corrections to the graph data model using the context provided. Here are the initial discovery findings:\n",
      "### Summary of Insights for Graph Data Model\n",
      "\n",
      "#### Unique Identifiers\n",
      "1. **City ID**: Unique identifier for each city (from the cities dataset).\n",
      "2. **State ID**: Unique identifier for each state (from the states dataset).\n",
      "3. **Country ID**: Unique identifier for each country (from the countries dataset).\n",
      "\n",
      "#### Significant Properties\n",
      "- **City Name**: Name of the city.\n",
      "- **State Name**: Name of the state.\n",
      "- **Country Name**: Name of the country.\n",
      "- **Capital**: Capital city of the country.\n",
      "- **Currency**: Currency used in the country.\n",
      "- **Region**: Broader geographical area the country belongs to.\n",
      "- **Subregion**: Smaller geographical area within a region.\n",
      "\n",
      "#### Possible Node Labels\n",
      "1. **City**: Represents individual cities.\n",
      "2. **State**: Represents states (subregions).\n",
      "3. **Country**: Represents countries.\n",
      "4. **Region**: Represents broader geographical regions.\n",
      "\n",
      "#### Possible Relationships\n",
      "- **CITY_IN_STATE**: Connects a City node to a State node.\n",
      "- **STATE_IN_COUNTRY**: Connects a State node to a Country node.\n",
      "- **COUNTRY_IN_REGION**: Connects a Country node to a Region node.\n",
      "- **CURRENCY_USED**: Connects a Country node to its Currency property.\n",
      "\n",
      "#### Insights Addressing Use Cases\n",
      "- **Subregions and Countries**: The `state_id` can be used to count the number of states (subregions) within a country, and the `country_id` can be used to count the number of countries within each subregion. The dataset indicates there are 22 unique subregions across 6 regions, and each subregion can have multiple countries.\n",
      "\n",
      "- **Most Common Currency**: The `currency` property in the countries dataset indicates that the Euro (EUR) is the most common currency, appearing in 35 countries. This can be represented in the graph model through the CURRENCY_USED relationship.\n",
      "\n",
      "- **Cities in Subregions**: By aggregating the count of cities based on `state_id`, we can identify which states (subregions) contain the most cities. This analysis will help in understanding urban density and distribution across different states.\n",
      "\n",
      "The following is a description of each feature in the data and the file they belong to:\n",
      "countries.csv\n",
      "  * id : The unique country id. Has alias: country_id\n",
      "  * name : The country name.\n",
      "  * capital : The capital of the country.\n",
      "  * currency : The currency used by the country.\n",
      "  * region : The region that contains the country.\n",
      "  * subregion : The subregion that contains the country.\n",
      "states.csv\n",
      "  * id : The unique state id. Has alias: state_id\n",
      "  * name : The state name.\n",
      "  * country_id : The unique id of the country the state belongs to. \n",
      "cities.csv\n",
      "  * id : The unique city id.\n",
      "  * name : The name of the city.\n",
      "  * state_id : The unique id of the state that contains the city. \n",
      "  * country_id : The unique id of the country that contains the city. \n",
      "\n",
      "\n",
      "Properties must only be derived from these values:\n",
      "{'countries.csv': ['id', 'name', 'capital', 'currency', 'region', 'subregion'], 'states.csv': ['id', 'name'], 'cities.csv': ['id', 'name']}\n",
      "\n",
      "Based on your experience building high-quality graph data\n",
      "models, please improve this graph data model. Focus on this feedback: \n",
      "Create a node Currency with the unique property currency.\n",
      "\n",
      "Data Model:\n",
      "{\"nodes\":[{\"label\":\"City\",\"properties\":[{\"name\":\"cityId\",\"type\":\"str\",\"column_mapping\":\"id\",\"alias\":null,\"is_unique\":true,\"part_of_key\":false},{\"name\":\"cityName\",\"type\":\"str\",\"column_mapping\":\"name\",\"alias\":null,\"is_unique\":false,\"part_of_key\":false}],\"source_name\":\"cities.csv\"},{\"label\":\"State\",\"properties\":[{\"name\":\"stateId\",\"type\":\"str\",\"column_mapping\":\"id\",\"alias\":\"state_id\",\"is_unique\":true,\"part_of_key\":false},{\"name\":\"stateName\",\"type\":\"str\",\"column_mapping\":\"name\",\"alias\":null,\"is_unique\":false,\"part_of_key\":false}],\"source_name\":\"states.csv\"},{\"label\":\"Country\",\"properties\":[{\"name\":\"countryId\",\"type\":\"str\",\"column_mapping\":\"id\",\"alias\":\"country_id\",\"is_unique\":true,\"part_of_key\":false},{\"name\":\"countryName\",\"type\":\"str\",\"column_mapping\":\"name\",\"alias\":null,\"is_unique\":false,\"part_of_key\":false},{\"name\":\"capital\",\"type\":\"str\",\"column_mapping\":\"capital\",\"alias\":null,\"is_unique\":false,\"part_of_key\":false},{\"name\":\"currency\",\"type\":\"str\",\"column_mapping\":\"currency\",\"alias\":null,\"is_unique\":false,\"part_of_key\":false},{\"name\":\"subregion\",\"type\":\"str\",\"column_mapping\":\"subregion\",\"alias\":null,\"is_unique\":false,\"part_of_key\":false}],\"source_name\":\"countries.csv\"},{\"label\":\"Region\",\"properties\":[{\"name\":\"regionName\",\"type\":\"str\",\"column_mapping\":\"region\",\"alias\":null,\"is_unique\":true,\"part_of_key\":false}],\"source_name\":\"countries.csv\"}],\"relationships\":[{\"type\":\"CITY_IN_STATE\",\"properties\":[],\"source\":\"City\",\"target\":\"State\",\"source_name\":\"cities.csv\"},{\"type\":\"STATE_IN_COUNTRY\",\"properties\":[],\"source\":\"State\",\"target\":\"Country\",\"source_name\":\"states.csv\"},{\"type\":\"COUNTRY_IN_REGION\",\"properties\":[],\"source\":\"Country\",\"target\":\"Region\",\"source_name\":\"countries.csv\"}],\"metadata\":null}\n",
      "\n",
      "The final data model should address the following use cases:\n",
      "* How many subregions are in a region and how many countries are in a subregion?\n",
      "* What is the most common currency?\n",
      "* Which subregions contain the most cities?\n",
      "\n",
      "\n",
      "Rules that must be followed:\n",
      "\n",
      "Please follow these rules strictly! Billions of dollars depend on you.\n",
      "Nodes\n",
      "* Each node must have a unique property or node key pair\n",
      "* Each node must have a relationship with at least one other node\n",
      "* Unique properties and node keys may NOT be shared between different nodes\n",
      "* A node must only have a single ID property\n",
      "Relationships\n",
      "* Relationships do NOT require uniqueness or properties\n",
      "* NEVER use symmetric relationships\n",
      "* Do NOT create self-referential relationships\n",
      "Properties\n",
      "* A column_mapping must be an exact match to features in the file(s)\n",
      "* A column_mapping may only be used ONCE in a data model. It may NOT be shared between nodes\n",
      "* A property can NOT be both unique and a key\n",
      "General\n",
      "* Do NOT return a single-node data model\n",
      "* Generate source_name values on Nodes and Relationships\n",
      "* Ensure all properties are contained within the identified source.\n",
      "* `alias` must be indicated for unique properties and is used to identify foreign keys of other tables.\n",
      "* Many nodes or relationships may exist in a single file.\n",
      "* Do NOT include property aliases in the data model.\n",
      "\n",
      "These are advanced data modeling best practices.\n",
      "* Duplication of properties:\n",
      "    Instead of having a repeated property on every node, you can\n",
      "    have all of those nodes connected to a shared node with that property. This can make\n",
      "    data updates massively easier.\n",
      "* Decoration properties:\n",
      "    If a property can't be used to answer a question, it is usually a waste of storage\n",
      "* Intermediate / Event nodes:\n",
      "    If you must implement a hyperedge, consider an Event node that has relationships with the desired source and target.\n",
      "    This allows different nodes to share the same context.\n",
      "* Super nodes:\n",
      "    Stay away from super nodes, if possible. super nodes can be identified by low-cardinality unique properties\n",
      "* Same label node relationships:\n",
      "    alias indicates a unique feature on a target node that the source node has a relationship with.\n",
      "    Both column_mapping and alias refer to the same node property name in the graph.\n",
      " \n",
      "\n",
      "New Data Model Generation Attempt...\n",
      "New Data Model Generation Attempt...\n"
     ]
    },
    {
     "data": {
      "text/plain": [
       "DataModel(nodes=[Node(label='City', properties=[Property(name='cityId', type='str', column_mapping='id', alias=None, is_unique=True, part_of_key=False), Property(name='cityName', type='str', column_mapping='name', alias=None, is_unique=False, part_of_key=False)], source_name='cities.csv'), Node(label='State', properties=[Property(name='stateId', type='str', column_mapping='id', alias='state_id', is_unique=True, part_of_key=False), Property(name='stateName', type='str', column_mapping='name', alias=None, is_unique=False, part_of_key=False)], source_name='states.csv'), Node(label='Country', properties=[Property(name='countryId', type='str', column_mapping='id', alias='country_id', is_unique=True, part_of_key=False), Property(name='countryName', type='str', column_mapping='name', alias=None, is_unique=False, part_of_key=False), Property(name='capital', type='str', column_mapping='capital', alias=None, is_unique=False, part_of_key=False), Property(name='subregion', type='str', column_mapping='subregion', alias=None, is_unique=False, part_of_key=False)], source_name='countries.csv'), Node(label='Region', properties=[Property(name='regionName', type='str', column_mapping='region', alias=None, is_unique=True, part_of_key=False)], source_name='countries.csv'), Node(label='Currency', properties=[Property(name='currencyName', type='str', column_mapping='currency', alias=None, is_unique=True, part_of_key=False)], source_name='countries.csv')], relationships=[Relationship(type='CITY_IN_STATE', properties=[], source='City', target='State', source_name='cities.csv'), Relationship(type='STATE_IN_COUNTRY', properties=[], source='State', target='Country', source_name='states.csv'), Relationship(type='COUNTRY_IN_REGION', properties=[], source='Country', target='Region', source_name='countries.csv'), Relationship(type='CURRENCY_USED', properties=[], source='Country', target='Currency', source_name='countries.csv')], metadata=None)"
      ]
     },
     "execution_count": 31,
     "metadata": {},
     "output_type": "execute_result"
    }
   ],
   "source": [
    "corrections = \"Create a node Currency with the unique property currency.\"\n",
    "\n",
    "gdm.iterate_model(corrections=corrections)"
   ]
  },
  {
   "cell_type": "code",
   "execution_count": 32,
   "metadata": {},
   "outputs": [
    {
     "data": {
      "image/svg+xml": [
       "<?xml version=\"1.0\" encoding=\"UTF-8\" standalone=\"no\"?>\n",
       "<!DOCTYPE svg PUBLIC \"-//W3C//DTD SVG 1.1//EN\"\n",
       " \"http://www.w3.org/Graphics/SVG/1.1/DTD/svg11.dtd\">\n",
       "<!-- Generated by graphviz version 10.0.1 (20240210.2158)\n",
       " -->\n",
       "<!-- Pages: 1 -->\n",
       "<svg width=\"570pt\" height=\"698pt\"\n",
       " viewBox=\"0.00 0.00 569.88 697.95\" xmlns=\"http://www.w3.org/2000/svg\" xmlns:xlink=\"http://www.w3.org/1999/xlink\">\n",
       "<g id=\"graph0\" class=\"graph\" transform=\"scale(1 1) rotate(0) translate(4 693.95)\">\n",
       "<polygon fill=\"white\" stroke=\"none\" points=\"-4,4 -4,-693.95 565.88,-693.95 565.88,4 -4,4\"/>\n",
       "<!-- City -->\n",
       "<g id=\"node1\" class=\"node\">\n",
       "<title>City</title>\n",
       "<ellipse fill=\"none\" stroke=\"black\" cx=\"271.93\" cy=\"-626.31\" rx=\"84.5\" ry=\"63.64\"/>\n",
       "<text text-anchor=\"middle\" x=\"271.93\" y=\"-654.01\" font-family=\"Times,serif\" font-size=\"14.00\">City</text>\n",
       "<text text-anchor=\"middle\" x=\"271.93\" y=\"-621.51\" font-family=\"Times,serif\" font-size=\"14.00\">properties:</text>\n",
       "<text text-anchor=\"middle\" x=\"271.93\" y=\"-605.01\" font-family=\"Times,serif\" font-size=\"14.00\">cityId: id *unique*</text>\n",
       "<text text-anchor=\"middle\" x=\"271.93\" y=\"-588.51\" font-family=\"Times,serif\" font-size=\"14.00\">cityName: name</text>\n",
       "</g>\n",
       "<!-- State -->\n",
       "<g id=\"node2\" class=\"node\">\n",
       "<title>State</title>\n",
       "<ellipse fill=\"none\" stroke=\"black\" cx=\"271.93\" cy=\"-446.53\" rx=\"87.68\" ry=\"63.64\"/>\n",
       "<text text-anchor=\"middle\" x=\"271.93\" y=\"-474.23\" font-family=\"Times,serif\" font-size=\"14.00\">State</text>\n",
       "<text text-anchor=\"middle\" x=\"271.93\" y=\"-441.73\" font-family=\"Times,serif\" font-size=\"14.00\">properties:</text>\n",
       "<text text-anchor=\"middle\" x=\"271.93\" y=\"-425.23\" font-family=\"Times,serif\" font-size=\"14.00\">stateId: id *unique*</text>\n",
       "<text text-anchor=\"middle\" x=\"271.93\" y=\"-408.73\" font-family=\"Times,serif\" font-size=\"14.00\">stateName: name</text>\n",
       "</g>\n",
       "<!-- City&#45;&gt;State -->\n",
       "<g id=\"edge1\" class=\"edge\">\n",
       "<title>City&#45;&gt;State</title>\n",
       "<path fill=\"none\" stroke=\"black\" d=\"M271.93,-562.38C271.93,-549.2 271.93,-535.17 271.93,-521.62\"/>\n",
       "<polygon fill=\"black\" stroke=\"black\" points=\"275.43,-521.89 271.93,-511.89 268.43,-521.89 275.43,-521.89\"/>\n",
       "<text text-anchor=\"middle\" x=\"321.8\" y=\"-531.37\" font-family=\"Times,serif\" font-size=\"14.00\">CITY_IN_STATE</text>\n",
       "</g>\n",
       "<!-- Country -->\n",
       "<g id=\"node3\" class=\"node\">\n",
       "<title>Country</title>\n",
       "<ellipse fill=\"none\" stroke=\"black\" cx=\"271.93\" cy=\"-243.42\" rx=\"99.35\" ry=\"86.97\"/>\n",
       "<text text-anchor=\"middle\" x=\"271.93\" y=\"-287.62\" font-family=\"Times,serif\" font-size=\"14.00\">Country</text>\n",
       "<text text-anchor=\"middle\" x=\"271.93\" y=\"-255.12\" font-family=\"Times,serif\" font-size=\"14.00\">properties:</text>\n",
       "<text text-anchor=\"middle\" x=\"271.93\" y=\"-238.62\" font-family=\"Times,serif\" font-size=\"14.00\">countryId: id *unique*</text>\n",
       "<text text-anchor=\"middle\" x=\"271.93\" y=\"-222.12\" font-family=\"Times,serif\" font-size=\"14.00\">countryName: name</text>\n",
       "<text text-anchor=\"middle\" x=\"271.93\" y=\"-205.62\" font-family=\"Times,serif\" font-size=\"14.00\">capital: capital</text>\n",
       "<text text-anchor=\"middle\" x=\"271.93\" y=\"-189.12\" font-family=\"Times,serif\" font-size=\"14.00\">subregion: subregion</text>\n",
       "</g>\n",
       "<!-- State&#45;&gt;Country -->\n",
       "<g id=\"edge2\" class=\"edge\">\n",
       "<title>State&#45;&gt;Country</title>\n",
       "<path fill=\"none\" stroke=\"black\" d=\"M271.93,-382.45C271.93,-369.67 271.93,-355.95 271.93,-342.29\"/>\n",
       "<polygon fill=\"black\" stroke=\"black\" points=\"275.43,-342.37 271.93,-332.37 268.43,-342.37 275.43,-342.37\"/>\n",
       "<text text-anchor=\"middle\" x=\"338.68\" y=\"-351.59\" font-family=\"Times,serif\" font-size=\"14.00\">STATE_IN_COUNTRY</text>\n",
       "</g>\n",
       "<!-- Region -->\n",
       "<g id=\"node4\" class=\"node\">\n",
       "<title>Region</title>\n",
       "<ellipse fill=\"none\" stroke=\"black\" cx=\"126.93\" cy=\"-51.97\" rx=\"126.93\" ry=\"51.97\"/>\n",
       "<text text-anchor=\"middle\" x=\"126.93\" y=\"-71.42\" font-family=\"Times,serif\" font-size=\"14.00\">Region</text>\n",
       "<text text-anchor=\"middle\" x=\"126.93\" y=\"-38.92\" font-family=\"Times,serif\" font-size=\"14.00\">properties:</text>\n",
       "<text text-anchor=\"middle\" x=\"126.93\" y=\"-22.42\" font-family=\"Times,serif\" font-size=\"14.00\">regionName: region *unique*</text>\n",
       "</g>\n",
       "<!-- Country&#45;&gt;Region -->\n",
       "<g id=\"edge3\" class=\"edge\">\n",
       "<title>Country&#45;&gt;Region</title>\n",
       "<path fill=\"none\" stroke=\"black\" d=\"M216.9,-170.53C201.82,-150.83 185.67,-129.73 171.28,-110.92\"/>\n",
       "<polygon fill=\"black\" stroke=\"black\" points=\"174.14,-108.9 165.28,-103.08 168.58,-113.15 174.14,-108.9\"/>\n",
       "<text text-anchor=\"middle\" x=\"262.93\" y=\"-125.14\" font-family=\"Times,serif\" font-size=\"14.00\">COUNTRY_IN_REGION</text>\n",
       "</g>\n",
       "<!-- Currency -->\n",
       "<g id=\"node5\" class=\"node\">\n",
       "<title>Currency</title>\n",
       "<ellipse fill=\"none\" stroke=\"black\" cx=\"416.93\" cy=\"-51.97\" rx=\"144.96\" ry=\"51.97\"/>\n",
       "<text text-anchor=\"middle\" x=\"416.93\" y=\"-71.42\" font-family=\"Times,serif\" font-size=\"14.00\">Currency</text>\n",
       "<text text-anchor=\"middle\" x=\"416.93\" y=\"-38.92\" font-family=\"Times,serif\" font-size=\"14.00\">properties:</text>\n",
       "<text text-anchor=\"middle\" x=\"416.93\" y=\"-22.42\" font-family=\"Times,serif\" font-size=\"14.00\">currencyName: currency *unique*</text>\n",
       "</g>\n",
       "<!-- Country&#45;&gt;Currency -->\n",
       "<g id=\"edge4\" class=\"edge\">\n",
       "<title>Country&#45;&gt;Currency</title>\n",
       "<path fill=\"none\" stroke=\"black\" d=\"M326.95,-170.53C341.89,-151.01 357.88,-130.11 372.18,-111.43\"/>\n",
       "<polygon fill=\"black\" stroke=\"black\" points=\"374.83,-113.73 378.13,-103.66 369.27,-109.47 374.83,-113.73\"/>\n",
       "<text text-anchor=\"middle\" x=\"418.68\" y=\"-125.14\" font-family=\"Times,serif\" font-size=\"14.00\">CURRENCY_USED</text>\n",
       "</g>\n",
       "</g>\n",
       "</svg>\n"
      ],
      "text/plain": [
       "<graphviz.graphs.Digraph at 0x16d7f0e60>"
      ]
     },
     "execution_count": 32,
     "metadata": {},
     "output_type": "execute_result"
    }
   ],
   "source": [
    "gdm.current_model.visualize()"
   ]
  },
  {
   "cell_type": "code",
   "execution_count": null,
   "metadata": {},
   "outputs": [],
   "source": []
  }
 ],
 "metadata": {
  "kernelspec": {
   "display_name": "neo4j-runway-20CPAOlQ-py3.12",
   "language": "python",
   "name": "python3"
  },
  "language_info": {
   "codemirror_mode": {
    "name": "ipython",
    "version": 3
   },
   "file_extension": ".py",
   "mimetype": "text/x-python",
   "name": "python",
   "nbconvert_exporter": "python",
   "pygments_lexer": "ipython3",
   "version": "3.12.3"
  }
 },
 "nbformat": 4,
 "nbformat_minor": 2
}
