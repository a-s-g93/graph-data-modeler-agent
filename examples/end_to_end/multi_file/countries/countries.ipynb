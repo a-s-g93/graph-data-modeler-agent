{
 "cells": [
  {
   "cell_type": "code",
   "execution_count": 1,
   "metadata": {},
   "outputs": [
    {
     "name": "stdout",
     "output_type": "stream",
     "text": [
      "Requirement already satisfied: nest_asyncio in /Users/alexandergilmore/Library/Caches/pypoetry/virtualenvs/neo4j-runway-20CPAOlQ-py3.12/lib/python3.12/site-packages (1.6.0)\n",
      "\n",
      "\u001b[1m[\u001b[0m\u001b[34;49mnotice\u001b[0m\u001b[1;39;49m]\u001b[0m\u001b[39;49m A new release of pip is available: \u001b[0m\u001b[31;49m24.0\u001b[0m\u001b[39;49m -> \u001b[0m\u001b[32;49m24.2\u001b[0m\n",
      "\u001b[1m[\u001b[0m\u001b[34;49mnotice\u001b[0m\u001b[1;39;49m]\u001b[0m\u001b[39;49m To update, run: \u001b[0m\u001b[32;49mpip install --upgrade pip\u001b[0m\n"
     ]
    }
   ],
   "source": [
    "!pip install nest_asyncio\n",
    "import nest_asyncio\n",
    "nest_asyncio.apply()"
   ]
  },
  {
   "cell_type": "code",
   "execution_count": 2,
   "metadata": {},
   "outputs": [
    {
     "data": {
      "text/plain": [
       "True"
      ]
     },
     "execution_count": 2,
     "metadata": {},
     "output_type": "execute_result"
    }
   ],
   "source": [
    "from neo4j_runway import Discovery\n",
    "from neo4j_runway.llm.openai import OpenAIDataModelingLLM, OpenAIDiscoveryLLM\n",
    "from neo4j_runway.utils.data import load_data_dictionary_from_yaml, load_local_files\n",
    "\n",
    "from dotenv import load_dotenv\n",
    "\n",
    "load_dotenv()"
   ]
  },
  {
   "cell_type": "markdown",
   "metadata": {},
   "source": [
    "# Load Data"
   ]
  },
  {
   "cell_type": "code",
   "execution_count": 3,
   "metadata": {},
   "outputs": [],
   "source": [
    "use_cases = [\"How many subregions are in a region and how many countries are in a subregion?\",\n",
    "    \"What is the most common currency?\",\n",
    "    \"Which subregions contain the most cities?\"]\n",
    "data_dictionary = load_data_dictionary_from_yaml(\"./data_dictionary.yaml\")\n",
    "data = load_local_files(data_directory=\"../../../data/countries/\", general_description=\"These files contain information on countries.\", use_cases=use_cases, data_dictionary=data_dictionary)"
   ]
  },
  {
   "cell_type": "markdown",
   "metadata": {},
   "source": [
    "# Discovery"
   ]
  },
  {
   "cell_type": "code",
   "execution_count": 4,
   "metadata": {},
   "outputs": [
    {
     "name": "stderr",
     "output_type": "stream",
     "text": [
      "/Users/alexandergilmore/Documents/projects/neo4j-runway/neo4j_runway/discovery/discovery.py:137: ExperimentalFeatureWarning: Multi file Discovery is an experimental feature and may not work as expected. Please use with caution and raise any issues encountered here: https://github.com/a-s-g93/neo4j-runway/issues\n",
      "  warnings.warn(\n"
     ]
    }
   ],
   "source": [
    "disc_llm = OpenAIDiscoveryLLM(model_name=\"gpt-4o-mini-2024-07-18\", enable_async=True)\n",
    "discovery = Discovery(llm=disc_llm, data=data)"
   ]
  },
  {
   "cell_type": "code",
   "execution_count": 5,
   "metadata": {},
   "outputs": [
    {
     "data": {
      "text/markdown": [
       "### Summary of Insights for Graph Data Model\n",
       "\n",
       "#### Unique Identifiers\n",
       "- **City ID**: Unique identifier for each city from the `cities.csv` dataset.\n",
       "- **Country ID**: Unique identifier for each country from the `countries.csv` dataset.\n",
       "- **State ID**: Unique identifier for each state from the `states.csv` dataset.\n",
       "\n",
       "#### Significant Properties\n",
       "- **City Name**: Name of the city.\n",
       "- **Country Name**: Name of the country.\n",
       "- **Capital**: Capital city of the country.\n",
       "- **Currency**: Currency used by the country.\n",
       "- **Region**: Region to which the country belongs.\n",
       "- **Subregion**: Subregion to which the country belongs.\n",
       "- **State Name**: Name of the state.\n",
       "\n",
       "#### Possible Node Labels\n",
       "- **City**: Represents individual cities.\n",
       "- **Country**: Represents individual countries.\n",
       "- **State**: Represents individual states.\n",
       "- **Subregion**: Represents subregions.\n",
       "- **Region**: Represents regions.\n",
       "\n",
       "#### Possible Relationships\n",
       "- **(City)-[:LOCATED_IN]->(Country)**: Indicates that a city is located in a specific country.\n",
       "- **(Country)-[:PART_OF]->(Subregion)**: Indicates that a country is part of a specific subregion.\n",
       "- **(Subregion)-[:PART_OF]->(Region)**: Indicates that a subregion is part of a specific region.\n",
       "- **(Country)-[:HAS_CURRENCY]->(Currency)**: Indicates the currency used by a country.\n",
       "- **(State)-[:LOCATED_IN]->(Country)**: Indicates that a state is located in a specific country.\n",
       "\n",
       "#### Use Case Insights\n",
       "1. **Subregions and Countries**:\n",
       "   - There are **22 unique subregions** in the dataset. Each subregion can contain multiple countries, which can be analyzed through the `Country` nodes linked to `Subregion` nodes.\n",
       "\n",
       "2. **Most Common Currency**:\n",
       "   - The dataset identifies the **Euro (EUR)** as the most common currency, used by **35 countries**. This can be represented through the `Currency` node linked to the `Country` nodes.\n",
       "\n",
       "3. **Subregions with Most Cities**:\n",
       "   - By linking `City` nodes to `Country` nodes and then to `Subregion` nodes, we can analyze which subregions contain the most cities, providing insights into urban distribution across subregions."
      ],
      "text/plain": [
       "<IPython.core.display.Markdown object>"
      ]
     },
     "metadata": {},
     "output_type": "display_data"
    }
   ],
   "source": [
    "discovery.run_async(num_calls=3)"
   ]
  },
  {
   "cell_type": "code",
   "execution_count": 6,
   "metadata": {},
   "outputs": [],
   "source": [
    "# with open(\"./outputs/final_discovery.md\") as f:\n",
    "#     discovery = f.read()"
   ]
  },
  {
   "cell_type": "code",
   "execution_count": 7,
   "metadata": {},
   "outputs": [],
   "source": [
    "# print(discovery)"
   ]
  },
  {
   "cell_type": "markdown",
   "metadata": {},
   "source": [
    "## Save Insights"
   ]
  },
  {
   "cell_type": "code",
   "execution_count": 8,
   "metadata": {},
   "outputs": [],
   "source": [
    "# discovery.to_markdown(file_dir=\"./outputs/\")"
   ]
  },
  {
   "cell_type": "markdown",
   "metadata": {},
   "source": [
    "# Data Modeling"
   ]
  },
  {
   "cell_type": "code",
   "execution_count": 9,
   "metadata": {},
   "outputs": [],
   "source": [
    "from neo4j_runway import GraphDataModeler"
   ]
  },
  {
   "cell_type": "code",
   "execution_count": 10,
   "metadata": {},
   "outputs": [
    {
     "name": "stderr",
     "output_type": "stream",
     "text": [
      "/Users/alexandergilmore/Documents/projects/neo4j-runway/neo4j_runway/modeler/modeler.py:115: ExperimentalFeatureWarning: Multi file Data Modeling is an experimental feature and may not work as expected. Please use with caution and raise any issues encountered here: https://github.com/a-s-g93/neo4j-runway/issues\n",
      "  warnings.warn(\n"
     ]
    }
   ],
   "source": [
    "modeling_llm = OpenAIDataModelingLLM(model_name=\"gpt-4o\", model_params={\"temperature\": 0.3})\n",
    "gdm = GraphDataModeler(llm=modeling_llm, discovery=discovery, data_dictionary=data_dictionary)"
   ]
  },
  {
   "cell_type": "code",
   "execution_count": 11,
   "metadata": {},
   "outputs": [
    {
     "name": "stdout",
     "output_type": "stream",
     "text": [
      "\u001b[1m> Generating Nodes...\u001b[00m\n",
      "\u001b[3mAttempts | 1  \u001b[0m\n",
      "Received \u001b[92mValid\u001b[00m Nodes\n",
      "Nodes\n",
      "* \u001b[96m(:City)\u001b[00m     * \u001b[96m(:Country)\u001b[00m\n",
      "* \u001b[96m(:State)\u001b[00m    * \u001b[96m(:Subregion)\u001b[00m\n",
      "* \u001b[96m(:Region)\u001b[00m    \n",
      "\n",
      "\u001b[1m> Generating Data Model...\u001b[00m\n",
      "\u001b[3mAttempts | 3  \u001b[0m\n",
      "Recieved \u001b[92mValid\u001b[00m Data Model\n",
      "Nodes\n",
      "* \u001b[96m(:City)\u001b[00m     * \u001b[96m(:Country)\u001b[00m\n",
      "* \u001b[96m(:State)\u001b[00m    * \u001b[96m(:Subregion)\u001b[00m\n",
      "* \u001b[96m(:Region)\u001b[00m   * \u001b[96m(:Currency)\u001b[00m \n",
      "\n",
      "Relationships\n",
      "* \u001b[96m(:City)-[:LOCATED_IN]->(:Country)\u001b[00m         \n",
      "* \u001b[96m(:Country)-[:PART_OF]->(:Subregion)\u001b[00m       \n",
      "* \u001b[96m(:Subregion)-[:PART_OF]->(:Region)\u001b[00m        \n",
      "* \u001b[96m(:Country)-[:HAS_CURRENCY]->(:Currency)\u001b[00m   \n",
      "* \u001b[96m(:State)-[:LOCATED_IN]->(:Country)\u001b[00m        \n"
     ]
    },
    {
     "data": {
      "text/plain": [
       "DataModel(nodes=[Node(label='City', properties=[Property(name='cityId', type='str', column_mapping='id', alias=None, is_unique=True, part_of_key=False), Property(name='cityName', type='str', column_mapping='name', alias=None, is_unique=False, part_of_key=False)], source_name='cities.csv'), Node(label='Country', properties=[Property(name='countryId', type='str', column_mapping='id', alias='country_id', is_unique=True, part_of_key=False), Property(name='countryName', type='str', column_mapping='name', alias=None, is_unique=False, part_of_key=False), Property(name='capital', type='str', column_mapping='capital', alias=None, is_unique=False, part_of_key=False)], source_name='countries.csv'), Node(label='State', properties=[Property(name='stateId', type='str', column_mapping='id', alias='state_id', is_unique=True, part_of_key=False), Property(name='stateName', type='str', column_mapping='name', alias=None, is_unique=False, part_of_key=False)], source_name='states.csv'), Node(label='Subregion', properties=[Property(name='subregionName', type='str', column_mapping='subregion', alias=None, is_unique=True, part_of_key=False)], source_name='countries.csv'), Node(label='Region', properties=[Property(name='regionName', type='str', column_mapping='region', alias=None, is_unique=True, part_of_key=False)], source_name='countries.csv'), Node(label='Currency', properties=[Property(name='currencyName', type='str', column_mapping='currency', alias=None, is_unique=True, part_of_key=False)], source_name='countries.csv')], relationships=[Relationship(type='LOCATED_IN', properties=[], source='City', target='Country', source_name='cities.csv'), Relationship(type='PART_OF', properties=[], source='Country', target='Subregion', source_name='countries.csv'), Relationship(type='PART_OF', properties=[], source='Subregion', target='Region', source_name='countries.csv'), Relationship(type='HAS_CURRENCY', properties=[], source='Country', target='Currency', source_name='countries.csv'), Relationship(type='LOCATED_IN', properties=[], source='State', target='Country', source_name='states.csv')], metadata=None)"
      ]
     },
     "execution_count": 11,
     "metadata": {},
     "output_type": "execute_result"
    }
   ],
   "source": [
    "gdm.create_initial_model(use_advanced_data_model_generation_rules=True)"
   ]
  },
  {
   "cell_type": "code",
   "execution_count": 12,
   "metadata": {},
   "outputs": [
    {
     "data": {
      "image/svg+xml": [
       "<?xml version=\"1.0\" encoding=\"UTF-8\" standalone=\"no\"?>\n",
       "<!DOCTYPE svg PUBLIC \"-//W3C//DTD SVG 1.1//EN\"\n",
       " \"http://www.w3.org/Graphics/SVG/1.1/DTD/svg11.dtd\">\n",
       "<!-- Generated by graphviz version 10.0.1 (20240210.2158)\n",
       " -->\n",
       "<!-- Pages: 1 -->\n",
       "<svg width=\"622pt\" height=\"651pt\"\n",
       " viewBox=\"0.00 0.00 622.40 651.28\" xmlns=\"http://www.w3.org/2000/svg\" xmlns:xlink=\"http://www.w3.org/1999/xlink\">\n",
       "<g id=\"graph0\" class=\"graph\" transform=\"scale(1 1) rotate(0) translate(4 647.28)\">\n",
       "<polygon fill=\"white\" stroke=\"none\" points=\"-4,4 -4,-647.28 618.4,-647.28 618.4,4 -4,4\"/>\n",
       "<!-- City -->\n",
       "<g id=\"node1\" class=\"node\">\n",
       "<title>City</title>\n",
       "<ellipse fill=\"none\" stroke=\"black\" cx=\"216.44\" cy=\"-579.64\" rx=\"84.5\" ry=\"63.64\"/>\n",
       "<text text-anchor=\"middle\" x=\"216.44\" y=\"-607.34\" font-family=\"Times,serif\" font-size=\"14.00\">City</text>\n",
       "<text text-anchor=\"middle\" x=\"216.44\" y=\"-574.84\" font-family=\"Times,serif\" font-size=\"14.00\">properties:</text>\n",
       "<text text-anchor=\"middle\" x=\"216.44\" y=\"-558.34\" font-family=\"Times,serif\" font-size=\"14.00\">cityId: id *unique*</text>\n",
       "<text text-anchor=\"middle\" x=\"216.44\" y=\"-541.84\" font-family=\"Times,serif\" font-size=\"14.00\">cityName: name</text>\n",
       "</g>\n",
       "<!-- Country -->\n",
       "<g id=\"node2\" class=\"node\">\n",
       "<title>Country</title>\n",
       "<ellipse fill=\"none\" stroke=\"black\" cx=\"311.44\" cy=\"-388.2\" rx=\"99.35\" ry=\"75.31\"/>\n",
       "<text text-anchor=\"middle\" x=\"311.44\" y=\"-424.15\" font-family=\"Times,serif\" font-size=\"14.00\">Country</text>\n",
       "<text text-anchor=\"middle\" x=\"311.44\" y=\"-391.65\" font-family=\"Times,serif\" font-size=\"14.00\">properties:</text>\n",
       "<text text-anchor=\"middle\" x=\"311.44\" y=\"-375.15\" font-family=\"Times,serif\" font-size=\"14.00\">countryId: id *unique*</text>\n",
       "<text text-anchor=\"middle\" x=\"311.44\" y=\"-358.65\" font-family=\"Times,serif\" font-size=\"14.00\">countryName: name</text>\n",
       "<text text-anchor=\"middle\" x=\"311.44\" y=\"-342.15\" font-family=\"Times,serif\" font-size=\"14.00\">capital: capital</text>\n",
       "</g>\n",
       "<!-- City&#45;&gt;Country -->\n",
       "<g id=\"edge1\" class=\"edge\">\n",
       "<title>City&#45;&gt;Country</title>\n",
       "<path fill=\"none\" stroke=\"black\" d=\"M245.98,-519.74C254.04,-503.67 262.91,-485.98 271.44,-468.96\"/>\n",
       "<polygon fill=\"black\" stroke=\"black\" points=\"274.39,-470.89 275.74,-460.38 268.13,-467.75 274.39,-470.89\"/>\n",
       "<text text-anchor=\"middle\" x=\"305.69\" y=\"-484.7\" font-family=\"Times,serif\" font-size=\"14.00\">LOCATED_IN</text>\n",
       "</g>\n",
       "<!-- Subregion -->\n",
       "<g id=\"node4\" class=\"node\">\n",
       "<title>Subregion</title>\n",
       "<ellipse fill=\"none\" stroke=\"black\" cx=\"153.44\" cy=\"-208.42\" rx=\"153.44\" ry=\"51.97\"/>\n",
       "<text text-anchor=\"middle\" x=\"153.44\" y=\"-227.87\" font-family=\"Times,serif\" font-size=\"14.00\">Subregion</text>\n",
       "<text text-anchor=\"middle\" x=\"153.44\" y=\"-195.37\" font-family=\"Times,serif\" font-size=\"14.00\">properties:</text>\n",
       "<text text-anchor=\"middle\" x=\"153.44\" y=\"-178.87\" font-family=\"Times,serif\" font-size=\"14.00\">subregionName: subregion *unique*</text>\n",
       "</g>\n",
       "<!-- Country&#45;&gt;Subregion -->\n",
       "<g id=\"edge2\" class=\"edge\">\n",
       "<title>Country&#45;&gt;Subregion</title>\n",
       "<path fill=\"none\" stroke=\"black\" d=\"M256.62,-325.52C239.78,-306.56 221.3,-285.77 204.7,-267.09\"/>\n",
       "<polygon fill=\"black\" stroke=\"black\" points=\"207.48,-264.95 198.22,-259.8 202.25,-269.6 207.48,-264.95\"/>\n",
       "<text text-anchor=\"middle\" x=\"257.69\" y=\"-281.59\" font-family=\"Times,serif\" font-size=\"14.00\">PART_OF</text>\n",
       "</g>\n",
       "<!-- Currency -->\n",
       "<g id=\"node6\" class=\"node\">\n",
       "<title>Currency</title>\n",
       "<ellipse fill=\"none\" stroke=\"black\" cx=\"469.44\" cy=\"-208.42\" rx=\"144.96\" ry=\"51.97\"/>\n",
       "<text text-anchor=\"middle\" x=\"469.44\" y=\"-227.87\" font-family=\"Times,serif\" font-size=\"14.00\">Currency</text>\n",
       "<text text-anchor=\"middle\" x=\"469.44\" y=\"-195.37\" font-family=\"Times,serif\" font-size=\"14.00\">properties:</text>\n",
       "<text text-anchor=\"middle\" x=\"469.44\" y=\"-178.87\" font-family=\"Times,serif\" font-size=\"14.00\">currencyName: currency *unique*</text>\n",
       "</g>\n",
       "<!-- Country&#45;&gt;Currency -->\n",
       "<g id=\"edge4\" class=\"edge\">\n",
       "<title>Country&#45;&gt;Currency</title>\n",
       "<path fill=\"none\" stroke=\"black\" d=\"M366.26,-325.52C383.19,-306.47 401.75,-285.58 418.41,-266.83\"/>\n",
       "<polygon fill=\"black\" stroke=\"black\" points=\"420.89,-269.32 424.92,-259.52 415.66,-264.67 420.89,-269.32\"/>\n",
       "<text text-anchor=\"middle\" x=\"458.07\" y=\"-281.59\" font-family=\"Times,serif\" font-size=\"14.00\">HAS_CURRENCY</text>\n",
       "</g>\n",
       "<!-- State -->\n",
       "<g id=\"node3\" class=\"node\">\n",
       "<title>State</title>\n",
       "<ellipse fill=\"none\" stroke=\"black\" cx=\"406.44\" cy=\"-579.64\" rx=\"87.68\" ry=\"63.64\"/>\n",
       "<text text-anchor=\"middle\" x=\"406.44\" y=\"-607.34\" font-family=\"Times,serif\" font-size=\"14.00\">State</text>\n",
       "<text text-anchor=\"middle\" x=\"406.44\" y=\"-574.84\" font-family=\"Times,serif\" font-size=\"14.00\">properties:</text>\n",
       "<text text-anchor=\"middle\" x=\"406.44\" y=\"-558.34\" font-family=\"Times,serif\" font-size=\"14.00\">stateId: id *unique*</text>\n",
       "<text text-anchor=\"middle\" x=\"406.44\" y=\"-541.84\" font-family=\"Times,serif\" font-size=\"14.00\">stateName: name</text>\n",
       "</g>\n",
       "<!-- State&#45;&gt;Country -->\n",
       "<g id=\"edge5\" class=\"edge\">\n",
       "<title>State&#45;&gt;Country</title>\n",
       "<path fill=\"none\" stroke=\"black\" d=\"M376.77,-519.48C368.72,-503.42 359.86,-485.76 351.34,-468.77\"/>\n",
       "<polygon fill=\"black\" stroke=\"black\" points=\"354.66,-467.58 347.05,-460.21 348.41,-470.72 354.66,-467.58\"/>\n",
       "<text text-anchor=\"middle\" x=\"405.69\" y=\"-484.7\" font-family=\"Times,serif\" font-size=\"14.00\">LOCATED_IN</text>\n",
       "</g>\n",
       "<!-- Region -->\n",
       "<g id=\"node5\" class=\"node\">\n",
       "<title>Region</title>\n",
       "<ellipse fill=\"none\" stroke=\"black\" cx=\"153.44\" cy=\"-51.97\" rx=\"126.93\" ry=\"51.97\"/>\n",
       "<text text-anchor=\"middle\" x=\"153.44\" y=\"-71.42\" font-family=\"Times,serif\" font-size=\"14.00\">Region</text>\n",
       "<text text-anchor=\"middle\" x=\"153.44\" y=\"-38.92\" font-family=\"Times,serif\" font-size=\"14.00\">properties:</text>\n",
       "<text text-anchor=\"middle\" x=\"153.44\" y=\"-22.42\" font-family=\"Times,serif\" font-size=\"14.00\">regionName: region *unique*</text>\n",
       "</g>\n",
       "<!-- Subregion&#45;&gt;Region -->\n",
       "<g id=\"edge3\" class=\"edge\">\n",
       "<title>Subregion&#45;&gt;Region</title>\n",
       "<path fill=\"none\" stroke=\"black\" d=\"M153.44,-155.99C153.44,-143.16 153.44,-129.26 153.44,-115.95\"/>\n",
       "<polygon fill=\"black\" stroke=\"black\" points=\"156.94,-115.95 153.44,-105.95 149.94,-115.95 156.94,-115.95\"/>\n",
       "<text text-anchor=\"middle\" x=\"182.69\" y=\"-125.14\" font-family=\"Times,serif\" font-size=\"14.00\">PART_OF</text>\n",
       "</g>\n",
       "</g>\n",
       "</svg>\n"
      ],
      "text/plain": [
       "<graphviz.graphs.Digraph at 0x168795eb0>"
      ]
     },
     "execution_count": 12,
     "metadata": {},
     "output_type": "execute_result"
    }
   ],
   "source": [
    "gdm.current_model.visualize()"
   ]
  },
  {
   "cell_type": "code",
   "execution_count": 13,
   "metadata": {},
   "outputs": [
    {
     "name": "stdout",
     "output_type": "stream",
     "text": [
      "\u001b[1m> Generating Data Model...\u001b[00m\n",
      "\u001b[3mAttempts | 2  \u001b[0m\n",
      "Recieved \u001b[92mValid\u001b[00m Data Model\n",
      "Nodes\n",
      "* \u001b[96m(:City)\u001b[00m     * \u001b[96m(:Country)\u001b[00m\n",
      "* \u001b[96m(:State)\u001b[00m    * \u001b[96m(:Subregion)\u001b[00m\n",
      "* \u001b[96m(:Region)\u001b[00m   * \u001b[96m(:Currency)\u001b[00m \n",
      "\n",
      "Relationships\n",
      "* \u001b[96m(:City)-[:LOCATED_IN]->(:Country)\u001b[00m         \n",
      "* \u001b[96m(:Country)-[:PART_OF]->(:Subregion)\u001b[00m       \n",
      "* \u001b[96m(:Subregion)-[:PART_OF]->(:Region)\u001b[00m        \n",
      "* \u001b[96m(:Country)-[:HAS_CURRENCY]->(:Currency)\u001b[00m   \n",
      "* \u001b[96m(:State)-[:LOCATED_IN]->(:Country)\u001b[00m        \n",
      "* \u001b[96m(:City)-[:LOCATED_IN]->(:State)\u001b[00m           \n"
     ]
    },
    {
     "data": {
      "text/plain": [
       "DataModel(nodes=[Node(label='City', properties=[Property(name='cityId', type='str', column_mapping='id', alias=None, is_unique=True, part_of_key=False), Property(name='cityName', type='str', column_mapping='name', alias=None, is_unique=False, part_of_key=False)], source_name='cities.csv'), Node(label='Country', properties=[Property(name='countryId', type='str', column_mapping='id', alias='country_id', is_unique=True, part_of_key=False), Property(name='countryName', type='str', column_mapping='name', alias=None, is_unique=False, part_of_key=False), Property(name='capital', type='str', column_mapping='capital', alias=None, is_unique=False, part_of_key=False)], source_name='countries.csv'), Node(label='State', properties=[Property(name='stateId', type='str', column_mapping='id', alias='state_id', is_unique=True, part_of_key=False), Property(name='stateName', type='str', column_mapping='name', alias=None, is_unique=False, part_of_key=False)], source_name='states.csv'), Node(label='Subregion', properties=[Property(name='subregionName', type='str', column_mapping='subregion', alias=None, is_unique=True, part_of_key=False)], source_name='countries.csv'), Node(label='Region', properties=[Property(name='regionName', type='str', column_mapping='region', alias=None, is_unique=True, part_of_key=False)], source_name='countries.csv'), Node(label='Currency', properties=[Property(name='currencyName', type='str', column_mapping='currency', alias=None, is_unique=True, part_of_key=False)], source_name='countries.csv')], relationships=[Relationship(type='LOCATED_IN', properties=[], source='City', target='Country', source_name='cities.csv'), Relationship(type='PART_OF', properties=[], source='Country', target='Subregion', source_name='countries.csv'), Relationship(type='PART_OF', properties=[], source='Subregion', target='Region', source_name='countries.csv'), Relationship(type='HAS_CURRENCY', properties=[], source='Country', target='Currency', source_name='countries.csv'), Relationship(type='LOCATED_IN', properties=[], source='State', target='Country', source_name='states.csv'), Relationship(type='LOCATED_IN', properties=[], source='City', target='State', source_name='cities.csv')], metadata=None)"
      ]
     },
     "execution_count": 13,
     "metadata": {},
     "output_type": "execute_result"
    }
   ],
   "source": [
    "corrections = \"Create a relationship between City and State\"\n",
    "\n",
    "gdm.iterate_model(corrections=corrections)"
   ]
  },
  {
   "cell_type": "code",
   "execution_count": 14,
   "metadata": {},
   "outputs": [
    {
     "data": {
      "image/svg+xml": [
       "<?xml version=\"1.0\" encoding=\"UTF-8\" standalone=\"no\"?>\n",
       "<!DOCTYPE svg PUBLIC \"-//W3C//DTD SVG 1.1//EN\"\n",
       " \"http://www.w3.org/Graphics/SVG/1.1/DTD/svg11.dtd\">\n",
       "<!-- Generated by graphviz version 10.0.1 (20240210.2158)\n",
       " -->\n",
       "<!-- Pages: 1 -->\n",
       "<svg width=\"622pt\" height=\"831pt\"\n",
       " viewBox=\"0.00 0.00 622.40 831.06\" xmlns=\"http://www.w3.org/2000/svg\" xmlns:xlink=\"http://www.w3.org/1999/xlink\">\n",
       "<g id=\"graph0\" class=\"graph\" transform=\"scale(1 1) rotate(0) translate(4 827.06)\">\n",
       "<polygon fill=\"white\" stroke=\"none\" points=\"-4,4 -4,-827.06 618.4,-827.06 618.4,4 -4,4\"/>\n",
       "<!-- City -->\n",
       "<g id=\"node1\" class=\"node\">\n",
       "<title>City</title>\n",
       "<ellipse fill=\"none\" stroke=\"black\" cx=\"311.44\" cy=\"-759.42\" rx=\"84.5\" ry=\"63.64\"/>\n",
       "<text text-anchor=\"middle\" x=\"311.44\" y=\"-787.12\" font-family=\"Times,serif\" font-size=\"14.00\">City</text>\n",
       "<text text-anchor=\"middle\" x=\"311.44\" y=\"-754.62\" font-family=\"Times,serif\" font-size=\"14.00\">properties:</text>\n",
       "<text text-anchor=\"middle\" x=\"311.44\" y=\"-738.12\" font-family=\"Times,serif\" font-size=\"14.00\">cityId: id *unique*</text>\n",
       "<text text-anchor=\"middle\" x=\"311.44\" y=\"-721.62\" font-family=\"Times,serif\" font-size=\"14.00\">cityName: name</text>\n",
       "</g>\n",
       "<!-- Country -->\n",
       "<g id=\"node2\" class=\"node\">\n",
       "<title>Country</title>\n",
       "<ellipse fill=\"none\" stroke=\"black\" cx=\"311.44\" cy=\"-388.2\" rx=\"99.35\" ry=\"75.31\"/>\n",
       "<text text-anchor=\"middle\" x=\"311.44\" y=\"-424.15\" font-family=\"Times,serif\" font-size=\"14.00\">Country</text>\n",
       "<text text-anchor=\"middle\" x=\"311.44\" y=\"-391.65\" font-family=\"Times,serif\" font-size=\"14.00\">properties:</text>\n",
       "<text text-anchor=\"middle\" x=\"311.44\" y=\"-375.15\" font-family=\"Times,serif\" font-size=\"14.00\">countryId: id *unique*</text>\n",
       "<text text-anchor=\"middle\" x=\"311.44\" y=\"-358.65\" font-family=\"Times,serif\" font-size=\"14.00\">countryName: name</text>\n",
       "<text text-anchor=\"middle\" x=\"311.44\" y=\"-342.15\" font-family=\"Times,serif\" font-size=\"14.00\">capital: capital</text>\n",
       "</g>\n",
       "<!-- City&#45;&gt;Country -->\n",
       "<g id=\"edge1\" class=\"edge\">\n",
       "<title>City&#45;&gt;Country</title>\n",
       "<path fill=\"none\" stroke=\"black\" d=\"M306.6,-695.41C305.5,-678.49 304.49,-660.2 303.94,-643.28 302.1,-586.74 302.27,-572.55 303.94,-516 304.33,-502.74 304.96,-488.71 305.68,-475.01\"/>\n",
       "<polygon fill=\"black\" stroke=\"black\" points=\"309.17,-475.28 306.22,-465.1 302.18,-474.9 309.17,-475.28\"/>\n",
       "<text text-anchor=\"middle\" x=\"345.69\" y=\"-574.59\" font-family=\"Times,serif\" font-size=\"14.00\">LOCATED_IN</text>\n",
       "</g>\n",
       "<!-- State -->\n",
       "<g id=\"node3\" class=\"node\">\n",
       "<title>State</title>\n",
       "<ellipse fill=\"none\" stroke=\"black\" cx=\"483.44\" cy=\"-579.64\" rx=\"87.68\" ry=\"63.64\"/>\n",
       "<text text-anchor=\"middle\" x=\"483.44\" y=\"-607.34\" font-family=\"Times,serif\" font-size=\"14.00\">State</text>\n",
       "<text text-anchor=\"middle\" x=\"483.44\" y=\"-574.84\" font-family=\"Times,serif\" font-size=\"14.00\">properties:</text>\n",
       "<text text-anchor=\"middle\" x=\"483.44\" y=\"-558.34\" font-family=\"Times,serif\" font-size=\"14.00\">stateId: id *unique*</text>\n",
       "<text text-anchor=\"middle\" x=\"483.44\" y=\"-541.84\" font-family=\"Times,serif\" font-size=\"14.00\">stateName: name</text>\n",
       "</g>\n",
       "<!-- City&#45;&gt;State -->\n",
       "<g id=\"edge6\" class=\"edge\">\n",
       "<title>City&#45;&gt;State</title>\n",
       "<path fill=\"none\" stroke=\"black\" d=\"M360.73,-707.48C380.98,-686.55 404.56,-662.17 425.62,-640.41\"/>\n",
       "<polygon fill=\"black\" stroke=\"black\" points=\"428.06,-642.92 432.5,-633.3 423.03,-638.05 428.06,-642.92\"/>\n",
       "<text text-anchor=\"middle\" x=\"444.69\" y=\"-664.48\" font-family=\"Times,serif\" font-size=\"14.00\">LOCATED_IN</text>\n",
       "</g>\n",
       "<!-- Subregion -->\n",
       "<g id=\"node4\" class=\"node\">\n",
       "<title>Subregion</title>\n",
       "<ellipse fill=\"none\" stroke=\"black\" cx=\"153.44\" cy=\"-208.42\" rx=\"153.44\" ry=\"51.97\"/>\n",
       "<text text-anchor=\"middle\" x=\"153.44\" y=\"-227.87\" font-family=\"Times,serif\" font-size=\"14.00\">Subregion</text>\n",
       "<text text-anchor=\"middle\" x=\"153.44\" y=\"-195.37\" font-family=\"Times,serif\" font-size=\"14.00\">properties:</text>\n",
       "<text text-anchor=\"middle\" x=\"153.44\" y=\"-178.87\" font-family=\"Times,serif\" font-size=\"14.00\">subregionName: subregion *unique*</text>\n",
       "</g>\n",
       "<!-- Country&#45;&gt;Subregion -->\n",
       "<g id=\"edge2\" class=\"edge\">\n",
       "<title>Country&#45;&gt;Subregion</title>\n",
       "<path fill=\"none\" stroke=\"black\" d=\"M256.62,-325.52C239.78,-306.56 221.3,-285.77 204.7,-267.09\"/>\n",
       "<polygon fill=\"black\" stroke=\"black\" points=\"207.48,-264.95 198.22,-259.8 202.25,-269.6 207.48,-264.95\"/>\n",
       "<text text-anchor=\"middle\" x=\"257.69\" y=\"-281.59\" font-family=\"Times,serif\" font-size=\"14.00\">PART_OF</text>\n",
       "</g>\n",
       "<!-- Currency -->\n",
       "<g id=\"node6\" class=\"node\">\n",
       "<title>Currency</title>\n",
       "<ellipse fill=\"none\" stroke=\"black\" cx=\"469.44\" cy=\"-208.42\" rx=\"144.96\" ry=\"51.97\"/>\n",
       "<text text-anchor=\"middle\" x=\"469.44\" y=\"-227.87\" font-family=\"Times,serif\" font-size=\"14.00\">Currency</text>\n",
       "<text text-anchor=\"middle\" x=\"469.44\" y=\"-195.37\" font-family=\"Times,serif\" font-size=\"14.00\">properties:</text>\n",
       "<text text-anchor=\"middle\" x=\"469.44\" y=\"-178.87\" font-family=\"Times,serif\" font-size=\"14.00\">currencyName: currency *unique*</text>\n",
       "</g>\n",
       "<!-- Country&#45;&gt;Currency -->\n",
       "<g id=\"edge4\" class=\"edge\">\n",
       "<title>Country&#45;&gt;Currency</title>\n",
       "<path fill=\"none\" stroke=\"black\" d=\"M366.26,-325.52C383.19,-306.47 401.75,-285.58 418.41,-266.83\"/>\n",
       "<polygon fill=\"black\" stroke=\"black\" points=\"420.89,-269.32 424.92,-259.52 415.66,-264.67 420.89,-269.32\"/>\n",
       "<text text-anchor=\"middle\" x=\"458.07\" y=\"-281.59\" font-family=\"Times,serif\" font-size=\"14.00\">HAS_CURRENCY</text>\n",
       "</g>\n",
       "<!-- State&#45;&gt;Country -->\n",
       "<g id=\"edge5\" class=\"edge\">\n",
       "<title>State&#45;&gt;Country</title>\n",
       "<path fill=\"none\" stroke=\"black\" d=\"M435.53,-525.87C416.76,-505.19 394.95,-481.17 374.9,-459.09\"/>\n",
       "<polygon fill=\"black\" stroke=\"black\" points=\"377.64,-456.9 368.33,-451.85 372.46,-461.61 377.64,-456.9\"/>\n",
       "<text text-anchor=\"middle\" x=\"448.69\" y=\"-484.7\" font-family=\"Times,serif\" font-size=\"14.00\">LOCATED_IN</text>\n",
       "</g>\n",
       "<!-- Region -->\n",
       "<g id=\"node5\" class=\"node\">\n",
       "<title>Region</title>\n",
       "<ellipse fill=\"none\" stroke=\"black\" cx=\"153.44\" cy=\"-51.97\" rx=\"126.93\" ry=\"51.97\"/>\n",
       "<text text-anchor=\"middle\" x=\"153.44\" y=\"-71.42\" font-family=\"Times,serif\" font-size=\"14.00\">Region</text>\n",
       "<text text-anchor=\"middle\" x=\"153.44\" y=\"-38.92\" font-family=\"Times,serif\" font-size=\"14.00\">properties:</text>\n",
       "<text text-anchor=\"middle\" x=\"153.44\" y=\"-22.42\" font-family=\"Times,serif\" font-size=\"14.00\">regionName: region *unique*</text>\n",
       "</g>\n",
       "<!-- Subregion&#45;&gt;Region -->\n",
       "<g id=\"edge3\" class=\"edge\">\n",
       "<title>Subregion&#45;&gt;Region</title>\n",
       "<path fill=\"none\" stroke=\"black\" d=\"M153.44,-155.99C153.44,-143.16 153.44,-129.26 153.44,-115.95\"/>\n",
       "<polygon fill=\"black\" stroke=\"black\" points=\"156.94,-115.95 153.44,-105.95 149.94,-115.95 156.94,-115.95\"/>\n",
       "<text text-anchor=\"middle\" x=\"182.69\" y=\"-125.14\" font-family=\"Times,serif\" font-size=\"14.00\">PART_OF</text>\n",
       "</g>\n",
       "</g>\n",
       "</svg>\n"
      ],
      "text/plain": [
       "<graphviz.graphs.Digraph at 0x16894b680>"
      ]
     },
     "execution_count": 14,
     "metadata": {},
     "output_type": "execute_result"
    }
   ],
   "source": [
    "gdm.current_model.visualize()"
   ]
  }
 ],
 "metadata": {
  "kernelspec": {
   "display_name": "neo4j-runway-20CPAOlQ-py3.12",
   "language": "python",
   "name": "python3"
  },
  "language_info": {
   "codemirror_mode": {
    "name": "ipython",
    "version": 3
   },
   "file_extension": ".py",
   "mimetype": "text/x-python",
   "name": "python",
   "nbconvert_exporter": "python",
   "pygments_lexer": "ipython3",
   "version": "3.12.3"
  }
 },
 "nbformat": 4,
 "nbformat_minor": 2
}
