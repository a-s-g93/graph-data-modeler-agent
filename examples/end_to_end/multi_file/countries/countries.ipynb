{
 "cells": [
  {
   "cell_type": "markdown",
   "metadata": {},
   "source": [
    "# End-To-End: Countries Multi-file Modeling"
   ]
  },
  {
   "cell_type": "code",
   "execution_count": 1,
   "metadata": {},
   "outputs": [
    {
     "data": {
      "text/plain": [
       "True"
      ]
     },
     "execution_count": 1,
     "metadata": {},
     "output_type": "execute_result"
    }
   ],
   "source": [
    "import os\n",
    "\n",
    "from neo4j_runway import Discovery\n",
    "from neo4j_runway.llm.openai import OpenAIDataModelingLLM, OpenAIDiscoveryLLM\n",
    "from neo4j_runway.utils.data import load_data_dictionary_from_yaml, load_local_files\n",
    "\n",
    "from dotenv import load_dotenv\n",
    "\n",
    "load_dotenv()"
   ]
  },
  {
   "cell_type": "markdown",
   "metadata": {},
   "source": [
    "# Load Data"
   ]
  },
  {
   "cell_type": "code",
   "execution_count": 2,
   "metadata": {},
   "outputs": [],
   "source": [
    "data_directory = \"../../../data/countries/\"\n",
    "\n",
    "use_cases = [\n",
    "    \"How many subregions are in a region and how many countries are in a subregion?\",\n",
    "    \"What is the most common currency?\",\n",
    "    \"Which subregions contain the most cities?\"\n",
    "    ]\n",
    "\n",
    "data_dictionary = load_data_dictionary_from_yaml(\"./data_dictionary.yaml\")\n",
    "\n",
    "data = load_local_files(data_directory=data_directory, \n",
    "                        general_description=\"These files contain information on countries.\", \n",
    "                        use_cases=use_cases, \n",
    "                        data_dictionary=data_dictionary)"
   ]
  },
  {
   "cell_type": "markdown",
   "metadata": {},
   "source": [
    "## Visualize Some Data"
   ]
  },
  {
   "cell_type": "markdown",
   "metadata": {},
   "source": [
    "### Countries"
   ]
  },
  {
   "cell_type": "code",
   "execution_count": 3,
   "metadata": {},
   "outputs": [
    {
     "data": {
      "text/html": [
       "<div>\n",
       "<style scoped>\n",
       "    .dataframe tbody tr th:only-of-type {\n",
       "        vertical-align: middle;\n",
       "    }\n",
       "\n",
       "    .dataframe tbody tr th {\n",
       "        vertical-align: top;\n",
       "    }\n",
       "\n",
       "    .dataframe thead th {\n",
       "        text-align: right;\n",
       "    }\n",
       "</style>\n",
       "<table border=\"1\" class=\"dataframe\">\n",
       "  <thead>\n",
       "    <tr style=\"text-align: right;\">\n",
       "      <th></th>\n",
       "      <th>id</th>\n",
       "      <th>name</th>\n",
       "      <th>capital</th>\n",
       "      <th>currency</th>\n",
       "      <th>region</th>\n",
       "      <th>subregion</th>\n",
       "    </tr>\n",
       "  </thead>\n",
       "  <tbody>\n",
       "    <tr>\n",
       "      <th>0</th>\n",
       "      <td>1</td>\n",
       "      <td>Afghanistan</td>\n",
       "      <td>Kabul</td>\n",
       "      <td>AFN</td>\n",
       "      <td>Asia</td>\n",
       "      <td>Southern Asia</td>\n",
       "    </tr>\n",
       "    <tr>\n",
       "      <th>1</th>\n",
       "      <td>2</td>\n",
       "      <td>Aland Islands</td>\n",
       "      <td>Mariehamn</td>\n",
       "      <td>EUR</td>\n",
       "      <td>Europe</td>\n",
       "      <td>Northern Europe</td>\n",
       "    </tr>\n",
       "    <tr>\n",
       "      <th>2</th>\n",
       "      <td>3</td>\n",
       "      <td>Albania</td>\n",
       "      <td>Tirana</td>\n",
       "      <td>ALL</td>\n",
       "      <td>Europe</td>\n",
       "      <td>Southern Europe</td>\n",
       "    </tr>\n",
       "    <tr>\n",
       "      <th>3</th>\n",
       "      <td>4</td>\n",
       "      <td>Algeria</td>\n",
       "      <td>Algiers</td>\n",
       "      <td>DZD</td>\n",
       "      <td>Africa</td>\n",
       "      <td>Northern Africa</td>\n",
       "    </tr>\n",
       "    <tr>\n",
       "      <th>4</th>\n",
       "      <td>5</td>\n",
       "      <td>American Samoa</td>\n",
       "      <td>Pago Pago</td>\n",
       "      <td>USD</td>\n",
       "      <td>Oceania</td>\n",
       "      <td>Polynesia</td>\n",
       "    </tr>\n",
       "  </tbody>\n",
       "</table>\n",
       "</div>"
      ],
      "text/plain": [
       "   id            name    capital currency   region        subregion\n",
       "0   1     Afghanistan      Kabul      AFN     Asia    Southern Asia\n",
       "1   2   Aland Islands  Mariehamn      EUR   Europe  Northern Europe\n",
       "2   3         Albania     Tirana      ALL   Europe  Southern Europe\n",
       "3   4         Algeria    Algiers      DZD   Africa  Northern Africa\n",
       "4   5  American Samoa  Pago Pago      USD  Oceania        Polynesia"
      ]
     },
     "execution_count": 3,
     "metadata": {},
     "output_type": "execute_result"
    }
   ],
   "source": [
    "data.table_dict.get(\"countries.csv\").dataframe.head()"
   ]
  },
  {
   "cell_type": "markdown",
   "metadata": {},
   "source": [
    "### States"
   ]
  },
  {
   "cell_type": "code",
   "execution_count": 4,
   "metadata": {},
   "outputs": [
    {
     "data": {
      "text/html": [
       "<div>\n",
       "<style scoped>\n",
       "    .dataframe tbody tr th:only-of-type {\n",
       "        vertical-align: middle;\n",
       "    }\n",
       "\n",
       "    .dataframe tbody tr th {\n",
       "        vertical-align: top;\n",
       "    }\n",
       "\n",
       "    .dataframe thead th {\n",
       "        text-align: right;\n",
       "    }\n",
       "</style>\n",
       "<table border=\"1\" class=\"dataframe\">\n",
       "  <thead>\n",
       "    <tr style=\"text-align: right;\">\n",
       "      <th></th>\n",
       "      <th>id</th>\n",
       "      <th>name</th>\n",
       "      <th>country_id</th>\n",
       "    </tr>\n",
       "  </thead>\n",
       "  <tbody>\n",
       "    <tr>\n",
       "      <th>0</th>\n",
       "      <td>3901</td>\n",
       "      <td>Badakhshan</td>\n",
       "      <td>1</td>\n",
       "    </tr>\n",
       "    <tr>\n",
       "      <th>1</th>\n",
       "      <td>3871</td>\n",
       "      <td>Badghis</td>\n",
       "      <td>1</td>\n",
       "    </tr>\n",
       "    <tr>\n",
       "      <th>2</th>\n",
       "      <td>3875</td>\n",
       "      <td>Baghlan</td>\n",
       "      <td>1</td>\n",
       "    </tr>\n",
       "    <tr>\n",
       "      <th>3</th>\n",
       "      <td>3884</td>\n",
       "      <td>Balkh</td>\n",
       "      <td>1</td>\n",
       "    </tr>\n",
       "    <tr>\n",
       "      <th>4</th>\n",
       "      <td>3872</td>\n",
       "      <td>Bamyan</td>\n",
       "      <td>1</td>\n",
       "    </tr>\n",
       "  </tbody>\n",
       "</table>\n",
       "</div>"
      ],
      "text/plain": [
       "     id        name  country_id\n",
       "0  3901  Badakhshan           1\n",
       "1  3871     Badghis           1\n",
       "2  3875     Baghlan           1\n",
       "3  3884       Balkh           1\n",
       "4  3872      Bamyan           1"
      ]
     },
     "execution_count": 4,
     "metadata": {},
     "output_type": "execute_result"
    }
   ],
   "source": [
    "data.table_dict.get(\"states.csv\").dataframe.head()"
   ]
  },
  {
   "cell_type": "markdown",
   "metadata": {},
   "source": [
    "### Cities"
   ]
  },
  {
   "cell_type": "code",
   "execution_count": 5,
   "metadata": {},
   "outputs": [
    {
     "data": {
      "text/html": [
       "<div>\n",
       "<style scoped>\n",
       "    .dataframe tbody tr th:only-of-type {\n",
       "        vertical-align: middle;\n",
       "    }\n",
       "\n",
       "    .dataframe tbody tr th {\n",
       "        vertical-align: top;\n",
       "    }\n",
       "\n",
       "    .dataframe thead th {\n",
       "        text-align: right;\n",
       "    }\n",
       "</style>\n",
       "<table border=\"1\" class=\"dataframe\">\n",
       "  <thead>\n",
       "    <tr style=\"text-align: right;\">\n",
       "      <th></th>\n",
       "      <th>id</th>\n",
       "      <th>name</th>\n",
       "      <th>state_id</th>\n",
       "      <th>country_id</th>\n",
       "    </tr>\n",
       "  </thead>\n",
       "  <tbody>\n",
       "    <tr>\n",
       "      <th>0</th>\n",
       "      <td>52</td>\n",
       "      <td>Ashkāsham</td>\n",
       "      <td>3901</td>\n",
       "      <td>1</td>\n",
       "    </tr>\n",
       "    <tr>\n",
       "      <th>1</th>\n",
       "      <td>68</td>\n",
       "      <td>Fayzabad</td>\n",
       "      <td>3901</td>\n",
       "      <td>1</td>\n",
       "    </tr>\n",
       "    <tr>\n",
       "      <th>2</th>\n",
       "      <td>78</td>\n",
       "      <td>Jurm</td>\n",
       "      <td>3901</td>\n",
       "      <td>1</td>\n",
       "    </tr>\n",
       "    <tr>\n",
       "      <th>3</th>\n",
       "      <td>84</td>\n",
       "      <td>Khandūd</td>\n",
       "      <td>3901</td>\n",
       "      <td>1</td>\n",
       "    </tr>\n",
       "    <tr>\n",
       "      <th>4</th>\n",
       "      <td>115</td>\n",
       "      <td>Rāghistān</td>\n",
       "      <td>3901</td>\n",
       "      <td>1</td>\n",
       "    </tr>\n",
       "  </tbody>\n",
       "</table>\n",
       "</div>"
      ],
      "text/plain": [
       "    id       name  state_id  country_id\n",
       "0   52  Ashkāsham      3901           1\n",
       "1   68   Fayzabad      3901           1\n",
       "2   78       Jurm      3901           1\n",
       "3   84    Khandūd      3901           1\n",
       "4  115  Rāghistān      3901           1"
      ]
     },
     "execution_count": 5,
     "metadata": {},
     "output_type": "execute_result"
    }
   ],
   "source": [
    "data.table_dict.get(\"cities.csv\").dataframe.head()"
   ]
  },
  {
   "cell_type": "markdown",
   "metadata": {},
   "source": [
    "# Discovery"
   ]
  },
  {
   "cell_type": "code",
   "execution_count": 6,
   "metadata": {},
   "outputs": [
    {
     "name": "stderr",
     "output_type": "stream",
     "text": [
      "/Users/alexandergilmore/Documents/projects/neo4j-runway/neo4j_runway/discovery/discovery.py:137: ExperimentalFeatureWarning: Multi file Discovery is an experimental feature and may not work as expected. Please use with caution and raise any issues encountered here: https://github.com/a-s-g93/neo4j-runway/issues\n",
      "  warnings.warn(\n"
     ]
    }
   ],
   "source": [
    "disc_llm = OpenAIDiscoveryLLM(model_name=\"gpt-4o-mini-2024-07-18\", enable_async=True)\n",
    "discovery = Discovery(llm=disc_llm, data=data)"
   ]
  },
  {
   "cell_type": "code",
   "execution_count": 7,
   "metadata": {},
   "outputs": [
    {
     "data": {
      "text/markdown": [
       "### Summary of Insights for Graph Data Model\n",
       "\n",
       "#### Unique Identifiers\n",
       "- **State ID (`id`)**: Unique identifier for each state in the `states.csv` dataset.\n",
       "- **City ID (`id`)**: Unique identifier for each city in the `cities.csv` dataset.\n",
       "- **Country ID (`id`)**: Unique identifier for each country in the `countries.csv` dataset.\n",
       "\n",
       "#### Significant Properties\n",
       "- **State Name (`name`)**: Name of the state.\n",
       "- **City Name (`name`)**: Name of the city.\n",
       "- **Country Name (`name`)**: Name of the country.\n",
       "- **Capital (`capital`)**: Name of the capital city for each country.\n",
       "- **Currency (`currency`)**: Currency used by each country.\n",
       "- **Region (`region`)**: Region to which the country belongs.\n",
       "- **Subregion (`subregion`)**: Subregion to which the country belongs.\n",
       "\n",
       "#### Possible Node Labels\n",
       "1. **State**: Represents each state with properties like `id` and `name`.\n",
       "2. **City**: Represents each city with properties like `id` and `name`.\n",
       "3. **Country**: Represents each country with properties like `id`, `name`, `capital`, `currency`, `region`, and `subregion`.\n",
       "4. **Subregion**: Represents each subregion, which can be derived from the countries.\n",
       "\n",
       "#### Possible Relationships\n",
       "- **(State)-[:BELONGS_TO]->(Country)**: Indicates that a state belongs to a specific country.\n",
       "- **(City)-[:LOCATED_IN]->(State)**: Indicates that a city is located within a specific state.\n",
       "- **(Country)-[:PART_OF]->(Subregion)**: Indicates that a country is part of a specific subregion.\n",
       "- **(Country)-[:HAS_CURRENCY]->(Currency)**: Indicates the currency used by a country.\n",
       "\n",
       "#### Insights Addressing Use Cases\n",
       "1. **Subregions and Countries**: The `Country` node can be linked to the `Subregion` node, allowing for queries to count how many countries exist within each subregion and how many subregions exist within a region.\n",
       "2. **Most Common Currency**: The `Currency` property in the `Country` node can be aggregated to determine the most common currency across countries.\n",
       "3. **Subregions with Most Cities**: By linking `City` nodes to `State` nodes and then to `Country` nodes, we can aggregate city counts based on their respective subregions to identify which subregions contain the most cities."
      ],
      "text/plain": [
       "<IPython.core.display.Markdown object>"
      ]
     },
     "metadata": {},
     "output_type": "display_data"
    }
   ],
   "source": [
    "discovery.run_async(num_calls=3)"
   ]
  },
  {
   "cell_type": "markdown",
   "metadata": {},
   "source": [
    "## Save Insights"
   ]
  },
  {
   "cell_type": "code",
   "execution_count": 8,
   "metadata": {},
   "outputs": [],
   "source": [
    "# discovery.to_markdown(file_dir=\"./outputs/\")"
   ]
  },
  {
   "cell_type": "markdown",
   "metadata": {},
   "source": [
    "# Data Modeling"
   ]
  },
  {
   "cell_type": "code",
   "execution_count": 9,
   "metadata": {},
   "outputs": [],
   "source": [
    "from neo4j_runway import GraphDataModeler"
   ]
  },
  {
   "cell_type": "code",
   "execution_count": 10,
   "metadata": {},
   "outputs": [
    {
     "name": "stderr",
     "output_type": "stream",
     "text": [
      "/Users/alexandergilmore/Documents/projects/neo4j-runway/neo4j_runway/modeler/modeler.py:115: ExperimentalFeatureWarning: Multi file Data Modeling is an experimental feature and may not work as expected. Please use with caution and raise any issues encountered here: https://github.com/a-s-g93/neo4j-runway/issues\n",
      "  warnings.warn(\n"
     ]
    }
   ],
   "source": [
    "modeling_llm = OpenAIDataModelingLLM(model_name=\"gpt-4o\", model_params={\"temperature\": 0.3})\n",
    "gdm = GraphDataModeler(llm=modeling_llm, discovery=discovery)"
   ]
  },
  {
   "cell_type": "code",
   "execution_count": 11,
   "metadata": {},
   "outputs": [
    {
     "name": "stdout",
     "output_type": "stream",
     "text": [
      "\u001b[1m> Generating Nodes...\u001b[00m\n",
      "\u001b[3mAttempts | 2  \u001b[0m\n",
      "Received \u001b[92mValid\u001b[00m Nodes\n",
      "Nodes\n",
      "* \u001b[96m(:State)\u001b[00m     * \u001b[96m(:City)\u001b[00m\n",
      "* \u001b[96m(:Country)\u001b[00m   * \u001b[96m(:Subregion)\u001b[00m \n",
      "\n",
      "\u001b[1m> Generating Data Model...\u001b[00m\n",
      "\u001b[3mAttempts | 1  \u001b[0m\n",
      "Received \u001b[92mValid\u001b[00m Data Model\n",
      "Nodes\n",
      "* \u001b[96m(:State)\u001b[00m     * \u001b[96m(:City)\u001b[00m\n",
      "* \u001b[96m(:Country)\u001b[00m   * \u001b[96m(:Subregion)\u001b[00m \n",
      "\n",
      "Relationships\n",
      "* \u001b[96m(:State)-[:BELONGS_TO]->(:Country)\u001b[00m    \n",
      "* \u001b[96m(:City)-[:LOCATED_IN]->(:State)\u001b[00m       \n",
      "* \u001b[96m(:Country)-[:PART_OF]->(:Subregion)\u001b[00m   \n"
     ]
    },
    {
     "data": {
      "text/plain": [
       "DataModel(nodes=[Node(label='State', properties=[Property(name='stateId', type='str', column_mapping='id', alias='state_id', is_unique=True, part_of_key=False), Property(name='name', type='str', column_mapping='name', alias=None, is_unique=False, part_of_key=False)], source_name='states.csv'), Node(label='City', properties=[Property(name='cityId', type='str', column_mapping='id', alias=None, is_unique=True, part_of_key=False), Property(name='name', type='str', column_mapping='name', alias=None, is_unique=False, part_of_key=False)], source_name='cities.csv'), Node(label='Country', properties=[Property(name='countryId', type='str', column_mapping='id', alias='country_id', is_unique=True, part_of_key=False), Property(name='name', type='str', column_mapping='name', alias=None, is_unique=False, part_of_key=False), Property(name='capital', type='str', column_mapping='capital', alias=None, is_unique=False, part_of_key=False), Property(name='currency', type='str', column_mapping='currency', alias=None, is_unique=False, part_of_key=False), Property(name='region', type='str', column_mapping='region', alias=None, is_unique=False, part_of_key=False)], source_name='countries.csv'), Node(label='Subregion', properties=[Property(name='subregionName', type='str', column_mapping='subregion', alias=None, is_unique=True, part_of_key=False)], source_name='countries.csv')], relationships=[Relationship(type='BELONGS_TO', properties=[], source='State', target='Country', source_name='states.csv'), Relationship(type='LOCATED_IN', properties=[], source='City', target='State', source_name='cities.csv'), Relationship(type='PART_OF', properties=[], source='Country', target='Subregion', source_name='countries.csv')], metadata=None)"
      ]
     },
     "execution_count": 11,
     "metadata": {},
     "output_type": "execute_result"
    }
   ],
   "source": [
    "gdm.create_initial_model()"
   ]
  },
  {
   "cell_type": "code",
   "execution_count": 12,
   "metadata": {},
   "outputs": [
    {
     "data": {
      "image/svg+xml": [
       "<?xml version=\"1.0\" encoding=\"UTF-8\" standalone=\"no\"?>\n",
       "<!DOCTYPE svg PUBLIC \"-//W3C//DTD SVG 1.1//EN\"\n",
       " \"http://www.w3.org/Graphics/SVG/1.1/DTD/svg11.dtd\">\n",
       "<!-- Generated by graphviz version 10.0.1 (20240210.2158)\n",
       " -->\n",
       "<!-- Pages: 1 -->\n",
       "<svg width=\"443pt\" height=\"601pt\"\n",
       " viewBox=\"0.00 0.00 442.52 601.44\" xmlns=\"http://www.w3.org/2000/svg\" xmlns:xlink=\"http://www.w3.org/1999/xlink\">\n",
       "<g id=\"graph0\" class=\"graph\" transform=\"scale(1 1) rotate(0) translate(36 565.44)\">\n",
       "<polygon fill=\"azure\" stroke=\"none\" points=\"-36,36 -36,-565.44 406.52,-565.44 406.52,36 -36,36\"/>\n",
       "<!-- State -->\n",
       "<g id=\"node1\" class=\"node\">\n",
       "<title>State</title>\n",
       "<ellipse fill=\"#c1cdcd\" stroke=\"black\" cx=\"185.26\" cy=\"-354.96\" rx=\"119.5\" ry=\"40.66\"/>\n",
       "<text text-anchor=\"middle\" x=\"185.26\" y=\"-366.41\" font-family=\"Times,serif\" font-size=\"14.00\">(:State)</text>\n",
       "<text text-anchor=\"start\" x=\"108.76\" y=\"-349.91\" font-family=\"Times,serif\" font-size=\"14.00\">* stateId (id): str | UNIQUE</text>\n",
       "<text text-anchor=\"start\" x=\"108.76\" y=\"-333.41\" font-family=\"Times,serif\" font-size=\"14.00\">* name (name): str</text>\n",
       "</g>\n",
       "<!-- Country -->\n",
       "<g id=\"node3\" class=\"node\">\n",
       "<title>Country</title>\n",
       "<ellipse fill=\"#c1cdcd\" stroke=\"black\" cx=\"185.26\" cy=\"-186.14\" rx=\"131.17\" ry=\"75.66\"/>\n",
       "<text text-anchor=\"middle\" x=\"185.26\" y=\"-222.34\" font-family=\"Times,serif\" font-size=\"14.00\">(:Country)</text>\n",
       "<text text-anchor=\"start\" x=\"100.51\" y=\"-205.84\" font-family=\"Times,serif\" font-size=\"14.00\">* countryId (id): str | UNIQUE</text>\n",
       "<text text-anchor=\"start\" x=\"100.51\" y=\"-189.34\" font-family=\"Times,serif\" font-size=\"14.00\">* name (name): str</text>\n",
       "<text text-anchor=\"start\" x=\"100.51\" y=\"-172.84\" font-family=\"Times,serif\" font-size=\"14.00\">* capital (capital): str</text>\n",
       "<text text-anchor=\"start\" x=\"100.51\" y=\"-156.34\" font-family=\"Times,serif\" font-size=\"14.00\">* currency (currency): str</text>\n",
       "<text text-anchor=\"start\" x=\"100.51\" y=\"-139.84\" font-family=\"Times,serif\" font-size=\"14.00\">* region (region): str</text>\n",
       "</g>\n",
       "<!-- State&#45;&gt;Country -->\n",
       "<g id=\"edge1\" class=\"edge\">\n",
       "<title>State&#45;&gt;Country</title>\n",
       "<path fill=\"none\" stroke=\"black\" stroke-width=\"2\" d=\"M185.26,-314C185.26,-302.05 185.26,-288.44 185.26,-274.68\"/>\n",
       "<polygon fill=\"black\" stroke=\"black\" stroke-width=\"2\" points=\"188.76,-275.08 185.26,-265.08 181.76,-275.08 188.76,-275.08\"/>\n",
       "<text text-anchor=\"middle\" x=\"242.64\" y=\"-283\" font-family=\"Times,serif\" font-size=\"14.00\"> &#160;[:BELONGS_TO] &#160;</text>\n",
       "</g>\n",
       "<!-- City -->\n",
       "<g id=\"node2\" class=\"node\">\n",
       "<title>City</title>\n",
       "<ellipse fill=\"#c1cdcd\" stroke=\"black\" cx=\"185.26\" cy=\"-488.78\" rx=\"116.32\" ry=\"40.66\"/>\n",
       "<text text-anchor=\"middle\" x=\"185.26\" y=\"-500.23\" font-family=\"Times,serif\" font-size=\"14.00\">(:City)</text>\n",
       "<text text-anchor=\"start\" x=\"111.01\" y=\"-483.73\" font-family=\"Times,serif\" font-size=\"14.00\">* cityId (id): str | UNIQUE</text>\n",
       "<text text-anchor=\"start\" x=\"111.01\" y=\"-467.23\" font-family=\"Times,serif\" font-size=\"14.00\">* name (name): str</text>\n",
       "</g>\n",
       "<!-- City&#45;&gt;State -->\n",
       "<g id=\"edge2\" class=\"edge\">\n",
       "<title>City&#45;&gt;State</title>\n",
       "<path fill=\"none\" stroke=\"black\" stroke-width=\"2\" d=\"M185.26,-447.87C185.26,-435.48 185.26,-421.63 185.26,-408.52\"/>\n",
       "<polygon fill=\"black\" stroke=\"black\" stroke-width=\"2\" points=\"188.76,-408.76 185.26,-398.76 181.76,-408.76 188.76,-408.76\"/>\n",
       "<text text-anchor=\"middle\" x=\"240.39\" y=\"-416.82\" font-family=\"Times,serif\" font-size=\"14.00\"> &#160;[:LOCATED_IN] &#160;</text>\n",
       "</g>\n",
       "<!-- Subregion -->\n",
       "<g id=\"node4\" class=\"node\">\n",
       "<title>Subregion</title>\n",
       "<ellipse fill=\"#c1cdcd\" stroke=\"black\" cx=\"185.26\" cy=\"-28.99\" rx=\"185.26\" ry=\"28.99\"/>\n",
       "<text text-anchor=\"middle\" x=\"185.26\" y=\"-32.19\" font-family=\"Times,serif\" font-size=\"14.00\">(:Subregion)</text>\n",
       "<text text-anchor=\"start\" x=\"62.26\" y=\"-15.69\" font-family=\"Times,serif\" font-size=\"14.00\">* subregionName (subregion): str | UNIQUE</text>\n",
       "</g>\n",
       "<!-- Country&#45;&gt;Subregion -->\n",
       "<g id=\"edge3\" class=\"edge\">\n",
       "<title>Country&#45;&gt;Subregion</title>\n",
       "<path fill=\"none\" stroke=\"black\" stroke-width=\"2\" d=\"M185.26,-110.29C185.26,-96.78 185.26,-83.16 185.26,-71.07\"/>\n",
       "<polygon fill=\"black\" stroke=\"black\" stroke-width=\"2\" points=\"188.76,-71.18 185.26,-61.18 181.76,-71.18 188.76,-71.18\"/>\n",
       "<text text-anchor=\"middle\" x=\"228.39\" y=\"-79.18\" font-family=\"Times,serif\" font-size=\"14.00\"> &#160;[:PART_OF] &#160;</text>\n",
       "</g>\n",
       "</g>\n",
       "</svg>\n"
      ],
      "text/plain": [
       "<graphviz.graphs.Digraph at 0x13cc499a0>"
      ]
     },
     "execution_count": 12,
     "metadata": {},
     "output_type": "execute_result"
    }
   ],
   "source": [
    "gdm.current_model.visualize()"
   ]
  },
  {
   "cell_type": "code",
   "execution_count": 13,
   "metadata": {},
   "outputs": [
    {
     "name": "stdout",
     "output_type": "stream",
     "text": [
      "\u001b[1m> Generating Data Model...\u001b[00m\n",
      "\u001b[3mAttempts | 2  \u001b[0m\n",
      "Received \u001b[92mValid\u001b[00m Data Model\n",
      "Nodes\n",
      "* \u001b[96m(:State)\u001b[00m      * \u001b[96m(:City)\u001b[00m\n",
      "* \u001b[96m(:Country)\u001b[00m    * \u001b[96m(:Subregion)\u001b[00m\n",
      "* \u001b[96m(:Currency)\u001b[00m   * \u001b[96m(:Region)\u001b[00m \n",
      "\n",
      "Relationships\n",
      "* \u001b[96m(:State)-[:BELONGS_TO]->(:Country)\u001b[00m    \n",
      "* \u001b[96m(:City)-[:LOCATED_IN]->(:State)\u001b[00m       \n",
      "* \u001b[96m(:Country)-[:PART_OF]->(:Subregion)\u001b[00m   \n",
      "* \u001b[96m(:Country)-[:USES]->(:Currency)\u001b[00m       \n",
      "* \u001b[96m(:Subregion)-[:PART_OF]->(:Region)\u001b[00m    \n"
     ]
    },
    {
     "data": {
      "text/plain": [
       "DataModel(nodes=[Node(label='State', properties=[Property(name='stateId', type='str', column_mapping='id', alias='state_id', is_unique=True, part_of_key=False), Property(name='name', type='str', column_mapping='name', alias=None, is_unique=False, part_of_key=False)], source_name='states.csv'), Node(label='City', properties=[Property(name='cityId', type='str', column_mapping='id', alias=None, is_unique=True, part_of_key=False), Property(name='name', type='str', column_mapping='name', alias=None, is_unique=False, part_of_key=False)], source_name='cities.csv'), Node(label='Country', properties=[Property(name='countryId', type='str', column_mapping='id', alias='country_id', is_unique=True, part_of_key=False), Property(name='name', type='str', column_mapping='name', alias=None, is_unique=False, part_of_key=False), Property(name='capital', type='str', column_mapping='capital', alias=None, is_unique=False, part_of_key=False)], source_name='countries.csv'), Node(label='Subregion', properties=[Property(name='subregionName', type='str', column_mapping='subregion', alias=None, is_unique=True, part_of_key=False)], source_name='countries.csv'), Node(label='Currency', properties=[Property(name='currencyName', type='str', column_mapping='currency', alias=None, is_unique=True, part_of_key=False)], source_name='countries.csv'), Node(label='Region', properties=[Property(name='regionName', type='str', column_mapping='region', alias=None, is_unique=True, part_of_key=False)], source_name='countries.csv')], relationships=[Relationship(type='BELONGS_TO', properties=[], source='State', target='Country', source_name='states.csv'), Relationship(type='LOCATED_IN', properties=[], source='City', target='State', source_name='cities.csv'), Relationship(type='PART_OF', properties=[], source='Country', target='Subregion', source_name='countries.csv'), Relationship(type='USES', properties=[], source='Country', target='Currency', source_name='countries.csv'), Relationship(type='PART_OF', properties=[], source='Subregion', target='Region', source_name='countries.csv')], metadata=None)"
      ]
     },
     "execution_count": 13,
     "metadata": {},
     "output_type": "execute_result"
    }
   ],
   "source": [
    "corrections = \"Create currency and region nodes\"\n",
    "\n",
    "gdm.iterate_model(corrections=corrections)"
   ]
  },
  {
   "cell_type": "code",
   "execution_count": 14,
   "metadata": {},
   "outputs": [
    {
     "data": {
      "image/svg+xml": [
       "<?xml version=\"1.0\" encoding=\"UTF-8\" standalone=\"no\"?>\n",
       "<!DOCTYPE svg PUBLIC \"-//W3C//DTD SVG 1.1//EN\"\n",
       " \"http://www.w3.org/Graphics/SVG/1.1/DTD/svg11.dtd\">\n",
       "<!-- Generated by graphviz version 10.0.1 (20240210.2158)\n",
       " -->\n",
       "<!-- Pages: 1 -->\n",
       "<svg width=\"814pt\" height=\"665pt\"\n",
       " viewBox=\"0.00 0.00 814.04 665.25\" xmlns=\"http://www.w3.org/2000/svg\" xmlns:xlink=\"http://www.w3.org/1999/xlink\">\n",
       "<g id=\"graph0\" class=\"graph\" transform=\"scale(1 1) rotate(0) translate(36 629.25)\">\n",
       "<polygon fill=\"azure\" stroke=\"none\" points=\"-36,36 -36,-629.25 778.04,-629.25 778.04,36 -36,36\"/>\n",
       "<!-- State -->\n",
       "<g id=\"node1\" class=\"node\">\n",
       "<title>State</title>\n",
       "<ellipse fill=\"#c1cdcd\" stroke=\"black\" cx=\"375.26\" cy=\"-418.78\" rx=\"119.5\" ry=\"40.66\"/>\n",
       "<text text-anchor=\"middle\" x=\"375.26\" y=\"-430.23\" font-family=\"Times,serif\" font-size=\"14.00\">(:State)</text>\n",
       "<text text-anchor=\"start\" x=\"298.76\" y=\"-413.73\" font-family=\"Times,serif\" font-size=\"14.00\">* stateId (id): str | UNIQUE</text>\n",
       "<text text-anchor=\"start\" x=\"298.76\" y=\"-397.23\" font-family=\"Times,serif\" font-size=\"14.00\">* name (name): str</text>\n",
       "</g>\n",
       "<!-- Country -->\n",
       "<g id=\"node3\" class=\"node\">\n",
       "<title>Country</title>\n",
       "<ellipse fill=\"#c1cdcd\" stroke=\"black\" cx=\"375.26\" cy=\"-273.29\" rx=\"131.17\" ry=\"52.33\"/>\n",
       "<text text-anchor=\"middle\" x=\"375.26\" y=\"-292.99\" font-family=\"Times,serif\" font-size=\"14.00\">(:Country)</text>\n",
       "<text text-anchor=\"start\" x=\"290.51\" y=\"-276.49\" font-family=\"Times,serif\" font-size=\"14.00\">* countryId (id): str | UNIQUE</text>\n",
       "<text text-anchor=\"start\" x=\"290.51\" y=\"-259.99\" font-family=\"Times,serif\" font-size=\"14.00\">* name (name): str</text>\n",
       "<text text-anchor=\"start\" x=\"290.51\" y=\"-243.49\" font-family=\"Times,serif\" font-size=\"14.00\">* capital (capital): str</text>\n",
       "</g>\n",
       "<!-- State&#45;&gt;Country -->\n",
       "<g id=\"edge1\" class=\"edge\">\n",
       "<title>State&#45;&gt;Country</title>\n",
       "<path fill=\"none\" stroke=\"black\" stroke-width=\"2\" d=\"M375.26,-377.81C375.26,-365.62 375.26,-351.89 375.26,-338.52\"/>\n",
       "<polygon fill=\"black\" stroke=\"black\" stroke-width=\"2\" points=\"378.76,-338.89 375.26,-328.89 371.76,-338.89 378.76,-338.89\"/>\n",
       "<text text-anchor=\"middle\" x=\"432.64\" y=\"-346.82\" font-family=\"Times,serif\" font-size=\"14.00\"> &#160;[:BELONGS_TO] &#160;</text>\n",
       "</g>\n",
       "<!-- City -->\n",
       "<g id=\"node2\" class=\"node\">\n",
       "<title>City</title>\n",
       "<ellipse fill=\"#c1cdcd\" stroke=\"black\" cx=\"375.26\" cy=\"-552.59\" rx=\"116.32\" ry=\"40.66\"/>\n",
       "<text text-anchor=\"middle\" x=\"375.26\" y=\"-564.04\" font-family=\"Times,serif\" font-size=\"14.00\">(:City)</text>\n",
       "<text text-anchor=\"start\" x=\"301.01\" y=\"-547.54\" font-family=\"Times,serif\" font-size=\"14.00\">* cityId (id): str | UNIQUE</text>\n",
       "<text text-anchor=\"start\" x=\"301.01\" y=\"-531.04\" font-family=\"Times,serif\" font-size=\"14.00\">* name (name): str</text>\n",
       "</g>\n",
       "<!-- City&#45;&gt;State -->\n",
       "<g id=\"edge2\" class=\"edge\">\n",
       "<title>City&#45;&gt;State</title>\n",
       "<path fill=\"none\" stroke=\"black\" stroke-width=\"2\" d=\"M375.26,-511.69C375.26,-499.3 375.26,-485.45 375.26,-472.33\"/>\n",
       "<polygon fill=\"black\" stroke=\"black\" stroke-width=\"2\" points=\"378.76,-472.57 375.26,-462.57 371.76,-472.57 378.76,-472.57\"/>\n",
       "<text text-anchor=\"middle\" x=\"430.39\" y=\"-480.63\" font-family=\"Times,serif\" font-size=\"14.00\"> &#160;[:LOCATED_IN] &#160;</text>\n",
       "</g>\n",
       "<!-- Subregion -->\n",
       "<g id=\"node4\" class=\"node\">\n",
       "<title>Subregion</title>\n",
       "<ellipse fill=\"#c1cdcd\" stroke=\"black\" cx=\"185.26\" cy=\"-139.47\" rx=\"185.26\" ry=\"28.99\"/>\n",
       "<text text-anchor=\"middle\" x=\"185.26\" y=\"-142.67\" font-family=\"Times,serif\" font-size=\"14.00\">(:Subregion)</text>\n",
       "<text text-anchor=\"start\" x=\"62.26\" y=\"-126.17\" font-family=\"Times,serif\" font-size=\"14.00\">* subregionName (subregion): str | UNIQUE</text>\n",
       "</g>\n",
       "<!-- Country&#45;&gt;Subregion -->\n",
       "<g id=\"edge3\" class=\"edge\">\n",
       "<title>Country&#45;&gt;Subregion</title>\n",
       "<path fill=\"none\" stroke=\"black\" stroke-width=\"2\" d=\"M310.67,-227.48C286.25,-210.53 258.82,-191.51 235.86,-175.58\"/>\n",
       "<polygon fill=\"black\" stroke=\"black\" stroke-width=\"2\" points=\"238.02,-172.82 227.81,-169.99 234.03,-178.57 238.02,-172.82\"/>\n",
       "<text text-anchor=\"middle\" x=\"318.39\" y=\"-189.67\" font-family=\"Times,serif\" font-size=\"14.00\"> &#160;[:PART_OF] &#160;</text>\n",
       "</g>\n",
       "<!-- Currency -->\n",
       "<g id=\"node5\" class=\"node\">\n",
       "<title>Currency</title>\n",
       "<ellipse fill=\"#c1cdcd\" stroke=\"black\" cx=\"565.26\" cy=\"-139.47\" rx=\"176.78\" ry=\"28.99\"/>\n",
       "<text text-anchor=\"middle\" x=\"565.26\" y=\"-142.67\" font-family=\"Times,serif\" font-size=\"14.00\">(:Currency)</text>\n",
       "<text text-anchor=\"start\" x=\"448.26\" y=\"-126.17\" font-family=\"Times,serif\" font-size=\"14.00\">* currencyName (currency): str | UNIQUE</text>\n",
       "</g>\n",
       "<!-- Country&#45;&gt;Currency -->\n",
       "<g id=\"edge4\" class=\"edge\">\n",
       "<title>Country&#45;&gt;Currency</title>\n",
       "<path fill=\"none\" stroke=\"black\" stroke-width=\"2\" d=\"M439.85,-227.48C464.37,-210.47 491.91,-191.36 514.92,-175.4\"/>\n",
       "<polygon fill=\"black\" stroke=\"black\" stroke-width=\"2\" points=\"516.78,-178.37 523,-169.8 512.79,-172.62 516.78,-178.37\"/>\n",
       "<text text-anchor=\"middle\" x=\"528.64\" y=\"-189.67\" font-family=\"Times,serif\" font-size=\"14.00\"> &#160;[:USES] &#160;</text>\n",
       "</g>\n",
       "<!-- Region -->\n",
       "<g id=\"node6\" class=\"node\">\n",
       "<title>Region</title>\n",
       "<ellipse fill=\"#c1cdcd\" stroke=\"black\" cx=\"185.26\" cy=\"-28.99\" rx=\"158.75\" ry=\"28.99\"/>\n",
       "<text text-anchor=\"middle\" x=\"185.26\" y=\"-32.19\" font-family=\"Times,serif\" font-size=\"14.00\">(:Region)</text>\n",
       "<text text-anchor=\"start\" x=\"81.01\" y=\"-15.69\" font-family=\"Times,serif\" font-size=\"14.00\">* regionName (region): str | UNIQUE</text>\n",
       "</g>\n",
       "<!-- Subregion&#45;&gt;Region -->\n",
       "<g id=\"edge5\" class=\"edge\">\n",
       "<title>Subregion&#45;&gt;Region</title>\n",
       "<path fill=\"none\" stroke=\"black\" stroke-width=\"2\" d=\"M185.26,-110.25C185.26,-98.42 185.26,-84.42 185.26,-71.45\"/>\n",
       "<polygon fill=\"black\" stroke=\"black\" stroke-width=\"2\" points=\"188.76,-71.47 185.26,-61.47 181.76,-71.47 188.76,-71.47\"/>\n",
       "<text text-anchor=\"middle\" x=\"228.39\" y=\"-79.18\" font-family=\"Times,serif\" font-size=\"14.00\"> &#160;[:PART_OF] &#160;</text>\n",
       "</g>\n",
       "</g>\n",
       "</svg>\n"
      ],
      "text/plain": [
       "<graphviz.graphs.Digraph at 0x1691e00b0>"
      ]
     },
     "execution_count": 14,
     "metadata": {},
     "output_type": "execute_result"
    }
   ],
   "source": [
    "gdm.current_model.visualize()"
   ]
  },
  {
   "cell_type": "markdown",
   "metadata": {},
   "source": [
    "## Ingestion Code Generation"
   ]
  },
  {
   "cell_type": "code",
   "execution_count": null,
   "metadata": {},
   "outputs": [],
   "source": [
    "from neo4j_runway.code_generation import PyIngestConfigGenerator "
   ]
  },
  {
   "cell_type": "code",
   "execution_count": 19,
   "metadata": {},
   "outputs": [],
   "source": [
    "code_generator = PyIngestConfigGenerator(data_model=gdm.current_model, \n",
    "                                         username=\"neo4j\", \n",
    "                                         password=\"password\", \n",
    "                                         uri=os.environ.get(\"NEO4J_URI\"), \n",
    "                                         database=\"neo4j\",\n",
    "                                         file_directory=data_directory)"
   ]
  },
  {
   "cell_type": "code",
   "execution_count": 20,
   "metadata": {},
   "outputs": [],
   "source": [
    "config = code_generator.generate_config_string()"
   ]
  },
  {
   "cell_type": "code",
   "execution_count": 21,
   "metadata": {},
   "outputs": [
    {
     "name": "stdout",
     "output_type": "stream",
     "text": [
      "server_uri: bolt://localhost:7687\n",
      "admin_user: neo4j\n",
      "admin_pass: password\n",
      "database: neo4j\n",
      "basepath: ./\n",
      "\n",
      "pre_ingest:\n",
      "  - CREATE CONSTRAINT state_stateid IF NOT EXISTS FOR (n:State) REQUIRE n.stateId IS UNIQUE;\n",
      "  - CREATE CONSTRAINT city_cityid IF NOT EXISTS FOR (n:City) REQUIRE n.cityId IS UNIQUE;\n",
      "  - CREATE CONSTRAINT country_countryid IF NOT EXISTS FOR (n:Country) REQUIRE n.countryId IS UNIQUE;\n",
      "  - CREATE CONSTRAINT subregion_subregionname IF NOT EXISTS FOR (n:Subregion) REQUIRE n.subregionName IS UNIQUE;\n",
      "  - CREATE CONSTRAINT currency_currencyname IF NOT EXISTS FOR (n:Currency) REQUIRE n.currencyName IS UNIQUE;\n",
      "  - CREATE CONSTRAINT region_regionname IF NOT EXISTS FOR (n:Region) REQUIRE n.regionName IS UNIQUE;\n",
      "files:\n",
      "- chunk_size: 100\n",
      "  cql: |-\n",
      "    WITH $dict.rows AS rows\n",
      "    UNWIND rows AS row\n",
      "    MERGE (n:State {stateId: row.id})\n",
      "    SET n.name = row.name\n",
      "  url: $BASE/../../../data/countries/states.csv\n",
      "- chunk_size: 100\n",
      "  cql: |-\n",
      "    WITH $dict.rows AS rows\n",
      "    UNWIND rows AS row\n",
      "    MERGE (n:City {cityId: row.id})\n",
      "    SET n.name = row.name\n",
      "  url: $BASE/../../../data/countries/cities.csv\n",
      "- chunk_size: 100\n",
      "  cql: |-\n",
      "    WITH $dict.rows AS rows\n",
      "    UNWIND rows AS row\n",
      "    MERGE (n:Country {countryId: row.id})\n",
      "    SET n.name = row.name, n.capital = row.capital\n",
      "  url: $BASE/../../../data/countries/countries.csv\n",
      "- chunk_size: 100\n",
      "  cql: |\n",
      "    WITH $dict.rows AS rows\n",
      "    UNWIND rows AS row\n",
      "    MERGE (n:Subregion {subregionName: row.subregion})\n",
      "  url: $BASE/../../../data/countries/countries.csv\n",
      "- chunk_size: 100\n",
      "  cql: |\n",
      "    WITH $dict.rows AS rows\n",
      "    UNWIND rows AS row\n",
      "    MERGE (n:Currency {currencyName: row.currency})\n",
      "  url: $BASE/../../../data/countries/countries.csv\n",
      "- chunk_size: 100\n",
      "  cql: |\n",
      "    WITH $dict.rows AS rows\n",
      "    UNWIND rows AS row\n",
      "    MERGE (n:Region {regionName: row.region})\n",
      "  url: $BASE/../../../data/countries/countries.csv\n",
      "- chunk_size: 100\n",
      "  cql: |\n",
      "    WITH $dict.rows AS rows\n",
      "    UNWIND rows as row\n",
      "    MATCH (source:State {stateId: row.id})\n",
      "    MATCH (target:Country {countryId: row.country_id})\n",
      "    MERGE (source)-[n:BELONGS_TO]->(target)\n",
      "  url: $BASE/../../../data/countries/states.csv\n",
      "- chunk_size: 100\n",
      "  cql: |\n",
      "    WITH $dict.rows AS rows\n",
      "    UNWIND rows as row\n",
      "    MATCH (source:City {cityId: row.id})\n",
      "    MATCH (target:State {stateId: row.state_id})\n",
      "    MERGE (source)-[n:LOCATED_IN]->(target)\n",
      "  url: $BASE/../../../data/countries/cities.csv\n",
      "- chunk_size: 100\n",
      "  cql: |\n",
      "    WITH $dict.rows AS rows\n",
      "    UNWIND rows as row\n",
      "    MATCH (source:Country {countryId: row.id})\n",
      "    MATCH (target:Subregion {subregionName: row.subregion})\n",
      "    MERGE (source)-[n:PART_OF]->(target)\n",
      "  url: $BASE/../../../data/countries/countries.csv\n",
      "- chunk_size: 100\n",
      "  cql: |\n",
      "    WITH $dict.rows AS rows\n",
      "    UNWIND rows as row\n",
      "    MATCH (source:Country {countryId: row.id})\n",
      "    MATCH (target:Currency {currencyName: row.currency})\n",
      "    MERGE (source)-[n:USES]->(target)\n",
      "  url: $BASE/../../../data/countries/countries.csv\n",
      "- chunk_size: 100\n",
      "  cql: |\n",
      "    WITH $dict.rows AS rows\n",
      "    UNWIND rows as row\n",
      "    MATCH (source:Subregion {subregionName: row.subregion})\n",
      "    MATCH (target:Region {regionName: row.region})\n",
      "    MERGE (source)-[n:PART_OF]->(target)\n",
      "  url: $BASE/../../../data/countries/countries.csv\n",
      "\n"
     ]
    }
   ],
   "source": [
    "print(config)"
   ]
  },
  {
   "cell_type": "markdown",
   "metadata": {},
   "source": [
    "## Ingest"
   ]
  },
  {
   "cell_type": "code",
   "execution_count": 22,
   "metadata": {},
   "outputs": [],
   "source": [
    "from neo4j_runway import PyIngest"
   ]
  },
  {
   "cell_type": "code",
   "execution_count": 23,
   "metadata": {},
   "outputs": [],
   "source": [
    "PyIngest(config=config)"
   ]
  }
 ],
 "metadata": {
  "kernelspec": {
   "display_name": "neo4j-runway-20CPAOlQ-py3.12",
   "language": "python",
   "name": "python3"
  },
  "language_info": {
   "codemirror_mode": {
    "name": "ipython",
    "version": 3
   },
   "file_extension": ".py",
   "mimetype": "text/x-python",
   "name": "python",
   "nbconvert_exporter": "python",
   "pygments_lexer": "ipython3",
   "version": "3.12.3"
  }
 },
 "nbformat": 4,
 "nbformat_minor": 2
}
