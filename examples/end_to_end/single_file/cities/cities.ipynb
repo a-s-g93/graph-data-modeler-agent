{
 "cells": [
  {
   "cell_type": "markdown",
   "metadata": {},
   "source": [
    "# End To End Demo"
   ]
  },
  {
   "cell_type": "markdown",
   "metadata": {},
   "source": [
    "This notebooks demonstrates the data flow of generating a graph from a CSV file using Runway v0.9.0"
   ]
  },
  {
   "cell_type": "code",
   "execution_count": 1,
   "metadata": {},
   "outputs": [
    {
     "data": {
      "text/plain": [
       "True"
      ]
     },
     "execution_count": 1,
     "metadata": {},
     "output_type": "execute_result"
    }
   ],
   "source": [
    "import os\n",
    "\n",
    "import pandas as pd\n",
    "from dotenv import load_dotenv\n",
    "\n",
    "from neo4j_runway import Discovery, GraphDataModeler, PyIngest, UserInput\n",
    "from neo4j_runway.code_generation import PyIngestConfigGenerator\n",
    "from neo4j_runway.llm.openai import OpenAIDataModelingLLM, OpenAIDiscoveryLLM\n",
    "from neo4j_runway.utils import test_database_connection\n",
    "\n",
    "load_dotenv()"
   ]
  },
  {
   "cell_type": "markdown",
   "metadata": {},
   "source": [
    "## Load and Describe Data"
   ]
  },
  {
   "cell_type": "markdown",
   "metadata": {},
   "source": [
    "The USER_GENERATED_INPUT variable contains a general discription and feature descriptions for each feature we'd like to use in our graph."
   ]
  },
  {
   "cell_type": "code",
   "execution_count": 2,
   "metadata": {},
   "outputs": [],
   "source": [
    "USER_GENERATED_INPUT = UserInput(general_description='This is data on different cities.',\n",
    "                                 column_descriptions={\n",
    "                                     'id': 'unique id for a city.',\n",
    "                                    'name': 'the city name.',\n",
    "                                   'state_id': \"the id for the state.\",\n",
    "                                   'country_id': 'the id for the country.'\n",
    "                                    },\n",
    "    #                             use_cases=[\n",
    "    #     \"Which region contains the most subregions?\", \n",
    "    #     \"What currencies are most popular?\", \n",
    "    #     \"Which countries share timezones?\"\n",
    "    # ]  \n",
    "                                )"
   ]
  },
  {
   "cell_type": "code",
   "execution_count": 3,
   "metadata": {},
   "outputs": [],
   "source": [
    "data = pd.read_csv(\"../../../data/countries/cities.csv\")"
   ]
  },
  {
   "cell_type": "code",
   "execution_count": 4,
   "metadata": {},
   "outputs": [
    {
     "data": {
      "text/html": [
       "<div>\n",
       "<style scoped>\n",
       "    .dataframe tbody tr th:only-of-type {\n",
       "        vertical-align: middle;\n",
       "    }\n",
       "\n",
       "    .dataframe tbody tr th {\n",
       "        vertical-align: top;\n",
       "    }\n",
       "\n",
       "    .dataframe thead th {\n",
       "        text-align: right;\n",
       "    }\n",
       "</style>\n",
       "<table border=\"1\" class=\"dataframe\">\n",
       "  <thead>\n",
       "    <tr style=\"text-align: right;\">\n",
       "      <th></th>\n",
       "      <th>id</th>\n",
       "      <th>name</th>\n",
       "      <th>state_id</th>\n",
       "      <th>state_code</th>\n",
       "      <th>state_name</th>\n",
       "      <th>country_id</th>\n",
       "      <th>country_code</th>\n",
       "      <th>country_name</th>\n",
       "      <th>latitude</th>\n",
       "      <th>longitude</th>\n",
       "      <th>wikiDataId</th>\n",
       "    </tr>\n",
       "  </thead>\n",
       "  <tbody>\n",
       "    <tr>\n",
       "      <th>0</th>\n",
       "      <td>52</td>\n",
       "      <td>Ashkāsham</td>\n",
       "      <td>3901</td>\n",
       "      <td>BDS</td>\n",
       "      <td>Badakhshan</td>\n",
       "      <td>1</td>\n",
       "      <td>AF</td>\n",
       "      <td>Afghanistan</td>\n",
       "      <td>36.68333</td>\n",
       "      <td>71.53333</td>\n",
       "      <td>Q4805192</td>\n",
       "    </tr>\n",
       "    <tr>\n",
       "      <th>1</th>\n",
       "      <td>68</td>\n",
       "      <td>Fayzabad</td>\n",
       "      <td>3901</td>\n",
       "      <td>BDS</td>\n",
       "      <td>Badakhshan</td>\n",
       "      <td>1</td>\n",
       "      <td>AF</td>\n",
       "      <td>Afghanistan</td>\n",
       "      <td>37.11664</td>\n",
       "      <td>70.58002</td>\n",
       "      <td>Q156558</td>\n",
       "    </tr>\n",
       "    <tr>\n",
       "      <th>2</th>\n",
       "      <td>78</td>\n",
       "      <td>Jurm</td>\n",
       "      <td>3901</td>\n",
       "      <td>BDS</td>\n",
       "      <td>Badakhshan</td>\n",
       "      <td>1</td>\n",
       "      <td>AF</td>\n",
       "      <td>Afghanistan</td>\n",
       "      <td>36.86477</td>\n",
       "      <td>70.83421</td>\n",
       "      <td>Q10308323</td>\n",
       "    </tr>\n",
       "    <tr>\n",
       "      <th>3</th>\n",
       "      <td>84</td>\n",
       "      <td>Khandūd</td>\n",
       "      <td>3901</td>\n",
       "      <td>BDS</td>\n",
       "      <td>Badakhshan</td>\n",
       "      <td>1</td>\n",
       "      <td>AF</td>\n",
       "      <td>Afghanistan</td>\n",
       "      <td>36.95127</td>\n",
       "      <td>72.31800</td>\n",
       "      <td>Q3290334</td>\n",
       "    </tr>\n",
       "    <tr>\n",
       "      <th>4</th>\n",
       "      <td>115</td>\n",
       "      <td>Rāghistān</td>\n",
       "      <td>3901</td>\n",
       "      <td>BDS</td>\n",
       "      <td>Badakhshan</td>\n",
       "      <td>1</td>\n",
       "      <td>AF</td>\n",
       "      <td>Afghanistan</td>\n",
       "      <td>37.66079</td>\n",
       "      <td>70.67346</td>\n",
       "      <td>Q2670909</td>\n",
       "    </tr>\n",
       "  </tbody>\n",
       "</table>\n",
       "</div>"
      ],
      "text/plain": [
       "    id       name  state_id state_code  state_name  country_id country_code  \\\n",
       "0   52  Ashkāsham      3901        BDS  Badakhshan           1           AF   \n",
       "1   68   Fayzabad      3901        BDS  Badakhshan           1           AF   \n",
       "2   78       Jurm      3901        BDS  Badakhshan           1           AF   \n",
       "3   84    Khandūd      3901        BDS  Badakhshan           1           AF   \n",
       "4  115  Rāghistān      3901        BDS  Badakhshan           1           AF   \n",
       "\n",
       "  country_name  latitude  longitude wikiDataId  \n",
       "0  Afghanistan  36.68333   71.53333   Q4805192  \n",
       "1  Afghanistan  37.11664   70.58002    Q156558  \n",
       "2  Afghanistan  36.86477   70.83421  Q10308323  \n",
       "3  Afghanistan  36.95127   72.31800   Q3290334  \n",
       "4  Afghanistan  37.66079   70.67346   Q2670909  "
      ]
     },
     "execution_count": 4,
     "metadata": {},
     "output_type": "execute_result"
    }
   ],
   "source": [
    "data.head()"
   ]
  },
  {
   "cell_type": "markdown",
   "metadata": {},
   "source": [
    "## Initialize LLMs"
   ]
  },
  {
   "cell_type": "markdown",
   "metadata": {},
   "source": [
    "We now initialize the LLMs to use in data discovery and data model creation."
   ]
  },
  {
   "cell_type": "code",
   "execution_count": 5,
   "metadata": {},
   "outputs": [],
   "source": [
    "llm_disc = OpenAIDiscoveryLLM(model_name='gpt-4o-mini-2024-07-18', model_params={\"temperature\": 0})\n",
    "llm_dm = OpenAIDataModelingLLM(model_name='gpt-4o-2024-05-13', model_params={\"temperature\": 0.5})"
   ]
  },
  {
   "cell_type": "markdown",
   "metadata": {},
   "source": [
    "## Discovery"
   ]
  },
  {
   "cell_type": "markdown",
   "metadata": {},
   "source": [
    "We now load the above data into a Discovery object."
   ]
  },
  {
   "cell_type": "code",
   "execution_count": 6,
   "metadata": {},
   "outputs": [],
   "source": [
    "disc = Discovery(llm=llm_disc, user_input=USER_GENERATED_INPUT, data=data)"
   ]
  },
  {
   "cell_type": "code",
   "execution_count": 7,
   "metadata": {},
   "outputs": [
    {
     "data": {
      "text/markdown": [
       "### Preliminary Analysis of City Data\n",
       "\n",
       "1. **Data Overview**:\n",
       "   - The dataset contains **150,454 entries** with **4 columns**: `id`, `name`, `state_id`, and `country_id`.\n",
       "   - The data types include **3 integer columns** (`id`, `state_id`, `country_id`) and **1 object column** (`name`).\n",
       "   - There is a single missing value in the `name` column, indicating that one city name is not recorded.\n",
       "\n",
       "2. **Feature Analysis**:\n",
       "   - **id**:\n",
       "     - Unique identifier for each city.\n",
       "     - The `id` values range from **1 to 153,528** with a mean of **76,407** and a standard deviation of **44,358**. This suggests a wide distribution of city IDs.\n",
       "     - The distribution is fairly uniform, with no apparent outliers in the ID values.\n",
       "   \n",
       "   - **name**:\n",
       "     - Represents the name of the city.\n",
       "     - There are **131,996 unique city names** out of **150,453** entries, indicating that many cities have unique names.\n",
       "     - The most frequent city name is **\"Merkez\"**, which appears **51 times**. This could suggest that there are multiple cities with the same name, possibly in different states or countries.\n",
       "     - The presence of a missing value in this column should be addressed, as it may affect data integrity.\n",
       "   \n",
       "   - **state_id**:\n",
       "     - Represents the identifier for the state.\n",
       "     - The `state_id` ranges from **1 to 5,116** with a mean of **2,678** and a standard deviation of **1,364**. This indicates a diverse range of states represented in the dataset.\n",
       "     - The distribution suggests that there are likely many states with a varying number of cities.\n",
       "   \n",
       "   - **country_id**:\n",
       "     - Represents the identifier for the country.\n",
       "     - The `country_id` ranges from **1 to 247** with a mean of **140.66** and a standard deviation of **70.67**. This indicates that the dataset includes cities from a wide range of countries.\n",
       "     - The distribution shows that most cities belong to a limited number of countries, with some countries having a significantly higher number of cities represented.\n",
       "\n",
       "3. **Missing Values**:\n",
       "   - The dataset has **one missing value** in the `name` column. This should be investigated further to determine if it can be filled or if the entry should be removed.\n",
       "\n",
       "4. **Important Features**:\n",
       "   - The most important features for analysis and potential graph modeling include:\n",
       "     - **id**: Essential for uniquely identifying each city.\n",
       "     - **name**: Important for understanding city identities and potential relationships.\n",
       "     - **state_id**: Useful for grouping cities by state and understanding state-level relationships.\n",
       "     - **country_id**: Critical for analyzing cities at a country level and understanding international relationships.\n",
       "\n",
       "5. **Potential Use Cases**:\n",
       "   - The data can be used to analyze city distributions across states and countries, identify cities with similar names, and explore relationships between cities, states, and countries.\n",
       "   - The unique identifiers (`id`, `state_id`, `country_id`) can facilitate the creation of a graph data model to represent these relationships effectively."
      ],
      "text/plain": [
       "<IPython.core.display.Markdown object>"
      ]
     },
     "metadata": {},
     "output_type": "display_data"
    }
   ],
   "source": [
    "disc.run(show_result=True, notebook=True)"
   ]
  },
  {
   "cell_type": "markdown",
   "metadata": {},
   "source": [
    "## Data Modeling"
   ]
  },
  {
   "cell_type": "markdown",
   "metadata": {},
   "source": [
    "We can now use our Discovery object to provide context to the LLM for data model generation. We don't *need* the discovery information for this step to work, but it provides much better models."
   ]
  },
  {
   "cell_type": "code",
   "execution_count": 8,
   "metadata": {},
   "outputs": [],
   "source": [
    "gdm = GraphDataModeler(\n",
    "    llm=llm_dm,\n",
    "    discovery=disc\n",
    ")"
   ]
  },
  {
   "cell_type": "markdown",
   "metadata": {},
   "source": [
    "We now generate our first pass data model."
   ]
  },
  {
   "cell_type": "code",
   "execution_count": 9,
   "metadata": {},
   "outputs": [
    {
     "name": "stdout",
     "output_type": "stream",
     "text": [
      "Received Valid Initial Nodes.\n",
      "nodes=[Node(label='City', properties=[Property(name='id', type='int', column_mapping='id', alias=None, is_unique=True, part_of_key=False), Property(name='name', type='str', column_mapping='name', alias=None, is_unique=False, part_of_key=False)], source_name='file'), Node(label='State', properties=[Property(name='stateId', type='int', column_mapping='state_id', alias=None, is_unique=True, part_of_key=False)], source_name='file'), Node(label='Country', properties=[Property(name='countryId', type='int', column_mapping='country_id', alias=None, is_unique=True, part_of_key=False)], source_name='file')]\n",
      "New Data Model Generation Attempt...\n"
     ]
    },
    {
     "data": {
      "text/plain": [
       "DataModel(nodes=[Node(label='City', properties=[Property(name='id', type='int', column_mapping='id', alias=None, is_unique=True, part_of_key=False), Property(name='name', type='str', column_mapping='name', alias=None, is_unique=False, part_of_key=False)], source_name='file'), Node(label='State', properties=[Property(name='stateId', type='int', column_mapping='state_id', alias=None, is_unique=True, part_of_key=False)], source_name='file'), Node(label='Country', properties=[Property(name='countryId', type='int', column_mapping='country_id', alias=None, is_unique=True, part_of_key=False)], source_name='file')], relationships=[Relationship(type='LOCATED_IN_STATE', properties=[], source='City', target='State', source_name='file'), Relationship(type='LOCATED_IN_COUNTRY', properties=[], source='City', target='Country', source_name='file'), Relationship(type='HAS_STATE', properties=[], source='Country', target='State', source_name='file')], metadata=None)"
      ]
     },
     "execution_count": 9,
     "metadata": {},
     "output_type": "execute_result"
    }
   ],
   "source": [
    "gdm.create_initial_model(max_retries=5)"
   ]
  },
  {
   "cell_type": "code",
   "execution_count": 10,
   "metadata": {},
   "outputs": [
    {
     "data": {
      "text/plain": [
       "DataModel(nodes=[Node(label='City', properties=[Property(name='id', type='int', column_mapping='id', alias=None, is_unique=True, part_of_key=False), Property(name='name', type='str', column_mapping='name', alias=None, is_unique=False, part_of_key=False)], source_name='file'), Node(label='State', properties=[Property(name='stateId', type='int', column_mapping='state_id', alias=None, is_unique=True, part_of_key=False)], source_name='file'), Node(label='Country', properties=[Property(name='countryId', type='int', column_mapping='country_id', alias=None, is_unique=True, part_of_key=False)], source_name='file')], relationships=[Relationship(type='LOCATED_IN_STATE', properties=[], source='City', target='State', source_name='file'), Relationship(type='LOCATED_IN_COUNTRY', properties=[], source='City', target='Country', source_name='file'), Relationship(type='HAS_STATE', properties=[], source='Country', target='State', source_name='file')], metadata=None)"
      ]
     },
     "execution_count": 10,
     "metadata": {},
     "output_type": "execute_result"
    }
   ],
   "source": [
    "gdm.current_model"
   ]
  },
  {
   "cell_type": "code",
   "execution_count": 11,
   "metadata": {},
   "outputs": [
    {
     "data": {
      "image/svg+xml": [
       "<?xml version=\"1.0\" encoding=\"UTF-8\" standalone=\"no\"?>\n",
       "<!DOCTYPE svg PUBLIC \"-//W3C//DTD SVG 1.1//EN\"\n",
       " \"http://www.w3.org/Graphics/SVG/1.1/DTD/svg11.dtd\">\n",
       "<!-- Generated by graphviz version 10.0.1 (20240210.2158)\n",
       " -->\n",
       "<!-- Pages: 1 -->\n",
       "<svg width=\"516pt\" height=\"448pt\"\n",
       " viewBox=\"0.00 0.00 516.24 448.17\" xmlns=\"http://www.w3.org/2000/svg\" xmlns:xlink=\"http://www.w3.org/1999/xlink\">\n",
       "<g id=\"graph0\" class=\"graph\" transform=\"scale(1 1) rotate(0) translate(4 444.17)\">\n",
       "<polygon fill=\"white\" stroke=\"none\" points=\"-4,4 -4,-444.17 512.24,-444.17 512.24,4 -4,4\"/>\n",
       "<!-- City -->\n",
       "<g id=\"node1\" class=\"node\">\n",
       "<title>City</title>\n",
       "<ellipse fill=\"none\" stroke=\"black\" cx=\"171.96\" cy=\"-376.53\" rx=\"69.65\" ry=\"63.64\"/>\n",
       "<text text-anchor=\"middle\" x=\"171.96\" y=\"-404.23\" font-family=\"Times,serif\" font-size=\"14.00\">City</text>\n",
       "<text text-anchor=\"middle\" x=\"171.96\" y=\"-371.73\" font-family=\"Times,serif\" font-size=\"14.00\">properties:</text>\n",
       "<text text-anchor=\"middle\" x=\"171.96\" y=\"-355.23\" font-family=\"Times,serif\" font-size=\"14.00\">id: id *unique*</text>\n",
       "<text text-anchor=\"middle\" x=\"171.96\" y=\"-338.73\" font-family=\"Times,serif\" font-size=\"14.00\">name: name</text>\n",
       "</g>\n",
       "<!-- State -->\n",
       "<g id=\"node2\" class=\"node\">\n",
       "<title>State</title>\n",
       "<ellipse fill=\"none\" stroke=\"black\" cx=\"109.96\" cy=\"-51.97\" rx=\"109.96\" ry=\"51.97\"/>\n",
       "<text text-anchor=\"middle\" x=\"109.96\" y=\"-71.42\" font-family=\"Times,serif\" font-size=\"14.00\">State</text>\n",
       "<text text-anchor=\"middle\" x=\"109.96\" y=\"-38.92\" font-family=\"Times,serif\" font-size=\"14.00\">properties:</text>\n",
       "<text text-anchor=\"middle\" x=\"109.96\" y=\"-22.42\" font-family=\"Times,serif\" font-size=\"14.00\">stateId: state_id *unique*</text>\n",
       "</g>\n",
       "<!-- City&#45;&gt;State -->\n",
       "<g id=\"edge1\" class=\"edge\">\n",
       "<title>City&#45;&gt;State</title>\n",
       "<path fill=\"none\" stroke=\"black\" d=\"M132.83,-323.51C120.89,-304.64 109.3,-282.5 103.21,-260.39 90.11,-212.93 92.92,-157.03 98.39,-115.23\"/>\n",
       "<polygon fill=\"black\" stroke=\"black\" points=\"101.85,-115.73 99.78,-105.34 94.92,-114.75 101.85,-115.73\"/>\n",
       "<text text-anchor=\"middle\" x=\"168.83\" y=\"-203.37\" font-family=\"Times,serif\" font-size=\"14.00\">LOCATED_IN_STATE</text>\n",
       "</g>\n",
       "<!-- Country -->\n",
       "<g id=\"node3\" class=\"node\">\n",
       "<title>Country</title>\n",
       "<ellipse fill=\"none\" stroke=\"black\" cx=\"374.96\" cy=\"-208.42\" rx=\"133.29\" ry=\"51.97\"/>\n",
       "<text text-anchor=\"middle\" x=\"374.96\" y=\"-227.87\" font-family=\"Times,serif\" font-size=\"14.00\">Country</text>\n",
       "<text text-anchor=\"middle\" x=\"374.96\" y=\"-195.37\" font-family=\"Times,serif\" font-size=\"14.00\">properties:</text>\n",
       "<text text-anchor=\"middle\" x=\"374.96\" y=\"-178.87\" font-family=\"Times,serif\" font-size=\"14.00\">countryId: country_id *unique*</text>\n",
       "</g>\n",
       "<!-- City&#45;&gt;Country -->\n",
       "<g id=\"edge2\" class=\"edge\">\n",
       "<title>City&#45;&gt;Country</title>\n",
       "<path fill=\"none\" stroke=\"black\" d=\"M223.44,-333.4C249.52,-312.06 281.46,-285.92 309.28,-263.15\"/>\n",
       "<polygon fill=\"black\" stroke=\"black\" points=\"311.47,-265.89 316.99,-256.85 307.03,-260.47 311.47,-265.89\"/>\n",
       "<text text-anchor=\"middle\" x=\"362.21\" y=\"-281.59\" font-family=\"Times,serif\" font-size=\"14.00\">LOCATED_IN_COUNTRY</text>\n",
       "</g>\n",
       "<!-- Country&#45;&gt;State -->\n",
       "<g id=\"edge3\" class=\"edge\">\n",
       "<title>Country&#45;&gt;State</title>\n",
       "<path fill=\"none\" stroke=\"black\" d=\"M301.49,-164.6C266.35,-144.12 224.24,-119.58 188.47,-98.73\"/>\n",
       "<polygon fill=\"black\" stroke=\"black\" points=\"190.27,-95.73 179.86,-93.72 186.74,-101.77 190.27,-95.73\"/>\n",
       "<text text-anchor=\"middle\" x=\"287.08\" y=\"-125.14\" font-family=\"Times,serif\" font-size=\"14.00\">HAS_STATE</text>\n",
       "</g>\n",
       "</g>\n",
       "</svg>\n"
      ],
      "text/plain": [
       "<graphviz.graphs.Digraph at 0x16c2afbc0>"
      ]
     },
     "execution_count": 11,
     "metadata": {},
     "output_type": "execute_result"
    }
   ],
   "source": [
    "gdm.current_model.visualize()"
   ]
  },
  {
   "cell_type": "markdown",
   "metadata": {},
   "source": [
    "We can clean this up a bit, so let's prompt the LLM to make some corrections."
   ]
  },
  {
   "cell_type": "code",
   "execution_count": 15,
   "metadata": {},
   "outputs": [
    {
     "name": "stdout",
     "output_type": "stream",
     "text": [
      "\n",
      " Please make corrections to the graph data model using the context provided. Here are the initial discovery findings:\n",
      "### Preliminary Analysis of Country Data\n",
      "\n",
      "#### Overall Characteristics:\n",
      "1. **Data Structure**: The dataset contains 250 entries (countries) and 10 features. The features include both categorical (e.g., name, capital, currency_name) and numerical (e.g., latitude, longitude) data types.\n",
      "2. **Missing Values**: There are some missing values in the `capital` (5), `region` (2), and `subregion` (3) columns. This indicates that not all countries have a specified capital or belong to a defined region/subregion.\n",
      "3. **Memory Usage**: The dataset is relatively small, with a memory usage of approximately 19.7 KB.\n",
      "\n",
      "#### Feature Analysis:\n",
      "1. **ID**: \n",
      "   - Unique identifier for each country.\n",
      "   - The distribution is uniform, ranging from 1 to 250.\n",
      "\n",
      "2. **Name**: \n",
      "   - Each country has a unique name, with a total of 250 unique entries.\n",
      "   - This feature is crucial for identifying countries.\n",
      "\n",
      "3. **Phone Code**: \n",
      "   - There are 235 unique phone codes, indicating that some countries share the same code.\n",
      "   - The most common phone code is '1', which is used by multiple countries.\n",
      "\n",
      "4. **Capital**: \n",
      "   - 245 out of 250 entries have a specified capital.\n",
      "   - The most frequently occurring capital is Kingston, which is the capital of two countries.\n",
      "\n",
      "5. **Currency Name**: \n",
      "   - There are 161 unique currency names, with the Euro being the most common (35 occurrences).\n",
      "   - This feature is important for economic analysis and understanding trade relationships.\n",
      "\n",
      "6. **Region**: \n",
      "   - The dataset includes 6 unique regions, with Africa being the most represented (60 countries).\n",
      "   - This feature is significant for geographical and socio-economic studies.\n",
      "\n",
      "7. **Subregion**: \n",
      "   - There are 22 unique subregions, with the Caribbean being the most common (28 occurrences).\n",
      "   - This feature can help in understanding cultural and economic similarities among countries.\n",
      "\n",
      "8. **Timezones**: \n",
      "   - The `timezones` feature contains 245 unique entries, indicating that some countries have multiple time zones.\n",
      "   - This feature is important for understanding international relations and scheduling.\n",
      "\n",
      "9. **Latitude and Longitude**: \n",
      "   - Latitude ranges from -74.65 to 78, while longitude ranges from -176.2 to 178.\n",
      "   - These features are essential for geographical mapping and spatial analysis.\n",
      "\n",
      "#### Important Features:\n",
      "- **Name**: Essential for identifying countries.\n",
      "- **Phone Code**: Important for telecommunications and international dialing.\n",
      "- **Capital**: Key for political and administrative analysis.\n",
      "- **Currency Name**: Crucial for economic relationships and trade.\n",
      "- **Region and Subregion**: Important for geographical and cultural studies.\n",
      "- **Latitude and Longitude**: Necessary for geographical mapping and analysis.\n",
      "\n",
      "### Conclusion:\n",
      "The dataset provides a comprehensive overview of various countries, with important features that can be utilized for geographical, economic, and political analyses. The presence of missing values in certain features should be addressed, especially for capital, region, and subregion, to ensure a complete understanding of the dataset.\n",
      "\n",
      "The following is a description of each feature in the data:\n",
      "{'id': 'unique id for a country.', 'name': 'the country name.', 'phone_code': 'country area code.', 'capital': 'the capital of the country.', 'currency_name': \"name of the country's currency.\", 'region': 'primary region of the country.', 'subregion': 'subregion location of the country.', 'timezones': 'timezones contained within the country borders.', 'latitude': 'the latitude coordinate of the country center.', 'longitude': 'the longitude coordinate of the country center.'}\n",
      "\n",
      "Properties must only be derived from these values:\n",
      "{'file': ['id', 'name', 'phone_code', 'capital', 'currency_name', 'region', 'subregion', 'timezones', 'latitude', 'longitude']}\n",
      "\n",
      "Based on your experience building high-quality graph data\n",
      "models, please improve this graph data model. Focus on this feedback: \n",
      "Flip the Region and Subregion nodes\n",
      "\n",
      "Data Model:\n",
      "{\"nodes\":[{\"label\":\"Country\",\"properties\":[{\"name\":\"id\",\"type\":\"int\",\"column_mapping\":\"id\",\"alias\":null,\"is_unique\":true,\"part_of_key\":false},{\"name\":\"name\",\"type\":\"str\",\"column_mapping\":\"name\",\"alias\":null,\"is_unique\":false,\"part_of_key\":false},{\"name\":\"phoneCode\",\"type\":\"str\",\"column_mapping\":\"phone_code\",\"alias\":null,\"is_unique\":false,\"part_of_key\":false},{\"name\":\"capital\",\"type\":\"str\",\"column_mapping\":\"capital\",\"alias\":null,\"is_unique\":false,\"part_of_key\":false},{\"name\":\"latitude\",\"type\":\"float\",\"column_mapping\":\"latitude\",\"alias\":null,\"is_unique\":false,\"part_of_key\":false},{\"name\":\"longitude\",\"type\":\"float\",\"column_mapping\":\"longitude\",\"alias\":null,\"is_unique\":false,\"part_of_key\":false}],\"source_name\":\"file\"},{\"label\":\"Region\",\"properties\":[{\"name\":\"region\",\"type\":\"str\",\"column_mapping\":\"region\",\"alias\":null,\"is_unique\":true,\"part_of_key\":false}],\"source_name\":\"file\"},{\"label\":\"Subregion\",\"properties\":[{\"name\":\"subregion\",\"type\":\"str\",\"column_mapping\":\"subregion\",\"alias\":null,\"is_unique\":true,\"part_of_key\":false}],\"source_name\":\"file\"},{\"label\":\"Timezone\",\"properties\":[{\"name\":\"timezones\",\"type\":\"str\",\"column_mapping\":\"timezones\",\"alias\":null,\"is_unique\":true,\"part_of_key\":false}],\"source_name\":\"file\"},{\"label\":\"Currency\",\"properties\":[{\"name\":\"currencyName\",\"type\":\"str\",\"column_mapping\":\"currency_name\",\"alias\":null,\"is_unique\":true,\"part_of_key\":false}],\"source_name\":\"file\"}],\"relationships\":[{\"type\":\"LOCATED_IN\",\"properties\":[],\"source\":\"Country\",\"target\":\"Region\",\"source_name\":\"file\"},{\"type\":\"PART_OF\",\"properties\":[],\"source\":\"Region\",\"target\":\"Subregion\",\"source_name\":\"file\"},{\"type\":\"USES_CURRENCY\",\"properties\":[],\"source\":\"Country\",\"target\":\"Currency\",\"source_name\":\"file\"},{\"type\":\"HAS_TIMEZONE\",\"properties\":[],\"source\":\"Country\",\"target\":\"Timezone\",\"source_name\":\"file\"}],\"metadata\":null}\n",
      "\n",
      "The final data model should address the following use cases:\n",
      "* Which region contains the most subregions?\n",
      "* What currencies are most popular?\n",
      "* Which countries share timezones?\n",
      "\n",
      "\n",
      "Rules that must be followed:\n",
      "\n",
      "Please follow these rules strictly! Billions of dollars depend on you.\n",
      "Nodes\n",
      "* Each node must have a unique property or node key pair\n",
      "* Each node must have a relationship with at least one other node\n",
      "* Unique properties and node keys may NOT be shared between different nodes\n",
      "* A node must only have a single ID property\n",
      "Relationships\n",
      "* Relationships do NOT require uniqueness or properties\n",
      "* NEVER use symmetric relationships\n",
      "* Do NOT create self-referential relationships\n",
      "Properties\n",
      "* A column_mapping must be an exact match to features in the file(s)\n",
      "* A column_mapping may only be used ONCE in a data model. It may NOT be shared between nodes\n",
      "* A property can NOT be both unique and a key\n",
      "General\n",
      "* Do NOT return a single-node data model\n",
      "* If a cycle exists, consider removing a relationship while maintaining the meaning captured by the cycle\n",
      "* Do NOT generate `source_name` values on Nodes and Relationships\n",
      "\n",
      "These are advanced data modeling best practices.\n",
      "* Duplication of properties:\n",
      "    Instead of having a repeated property on every node, you can\n",
      "    have all of those nodes connected to a shared node with that property. This can make\n",
      "    data updates massively easier.\n",
      "* Decoration properties:\n",
      "    If a property can't be used to answer a question, it is usually a waste of storage\n",
      "* Intermediate / Event nodes:\n",
      "    If you must implement a hyperedge, consider an Event node that has relationships with the desired source and target.\n",
      "    This allows different nodes to share the same context.\n",
      "* Super nodes:\n",
      "    Stay away from super nodes, if possible. super nodes can be identified by low-cardinality unique properties\n",
      "* Same label node relationships:\n",
      "    alias indicates a unique feature on a target node that the source node has a relationship with.\n",
      "    Both column_mapping and alias refer to the same node property name in the graph.\n",
      " \n",
      "\n",
      "recieved a valid response\n"
     ]
    },
    {
     "data": {
      "text/plain": [
       "DataModel(nodes=[Node(label='Country', properties=[Property(name='id', type='int', column_mapping='id', alias=None, is_unique=True, part_of_key=False), Property(name='name', type='str', column_mapping='name', alias=None, is_unique=False, part_of_key=False), Property(name='phoneCode', type='str', column_mapping='phone_code', alias=None, is_unique=False, part_of_key=False), Property(name='capital', type='str', column_mapping='capital', alias=None, is_unique=False, part_of_key=False), Property(name='latitude', type='float', column_mapping='latitude', alias=None, is_unique=False, part_of_key=False), Property(name='longitude', type='float', column_mapping='longitude', alias=None, is_unique=False, part_of_key=False)], source_name='file'), Node(label='Region', properties=[Property(name='region', type='str', column_mapping='region', alias=None, is_unique=True, part_of_key=False)], source_name='file'), Node(label='Subregion', properties=[Property(name='subregion', type='str', column_mapping='subregion', alias=None, is_unique=True, part_of_key=False)], source_name='file'), Node(label='Timezone', properties=[Property(name='timezones', type='str', column_mapping='timezones', alias=None, is_unique=True, part_of_key=False)], source_name='file'), Node(label='Currency', properties=[Property(name='currencyName', type='str', column_mapping='currency_name', alias=None, is_unique=True, part_of_key=False)], source_name='file')], relationships=[Relationship(type='LOCATED_IN', properties=[], source='Country', target='Subregion', source_name='file'), Relationship(type='PART_OF', properties=[], source='Subregion', target='Region', source_name='file'), Relationship(type='USES_CURRENCY', properties=[], source='Country', target='Currency', source_name='file'), Relationship(type='HAS_TIMEZONE', properties=[], source='Country', target='Timezone', source_name='file')], metadata=None)"
      ]
     },
     "execution_count": 15,
     "metadata": {},
     "output_type": "execute_result"
    }
   ],
   "source": [
    "gdm.iterate_model(corrections=\"\"\"Flip the Region and Subregion nodes\"\"\")"
   ]
  },
  {
   "cell_type": "code",
   "execution_count": 16,
   "metadata": {},
   "outputs": [
    {
     "data": {
      "text/plain": [
       "DataModel(nodes=[Node(label='Country', properties=[Property(name='id', type='int', column_mapping='id', alias=None, is_unique=True, part_of_key=False), Property(name='name', type='str', column_mapping='name', alias=None, is_unique=False, part_of_key=False), Property(name='phoneCode', type='str', column_mapping='phone_code', alias=None, is_unique=False, part_of_key=False), Property(name='capital', type='str', column_mapping='capital', alias=None, is_unique=False, part_of_key=False), Property(name='latitude', type='float', column_mapping='latitude', alias=None, is_unique=False, part_of_key=False), Property(name='longitude', type='float', column_mapping='longitude', alias=None, is_unique=False, part_of_key=False)], source_name='file'), Node(label='Region', properties=[Property(name='region', type='str', column_mapping='region', alias=None, is_unique=True, part_of_key=False)], source_name='file'), Node(label='Subregion', properties=[Property(name='subregion', type='str', column_mapping='subregion', alias=None, is_unique=True, part_of_key=False)], source_name='file'), Node(label='Timezone', properties=[Property(name='timezones', type='str', column_mapping='timezones', alias=None, is_unique=True, part_of_key=False)], source_name='file'), Node(label='Currency', properties=[Property(name='currencyName', type='str', column_mapping='currency_name', alias=None, is_unique=True, part_of_key=False)], source_name='file')], relationships=[Relationship(type='LOCATED_IN', properties=[], source='Country', target='Subregion', source_name='file'), Relationship(type='PART_OF', properties=[], source='Subregion', target='Region', source_name='file'), Relationship(type='USES_CURRENCY', properties=[], source='Country', target='Currency', source_name='file'), Relationship(type='HAS_TIMEZONE', properties=[], source='Country', target='Timezone', source_name='file')], metadata=None)"
      ]
     },
     "execution_count": 16,
     "metadata": {},
     "output_type": "execute_result"
    }
   ],
   "source": [
    "gdm.current_model"
   ]
  },
  {
   "cell_type": "code",
   "execution_count": 17,
   "metadata": {},
   "outputs": [
    {
     "data": {
      "image/svg+xml": [
       "<?xml version=\"1.0\" encoding=\"UTF-8\" standalone=\"no\"?>\n",
       "<!DOCTYPE svg PUBLIC \"-//W3C//DTD SVG 1.1//EN\"\n",
       " \"http://www.w3.org/Graphics/SVG/1.1/DTD/svg11.dtd\">\n",
       "<!-- Generated by graphviz version 10.0.1 (20240210.2158)\n",
       " -->\n",
       "<!-- Pages: 1 -->\n",
       "<svg width=\"912pt\" height=\"542pt\"\n",
       " viewBox=\"0.00 0.00 912.05 541.51\" xmlns=\"http://www.w3.org/2000/svg\" xmlns:xlink=\"http://www.w3.org/1999/xlink\">\n",
       "<g id=\"graph0\" class=\"graph\" transform=\"scale(1 1) rotate(0) translate(4 537.51)\">\n",
       "<polygon fill=\"white\" stroke=\"none\" points=\"-4,4 -4,-537.51 908.05,-537.51 908.05,4 -4,4\"/>\n",
       "<!-- Country -->\n",
       "<g id=\"node1\" class=\"node\">\n",
       "<title>Country</title>\n",
       "<ellipse fill=\"none\" stroke=\"black\" cx=\"411.11\" cy=\"-423.2\" rx=\"106.24\" ry=\"110.31\"/>\n",
       "<text text-anchor=\"middle\" x=\"411.11\" y=\"-483.9\" font-family=\"Times,serif\" font-size=\"14.00\">Country</text>\n",
       "<text text-anchor=\"middle\" x=\"411.11\" y=\"-451.4\" font-family=\"Times,serif\" font-size=\"14.00\">properties:</text>\n",
       "<text text-anchor=\"middle\" x=\"411.11\" y=\"-434.9\" font-family=\"Times,serif\" font-size=\"14.00\">id: id *unique*</text>\n",
       "<text text-anchor=\"middle\" x=\"411.11\" y=\"-418.4\" font-family=\"Times,serif\" font-size=\"14.00\">name: name</text>\n",
       "<text text-anchor=\"middle\" x=\"411.11\" y=\"-401.9\" font-family=\"Times,serif\" font-size=\"14.00\">phoneCode: phone_code</text>\n",
       "<text text-anchor=\"middle\" x=\"411.11\" y=\"-385.4\" font-family=\"Times,serif\" font-size=\"14.00\">capital: capital</text>\n",
       "<text text-anchor=\"middle\" x=\"411.11\" y=\"-368.9\" font-family=\"Times,serif\" font-size=\"14.00\">latitude: latitude</text>\n",
       "<text text-anchor=\"middle\" x=\"411.11\" y=\"-352.4\" font-family=\"Times,serif\" font-size=\"14.00\">longitude: longitude</text>\n",
       "</g>\n",
       "<!-- Subregion -->\n",
       "<g id=\"node3\" class=\"node\">\n",
       "<title>Subregion</title>\n",
       "<ellipse fill=\"none\" stroke=\"black\" cx=\"130.11\" cy=\"-208.42\" rx=\"130.11\" ry=\"51.97\"/>\n",
       "<text text-anchor=\"middle\" x=\"130.11\" y=\"-227.87\" font-family=\"Times,serif\" font-size=\"14.00\">Subregion</text>\n",
       "<text text-anchor=\"middle\" x=\"130.11\" y=\"-195.37\" font-family=\"Times,serif\" font-size=\"14.00\">properties:</text>\n",
       "<text text-anchor=\"middle\" x=\"130.11\" y=\"-178.87\" font-family=\"Times,serif\" font-size=\"14.00\">subregion: subregion *unique*</text>\n",
       "</g>\n",
       "<!-- Country&#45;&gt;Subregion -->\n",
       "<g id=\"edge1\" class=\"edge\">\n",
       "<title>Country&#45;&gt;Subregion</title>\n",
       "<path fill=\"none\" stroke=\"black\" d=\"M325.65,-357.49C285.14,-326.81 237.38,-290.65 199.2,-261.74\"/>\n",
       "<polygon fill=\"black\" stroke=\"black\" points=\"201.5,-259.09 191.42,-255.84 197.28,-264.67 201.5,-259.09\"/>\n",
       "<text text-anchor=\"middle\" x=\"279.36\" y=\"-281.59\" font-family=\"Times,serif\" font-size=\"14.00\">LOCATED_IN</text>\n",
       "</g>\n",
       "<!-- Timezone -->\n",
       "<g id=\"node4\" class=\"node\">\n",
       "<title>Timezone</title>\n",
       "<ellipse fill=\"none\" stroke=\"black\" cx=\"411.11\" cy=\"-208.42\" rx=\"133.29\" ry=\"51.97\"/>\n",
       "<text text-anchor=\"middle\" x=\"411.11\" y=\"-227.87\" font-family=\"Times,serif\" font-size=\"14.00\">Timezone</text>\n",
       "<text text-anchor=\"middle\" x=\"411.11\" y=\"-195.37\" font-family=\"Times,serif\" font-size=\"14.00\">properties:</text>\n",
       "<text text-anchor=\"middle\" x=\"411.11\" y=\"-178.87\" font-family=\"Times,serif\" font-size=\"14.00\">timezones: timezones *unique*</text>\n",
       "</g>\n",
       "<!-- Country&#45;&gt;Timezone -->\n",
       "<g id=\"edge4\" class=\"edge\">\n",
       "<title>Country&#45;&gt;Timezone</title>\n",
       "<path fill=\"none\" stroke=\"black\" d=\"M411.11,-312.69C411.11,-298.81 411.11,-285.01 411.11,-272.22\"/>\n",
       "<polygon fill=\"black\" stroke=\"black\" points=\"414.61,-272.3 411.11,-262.3 407.61,-272.3 414.61,-272.3\"/>\n",
       "<text text-anchor=\"middle\" x=\"462.86\" y=\"-281.59\" font-family=\"Times,serif\" font-size=\"14.00\">HAS_TIMEZONE</text>\n",
       "</g>\n",
       "<!-- Currency -->\n",
       "<g id=\"node5\" class=\"node\">\n",
       "<title>Currency</title>\n",
       "<ellipse fill=\"none\" stroke=\"black\" cx=\"733.11\" cy=\"-208.42\" rx=\"170.94\" ry=\"51.97\"/>\n",
       "<text text-anchor=\"middle\" x=\"733.11\" y=\"-227.87\" font-family=\"Times,serif\" font-size=\"14.00\">Currency</text>\n",
       "<text text-anchor=\"middle\" x=\"733.11\" y=\"-195.37\" font-family=\"Times,serif\" font-size=\"14.00\">properties:</text>\n",
       "<text text-anchor=\"middle\" x=\"733.11\" y=\"-178.87\" font-family=\"Times,serif\" font-size=\"14.00\">currencyName: currency_name *unique*</text>\n",
       "</g>\n",
       "<!-- Country&#45;&gt;Currency -->\n",
       "<g id=\"edge3\" class=\"edge\">\n",
       "<title>Country&#45;&gt;Currency</title>\n",
       "<path fill=\"none\" stroke=\"black\" d=\"M500.37,-363.21C548.17,-331.62 606.57,-293.03 652.91,-262.41\"/>\n",
       "<polygon fill=\"black\" stroke=\"black\" points=\"654.64,-265.47 661.05,-257.03 650.78,-259.63 654.64,-265.47\"/>\n",
       "<text text-anchor=\"middle\" x=\"675.73\" y=\"-281.59\" font-family=\"Times,serif\" font-size=\"14.00\">USES_CURRENCY</text>\n",
       "</g>\n",
       "<!-- Region -->\n",
       "<g id=\"node2\" class=\"node\">\n",
       "<title>Region</title>\n",
       "<ellipse fill=\"none\" stroke=\"black\" cx=\"130.11\" cy=\"-51.97\" rx=\"103.59\" ry=\"51.97\"/>\n",
       "<text text-anchor=\"middle\" x=\"130.11\" y=\"-71.42\" font-family=\"Times,serif\" font-size=\"14.00\">Region</text>\n",
       "<text text-anchor=\"middle\" x=\"130.11\" y=\"-38.92\" font-family=\"Times,serif\" font-size=\"14.00\">properties:</text>\n",
       "<text text-anchor=\"middle\" x=\"130.11\" y=\"-22.42\" font-family=\"Times,serif\" font-size=\"14.00\">region: region *unique*</text>\n",
       "</g>\n",
       "<!-- Subregion&#45;&gt;Region -->\n",
       "<g id=\"edge2\" class=\"edge\">\n",
       "<title>Subregion&#45;&gt;Region</title>\n",
       "<path fill=\"none\" stroke=\"black\" d=\"M130.11,-155.99C130.11,-143.16 130.11,-129.26 130.11,-115.95\"/>\n",
       "<polygon fill=\"black\" stroke=\"black\" points=\"133.61,-115.95 130.11,-105.95 126.61,-115.95 133.61,-115.95\"/>\n",
       "<text text-anchor=\"middle\" x=\"159.36\" y=\"-125.14\" font-family=\"Times,serif\" font-size=\"14.00\">PART_OF</text>\n",
       "</g>\n",
       "</g>\n",
       "</svg>\n"
      ],
      "text/plain": [
       "<graphviz.graphs.Digraph at 0x17421b2f0>"
      ]
     },
     "execution_count": 17,
     "metadata": {},
     "output_type": "execute_result"
    }
   ],
   "source": [
    "gdm.current_model.visualize()"
   ]
  },
  {
   "cell_type": "markdown",
   "metadata": {},
   "source": [
    "We can now create some ingestion code to get our data into our database."
   ]
  },
  {
   "cell_type": "markdown",
   "metadata": {},
   "source": [
    "## Ingestion Code Generation"
   ]
  },
  {
   "cell_type": "markdown",
   "metadata": {},
   "source": [
    "We can provide our credentials here in this step if we plan on using PyIngest to load our data. This will inject our credentials into the generated YAML file. If we leave the credential fields blank, then we can just fill in the blanks in the generated YAML file later."
   ]
  },
  {
   "cell_type": "code",
   "execution_count": 18,
   "metadata": {},
   "outputs": [],
   "source": [
    "gen = PyIngestConfigGenerator(data_model=gdm.current_model, \n",
    "                         username=os.environ.get(\"NEO4J_USERNAME\"), \n",
    "                         password=os.environ.get(\"NEO4J_PASSWORD\"), \n",
    "                         uri=os.environ.get(\"NEO4J_URI\"), \n",
    "                         database=os.environ.get(\"NEO4J_DATABASE\"), \n",
    "                         file_directory=\"data/csv/\", source_name=\"countries.csv\")"
   ]
  },
  {
   "cell_type": "code",
   "execution_count": 19,
   "metadata": {},
   "outputs": [
    {
     "name": "stdout",
     "output_type": "stream",
     "text": [
      "server_uri: bolt://localhost:7687\n",
      "admin_user: neo4j\n",
      "admin_pass: password\n",
      "database: neo4j\n",
      "basepath: ./\n",
      "\n",
      "pre_ingest:\n",
      "  - CREATE CONSTRAINT country_id IF NOT EXISTS FOR (n:Country) REQUIRE n.id IS UNIQUE;\n",
      "  - CREATE CONSTRAINT region_region IF NOT EXISTS FOR (n:Region) REQUIRE n.region IS UNIQUE;\n",
      "  - CREATE CONSTRAINT subregion_subregion IF NOT EXISTS FOR (n:Subregion) REQUIRE n.subregion IS UNIQUE;\n",
      "  - CREATE CONSTRAINT timezone_timezones IF NOT EXISTS FOR (n:Timezone) REQUIRE n.timezones IS UNIQUE;\n",
      "  - CREATE CONSTRAINT currency_currencyname IF NOT EXISTS FOR (n:Currency) REQUIRE n.currencyName IS UNIQUE;\n",
      "files:\n",
      "- chunk_size: 100\n",
      "  cql: |-\n",
      "    WITH $dict.rows AS rows\n",
      "    UNWIND rows AS row\n",
      "    MERGE (n:Country {id: toIntegerOrNull(row.id)})\n",
      "    SET n.name = row.name, n.phoneCode = row.phone_code, n.capital = row.capital, n.latitude = toFloatOrNull(row.latitude), n.longitude = toFloatOrNull(row.longitude)\n",
      "  url: $BASE/data/csv/countries.csv\n",
      "- chunk_size: 100\n",
      "  cql: |\n",
      "    WITH $dict.rows AS rows\n",
      "    UNWIND rows AS row\n",
      "    MERGE (n:Region {region: row.region})\n",
      "  url: $BASE/data/csv/countries.csv\n",
      "- chunk_size: 100\n",
      "  cql: |\n",
      "    WITH $dict.rows AS rows\n",
      "    UNWIND rows AS row\n",
      "    MERGE (n:Subregion {subregion: row.subregion})\n",
      "  url: $BASE/data/csv/countries.csv\n",
      "- chunk_size: 100\n",
      "  cql: |\n",
      "    WITH $dict.rows AS rows\n",
      "    UNWIND rows AS row\n",
      "    MERGE (n:Timezone {timezones: row.timezones})\n",
      "  url: $BASE/data/csv/countries.csv\n",
      "- chunk_size: 100\n",
      "  cql: |\n",
      "    WITH $dict.rows AS rows\n",
      "    UNWIND rows AS row\n",
      "    MERGE (n:Currency {currencyName: row.currency_name})\n",
      "  url: $BASE/data/csv/countries.csv\n",
      "- chunk_size: 100\n",
      "  cql: |\n",
      "    WITH $dict.rows AS rows\n",
      "    UNWIND rows as row\n",
      "    MATCH (source:Country {id: toIntegerOrNull(row.id)})\n",
      "    MATCH (target:Subregion {subregion: row.subregion})\n",
      "    MERGE (source)-[n:LOCATED_IN]->(target)\n",
      "  url: $BASE/data/csv/countries.csv\n",
      "- chunk_size: 100\n",
      "  cql: |\n",
      "    WITH $dict.rows AS rows\n",
      "    UNWIND rows as row\n",
      "    MATCH (source:Subregion {subregion: row.subregion})\n",
      "    MATCH (target:Region {region: row.region})\n",
      "    MERGE (source)-[n:PART_OF]->(target)\n",
      "  url: $BASE/data/csv/countries.csv\n",
      "- chunk_size: 100\n",
      "  cql: |\n",
      "    WITH $dict.rows AS rows\n",
      "    UNWIND rows as row\n",
      "    MATCH (source:Country {id: toIntegerOrNull(row.id)})\n",
      "    MATCH (target:Currency {currencyName: row.currency_name})\n",
      "    MERGE (source)-[n:USES_CURRENCY]->(target)\n",
      "  url: $BASE/data/csv/countries.csv\n",
      "- chunk_size: 100\n",
      "  cql: |\n",
      "    WITH $dict.rows AS rows\n",
      "    UNWIND rows as row\n",
      "    MATCH (source:Country {id: toIntegerOrNull(row.id)})\n",
      "    MATCH (target:Timezone {timezones: row.timezones})\n",
      "    MERGE (source)-[n:HAS_TIMEZONE]->(target)\n",
      "  url: $BASE/data/csv/countries.csv\n",
      "\n"
     ]
    }
   ],
   "source": [
    "pyingest_yaml = gen.generate_config_string()\n",
    "print(pyingest_yaml)"
   ]
  },
  {
   "cell_type": "markdown",
   "metadata": {},
   "source": [
    "## Ingest Data"
   ]
  },
  {
   "cell_type": "markdown",
   "metadata": {},
   "source": [
    "We can use the generated yaml string above to orchestrate the data loading via a modified PyIngest function. First let's confirm our connection though."
   ]
  },
  {
   "cell_type": "code",
   "execution_count": 20,
   "metadata": {},
   "outputs": [
    {
     "data": {
      "text/plain": [
       "{'valid': True, 'message': 'Connection and Auth Verified!'}"
      ]
     },
     "execution_count": 20,
     "metadata": {},
     "output_type": "execute_result"
    }
   ],
   "source": [
    "test_database_connection(credentials={\"username\": os.environ.get(\"NEO4J_USERNAME\"), \"password\": os.environ.get(\"NEO4J_PASSWORD\"), \"uri\": os.environ.get(\"NEO4J_URI\")})"
   ]
  },
  {
   "cell_type": "code",
   "execution_count": 21,
   "metadata": {},
   "outputs": [
    {
     "name": "stdout",
     "output_type": "stream",
     "text": [
      "File {} .//data/csv/countries.csv\n",
      "loading... 0 2024-08-28 09:10:40.049717\n",
      "loading... 1 2024-08-28 09:10:40.186946\n",
      "{} : Completed file 2024-08-28 09:10:40.220505\n",
      "File {} .//data/csv/countries.csv\n",
      "loading... 0 2024-08-28 09:10:40.221087\n",
      "loading... 1 2024-08-28 09:10:40.263834\n",
      "{} : Completed file 2024-08-28 09:10:40.275475\n",
      "File {} .//data/csv/countries.csv\n",
      "loading... 0 2024-08-28 09:10:40.275817\n",
      "loading... 1 2024-08-28 09:10:40.307399\n",
      "{} : Completed file 2024-08-28 09:10:40.322197\n",
      "File {} .//data/csv/countries.csv\n",
      "loading... 0 2024-08-28 09:10:40.322525\n",
      "loading... 1 2024-08-28 09:10:40.367488\n",
      "{} : Completed file 2024-08-28 09:10:40.404210\n",
      "File {} .//data/csv/countries.csv\n",
      "loading... 0 2024-08-28 09:10:40.404591\n",
      "loading... 1 2024-08-28 09:10:40.438580\n",
      "{} : Completed file 2024-08-28 09:10:40.459188\n",
      "File {} .//data/csv/countries.csv\n",
      "loading... 0 2024-08-28 09:10:40.459669\n",
      "loading... 1 2024-08-28 09:10:40.504272\n",
      "{} : Completed file 2024-08-28 09:10:40.524525\n",
      "File {} .//data/csv/countries.csv\n",
      "loading... 0 2024-08-28 09:10:40.525169\n",
      "loading... 1 2024-08-28 09:10:40.579019\n",
      "{} : Completed file 2024-08-28 09:10:40.591848\n",
      "File {} .//data/csv/countries.csv\n",
      "loading... 0 2024-08-28 09:10:40.592194\n",
      "loading... 1 2024-08-28 09:10:40.638850\n",
      "{} : Completed file 2024-08-28 09:10:40.658717\n",
      "File {} .//data/csv/countries.csv\n",
      "loading... 0 2024-08-28 09:10:40.659240\n",
      "loading... 1 2024-08-28 09:10:40.701720\n",
      "{} : Completed file 2024-08-28 09:10:40.721017\n"
     ]
    }
   ],
   "source": [
    "PyIngest(config=pyingest_yaml, dataframe=data)"
   ]
  },
  {
   "cell_type": "markdown",
   "metadata": {},
   "source": [
    "If we check our database we can see that we've ingested our CSV according to the data model we've created!"
   ]
  },
  {
   "cell_type": "markdown",
   "metadata": {},
   "source": [
    "![countries-graph-0.9.0.png](../../images/countries-graph-0.9.0.png)"
   ]
  },
  {
   "cell_type": "markdown",
   "metadata": {},
   "source": []
  }
 ],
 "metadata": {
  "kernelspec": {
   "display_name": "venv",
   "language": "python",
   "name": "python3"
  },
  "language_info": {
   "codemirror_mode": {
    "name": "ipython",
    "version": 3
   },
   "file_extension": ".py",
   "mimetype": "text/x-python",
   "name": "python",
   "nbconvert_exporter": "python",
   "pygments_lexer": "ipython3",
   "version": "3.12.3"
  }
 },
 "nbformat": 4,
 "nbformat_minor": 2
}
