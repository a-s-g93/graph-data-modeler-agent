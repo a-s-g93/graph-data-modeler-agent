{
 "cells": [
  {
   "cell_type": "markdown",
   "metadata": {},
   "source": [
    "# End To End Demo"
   ]
  },
  {
   "cell_type": "markdown",
   "metadata": {},
   "source": [
    "This notebooks demonstrates the data flow of generating a graph from a CSV file using Runway v0.12.0"
   ]
  },
  {
   "cell_type": "code",
   "execution_count": 2,
   "metadata": {},
   "outputs": [
    {
     "data": {
      "text/plain": [
       "True"
      ]
     },
     "execution_count": 2,
     "metadata": {},
     "output_type": "execute_result"
    }
   ],
   "source": [
    "import os\n",
    "\n",
    "import pandas as pd\n",
    "from dotenv import load_dotenv\n",
    "\n",
    "from neo4j_runway import Discovery, GraphDataModeler, PyIngest, UserInput\n",
    "from neo4j_runway.code_generation import PyIngestConfigGenerator\n",
    "from neo4j_runway.llm.openai import OpenAIDataModelingLLM, OpenAIDiscoveryLLM\n",
    "from neo4j_runway.utils import test_database_connection\n",
    "\n",
    "load_dotenv()"
   ]
  },
  {
   "cell_type": "markdown",
   "metadata": {},
   "source": [
    "## Load and Describe Data"
   ]
  },
  {
   "cell_type": "markdown",
   "metadata": {},
   "source": [
    "The USER_GENERATED_INPUT variable contains a general discription and feature descriptions for each feature we'd like to use in our graph."
   ]
  },
  {
   "cell_type": "code",
   "execution_count": 3,
   "metadata": {},
   "outputs": [],
   "source": [
    "USER_GENERATED_INPUT = UserInput(general_description='This is data on different cities.',\n",
    "                                 column_descriptions={\n",
    "                                     'id': 'unique id for a city.',\n",
    "                                    'name': 'the city name.',\n",
    "                                   'state_id': \"the id for the state.\",\n",
    "                                   'country_id': 'the id for the country.'\n",
    "                                    },\n",
    "                                use_cases=[\n",
    "        \"Organize a hierarchy of locations\"\n",
    "    ]  \n",
    "                                )"
   ]
  },
  {
   "cell_type": "code",
   "execution_count": 4,
   "metadata": {},
   "outputs": [],
   "source": [
    "data = pd.read_csv(\"../../../data/countries/cities.csv\")"
   ]
  },
  {
   "cell_type": "code",
   "execution_count": 5,
   "metadata": {},
   "outputs": [
    {
     "data": {
      "text/html": [
       "<div>\n",
       "<style scoped>\n",
       "    .dataframe tbody tr th:only-of-type {\n",
       "        vertical-align: middle;\n",
       "    }\n",
       "\n",
       "    .dataframe tbody tr th {\n",
       "        vertical-align: top;\n",
       "    }\n",
       "\n",
       "    .dataframe thead th {\n",
       "        text-align: right;\n",
       "    }\n",
       "</style>\n",
       "<table border=\"1\" class=\"dataframe\">\n",
       "  <thead>\n",
       "    <tr style=\"text-align: right;\">\n",
       "      <th></th>\n",
       "      <th>id</th>\n",
       "      <th>name</th>\n",
       "      <th>state_id</th>\n",
       "      <th>state_code</th>\n",
       "      <th>state_name</th>\n",
       "      <th>country_id</th>\n",
       "      <th>country_code</th>\n",
       "      <th>country_name</th>\n",
       "      <th>latitude</th>\n",
       "      <th>longitude</th>\n",
       "      <th>wikiDataId</th>\n",
       "    </tr>\n",
       "  </thead>\n",
       "  <tbody>\n",
       "    <tr>\n",
       "      <th>0</th>\n",
       "      <td>52</td>\n",
       "      <td>Ashkāsham</td>\n",
       "      <td>3901</td>\n",
       "      <td>BDS</td>\n",
       "      <td>Badakhshan</td>\n",
       "      <td>1</td>\n",
       "      <td>AF</td>\n",
       "      <td>Afghanistan</td>\n",
       "      <td>36.68333</td>\n",
       "      <td>71.53333</td>\n",
       "      <td>Q4805192</td>\n",
       "    </tr>\n",
       "    <tr>\n",
       "      <th>1</th>\n",
       "      <td>68</td>\n",
       "      <td>Fayzabad</td>\n",
       "      <td>3901</td>\n",
       "      <td>BDS</td>\n",
       "      <td>Badakhshan</td>\n",
       "      <td>1</td>\n",
       "      <td>AF</td>\n",
       "      <td>Afghanistan</td>\n",
       "      <td>37.11664</td>\n",
       "      <td>70.58002</td>\n",
       "      <td>Q156558</td>\n",
       "    </tr>\n",
       "    <tr>\n",
       "      <th>2</th>\n",
       "      <td>78</td>\n",
       "      <td>Jurm</td>\n",
       "      <td>3901</td>\n",
       "      <td>BDS</td>\n",
       "      <td>Badakhshan</td>\n",
       "      <td>1</td>\n",
       "      <td>AF</td>\n",
       "      <td>Afghanistan</td>\n",
       "      <td>36.86477</td>\n",
       "      <td>70.83421</td>\n",
       "      <td>Q10308323</td>\n",
       "    </tr>\n",
       "    <tr>\n",
       "      <th>3</th>\n",
       "      <td>84</td>\n",
       "      <td>Khandūd</td>\n",
       "      <td>3901</td>\n",
       "      <td>BDS</td>\n",
       "      <td>Badakhshan</td>\n",
       "      <td>1</td>\n",
       "      <td>AF</td>\n",
       "      <td>Afghanistan</td>\n",
       "      <td>36.95127</td>\n",
       "      <td>72.31800</td>\n",
       "      <td>Q3290334</td>\n",
       "    </tr>\n",
       "    <tr>\n",
       "      <th>4</th>\n",
       "      <td>115</td>\n",
       "      <td>Rāghistān</td>\n",
       "      <td>3901</td>\n",
       "      <td>BDS</td>\n",
       "      <td>Badakhshan</td>\n",
       "      <td>1</td>\n",
       "      <td>AF</td>\n",
       "      <td>Afghanistan</td>\n",
       "      <td>37.66079</td>\n",
       "      <td>70.67346</td>\n",
       "      <td>Q2670909</td>\n",
       "    </tr>\n",
       "  </tbody>\n",
       "</table>\n",
       "</div>"
      ],
      "text/plain": [
       "    id       name  state_id state_code  state_name  country_id country_code  \\\n",
       "0   52  Ashkāsham      3901        BDS  Badakhshan           1           AF   \n",
       "1   68   Fayzabad      3901        BDS  Badakhshan           1           AF   \n",
       "2   78       Jurm      3901        BDS  Badakhshan           1           AF   \n",
       "3   84    Khandūd      3901        BDS  Badakhshan           1           AF   \n",
       "4  115  Rāghistān      3901        BDS  Badakhshan           1           AF   \n",
       "\n",
       "  country_name  latitude  longitude wikiDataId  \n",
       "0  Afghanistan  36.68333   71.53333   Q4805192  \n",
       "1  Afghanistan  37.11664   70.58002    Q156558  \n",
       "2  Afghanistan  36.86477   70.83421  Q10308323  \n",
       "3  Afghanistan  36.95127   72.31800   Q3290334  \n",
       "4  Afghanistan  37.66079   70.67346   Q2670909  "
      ]
     },
     "execution_count": 5,
     "metadata": {},
     "output_type": "execute_result"
    }
   ],
   "source": [
    "data.head()"
   ]
  },
  {
   "cell_type": "markdown",
   "metadata": {},
   "source": [
    "## Initialize LLMs"
   ]
  },
  {
   "cell_type": "markdown",
   "metadata": {},
   "source": [
    "We now initialize the LLMs to use in data discovery and data model creation."
   ]
  },
  {
   "cell_type": "code",
   "execution_count": 6,
   "metadata": {},
   "outputs": [],
   "source": [
    "llm_disc = OpenAIDiscoveryLLM(model_name='gpt-4o-mini-2024-07-18', model_params={\"temperature\": 0})\n",
    "llm_dm = OpenAIDataModelingLLM(model_name='gpt-4o-2024-05-13', model_params={\"temperature\": 0.5})"
   ]
  },
  {
   "cell_type": "markdown",
   "metadata": {},
   "source": [
    "## Discovery"
   ]
  },
  {
   "cell_type": "markdown",
   "metadata": {},
   "source": [
    "We now load the above data into a Discovery object."
   ]
  },
  {
   "cell_type": "code",
   "execution_count": 7,
   "metadata": {},
   "outputs": [],
   "source": [
    "disc = Discovery(llm=llm_disc, user_input=USER_GENERATED_INPUT, data=data)"
   ]
  },
  {
   "cell_type": "code",
   "execution_count": 8,
   "metadata": {},
   "outputs": [
    {
     "data": {
      "text/markdown": [
       "The dataset contains information about 150,454 cities, with four key features: `id`, `name`, `state_id`, and `country_id`. Here are some important details and insights from the preliminary analysis:\n",
       "\n",
       "1. **Data Overview**:\n",
       "   - The dataset has a total of 150,454 entries, indicating a substantial amount of data for analysis.\n",
       "   - There is one missing value in the `name` column, which may need to be addressed depending on the analysis requirements.\n",
       "\n",
       "2. **Feature Characteristics**:\n",
       "   - **id**: This is a unique identifier for each city. The distribution shows a wide range of values from 1 to 153,528, with a mean of approximately 76,407. The standard deviation is relatively high (44,357), indicating a diverse range of city IDs.\n",
       "   - **name**: The city names are mostly unique, with 131,996 unique entries out of 150,453. The most frequent city name is \"Merkez\", which appears 51 times. This suggests that there may be multiple cities with the same name, possibly in different states or countries.\n",
       "   - **state_id**: This feature represents the state each city belongs to. The `state_id` values range from 1 to 5,116, with a mean of approximately 2,678. The distribution indicates a variety of states represented in the dataset, which is crucial for organizing a hierarchy of locations.\n",
       "   - **country_id**: This feature indicates the country each city is located in. The `country_id` ranges from 1 to 247, with a mean of about 140. The distribution suggests that there are many countries represented, which is important for understanding the geographical context of the cities.\n",
       "\n",
       "3. **Missing Values**:\n",
       "   - The only missing value is in the `name` column. Depending on the analysis, this may need to be filled or removed.\n",
       "\n",
       "4. **Use Case Relevance**:\n",
       "   - For organizing a hierarchy of locations, the `state_id` and `country_id` features are particularly important. They can be used to establish relationships between cities, states, and countries, allowing for a structured representation of geographical data.\n",
       "   - The `id` feature can serve as a unique identifier for each city, while the `name` feature provides human-readable labels for the cities.\n",
       "\n",
       "5. **Potential Data Quality Issues**:\n",
       "   - The presence of duplicate city names may indicate potential data quality issues, especially if cities with the same name are located in different states or countries. This should be investigated further to ensure accurate representation in the graph model.\n",
       "\n",
       "Overall, the dataset provides a rich source of information for analyzing cities and their geographical relationships. The most important features for the use case of organizing a hierarchy of locations are `state_id` and `country_id`, as they will help establish the relationships between different levels of geographical data."
      ],
      "text/plain": [
       "<IPython.core.display.Markdown object>"
      ]
     },
     "metadata": {},
     "output_type": "display_data"
    }
   ],
   "source": [
    "disc.run(show_result=True, notebook=True)"
   ]
  },
  {
   "cell_type": "markdown",
   "metadata": {},
   "source": [
    "## Data Modeling"
   ]
  },
  {
   "cell_type": "markdown",
   "metadata": {},
   "source": [
    "We can now use our Discovery object to provide context to the LLM for data model generation. We don't *need* the discovery information for this step to work, but it provides much better models."
   ]
  },
  {
   "cell_type": "code",
   "execution_count": 9,
   "metadata": {},
   "outputs": [],
   "source": [
    "gdm = GraphDataModeler(\n",
    "    llm=llm_dm,\n",
    "    discovery=disc\n",
    ")"
   ]
  },
  {
   "cell_type": "markdown",
   "metadata": {},
   "source": [
    "We now generate our first pass data model."
   ]
  },
  {
   "cell_type": "code",
   "execution_count": 10,
   "metadata": {},
   "outputs": [
    {
     "name": "stdout",
     "output_type": "stream",
     "text": [
      "\u001b[1m> Generating Nodes...\u001b[00m\n",
      "\u001b[3mAttempts | 1  \u001b[0m\n",
      "Received \u001b[92mValid\u001b[00m Nodes\n",
      "Nodes\n",
      "* \u001b[96m(:City)\u001b[00m      * \u001b[96m(:State)\u001b[00m\n",
      "* \u001b[96m(:Country)\u001b[00m    \n",
      "\n",
      "\u001b[1m> Generating Data Model...\u001b[00m\n",
      "\u001b[3mAttempts | 1  \u001b[0m\n",
      "Recieved \u001b[92mValid\u001b[00m Data Model\n",
      "Nodes\n",
      "* \u001b[96m(:City)\u001b[00m      * \u001b[96m(:State)\u001b[00m\n",
      "* \u001b[96m(:Country)\u001b[00m    \n",
      "\n",
      "Relationships\n",
      "* \u001b[96m(:City)-[:LOCATED_IN]->(:State)\u001b[00m   \n",
      "* \u001b[96m(:State)-[:PART_OF]->(:Country)\u001b[00m   \n"
     ]
    },
    {
     "data": {
      "text/plain": [
       "DataModel(nodes=[Node(label='City', properties=[Property(name='id', type='int', column_mapping='id', alias=None, is_unique=True, part_of_key=False), Property(name='name', type='str', column_mapping='name', alias=None, is_unique=False, part_of_key=False)], source_name='file'), Node(label='State', properties=[Property(name='stateId', type='int', column_mapping='state_id', alias=None, is_unique=True, part_of_key=False)], source_name='file'), Node(label='Country', properties=[Property(name='countryId', type='int', column_mapping='country_id', alias=None, is_unique=True, part_of_key=False)], source_name='file')], relationships=[Relationship(type='LOCATED_IN', properties=[], source='City', target='State', source_name='file'), Relationship(type='PART_OF', properties=[], source='State', target='Country', source_name='file')], metadata=None)"
      ]
     },
     "execution_count": 10,
     "metadata": {},
     "output_type": "execute_result"
    }
   ],
   "source": [
    "gdm.create_initial_model(max_retries=5)"
   ]
  },
  {
   "cell_type": "code",
   "execution_count": 11,
   "metadata": {},
   "outputs": [
    {
     "data": {
      "text/plain": [
       "DataModel(nodes=[Node(label='City', properties=[Property(name='id', type='int', column_mapping='id', alias=None, is_unique=True, part_of_key=False), Property(name='name', type='str', column_mapping='name', alias=None, is_unique=False, part_of_key=False)], source_name='file'), Node(label='State', properties=[Property(name='stateId', type='int', column_mapping='state_id', alias=None, is_unique=True, part_of_key=False)], source_name='file'), Node(label='Country', properties=[Property(name='countryId', type='int', column_mapping='country_id', alias=None, is_unique=True, part_of_key=False)], source_name='file')], relationships=[Relationship(type='LOCATED_IN', properties=[], source='City', target='State', source_name='file'), Relationship(type='PART_OF', properties=[], source='State', target='Country', source_name='file')], metadata=None)"
      ]
     },
     "execution_count": 11,
     "metadata": {},
     "output_type": "execute_result"
    }
   ],
   "source": [
    "gdm.current_model"
   ]
  },
  {
   "cell_type": "code",
   "execution_count": 12,
   "metadata": {},
   "outputs": [
    {
     "data": {
      "image/svg+xml": [
       "<?xml version=\"1.0\" encoding=\"UTF-8\" standalone=\"no\"?>\n",
       "<!DOCTYPE svg PUBLIC \"-//W3C//DTD SVG 1.1//EN\"\n",
       " \"http://www.w3.org/Graphics/SVG/1.1/DTD/svg11.dtd\">\n",
       "<!-- Generated by graphviz version 10.0.1 (20240210.2158)\n",
       " -->\n",
       "<!-- Pages: 1 -->\n",
       "<svg width=\"275pt\" height=\"448pt\"\n",
       " viewBox=\"0.00 0.00 274.58 448.17\" xmlns=\"http://www.w3.org/2000/svg\" xmlns:xlink=\"http://www.w3.org/1999/xlink\">\n",
       "<g id=\"graph0\" class=\"graph\" transform=\"scale(1 1) rotate(0) translate(4 444.17)\">\n",
       "<polygon fill=\"white\" stroke=\"none\" points=\"-4,4 -4,-444.17 270.58,-444.17 270.58,4 -4,4\"/>\n",
       "<!-- City -->\n",
       "<g id=\"node1\" class=\"node\">\n",
       "<title>City</title>\n",
       "<ellipse fill=\"none\" stroke=\"black\" cx=\"133.29\" cy=\"-376.53\" rx=\"69.65\" ry=\"63.64\"/>\n",
       "<text text-anchor=\"middle\" x=\"133.29\" y=\"-404.23\" font-family=\"Times,serif\" font-size=\"14.00\">City</text>\n",
       "<text text-anchor=\"middle\" x=\"133.29\" y=\"-371.73\" font-family=\"Times,serif\" font-size=\"14.00\">properties:</text>\n",
       "<text text-anchor=\"middle\" x=\"133.29\" y=\"-355.23\" font-family=\"Times,serif\" font-size=\"14.00\">id: id *unique*</text>\n",
       "<text text-anchor=\"middle\" x=\"133.29\" y=\"-338.73\" font-family=\"Times,serif\" font-size=\"14.00\">name: name</text>\n",
       "</g>\n",
       "<!-- State -->\n",
       "<g id=\"node2\" class=\"node\">\n",
       "<title>State</title>\n",
       "<ellipse fill=\"none\" stroke=\"black\" cx=\"133.29\" cy=\"-208.42\" rx=\"109.96\" ry=\"51.97\"/>\n",
       "<text text-anchor=\"middle\" x=\"133.29\" y=\"-227.87\" font-family=\"Times,serif\" font-size=\"14.00\">State</text>\n",
       "<text text-anchor=\"middle\" x=\"133.29\" y=\"-195.37\" font-family=\"Times,serif\" font-size=\"14.00\">properties:</text>\n",
       "<text text-anchor=\"middle\" x=\"133.29\" y=\"-178.87\" font-family=\"Times,serif\" font-size=\"14.00\">stateId: state_id *unique*</text>\n",
       "</g>\n",
       "<!-- City&#45;&gt;State -->\n",
       "<g id=\"edge1\" class=\"edge\">\n",
       "<title>City&#45;&gt;State</title>\n",
       "<path fill=\"none\" stroke=\"black\" d=\"M133.29,-312.73C133.29,-299.44 133.29,-285.42 133.29,-272.13\"/>\n",
       "<polygon fill=\"black\" stroke=\"black\" points=\"136.79,-272.2 133.29,-262.2 129.79,-272.2 136.79,-272.2\"/>\n",
       "<text text-anchor=\"middle\" x=\"174.54\" y=\"-281.59\" font-family=\"Times,serif\" font-size=\"14.00\">LOCATED_IN</text>\n",
       "</g>\n",
       "<!-- Country -->\n",
       "<g id=\"node3\" class=\"node\">\n",
       "<title>Country</title>\n",
       "<ellipse fill=\"none\" stroke=\"black\" cx=\"133.29\" cy=\"-51.97\" rx=\"133.29\" ry=\"51.97\"/>\n",
       "<text text-anchor=\"middle\" x=\"133.29\" y=\"-71.42\" font-family=\"Times,serif\" font-size=\"14.00\">Country</text>\n",
       "<text text-anchor=\"middle\" x=\"133.29\" y=\"-38.92\" font-family=\"Times,serif\" font-size=\"14.00\">properties:</text>\n",
       "<text text-anchor=\"middle\" x=\"133.29\" y=\"-22.42\" font-family=\"Times,serif\" font-size=\"14.00\">countryId: country_id *unique*</text>\n",
       "</g>\n",
       "<!-- State&#45;&gt;Country -->\n",
       "<g id=\"edge2\" class=\"edge\">\n",
       "<title>State&#45;&gt;Country</title>\n",
       "<path fill=\"none\" stroke=\"black\" d=\"M133.29,-155.99C133.29,-143.16 133.29,-129.26 133.29,-115.95\"/>\n",
       "<polygon fill=\"black\" stroke=\"black\" points=\"136.79,-115.95 133.29,-105.95 129.79,-115.95 136.79,-115.95\"/>\n",
       "<text text-anchor=\"middle\" x=\"162.54\" y=\"-125.14\" font-family=\"Times,serif\" font-size=\"14.00\">PART_OF</text>\n",
       "</g>\n",
       "</g>\n",
       "</svg>\n"
      ],
      "text/plain": [
       "<graphviz.graphs.Digraph at 0x1771744a0>"
      ]
     },
     "execution_count": 12,
     "metadata": {},
     "output_type": "execute_result"
    }
   ],
   "source": [
    "gdm.current_model.visualize()"
   ]
  },
  {
   "cell_type": "markdown",
   "metadata": {},
   "source": [
    "We can clean this up a bit, so let's prompt the LLM to make some corrections."
   ]
  },
  {
   "cell_type": "markdown",
   "metadata": {},
   "source": [
    "We can now create some ingestion code to get our data into our database."
   ]
  },
  {
   "cell_type": "markdown",
   "metadata": {},
   "source": [
    "## Ingestion Code Generation"
   ]
  },
  {
   "cell_type": "markdown",
   "metadata": {},
   "source": [
    "We can provide our credentials here in this step if we plan on using PyIngest to load our data. This will inject our credentials into the generated YAML file. If we leave the credential fields blank, then we can just fill in the blanks in the generated YAML file later."
   ]
  },
  {
   "cell_type": "code",
   "execution_count": 13,
   "metadata": {},
   "outputs": [],
   "source": [
    "gen = PyIngestConfigGenerator(data_model=gdm.current_model, \n",
    "                         username=os.environ.get(\"NEO4J_USERNAME\"), \n",
    "                         password=os.environ.get(\"NEO4J_PASSWORD\"), \n",
    "                         uri=os.environ.get(\"NEO4J_URI\"), \n",
    "                         database=os.environ.get(\"NEO4J_DATABASE\"), \n",
    "                         file_directory=\"data/csv/\", source_name=\"cities.csv\")"
   ]
  },
  {
   "cell_type": "code",
   "execution_count": 14,
   "metadata": {},
   "outputs": [
    {
     "name": "stdout",
     "output_type": "stream",
     "text": [
      "server_uri: bolt://localhost:7687\n",
      "admin_user: neo4j\n",
      "admin_pass: password\n",
      "database: neo4j\n",
      "basepath: ./\n",
      "\n",
      "pre_ingest:\n",
      "  - CREATE CONSTRAINT city_id IF NOT EXISTS FOR (n:City) REQUIRE n.id IS UNIQUE;\n",
      "  - CREATE CONSTRAINT state_stateid IF NOT EXISTS FOR (n:State) REQUIRE n.stateId IS UNIQUE;\n",
      "  - CREATE CONSTRAINT country_countryid IF NOT EXISTS FOR (n:Country) REQUIRE n.countryId IS UNIQUE;\n",
      "files:\n",
      "- chunk_size: 100\n",
      "  cql: |-\n",
      "    WITH $dict.rows AS rows\n",
      "    UNWIND rows AS row\n",
      "    MERGE (n:City {id: toIntegerOrNull(row.id)})\n",
      "    SET n.name = row.name\n",
      "  url: $BASE/data/csv/cities.csv\n",
      "- chunk_size: 100\n",
      "  cql: |\n",
      "    WITH $dict.rows AS rows\n",
      "    UNWIND rows AS row\n",
      "    MERGE (n:State {stateId: toIntegerOrNull(row.state_id)})\n",
      "  url: $BASE/data/csv/cities.csv\n",
      "- chunk_size: 100\n",
      "  cql: |\n",
      "    WITH $dict.rows AS rows\n",
      "    UNWIND rows AS row\n",
      "    MERGE (n:Country {countryId: toIntegerOrNull(row.country_id)})\n",
      "  url: $BASE/data/csv/cities.csv\n",
      "- chunk_size: 100\n",
      "  cql: |\n",
      "    WITH $dict.rows AS rows\n",
      "    UNWIND rows as row\n",
      "    MATCH (source:City {id: toIntegerOrNull(row.id)})\n",
      "    MATCH (target:State {stateId: toIntegerOrNull(row.state_id)})\n",
      "    MERGE (source)-[n:LOCATED_IN]->(target)\n",
      "  url: $BASE/data/csv/cities.csv\n",
      "- chunk_size: 100\n",
      "  cql: |\n",
      "    WITH $dict.rows AS rows\n",
      "    UNWIND rows as row\n",
      "    MATCH (source:State {stateId: toIntegerOrNull(row.state_id)})\n",
      "    MATCH (target:Country {countryId: toIntegerOrNull(row.country_id)})\n",
      "    MERGE (source)-[n:PART_OF]->(target)\n",
      "  url: $BASE/data/csv/cities.csv\n",
      "\n"
     ]
    }
   ],
   "source": [
    "pyingest_yaml = gen.generate_config_string()\n",
    "print(pyingest_yaml)"
   ]
  },
  {
   "cell_type": "markdown",
   "metadata": {},
   "source": [
    "## Ingest Data"
   ]
  },
  {
   "cell_type": "markdown",
   "metadata": {},
   "source": [
    "We can use the generated yaml string above to orchestrate the data loading via a modified PyIngest function. First let's confirm our connection though."
   ]
  },
  {
   "cell_type": "code",
   "execution_count": 15,
   "metadata": {},
   "outputs": [
    {
     "data": {
      "text/plain": [
       "{'valid': True, 'message': 'Connection and Auth Verified!'}"
      ]
     },
     "execution_count": 15,
     "metadata": {},
     "output_type": "execute_result"
    }
   ],
   "source": [
    "test_database_connection(credentials={\"username\": os.environ.get(\"NEO4J_USERNAME\"), \"password\": os.environ.get(\"NEO4J_PASSWORD\"), \"uri\": os.environ.get(\"NEO4J_URI\")})"
   ]
  },
  {
   "cell_type": "code",
   "execution_count": 16,
   "metadata": {},
   "outputs": [],
   "source": [
    "PyIngest(config=pyingest_yaml, dataframe=data)"
   ]
  }
 ],
 "metadata": {
  "kernelspec": {
   "display_name": "venv",
   "language": "python",
   "name": "python3"
  },
  "language_info": {
   "codemirror_mode": {
    "name": "ipython",
    "version": 3
   },
   "file_extension": ".py",
   "mimetype": "text/x-python",
   "name": "python",
   "nbconvert_exporter": "python",
   "pygments_lexer": "ipython3",
   "version": "3.12.3"
  }
 },
 "nbformat": 4,
 "nbformat_minor": 2
}
