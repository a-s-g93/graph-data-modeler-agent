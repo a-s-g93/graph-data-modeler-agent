{
 "cells": [
  {
   "cell_type": "markdown",
   "metadata": {},
   "source": [
    "# End To End Demo"
   ]
  },
  {
   "cell_type": "markdown",
   "metadata": {},
   "source": [
    "This notebooks demonstrates the data flow of generating a graph from a CSV file using Runway v0.12.0"
   ]
  },
  {
   "cell_type": "code",
   "execution_count": 1,
   "metadata": {},
   "outputs": [
    {
     "data": {
      "text/plain": [
       "True"
      ]
     },
     "execution_count": 1,
     "metadata": {},
     "output_type": "execute_result"
    }
   ],
   "source": [
    "import os\n",
    "\n",
    "from dotenv import load_dotenv\n",
    "\n",
    "from neo4j_runway import Discovery, GraphDataModeler, PyIngest\n",
    "from neo4j_runway.code_generation import PyIngestConfigGenerator\n",
    "from neo4j_runway.llm.openai import OpenAIDataModelingLLM, OpenAIDiscoveryLLM\n",
    "from neo4j_runway.utils import test_database_connection\n",
    "from neo4j_runway.utils.data import load_local_files\n",
    "\n",
    "load_dotenv()"
   ]
  },
  {
   "cell_type": "markdown",
   "metadata": {},
   "source": [
    "## Load and Describe Data"
   ]
  },
  {
   "cell_type": "markdown",
   "metadata": {},
   "source": [
    "We may use `load_local_files` to easily prepare our csv file for Runway. Below we define the `data_directory`, `data_dictionary` and `use_cases` which will assist the LLM in the Discovery process."
   ]
  },
  {
   "cell_type": "code",
   "execution_count": 2,
   "metadata": {},
   "outputs": [],
   "source": [
    "data_directory = \"../../../data/countries/\"\n",
    "\n",
    "data_dictionary = {\n",
    "                    'id': 'unique id for a country.',\n",
    "                'name': 'the country name.',\n",
    "                'phone_code': 'country area code.',\n",
    "                'capital': 'the capital of the country.',\n",
    "                'currency_name': \"name of the country's currency.\",\n",
    "                'region': 'primary region of the country.',\n",
    "                'subregion': 'subregion location of the country.',\n",
    "                'timezones': 'timezones contained within the country borders.',\n",
    "                'latitude': 'the latitude coordinate of the country center.',\n",
    "                'longitude': 'the longitude coordinate of the country center.'\n",
    "                }\n",
    "\n",
    "use_cases = [\n",
    "        \"Which region contains the most subregions?\", \n",
    "        \"What currencies are most popular?\", \n",
    "        \"Which countries share timezones?\"\n",
    "    ]"
   ]
  },
  {
   "cell_type": "code",
   "execution_count": 4,
   "metadata": {},
   "outputs": [],
   "source": [
    "data = load_local_files(data_directory=data_directory, \n",
    "                        data_dictionary=data_dictionary, \n",
    "                        general_description=\"This is data on countries and their attributes.\",\n",
    "                        use_cases=use_cases, \n",
    "                        include_files=[\"countries.csv\"])"
   ]
  },
  {
   "cell_type": "markdown",
   "metadata": {},
   "source": [
    "### Preview Data Contents"
   ]
  },
  {
   "cell_type": "code",
   "execution_count": 5,
   "metadata": {},
   "outputs": [
    {
     "data": {
      "text/html": [
       "<div>\n",
       "<style scoped>\n",
       "    .dataframe tbody tr th:only-of-type {\n",
       "        vertical-align: middle;\n",
       "    }\n",
       "\n",
       "    .dataframe tbody tr th {\n",
       "        vertical-align: top;\n",
       "    }\n",
       "\n",
       "    .dataframe thead th {\n",
       "        text-align: right;\n",
       "    }\n",
       "</style>\n",
       "<table border=\"1\" class=\"dataframe\">\n",
       "  <thead>\n",
       "    <tr style=\"text-align: right;\">\n",
       "      <th></th>\n",
       "      <th>id</th>\n",
       "      <th>name</th>\n",
       "      <th>phone_code</th>\n",
       "      <th>capital</th>\n",
       "      <th>currency_name</th>\n",
       "      <th>region</th>\n",
       "      <th>subregion</th>\n",
       "      <th>timezones</th>\n",
       "      <th>latitude</th>\n",
       "      <th>longitude</th>\n",
       "    </tr>\n",
       "  </thead>\n",
       "  <tbody>\n",
       "    <tr>\n",
       "      <th>0</th>\n",
       "      <td>1</td>\n",
       "      <td>Afghanistan</td>\n",
       "      <td>93</td>\n",
       "      <td>Kabul</td>\n",
       "      <td>Afghan afghani</td>\n",
       "      <td>Asia</td>\n",
       "      <td>Southern Asia</td>\n",
       "      <td>[{zoneName:'Asia\\/Kabul',gmtOffset:16200,gmtOf...</td>\n",
       "      <td>33.000000</td>\n",
       "      <td>65.0</td>\n",
       "    </tr>\n",
       "    <tr>\n",
       "      <th>1</th>\n",
       "      <td>2</td>\n",
       "      <td>Aland Islands</td>\n",
       "      <td>+358-18</td>\n",
       "      <td>Mariehamn</td>\n",
       "      <td>Euro</td>\n",
       "      <td>Europe</td>\n",
       "      <td>Northern Europe</td>\n",
       "      <td>[{zoneName:'Europe\\/Mariehamn',gmtOffset:7200,...</td>\n",
       "      <td>60.116667</td>\n",
       "      <td>19.9</td>\n",
       "    </tr>\n",
       "    <tr>\n",
       "      <th>2</th>\n",
       "      <td>3</td>\n",
       "      <td>Albania</td>\n",
       "      <td>355</td>\n",
       "      <td>Tirana</td>\n",
       "      <td>Albanian lek</td>\n",
       "      <td>Europe</td>\n",
       "      <td>Southern Europe</td>\n",
       "      <td>[{zoneName:'Europe\\/Tirane',gmtOffset:3600,gmt...</td>\n",
       "      <td>41.000000</td>\n",
       "      <td>20.0</td>\n",
       "    </tr>\n",
       "    <tr>\n",
       "      <th>3</th>\n",
       "      <td>4</td>\n",
       "      <td>Algeria</td>\n",
       "      <td>213</td>\n",
       "      <td>Algiers</td>\n",
       "      <td>Algerian dinar</td>\n",
       "      <td>Africa</td>\n",
       "      <td>Northern Africa</td>\n",
       "      <td>[{zoneName:'Africa\\/Algiers',gmtOffset:3600,gm...</td>\n",
       "      <td>28.000000</td>\n",
       "      <td>3.0</td>\n",
       "    </tr>\n",
       "    <tr>\n",
       "      <th>4</th>\n",
       "      <td>5</td>\n",
       "      <td>American Samoa</td>\n",
       "      <td>+1-684</td>\n",
       "      <td>Pago Pago</td>\n",
       "      <td>US Dollar</td>\n",
       "      <td>Oceania</td>\n",
       "      <td>Polynesia</td>\n",
       "      <td>[{zoneName:'Pacific\\/Pago_Pago',gmtOffset:-396...</td>\n",
       "      <td>-14.333333</td>\n",
       "      <td>-170.0</td>\n",
       "    </tr>\n",
       "  </tbody>\n",
       "</table>\n",
       "</div>"
      ],
      "text/plain": [
       "   id            name phone_code    capital   currency_name   region  \\\n",
       "0   1     Afghanistan         93      Kabul  Afghan afghani     Asia   \n",
       "1   2   Aland Islands    +358-18  Mariehamn            Euro   Europe   \n",
       "2   3         Albania        355     Tirana    Albanian lek   Europe   \n",
       "3   4         Algeria        213    Algiers  Algerian dinar   Africa   \n",
       "4   5  American Samoa     +1-684  Pago Pago       US Dollar  Oceania   \n",
       "\n",
       "         subregion                                          timezones  \\\n",
       "0    Southern Asia  [{zoneName:'Asia\\/Kabul',gmtOffset:16200,gmtOf...   \n",
       "1  Northern Europe  [{zoneName:'Europe\\/Mariehamn',gmtOffset:7200,...   \n",
       "2  Southern Europe  [{zoneName:'Europe\\/Tirane',gmtOffset:3600,gmt...   \n",
       "3  Northern Africa  [{zoneName:'Africa\\/Algiers',gmtOffset:3600,gm...   \n",
       "4        Polynesia  [{zoneName:'Pacific\\/Pago_Pago',gmtOffset:-396...   \n",
       "\n",
       "    latitude  longitude  \n",
       "0  33.000000       65.0  \n",
       "1  60.116667       19.9  \n",
       "2  41.000000       20.0  \n",
       "3  28.000000        3.0  \n",
       "4 -14.333333     -170.0  "
      ]
     },
     "execution_count": 5,
     "metadata": {},
     "output_type": "execute_result"
    }
   ],
   "source": [
    "data.tables[0].dataframe.head()"
   ]
  },
  {
   "cell_type": "markdown",
   "metadata": {},
   "source": [
    "## Initialize LLMs"
   ]
  },
  {
   "cell_type": "markdown",
   "metadata": {},
   "source": [
    "We now initialize the LLMs to use in data discovery and data model creation."
   ]
  },
  {
   "cell_type": "code",
   "execution_count": 6,
   "metadata": {},
   "outputs": [],
   "source": [
    "llm_disc = OpenAIDiscoveryLLM(model_name='gpt-4o-mini-2024-07-18', model_params={\"temperature\": 0})\n",
    "llm_dm = OpenAIDataModelingLLM(model_name='gpt-4o-2024-05-13', model_params={\"temperature\": 0.5})"
   ]
  },
  {
   "cell_type": "markdown",
   "metadata": {},
   "source": [
    "## Discovery"
   ]
  },
  {
   "cell_type": "markdown",
   "metadata": {},
   "source": [
    "We now load the above data into a Discovery object."
   ]
  },
  {
   "cell_type": "code",
   "execution_count": 7,
   "metadata": {},
   "outputs": [],
   "source": [
    "disc = Discovery(llm=llm_disc, data=data)"
   ]
  },
  {
   "cell_type": "code",
   "execution_count": 8,
   "metadata": {},
   "outputs": [
    {
     "data": {
      "text/markdown": [
       "### Preliminary Analysis of Country Data\n",
       "\n",
       "#### Overall Data Characteristics:\n",
       "1. **Data Size**: The dataset contains 250 entries (countries) and 10 attributes.\n",
       "2. **Data Types**: The attributes include integers, floats, and objects (strings). The presence of both numerical and categorical data allows for diverse analyses.\n",
       "3. **Missing Values**: \n",
       "   - `capital`: 5 missing values (2% of the data)\n",
       "   - `region`: 2 missing values (0.8% of the data)\n",
       "   - `subregion`: 3 missing values (1.2% of the data)\n",
       "   - Other columns have no missing values.\n",
       "\n",
       "#### Important Features:\n",
       "1. **id**: Unique identifier for each country. It is uniformly distributed from 1 to 250.\n",
       "2. **name**: Each country has a unique name, which is crucial for identification.\n",
       "3. **phone_code**: There are 235 unique phone codes, indicating that some countries share the same code. This could be relevant for understanding regional telecommunications.\n",
       "4. **capital**: The capital city is a significant attribute, but with 5 missing values, it may require attention during analysis.\n",
       "5. **currency_name**: There are 161 unique currencies, with the Euro being the most common (35 occurrences). This suggests a potential clustering of countries using the same currency, which could be relevant for economic analyses.\n",
       "6. **region**: There are 6 unique regions, with Africa having the highest frequency (60 countries). This could indicate a need to explore regional characteristics further.\n",
       "7. **subregion**: 22 unique subregions exist, with the Caribbean being the most frequent (28 occurrences). This suggests that some regions have more subdivisions than others.\n",
       "8. **timezones**: The dataset contains 245 unique timezones, indicating that many countries share timezones. This could be useful for understanding global time coordination.\n",
       "\n",
       "#### Use Case Insights:\n",
       "1. **Regions and Subregions**: To determine which region contains the most subregions, we can analyze the `region` and `subregion` columns. The region with the highest number of unique subregions will be identified.\n",
       "2. **Popular Currencies**: The `currency_name` column can be analyzed to find the most frequently occurring currencies, highlighting economic ties between countries.\n",
       "3. **Shared Timezones**: The `timezones` column can be examined to identify countries that share the same timezone, which may have implications for trade, communication, and travel.\n",
       "\n",
       "### Conclusion:\n",
       "The dataset provides a rich source of information about countries, their geographical locations, and economic attributes. The most important features for analysis include `region`, `subregion`, `currency_name`, and `timezones`, as they directly relate to the use cases outlined. Addressing the missing values in `capital`, `region`, and `subregion` will also be essential for a comprehensive analysis."
      ],
      "text/plain": [
       "<IPython.core.display.Markdown object>"
      ]
     },
     "metadata": {},
     "output_type": "display_data"
    }
   ],
   "source": [
    "disc.run(show_result=True, notebook=True)"
   ]
  },
  {
   "cell_type": "markdown",
   "metadata": {},
   "source": [
    "## Data Modeling"
   ]
  },
  {
   "cell_type": "markdown",
   "metadata": {},
   "source": [
    "We can now use our Discovery object to provide context to the LLM for data model generation. Notice that we don't need to pass our actual data to the modeler, just insights we've gathered so far. "
   ]
  },
  {
   "cell_type": "code",
   "execution_count": 9,
   "metadata": {},
   "outputs": [],
   "source": [
    "gdm = GraphDataModeler(\n",
    "    llm=llm_dm,\n",
    "    discovery=disc\n",
    ")"
   ]
  },
  {
   "cell_type": "markdown",
   "metadata": {},
   "source": [
    "### The First Data Model"
   ]
  },
  {
   "cell_type": "markdown",
   "metadata": {},
   "source": [
    "We now generate our first data model."
   ]
  },
  {
   "cell_type": "code",
   "execution_count": 10,
   "metadata": {},
   "outputs": [
    {
     "name": "stdout",
     "output_type": "stream",
     "text": [
      "\u001b[1m> Generating Nodes...\u001b[00m\n",
      "\u001b[3mAttempts | 2  \u001b[0m\n",
      "Received \u001b[92mValid\u001b[00m Nodes\n",
      "Nodes\n",
      "* \u001b[96m(:Country)\u001b[00m     * \u001b[96m(:Region)\u001b[00m\n",
      "* \u001b[96m(:Subregion)\u001b[00m   * \u001b[96m(:Currency)\u001b[00m\n",
      "* \u001b[96m(:Timezone)\u001b[00m     \n",
      "\n",
      "\u001b[1m> Generating Data Model...\u001b[00m\n",
      "\u001b[3mAttempts | 1  \u001b[0m\n",
      "Received \u001b[92mValid\u001b[00m Data Model\n",
      "Nodes\n",
      "* \u001b[96m(:Country)\u001b[00m     * \u001b[96m(:Region)\u001b[00m\n",
      "* \u001b[96m(:Subregion)\u001b[00m   * \u001b[96m(:Currency)\u001b[00m\n",
      "* \u001b[96m(:Timezone)\u001b[00m     \n",
      "\n",
      "Relationships\n",
      "* \u001b[96m(:Country)-[:LOCATED_IN]->(:Region)\u001b[00m               \n",
      "* \u001b[96m(:Country)-[:PART_OF]->(:Subregion)\u001b[00m               \n",
      "* \u001b[96m(:Country)-[:USES]->(:Currency)\u001b[00m                   \n",
      "* \u001b[96m(:Country)-[:SHARES_TIMEZONE_WITH]->(:Timezone)\u001b[00m   \n",
      "* \u001b[96m(:Region)-[:HAS_SUBREGION]->(:Subregion)\u001b[00m          \n"
     ]
    },
    {
     "data": {
      "text/plain": [
       "DataModel(nodes=[Node(label='Country', properties=[Property(name='id', type='int', column_mapping='id', alias=None, is_unique=True, part_of_key=False), Property(name='name', type='str', column_mapping='name', alias=None, is_unique=False, part_of_key=False), Property(name='phoneCode', type='int', column_mapping='phone_code', alias=None, is_unique=False, part_of_key=False), Property(name='capital', type='str', column_mapping='capital', alias=None, is_unique=False, part_of_key=False), Property(name='latitude', type='float', column_mapping='latitude', alias=None, is_unique=False, part_of_key=False), Property(name='longitude', type='float', column_mapping='longitude', alias=None, is_unique=False, part_of_key=False)], source_name='file'), Node(label='Region', properties=[Property(name='name', type='str', column_mapping='region', alias=None, is_unique=True, part_of_key=False)], source_name='file'), Node(label='Subregion', properties=[Property(name='name', type='str', column_mapping='subregion', alias=None, is_unique=True, part_of_key=False)], source_name='file'), Node(label='Currency', properties=[Property(name='name', type='str', column_mapping='currency_name', alias=None, is_unique=True, part_of_key=False)], source_name='file'), Node(label='Timezone', properties=[Property(name='name', type='str', column_mapping='timezones', alias=None, is_unique=True, part_of_key=False)], source_name='file')], relationships=[Relationship(type='LOCATED_IN', properties=[], source='Country', target='Region', source_name='file'), Relationship(type='PART_OF', properties=[], source='Country', target='Subregion', source_name='file'), Relationship(type='USES', properties=[], source='Country', target='Currency', source_name='file'), Relationship(type='SHARES_TIMEZONE_WITH', properties=[], source='Country', target='Timezone', source_name='file'), Relationship(type='HAS_SUBREGION', properties=[], source='Region', target='Subregion', source_name='file')], metadata=None)"
      ]
     },
     "execution_count": 10,
     "metadata": {},
     "output_type": "execute_result"
    }
   ],
   "source": [
    "gdm.create_initial_model(max_retries=3)"
   ]
  },
  {
   "cell_type": "code",
   "execution_count": 11,
   "metadata": {},
   "outputs": [
    {
     "data": {
      "image/svg+xml": [
       "<?xml version=\"1.0\" encoding=\"UTF-8\" standalone=\"no\"?>\n",
       "<!DOCTYPE svg PUBLIC \"-//W3C//DTD SVG 1.1//EN\"\n",
       " \"http://www.w3.org/Graphics/SVG/1.1/DTD/svg11.dtd\">\n",
       "<!-- Generated by graphviz version 10.0.1 (20240210.2158)\n",
       " -->\n",
       "<!-- Pages: 1 -->\n",
       "<svg width=\"1122pt\" height=\"468pt\"\n",
       " viewBox=\"0.00 0.00 1122.31 467.62\" xmlns=\"http://www.w3.org/2000/svg\" xmlns:xlink=\"http://www.w3.org/1999/xlink\">\n",
       "<g id=\"graph0\" class=\"graph\" transform=\"scale(1 1) rotate(0) translate(36 431.62)\">\n",
       "<polygon fill=\"azure\" stroke=\"none\" points=\"-36,36 -36,-431.62 1086.31,-431.62 1086.31,36 -36,36\"/>\n",
       "<!-- Country -->\n",
       "<g id=\"node1\" class=\"node\">\n",
       "<title>Country</title>\n",
       "<ellipse fill=\"#c1cdcd\" stroke=\"black\" cx=\"435.23\" cy=\"-308.29\" rx=\"132.76\" ry=\"87.33\"/>\n",
       "<text text-anchor=\"middle\" x=\"435.23\" y=\"-352.74\" font-family=\"Times,serif\" font-size=\"14.00\">(:Country)</text>\n",
       "<text text-anchor=\"start\" x=\"349.35\" y=\"-336.24\" font-family=\"Times,serif\" font-size=\"14.00\">* id (id): int | UNIQUE</text>\n",
       "<text text-anchor=\"start\" x=\"349.35\" y=\"-319.74\" font-family=\"Times,serif\" font-size=\"14.00\">* name (name): str</text>\n",
       "<text text-anchor=\"start\" x=\"349.35\" y=\"-303.24\" font-family=\"Times,serif\" font-size=\"14.00\">* phoneCode (phone_code): int</text>\n",
       "<text text-anchor=\"start\" x=\"349.35\" y=\"-286.74\" font-family=\"Times,serif\" font-size=\"14.00\">* capital (capital): str</text>\n",
       "<text text-anchor=\"start\" x=\"349.35\" y=\"-270.24\" font-family=\"Times,serif\" font-size=\"14.00\">* latitude (latitude): float</text>\n",
       "<text text-anchor=\"start\" x=\"349.35\" y=\"-253.74\" font-family=\"Times,serif\" font-size=\"14.00\">* longitude (longitude): float</text>\n",
       "</g>\n",
       "<!-- Region -->\n",
       "<g id=\"node2\" class=\"node\">\n",
       "<title>Region</title>\n",
       "<ellipse fill=\"#c1cdcd\" stroke=\"black\" cx=\"132.23\" cy=\"-139.47\" rx=\"132.23\" ry=\"28.99\"/>\n",
       "<text text-anchor=\"middle\" x=\"132.23\" y=\"-142.67\" font-family=\"Times,serif\" font-size=\"14.00\">(:Region)</text>\n",
       "<text text-anchor=\"start\" x=\"46.73\" y=\"-126.17\" font-family=\"Times,serif\" font-size=\"14.00\">* name (region): str | UNIQUE</text>\n",
       "</g>\n",
       "<!-- Country&#45;&gt;Region -->\n",
       "<g id=\"edge1\" class=\"edge\">\n",
       "<title>Country&#45;&gt;Region</title>\n",
       "<path fill=\"none\" stroke=\"black\" stroke-width=\"2\" d=\"M312.68,-274.29C266.65,-257.9 215.87,-234.65 175.98,-202.97 167.74,-196.42 160.4,-187.92 154.2,-179.3\"/>\n",
       "<polygon fill=\"black\" stroke=\"black\" stroke-width=\"2\" points=\"157.11,-177.36 148.64,-170.99 151.29,-181.25 157.11,-177.36\"/>\n",
       "<text text-anchor=\"middle\" x=\"231.35\" y=\"-189.67\" font-family=\"Times,serif\" font-size=\"14.00\"> &#160;[:LOCATED_IN] &#160;</text>\n",
       "</g>\n",
       "<!-- Subregion -->\n",
       "<g id=\"node3\" class=\"node\">\n",
       "<title>Subregion</title>\n",
       "<ellipse fill=\"#c1cdcd\" stroke=\"black\" cx=\"216.23\" cy=\"-28.99\" rx=\"145.49\" ry=\"28.99\"/>\n",
       "<text text-anchor=\"middle\" x=\"216.23\" y=\"-32.19\" font-family=\"Times,serif\" font-size=\"14.00\">(:Subregion)</text>\n",
       "<text text-anchor=\"start\" x=\"121.35\" y=\"-15.69\" font-family=\"Times,serif\" font-size=\"14.00\">* name (subregion): str | UNIQUE</text>\n",
       "</g>\n",
       "<!-- Country&#45;&gt;Subregion -->\n",
       "<g id=\"edge2\" class=\"edge\">\n",
       "<title>Country&#45;&gt;Subregion</title>\n",
       "<path fill=\"none\" stroke=\"black\" stroke-width=\"2\" d=\"M358.59,-236.57C340.08,-216.14 321.92,-192.76 308.98,-168.47 289.07,-131.11 310.66,-110.55 286.23,-75.98 283.46,-72.07 280.25,-68.41 276.75,-64.99\"/>\n",
       "<polygon fill=\"black\" stroke=\"black\" stroke-width=\"2\" points=\"279.08,-62.37 269.23,-58.49 274.51,-67.67 279.08,-62.37\"/>\n",
       "<text text-anchor=\"middle\" x=\"352.35\" y=\"-134.42\" font-family=\"Times,serif\" font-size=\"14.00\"> &#160;[:PART_OF] &#160;</text>\n",
       "</g>\n",
       "<!-- Currency -->\n",
       "<g id=\"node4\" class=\"node\">\n",
       "<title>Currency</title>\n",
       "<ellipse fill=\"#c1cdcd\" stroke=\"black\" cx=\"571.23\" cy=\"-139.47\" rx=\"167.23\" ry=\"28.99\"/>\n",
       "<text text-anchor=\"middle\" x=\"571.23\" y=\"-142.67\" font-family=\"Times,serif\" font-size=\"14.00\">(:Currency)</text>\n",
       "<text text-anchor=\"start\" x=\"460.98\" y=\"-126.17\" font-family=\"Times,serif\" font-size=\"14.00\">* name (currency_name): str | UNIQUE</text>\n",
       "</g>\n",
       "<!-- Country&#45;&gt;Currency -->\n",
       "<g id=\"edge3\" class=\"edge\">\n",
       "<title>Country&#45;&gt;Currency</title>\n",
       "<path fill=\"none\" stroke=\"black\" stroke-width=\"2\" d=\"M497.66,-230.72C512.55,-212.45 527.8,-193.74 540.53,-178.13\"/>\n",
       "<polygon fill=\"black\" stroke=\"black\" stroke-width=\"2\" points=\"542.98,-180.66 546.59,-170.7 537.55,-176.24 542.98,-180.66\"/>\n",
       "<text text-anchor=\"middle\" x=\"561.6\" y=\"-189.67\" font-family=\"Times,serif\" font-size=\"14.00\"> &#160;[:USES] &#160;</text>\n",
       "</g>\n",
       "<!-- Timezone -->\n",
       "<g id=\"node5\" class=\"node\">\n",
       "<title>Timezone</title>\n",
       "<ellipse fill=\"#c1cdcd\" stroke=\"black\" cx=\"903.23\" cy=\"-139.47\" rx=\"147.08\" ry=\"28.99\"/>\n",
       "<text text-anchor=\"middle\" x=\"903.23\" y=\"-142.67\" font-family=\"Times,serif\" font-size=\"14.00\">(:Timezone)</text>\n",
       "<text text-anchor=\"start\" x=\"807.23\" y=\"-126.17\" font-family=\"Times,serif\" font-size=\"14.00\">* name (timezones): str | UNIQUE</text>\n",
       "</g>\n",
       "<!-- Country&#45;&gt;Timezone -->\n",
       "<g id=\"edge4\" class=\"edge\">\n",
       "<title>Country&#45;&gt;Timezone</title>\n",
       "<path fill=\"none\" stroke=\"black\" stroke-width=\"2\" d=\"M551.52,-265.84C635.37,-235.95 746.49,-196.34 821.2,-169.71\"/>\n",
       "<polygon fill=\"black\" stroke=\"black\" stroke-width=\"2\" points=\"822.23,-173.06 830.48,-166.41 819.88,-166.47 822.23,-173.06\"/>\n",
       "<text text-anchor=\"middle\" x=\"864.6\" y=\"-189.67\" font-family=\"Times,serif\" font-size=\"14.00\"> &#160;[:SHARES_TIMEZONE_WITH] &#160;</text>\n",
       "</g>\n",
       "<!-- Region&#45;&gt;Subregion -->\n",
       "<g id=\"edge5\" class=\"edge\">\n",
       "<title>Region&#45;&gt;Subregion</title>\n",
       "<path fill=\"none\" stroke=\"black\" stroke-width=\"2\" d=\"M134.64,-110.19C136.7,-98.77 140.5,-85.96 147.48,-75.98 150.19,-72.11 153.34,-68.47 156.77,-65.07\"/>\n",
       "<polygon fill=\"black\" stroke=\"black\" stroke-width=\"2\" points=\"158.92,-67.84 164.14,-58.62 154.31,-62.57 158.92,-67.84\"/>\n",
       "<text text-anchor=\"middle\" x=\"217.6\" y=\"-79.18\" font-family=\"Times,serif\" font-size=\"14.00\"> &#160;[:HAS_SUBREGION] &#160;</text>\n",
       "</g>\n",
       "</g>\n",
       "</svg>\n"
      ],
      "text/plain": [
       "<graphviz.graphs.Digraph at 0x14a233e60>"
      ]
     },
     "execution_count": 11,
     "metadata": {},
     "output_type": "execute_result"
    }
   ],
   "source": [
    "gdm.current_model.visualize()"
   ]
  },
  {
   "cell_type": "markdown",
   "metadata": {},
   "source": [
    "Our data model seems to address the three use cases we'd like answered:\n",
    "* Which region contains the most subregions?\n",
    "* What currencies are most popular?\n",
    "* Which countries share timezones?"
   ]
  },
  {
   "cell_type": "markdown",
   "metadata": {},
   "source": [
    "### Modifying A Data Model"
   ]
  },
  {
   "cell_type": "markdown",
   "metadata": {},
   "source": [
    "If we would like the data model modified, we may request the LLM to make changes."
   ]
  },
  {
   "cell_type": "code",
   "execution_count": 12,
   "metadata": {},
   "outputs": [
    {
     "name": "stdout",
     "output_type": "stream",
     "text": [
      "\u001b[1m> Generating Data Model...\u001b[00m\n",
      "\u001b[3mAttempts | 1  \u001b[0m\n",
      "Received \u001b[92mValid\u001b[00m Data Model\n",
      "Nodes\n",
      "* \u001b[96m(:Country)\u001b[00m     * \u001b[96m(:Region)\u001b[00m\n",
      "* \u001b[96m(:Subregion)\u001b[00m   * \u001b[96m(:Currency)\u001b[00m\n",
      "* \u001b[96m(:Timezone)\u001b[00m    * \u001b[96m(:Capital)\u001b[00m \n",
      "\n",
      "Relationships\n",
      "* \u001b[96m(:Country)-[:LOCATED_IN]->(:Region)\u001b[00m               \n",
      "* \u001b[96m(:Country)-[:PART_OF]->(:Subregion)\u001b[00m               \n",
      "* \u001b[96m(:Country)-[:USES]->(:Currency)\u001b[00m                   \n",
      "* \u001b[96m(:Country)-[:SHARES_TIMEZONE_WITH]->(:Timezone)\u001b[00m   \n",
      "* \u001b[96m(:Region)-[:HAS_SUBREGION]->(:Subregion)\u001b[00m          \n",
      "* \u001b[96m(:Country)-[:HAS_CAPITAL]->(:Capital)\u001b[00m             \n"
     ]
    },
    {
     "data": {
      "text/plain": [
       "DataModel(nodes=[Node(label='Country', properties=[Property(name='id', type='int', column_mapping='id', alias=None, is_unique=True, part_of_key=False), Property(name='name', type='str', column_mapping='name', alias=None, is_unique=False, part_of_key=False), Property(name='phoneCode', type='int', column_mapping='phone_code', alias=None, is_unique=False, part_of_key=False), Property(name='latitude', type='float', column_mapping='latitude', alias=None, is_unique=False, part_of_key=False), Property(name='longitude', type='float', column_mapping='longitude', alias=None, is_unique=False, part_of_key=False)], source_name='file'), Node(label='Region', properties=[Property(name='name', type='str', column_mapping='region', alias=None, is_unique=True, part_of_key=False)], source_name='file'), Node(label='Subregion', properties=[Property(name='name', type='str', column_mapping='subregion', alias=None, is_unique=True, part_of_key=False)], source_name='file'), Node(label='Currency', properties=[Property(name='name', type='str', column_mapping='currency_name', alias=None, is_unique=True, part_of_key=False)], source_name='file'), Node(label='Timezone', properties=[Property(name='name', type='str', column_mapping='timezones', alias=None, is_unique=True, part_of_key=False)], source_name='file'), Node(label='Capital', properties=[Property(name='name', type='str', column_mapping='capital', alias=None, is_unique=True, part_of_key=False)], source_name='file')], relationships=[Relationship(type='LOCATED_IN', properties=[], source='Country', target='Region', source_name='file'), Relationship(type='PART_OF', properties=[], source='Country', target='Subregion', source_name='file'), Relationship(type='USES', properties=[], source='Country', target='Currency', source_name='file'), Relationship(type='SHARES_TIMEZONE_WITH', properties=[], source='Country', target='Timezone', source_name='file'), Relationship(type='HAS_SUBREGION', properties=[], source='Region', target='Subregion', source_name='file'), Relationship(type='HAS_CAPITAL', properties=[], source='Country', target='Capital', source_name='file')], metadata=None)"
      ]
     },
     "execution_count": 12,
     "metadata": {},
     "output_type": "execute_result"
    }
   ],
   "source": [
    "corrections = \"Create a Capital node from the capital property.\"\n",
    "\n",
    "gdm.iterate_model(corrections=corrections)"
   ]
  },
  {
   "cell_type": "code",
   "execution_count": 13,
   "metadata": {},
   "outputs": [
    {
     "data": {
      "image/svg+xml": [
       "<?xml version=\"1.0\" encoding=\"UTF-8\" standalone=\"no\"?>\n",
       "<!DOCTYPE svg PUBLIC \"-//W3C//DTD SVG 1.1//EN\"\n",
       " \"http://www.w3.org/Graphics/SVG/1.1/DTD/svg11.dtd\">\n",
       "<!-- Generated by graphviz version 10.0.1 (20240210.2158)\n",
       " -->\n",
       "<!-- Pages: 1 -->\n",
       "<svg width=\"1407pt\" height=\"444pt\"\n",
       " viewBox=\"0.00 0.00 1406.52 444.29\" xmlns=\"http://www.w3.org/2000/svg\" xmlns:xlink=\"http://www.w3.org/1999/xlink\">\n",
       "<g id=\"graph0\" class=\"graph\" transform=\"scale(1 1) rotate(0) translate(36 408.29)\">\n",
       "<polygon fill=\"azure\" stroke=\"none\" points=\"-36,36 -36,-408.29 1370.52,-408.29 1370.52,36 -36,36\"/>\n",
       "<!-- Country -->\n",
       "<g id=\"node1\" class=\"node\">\n",
       "<title>Country</title>\n",
       "<ellipse fill=\"#c1cdcd\" stroke=\"black\" cx=\"571.23\" cy=\"-296.63\" rx=\"132.76\" ry=\"75.66\"/>\n",
       "<text text-anchor=\"middle\" x=\"571.23\" y=\"-332.83\" font-family=\"Times,serif\" font-size=\"14.00\">(:Country)</text>\n",
       "<text text-anchor=\"start\" x=\"485.35\" y=\"-316.33\" font-family=\"Times,serif\" font-size=\"14.00\">* id (id): int | UNIQUE</text>\n",
       "<text text-anchor=\"start\" x=\"485.35\" y=\"-299.83\" font-family=\"Times,serif\" font-size=\"14.00\">* name (name): str</text>\n",
       "<text text-anchor=\"start\" x=\"485.35\" y=\"-283.33\" font-family=\"Times,serif\" font-size=\"14.00\">* phoneCode (phone_code): int</text>\n",
       "<text text-anchor=\"start\" x=\"485.35\" y=\"-266.83\" font-family=\"Times,serif\" font-size=\"14.00\">* latitude (latitude): float</text>\n",
       "<text text-anchor=\"start\" x=\"485.35\" y=\"-250.33\" font-family=\"Times,serif\" font-size=\"14.00\">* longitude (longitude): float</text>\n",
       "</g>\n",
       "<!-- Region -->\n",
       "<g id=\"node2\" class=\"node\">\n",
       "<title>Region</title>\n",
       "<ellipse fill=\"#c1cdcd\" stroke=\"black\" cx=\"132.23\" cy=\"-139.47\" rx=\"132.23\" ry=\"28.99\"/>\n",
       "<text text-anchor=\"middle\" x=\"132.23\" y=\"-142.67\" font-family=\"Times,serif\" font-size=\"14.00\">(:Region)</text>\n",
       "<text text-anchor=\"start\" x=\"46.73\" y=\"-126.17\" font-family=\"Times,serif\" font-size=\"14.00\">* name (region): str | UNIQUE</text>\n",
       "</g>\n",
       "<!-- Country&#45;&gt;Region -->\n",
       "<g id=\"edge1\" class=\"edge\">\n",
       "<title>Country&#45;&gt;Region</title>\n",
       "<path fill=\"none\" stroke=\"black\" stroke-width=\"2\" d=\"M438.93,-288.4C357.25,-278.48 253.6,-255.52 175.98,-202.97 167.01,-196.9 159.31,-188.33 152.98,-179.48\"/>\n",
       "<polygon fill=\"black\" stroke=\"black\" stroke-width=\"2\" points=\"156,-177.69 147.6,-171.23 150.13,-181.52 156,-177.69\"/>\n",
       "<text text-anchor=\"middle\" x=\"231.35\" y=\"-189.67\" font-family=\"Times,serif\" font-size=\"14.00\"> &#160;[:LOCATED_IN] &#160;</text>\n",
       "</g>\n",
       "<!-- Subregion -->\n",
       "<g id=\"node3\" class=\"node\">\n",
       "<title>Subregion</title>\n",
       "<ellipse fill=\"#c1cdcd\" stroke=\"black\" cx=\"216.23\" cy=\"-28.99\" rx=\"145.49\" ry=\"28.99\"/>\n",
       "<text text-anchor=\"middle\" x=\"216.23\" y=\"-32.19\" font-family=\"Times,serif\" font-size=\"14.00\">(:Subregion)</text>\n",
       "<text text-anchor=\"start\" x=\"121.35\" y=\"-15.69\" font-family=\"Times,serif\" font-size=\"14.00\">* name (subregion): str | UNIQUE</text>\n",
       "</g>\n",
       "<!-- Country&#45;&gt;Subregion -->\n",
       "<g id=\"edge2\" class=\"edge\">\n",
       "<title>Country&#45;&gt;Subregion</title>\n",
       "<path fill=\"none\" stroke=\"black\" stroke-width=\"2\" d=\"M451.83,-262.92C400.99,-243.3 345.18,-213.21 308.98,-168.47 282.35,-135.56 310.66,-110.55 286.23,-75.98 283.46,-72.07 280.25,-68.41 276.75,-64.99\"/>\n",
       "<polygon fill=\"black\" stroke=\"black\" stroke-width=\"2\" points=\"279.08,-62.37 269.23,-58.49 274.51,-67.67 279.08,-62.37\"/>\n",
       "<text text-anchor=\"middle\" x=\"352.35\" y=\"-134.42\" font-family=\"Times,serif\" font-size=\"14.00\"> &#160;[:PART_OF] &#160;</text>\n",
       "</g>\n",
       "<!-- Currency -->\n",
       "<g id=\"node4\" class=\"node\">\n",
       "<title>Currency</title>\n",
       "<ellipse fill=\"#c1cdcd\" stroke=\"black\" cx=\"571.23\" cy=\"-139.47\" rx=\"167.23\" ry=\"28.99\"/>\n",
       "<text text-anchor=\"middle\" x=\"571.23\" y=\"-142.67\" font-family=\"Times,serif\" font-size=\"14.00\">(:Currency)</text>\n",
       "<text text-anchor=\"start\" x=\"460.98\" y=\"-126.17\" font-family=\"Times,serif\" font-size=\"14.00\">* name (currency_name): str | UNIQUE</text>\n",
       "</g>\n",
       "<!-- Country&#45;&gt;Currency -->\n",
       "<g id=\"edge3\" class=\"edge\">\n",
       "<title>Country&#45;&gt;Currency</title>\n",
       "<path fill=\"none\" stroke=\"black\" stroke-width=\"2\" d=\"M571.23,-220.78C571.23,-207.26 571.23,-193.64 571.23,-181.55\"/>\n",
       "<polygon fill=\"black\" stroke=\"black\" stroke-width=\"2\" points=\"574.73,-181.67 571.23,-171.67 567.73,-181.67 574.73,-181.67\"/>\n",
       "<text text-anchor=\"middle\" x=\"601.6\" y=\"-189.67\" font-family=\"Times,serif\" font-size=\"14.00\"> &#160;[:USES] &#160;</text>\n",
       "</g>\n",
       "<!-- Timezone -->\n",
       "<g id=\"node5\" class=\"node\">\n",
       "<title>Timezone</title>\n",
       "<ellipse fill=\"#c1cdcd\" stroke=\"black\" cx=\"903.23\" cy=\"-139.47\" rx=\"147.08\" ry=\"28.99\"/>\n",
       "<text text-anchor=\"middle\" x=\"903.23\" y=\"-142.67\" font-family=\"Times,serif\" font-size=\"14.00\">(:Timezone)</text>\n",
       "<text text-anchor=\"start\" x=\"807.23\" y=\"-126.17\" font-family=\"Times,serif\" font-size=\"14.00\">* name (timezones): str | UNIQUE</text>\n",
       "</g>\n",
       "<!-- Country&#45;&gt;Timezone -->\n",
       "<g id=\"edge4\" class=\"edge\">\n",
       "<title>Country&#45;&gt;Timezone</title>\n",
       "<path fill=\"none\" stroke=\"black\" stroke-width=\"2\" d=\"M673.1,-248.02C725.99,-223.3 789.14,-193.79 835.9,-171.94\"/>\n",
       "<polygon fill=\"black\" stroke=\"black\" stroke-width=\"2\" points=\"837.1,-175.24 844.68,-167.84 834.14,-168.9 837.1,-175.24\"/>\n",
       "<text text-anchor=\"middle\" x=\"895.6\" y=\"-189.67\" font-family=\"Times,serif\" font-size=\"14.00\"> &#160;[:SHARES_TIMEZONE_WITH] &#160;</text>\n",
       "</g>\n",
       "<!-- Capital -->\n",
       "<g id=\"node6\" class=\"node\">\n",
       "<title>Capital</title>\n",
       "<ellipse fill=\"#c1cdcd\" stroke=\"black\" cx=\"1201.23\" cy=\"-139.47\" rx=\"133.29\" ry=\"28.99\"/>\n",
       "<text text-anchor=\"middle\" x=\"1201.23\" y=\"-142.67\" font-family=\"Times,serif\" font-size=\"14.00\">(:Capital)</text>\n",
       "<text text-anchor=\"start\" x=\"1114.98\" y=\"-126.17\" font-family=\"Times,serif\" font-size=\"14.00\">* name (capital): str | UNIQUE</text>\n",
       "</g>\n",
       "<!-- Country&#45;&gt;Capital -->\n",
       "<g id=\"edge6\" class=\"edge\">\n",
       "<title>Country&#45;&gt;Capital</title>\n",
       "<path fill=\"none\" stroke=\"black\" stroke-width=\"2\" d=\"M696.92,-271.41C782.57,-254.17 898.3,-229.45 999.23,-202.97 1038.47,-192.67 1081.47,-179.62 1117.68,-168.11\"/>\n",
       "<polygon fill=\"black\" stroke=\"black\" stroke-width=\"2\" points=\"1118.34,-171.57 1126.8,-165.19 1116.2,-164.9 1118.34,-171.57\"/>\n",
       "<text text-anchor=\"middle\" x=\"1113.48\" y=\"-189.67\" font-family=\"Times,serif\" font-size=\"14.00\"> &#160;[:HAS_CAPITAL] &#160;</text>\n",
       "</g>\n",
       "<!-- Region&#45;&gt;Subregion -->\n",
       "<g id=\"edge5\" class=\"edge\">\n",
       "<title>Region&#45;&gt;Subregion</title>\n",
       "<path fill=\"none\" stroke=\"black\" stroke-width=\"2\" d=\"M134.64,-110.19C136.7,-98.77 140.5,-85.96 147.48,-75.98 150.19,-72.11 153.34,-68.47 156.77,-65.07\"/>\n",
       "<polygon fill=\"black\" stroke=\"black\" stroke-width=\"2\" points=\"158.92,-67.84 164.14,-58.62 154.31,-62.57 158.92,-67.84\"/>\n",
       "<text text-anchor=\"middle\" x=\"217.6\" y=\"-79.18\" font-family=\"Times,serif\" font-size=\"14.00\"> &#160;[:HAS_SUBREGION] &#160;</text>\n",
       "</g>\n",
       "</g>\n",
       "</svg>\n"
      ],
      "text/plain": [
       "<graphviz.graphs.Digraph at 0x14a235010>"
      ]
     },
     "execution_count": 13,
     "metadata": {},
     "output_type": "execute_result"
    }
   ],
   "source": [
    "gdm.current_model.visualize()"
   ]
  },
  {
   "cell_type": "markdown",
   "metadata": {},
   "source": [
    "We can now create some ingestion code to get our data into our database."
   ]
  },
  {
   "cell_type": "markdown",
   "metadata": {},
   "source": [
    "## Ingestion Code Generation"
   ]
  },
  {
   "cell_type": "markdown",
   "metadata": {},
   "source": [
    "We can provide our credentials here in this step if we plan on using PyIngest to load our data. This will inject our credentials into the generated YAML file. If we leave the credential fields blank, then we can just fill in the blanks in the generated YAML file later."
   ]
  },
  {
   "cell_type": "code",
   "execution_count": 18,
   "metadata": {},
   "outputs": [],
   "source": [
    "gen = PyIngestConfigGenerator(data_model=gdm.current_model, \n",
    "                         username=os.environ.get(\"NEO4J_USERNAME\"), \n",
    "                         password=os.environ.get(\"NEO4J_PASSWORD\"), \n",
    "                         uri=os.environ.get(\"NEO4J_URI\"), \n",
    "                         database=os.environ.get(\"NEO4J_DATABASE\"), \n",
    "                         file_directory=data_directory, source_name=\"countries.csv\")"
   ]
  },
  {
   "cell_type": "code",
   "execution_count": 19,
   "metadata": {},
   "outputs": [
    {
     "name": "stdout",
     "output_type": "stream",
     "text": [
      "server_uri: bolt://localhost:7687\n",
      "admin_user: neo4j\n",
      "admin_pass: password\n",
      "database: neo4j\n",
      "basepath: ./\n",
      "\n",
      "pre_ingest:\n",
      "  - CREATE CONSTRAINT country_id IF NOT EXISTS FOR (n:Country) REQUIRE n.id IS UNIQUE;\n",
      "  - CREATE CONSTRAINT region_name IF NOT EXISTS FOR (n:Region) REQUIRE n.name IS UNIQUE;\n",
      "  - CREATE CONSTRAINT subregion_name IF NOT EXISTS FOR (n:Subregion) REQUIRE n.name IS UNIQUE;\n",
      "  - CREATE CONSTRAINT currency_name IF NOT EXISTS FOR (n:Currency) REQUIRE n.name IS UNIQUE;\n",
      "  - CREATE CONSTRAINT timezone_name IF NOT EXISTS FOR (n:Timezone) REQUIRE n.name IS UNIQUE;\n",
      "  - CREATE CONSTRAINT capital_name IF NOT EXISTS FOR (n:Capital) REQUIRE n.name IS UNIQUE;\n",
      "files:\n",
      "- chunk_size: 100\n",
      "  cql: |-\n",
      "    WITH $dict.rows AS rows\n",
      "    UNWIND rows AS row\n",
      "    MERGE (n:Country {id: toIntegerOrNull(row.id)})\n",
      "    SET n.name = row.name, n.phoneCode = toIntegerOrNull(row.phone_code), n.latitude = toFloatOrNull(row.latitude), n.longitude = toFloatOrNull(row.longitude)\n",
      "  url: $BASE/../../../data/countries/countries.csv\n",
      "- chunk_size: 100\n",
      "  cql: |\n",
      "    WITH $dict.rows AS rows\n",
      "    UNWIND rows AS row\n",
      "    MERGE (n:Region {name: row.region})\n",
      "  url: $BASE/../../../data/countries/countries.csv\n",
      "- chunk_size: 100\n",
      "  cql: |\n",
      "    WITH $dict.rows AS rows\n",
      "    UNWIND rows AS row\n",
      "    MERGE (n:Subregion {name: row.subregion})\n",
      "  url: $BASE/../../../data/countries/countries.csv\n",
      "- chunk_size: 100\n",
      "  cql: |\n",
      "    WITH $dict.rows AS rows\n",
      "    UNWIND rows AS row\n",
      "    MERGE (n:Currency {name: row.currency_name})\n",
      "  url: $BASE/../../../data/countries/countries.csv\n",
      "- chunk_size: 100\n",
      "  cql: |\n",
      "    WITH $dict.rows AS rows\n",
      "    UNWIND rows AS row\n",
      "    MERGE (n:Timezone {name: row.timezones})\n",
      "  url: $BASE/../../../data/countries/countries.csv\n",
      "- chunk_size: 100\n",
      "  cql: |\n",
      "    WITH $dict.rows AS rows\n",
      "    UNWIND rows AS row\n",
      "    MERGE (n:Capital {name: row.capital})\n",
      "  url: $BASE/../../../data/countries/countries.csv\n",
      "- chunk_size: 100\n",
      "  cql: |\n",
      "    WITH $dict.rows AS rows\n",
      "    UNWIND rows as row\n",
      "    MATCH (source:Country {id: toIntegerOrNull(row.id)})\n",
      "    MATCH (target:Region {name: row.region})\n",
      "    MERGE (source)-[n:LOCATED_IN]->(target)\n",
      "  url: $BASE/../../../data/countries/countries.csv\n",
      "- chunk_size: 100\n",
      "  cql: |\n",
      "    WITH $dict.rows AS rows\n",
      "    UNWIND rows as row\n",
      "    MATCH (source:Country {id: toIntegerOrNull(row.id)})\n",
      "    MATCH (target:Subregion {name: row.subregion})\n",
      "    MERGE (source)-[n:PART_OF]->(target)\n",
      "  url: $BASE/../../../data/countries/countries.csv\n",
      "- chunk_size: 100\n",
      "  cql: |\n",
      "    WITH $dict.rows AS rows\n",
      "    UNWIND rows as row\n",
      "    MATCH (source:Country {id: toIntegerOrNull(row.id)})\n",
      "    MATCH (target:Currency {name: row.currency_name})\n",
      "    MERGE (source)-[n:USES]->(target)\n",
      "  url: $BASE/../../../data/countries/countries.csv\n",
      "- chunk_size: 100\n",
      "  cql: |\n",
      "    WITH $dict.rows AS rows\n",
      "    UNWIND rows as row\n",
      "    MATCH (source:Country {id: toIntegerOrNull(row.id)})\n",
      "    MATCH (target:Timezone {name: row.timezones})\n",
      "    MERGE (source)-[n:SHARES_TIMEZONE_WITH]->(target)\n",
      "  url: $BASE/../../../data/countries/countries.csv\n",
      "- chunk_size: 100\n",
      "  cql: |\n",
      "    WITH $dict.rows AS rows\n",
      "    UNWIND rows as row\n",
      "    MATCH (source:Region {name: row.region})\n",
      "    MATCH (target:Subregion {name: row.subregion})\n",
      "    MERGE (source)-[n:HAS_SUBREGION]->(target)\n",
      "  url: $BASE/../../../data/countries/countries.csv\n",
      "- chunk_size: 100\n",
      "  cql: |\n",
      "    WITH $dict.rows AS rows\n",
      "    UNWIND rows as row\n",
      "    MATCH (source:Country {id: toIntegerOrNull(row.id)})\n",
      "    MATCH (target:Capital {name: row.capital})\n",
      "    MERGE (source)-[n:HAS_CAPITAL]->(target)\n",
      "  url: $BASE/../../../data/countries/countries.csv\n",
      "\n"
     ]
    }
   ],
   "source": [
    "pyingest_yaml = gen.generate_config_string()\n",
    "print(pyingest_yaml)"
   ]
  },
  {
   "cell_type": "markdown",
   "metadata": {},
   "source": [
    "## Ingest Data"
   ]
  },
  {
   "cell_type": "markdown",
   "metadata": {},
   "source": [
    "We can use the generated yaml string above to orchestrate the data loading via a Runway's PyIngest function. First let's confirm our connection though."
   ]
  },
  {
   "cell_type": "code",
   "execution_count": 20,
   "metadata": {},
   "outputs": [
    {
     "data": {
      "text/plain": [
       "{'valid': True, 'message': 'Connection and Auth Verified!'}"
      ]
     },
     "execution_count": 20,
     "metadata": {},
     "output_type": "execute_result"
    }
   ],
   "source": [
    "test_database_connection(credentials={\"username\": os.environ.get(\"NEO4J_USERNAME\"), \n",
    "                                      \"password\": os.environ.get(\"NEO4J_PASSWORD\"), \n",
    "                                      \"uri\": os.environ.get(\"NEO4J_URI\")})"
   ]
  },
  {
   "cell_type": "code",
   "execution_count": 21,
   "metadata": {},
   "outputs": [],
   "source": [
    "PyIngest(config=pyingest_yaml, verbose=False)"
   ]
  },
  {
   "cell_type": "markdown",
   "metadata": {},
   "source": [
    "If we check our database we can see that we've ingested our CSV according to the data model we've created!"
   ]
  },
  {
   "cell_type": "markdown",
   "metadata": {},
   "source": [
    "![countries-single-0.12.0.png](../../../images/countries-single-0.12.0.png)"
   ]
  }
 ],
 "metadata": {
  "kernelspec": {
   "display_name": "venv",
   "language": "python",
   "name": "python3"
  },
  "language_info": {
   "codemirror_mode": {
    "name": "ipython",
    "version": 3
   },
   "file_extension": ".py",
   "mimetype": "text/x-python",
   "name": "python",
   "nbconvert_exporter": "python",
   "pygments_lexer": "ipython3",
   "version": "3.12.3"
  }
 },
 "nbformat": 4,
 "nbformat_minor": 2
}
