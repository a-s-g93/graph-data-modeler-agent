{
 "cells": [
  {
   "cell_type": "markdown",
   "metadata": {},
   "source": [
    "# End To End Demo"
   ]
  },
  {
   "cell_type": "markdown",
   "metadata": {},
   "source": [
    "This notebooks demonstrates the data flow of generating a graph from a CSV file using Runway v0.9.0"
   ]
  },
  {
   "cell_type": "code",
   "execution_count": 1,
   "metadata": {},
   "outputs": [
    {
     "data": {
      "text/plain": [
       "True"
      ]
     },
     "execution_count": 1,
     "metadata": {},
     "output_type": "execute_result"
    }
   ],
   "source": [
    "import os\n",
    "\n",
    "import pandas as pd\n",
    "from dotenv import load_dotenv\n",
    "\n",
    "from neo4j_runway import Discovery, GraphDataModeler, PyIngest, UserInput\n",
    "from neo4j_runway.code_generation import PyIngestConfigGenerator\n",
    "from neo4j_runway.llm.openai import OpenAIDataModelingLLM, OpenAIDiscoveryLLM\n",
    "from neo4j_runway.utils import test_database_connection\n",
    "\n",
    "load_dotenv()"
   ]
  },
  {
   "cell_type": "markdown",
   "metadata": {},
   "source": [
    "## Load and Describe Data"
   ]
  },
  {
   "cell_type": "markdown",
   "metadata": {},
   "source": [
    "The USER_GENERATED_INPUT variable contains a general discription and feature descriptions for each feature we'd like to use in our graph."
   ]
  },
  {
   "cell_type": "code",
   "execution_count": 2,
   "metadata": {},
   "outputs": [],
   "source": [
    "USER_GENERATED_INPUT = UserInput(general_description='This is data on different countries.',\n",
    "                                 column_descriptions={\n",
    "                                     'id': 'unique id for a country.',\n",
    "                                    'name': 'the country name.',\n",
    "                                    'phone_code': 'country area code.',\n",
    "                                    'capital': 'the capital of the country.',\n",
    "                                    'currency_name': \"name of the country's currency.\",\n",
    "                                    'region': 'primary region of the country.',\n",
    "                                    'subregion': 'subregion location of the country.',\n",
    "                                    'timezones': 'timezones contained within the country borders.',\n",
    "                                    'latitude': 'the latitude coordinate of the country center.',\n",
    "                                    'longitude': 'the longitude coordinate of the country center.'\n",
    "                                    },\n",
    "                                use_cases=[\n",
    "        \"Which region contains the most subregions?\", \n",
    "        \"What currencies are most popular?\", \n",
    "        \"Which countries share timezones?\"\n",
    "    ]  \n",
    "                                )"
   ]
  },
  {
   "cell_type": "code",
   "execution_count": 3,
   "metadata": {},
   "outputs": [],
   "source": [
    "data = pd.read_csv(\"../../../data/countries/countries.csv\")"
   ]
  },
  {
   "cell_type": "code",
   "execution_count": 4,
   "metadata": {},
   "outputs": [
    {
     "data": {
      "text/html": [
       "<div>\n",
       "<style scoped>\n",
       "    .dataframe tbody tr th:only-of-type {\n",
       "        vertical-align: middle;\n",
       "    }\n",
       "\n",
       "    .dataframe tbody tr th {\n",
       "        vertical-align: top;\n",
       "    }\n",
       "\n",
       "    .dataframe thead th {\n",
       "        text-align: right;\n",
       "    }\n",
       "</style>\n",
       "<table border=\"1\" class=\"dataframe\">\n",
       "  <thead>\n",
       "    <tr style=\"text-align: right;\">\n",
       "      <th></th>\n",
       "      <th>id</th>\n",
       "      <th>name</th>\n",
       "      <th>iso3</th>\n",
       "      <th>iso2</th>\n",
       "      <th>numeric_code</th>\n",
       "      <th>phone_code</th>\n",
       "      <th>capital</th>\n",
       "      <th>currency</th>\n",
       "      <th>currency_name</th>\n",
       "      <th>currency_symbol</th>\n",
       "      <th>tld</th>\n",
       "      <th>native</th>\n",
       "      <th>region</th>\n",
       "      <th>subregion</th>\n",
       "      <th>timezones</th>\n",
       "      <th>latitude</th>\n",
       "      <th>longitude</th>\n",
       "      <th>emoji</th>\n",
       "      <th>emojiU</th>\n",
       "    </tr>\n",
       "  </thead>\n",
       "  <tbody>\n",
       "    <tr>\n",
       "      <th>0</th>\n",
       "      <td>1</td>\n",
       "      <td>Afghanistan</td>\n",
       "      <td>AFG</td>\n",
       "      <td>AF</td>\n",
       "      <td>4</td>\n",
       "      <td>93</td>\n",
       "      <td>Kabul</td>\n",
       "      <td>AFN</td>\n",
       "      <td>Afghan afghani</td>\n",
       "      <td>؋</td>\n",
       "      <td>.af</td>\n",
       "      <td>افغانستان</td>\n",
       "      <td>Asia</td>\n",
       "      <td>Southern Asia</td>\n",
       "      <td>[{zoneName:'Asia\\/Kabul',gmtOffset:16200,gmtOf...</td>\n",
       "      <td>33.000000</td>\n",
       "      <td>65.0</td>\n",
       "      <td>🇦🇫</td>\n",
       "      <td>U+1F1E6 U+1F1EB</td>\n",
       "    </tr>\n",
       "    <tr>\n",
       "      <th>1</th>\n",
       "      <td>2</td>\n",
       "      <td>Aland Islands</td>\n",
       "      <td>ALA</td>\n",
       "      <td>AX</td>\n",
       "      <td>248</td>\n",
       "      <td>+358-18</td>\n",
       "      <td>Mariehamn</td>\n",
       "      <td>EUR</td>\n",
       "      <td>Euro</td>\n",
       "      <td>€</td>\n",
       "      <td>.ax</td>\n",
       "      <td>Åland</td>\n",
       "      <td>Europe</td>\n",
       "      <td>Northern Europe</td>\n",
       "      <td>[{zoneName:'Europe\\/Mariehamn',gmtOffset:7200,...</td>\n",
       "      <td>60.116667</td>\n",
       "      <td>19.9</td>\n",
       "      <td>🇦🇽</td>\n",
       "      <td>U+1F1E6 U+1F1FD</td>\n",
       "    </tr>\n",
       "    <tr>\n",
       "      <th>2</th>\n",
       "      <td>3</td>\n",
       "      <td>Albania</td>\n",
       "      <td>ALB</td>\n",
       "      <td>AL</td>\n",
       "      <td>8</td>\n",
       "      <td>355</td>\n",
       "      <td>Tirana</td>\n",
       "      <td>ALL</td>\n",
       "      <td>Albanian lek</td>\n",
       "      <td>Lek</td>\n",
       "      <td>.al</td>\n",
       "      <td>Shqipëria</td>\n",
       "      <td>Europe</td>\n",
       "      <td>Southern Europe</td>\n",
       "      <td>[{zoneName:'Europe\\/Tirane',gmtOffset:3600,gmt...</td>\n",
       "      <td>41.000000</td>\n",
       "      <td>20.0</td>\n",
       "      <td>🇦🇱</td>\n",
       "      <td>U+1F1E6 U+1F1F1</td>\n",
       "    </tr>\n",
       "    <tr>\n",
       "      <th>3</th>\n",
       "      <td>4</td>\n",
       "      <td>Algeria</td>\n",
       "      <td>DZA</td>\n",
       "      <td>DZ</td>\n",
       "      <td>12</td>\n",
       "      <td>213</td>\n",
       "      <td>Algiers</td>\n",
       "      <td>DZD</td>\n",
       "      <td>Algerian dinar</td>\n",
       "      <td>دج</td>\n",
       "      <td>.dz</td>\n",
       "      <td>الجزائر</td>\n",
       "      <td>Africa</td>\n",
       "      <td>Northern Africa</td>\n",
       "      <td>[{zoneName:'Africa\\/Algiers',gmtOffset:3600,gm...</td>\n",
       "      <td>28.000000</td>\n",
       "      <td>3.0</td>\n",
       "      <td>🇩🇿</td>\n",
       "      <td>U+1F1E9 U+1F1FF</td>\n",
       "    </tr>\n",
       "    <tr>\n",
       "      <th>4</th>\n",
       "      <td>5</td>\n",
       "      <td>American Samoa</td>\n",
       "      <td>ASM</td>\n",
       "      <td>AS</td>\n",
       "      <td>16</td>\n",
       "      <td>+1-684</td>\n",
       "      <td>Pago Pago</td>\n",
       "      <td>USD</td>\n",
       "      <td>US Dollar</td>\n",
       "      <td>$</td>\n",
       "      <td>.as</td>\n",
       "      <td>American Samoa</td>\n",
       "      <td>Oceania</td>\n",
       "      <td>Polynesia</td>\n",
       "      <td>[{zoneName:'Pacific\\/Pago_Pago',gmtOffset:-396...</td>\n",
       "      <td>-14.333333</td>\n",
       "      <td>-170.0</td>\n",
       "      <td>🇦🇸</td>\n",
       "      <td>U+1F1E6 U+1F1F8</td>\n",
       "    </tr>\n",
       "  </tbody>\n",
       "</table>\n",
       "</div>"
      ],
      "text/plain": [
       "   id            name iso3 iso2  numeric_code phone_code    capital currency  \\\n",
       "0   1     Afghanistan  AFG   AF             4         93      Kabul      AFN   \n",
       "1   2   Aland Islands  ALA   AX           248    +358-18  Mariehamn      EUR   \n",
       "2   3         Albania  ALB   AL             8        355     Tirana      ALL   \n",
       "3   4         Algeria  DZA   DZ            12        213    Algiers      DZD   \n",
       "4   5  American Samoa  ASM   AS            16     +1-684  Pago Pago      USD   \n",
       "\n",
       "    currency_name currency_symbol  tld          native   region  \\\n",
       "0  Afghan afghani               ؋  .af       افغانستان     Asia   \n",
       "1            Euro               €  .ax           Åland   Europe   \n",
       "2    Albanian lek             Lek  .al       Shqipëria   Europe   \n",
       "3  Algerian dinar              دج  .dz         الجزائر   Africa   \n",
       "4       US Dollar               $  .as  American Samoa  Oceania   \n",
       "\n",
       "         subregion                                          timezones  \\\n",
       "0    Southern Asia  [{zoneName:'Asia\\/Kabul',gmtOffset:16200,gmtOf...   \n",
       "1  Northern Europe  [{zoneName:'Europe\\/Mariehamn',gmtOffset:7200,...   \n",
       "2  Southern Europe  [{zoneName:'Europe\\/Tirane',gmtOffset:3600,gmt...   \n",
       "3  Northern Africa  [{zoneName:'Africa\\/Algiers',gmtOffset:3600,gm...   \n",
       "4        Polynesia  [{zoneName:'Pacific\\/Pago_Pago',gmtOffset:-396...   \n",
       "\n",
       "    latitude  longitude emoji           emojiU  \n",
       "0  33.000000       65.0    🇦🇫  U+1F1E6 U+1F1EB  \n",
       "1  60.116667       19.9    🇦🇽  U+1F1E6 U+1F1FD  \n",
       "2  41.000000       20.0    🇦🇱  U+1F1E6 U+1F1F1  \n",
       "3  28.000000        3.0    🇩🇿  U+1F1E9 U+1F1FF  \n",
       "4 -14.333333     -170.0    🇦🇸  U+1F1E6 U+1F1F8  "
      ]
     },
     "execution_count": 4,
     "metadata": {},
     "output_type": "execute_result"
    }
   ],
   "source": [
    "data.head()"
   ]
  },
  {
   "cell_type": "markdown",
   "metadata": {},
   "source": [
    "## Initialize LLMs"
   ]
  },
  {
   "cell_type": "markdown",
   "metadata": {},
   "source": [
    "We now initialize the LLMs to use in data discovery and data model creation."
   ]
  },
  {
   "cell_type": "code",
   "execution_count": 5,
   "metadata": {},
   "outputs": [],
   "source": [
    "llm_disc = OpenAIDiscoveryLLM(model_name='gpt-4o-mini-2024-07-18', model_params={\"temperature\": 0})\n",
    "llm_dm = OpenAIDataModelingLLM(model_name='gpt-4o-2024-05-13', model_params={\"temperature\": 0.5})"
   ]
  },
  {
   "cell_type": "markdown",
   "metadata": {},
   "source": [
    "## Discovery"
   ]
  },
  {
   "cell_type": "markdown",
   "metadata": {},
   "source": [
    "We now load the above data into a Discovery object."
   ]
  },
  {
   "cell_type": "code",
   "execution_count": 6,
   "metadata": {},
   "outputs": [],
   "source": [
    "disc = Discovery(llm=llm_disc, user_input=USER_GENERATED_INPUT, data=data)"
   ]
  },
  {
   "cell_type": "code",
   "execution_count": 7,
   "metadata": {},
   "outputs": [
    {
     "data": {
      "text/markdown": [
       "### Preliminary Analysis of Country Data\n",
       "\n",
       "#### Overall Data Characteristics:\n",
       "1. **Data Size**: The dataset contains 250 entries (countries) and 10 features.\n",
       "2. **Data Types**: The features include integers, floats, and objects (strings). The presence of both numerical and categorical data allows for diverse analyses.\n",
       "3. **Missing Values**: \n",
       "   - `capital`: 5 missing values (2% of the data)\n",
       "   - `region`: 2 missing values (0.8% of the data)\n",
       "   - `subregion`: 3 missing values (1.2% of the data)\n",
       "   - These missing values should be addressed, especially for analyses involving regions and capitals.\n",
       "\n",
       "#### Important Features:\n",
       "1. **id**: Unique identifier for each country, useful for referencing.\n",
       "2. **name**: Country names are unique, which is essential for any country-based analysis.\n",
       "3. **phone_code**: Indicates the country area code, with 235 unique codes for 250 countries, suggesting some countries share codes.\n",
       "4. **capital**: Important for geographical and political analyses, though it has some missing values.\n",
       "5. **currency_name**: With 161 unique currencies, this feature is crucial for economic analyses. The most common currency is the Euro, used by 35 countries.\n",
       "6. **region**: There are 6 unique regions, with Africa being the most populous (60 countries). This feature is vital for regional analyses.\n",
       "7. **subregion**: Contains 22 unique subregions, which can provide more granular insights into geographical distributions.\n",
       "8. **timezones**: This feature has 245 unique entries, indicating that many countries share timezones, which is important for understanding global time coordination.\n",
       "9. **latitude and longitude**: These geographical coordinates are essential for mapping and spatial analyses.\n",
       "\n",
       "#### Use Case Insights:\n",
       "1. **Regions and Subregions**: To determine which region contains the most subregions, we can analyze the `region` and `subregion` features. The region with the highest count of unique subregions will be identified.\n",
       "2. **Popular Currencies**: The `currency_name` feature can be analyzed to find the most frequently occurring currencies, highlighting economic trends.\n",
       "3. **Shared Timezones**: The `timezones` feature can be examined to identify countries that share the same timezone, which is crucial for international relations and business operations.\n",
       "\n",
       "#### Conclusion:\n",
       "The dataset is rich in information, with several features that can be leveraged for various analyses. The most important features for the specified use cases are `region`, `subregion`, `currency_name`, and `timezones`. Addressing the missing values will enhance the reliability of the analyses."
      ],
      "text/plain": [
       "<IPython.core.display.Markdown object>"
      ]
     },
     "metadata": {},
     "output_type": "display_data"
    }
   ],
   "source": [
    "disc.run(show_result=True, notebook=True)"
   ]
  },
  {
   "cell_type": "markdown",
   "metadata": {},
   "source": [
    "## Data Modeling"
   ]
  },
  {
   "cell_type": "markdown",
   "metadata": {},
   "source": [
    "We can now use our Discovery object to provide context to the LLM for data model generation. We don't *need* the discovery information for this step to work, but it provides much better models."
   ]
  },
  {
   "cell_type": "code",
   "execution_count": 8,
   "metadata": {},
   "outputs": [],
   "source": [
    "gdm = GraphDataModeler(\n",
    "    llm=llm_dm,\n",
    "    discovery=disc\n",
    ")"
   ]
  },
  {
   "cell_type": "markdown",
   "metadata": {},
   "source": [
    "We now generate our first pass data model."
   ]
  },
  {
   "cell_type": "code",
   "execution_count": 9,
   "metadata": {},
   "outputs": [
    {
     "name": "stdout",
     "output_type": "stream",
     "text": [
      "\u001b[1m> Generating Nodes...\u001b[00m\n",
      "\u001b[3mAttempts | 3  \u001b[0m\n",
      "Received \u001b[92mValid\u001b[00m Nodes\n",
      "Nodes\n",
      "* \u001b[96m(:Country)\u001b[00m     * \u001b[96m(:Region)\u001b[00m\n",
      "* \u001b[96m(:Subregion)\u001b[00m   * \u001b[96m(:Currency)\u001b[00m\n",
      "* \u001b[96m(:Timezone)\u001b[00m     \n",
      "\n",
      "\u001b[1m> Generating Data Model...\u001b[00m\n",
      "\u001b[3mAttempts | 2  \u001b[0m\n",
      "Recieved \u001b[92mValid\u001b[00m Data Model\n",
      "Nodes\n",
      "* \u001b[96m(:Country)\u001b[00m     * \u001b[96m(:Region)\u001b[00m\n",
      "* \u001b[96m(:Subregion)\u001b[00m   * \u001b[96m(:Currency)\u001b[00m\n",
      "* \u001b[96m(:Timezone)\u001b[00m     \n",
      "\n",
      "Relationships\n",
      "* \u001b[96m(:Subregion)-[:BELONGS_TO]->(:Region)\u001b[00m        \n",
      "* \u001b[96m(:Country)-[:USES_CURRENCY]->(:Currency)\u001b[00m     \n",
      "* \u001b[96m(:Country)-[:SHARES_TIMEZONE]->(:Timezone)\u001b[00m   \n",
      "* \u001b[96m(:Country)-[:LOCATED_IN]->(:Subregion)\u001b[00m       \n"
     ]
    },
    {
     "data": {
      "text/plain": [
       "DataModel(nodes=[Node(label='Country', properties=[Property(name='id', type='int', column_mapping='id', alias=None, is_unique=True, part_of_key=False), Property(name='name', type='str', column_mapping='name', alias=None, is_unique=True, part_of_key=False), Property(name='phoneCode', type='str', column_mapping='phone_code', alias=None, is_unique=False, part_of_key=False), Property(name='capital', type='str', column_mapping='capital', alias=None, is_unique=False, part_of_key=False), Property(name='latitude', type='float', column_mapping='latitude', alias=None, is_unique=False, part_of_key=False), Property(name='longitude', type='float', column_mapping='longitude', alias=None, is_unique=False, part_of_key=False)], source_name='file'), Node(label='Region', properties=[Property(name='name', type='str', column_mapping='region', alias=None, is_unique=True, part_of_key=False)], source_name='file'), Node(label='Subregion', properties=[Property(name='name', type='str', column_mapping='subregion', alias=None, is_unique=True, part_of_key=False)], source_name='file'), Node(label='Currency', properties=[Property(name='name', type='str', column_mapping='currency_name', alias=None, is_unique=True, part_of_key=False)], source_name='file'), Node(label='Timezone', properties=[Property(name='name', type='str', column_mapping='timezones', alias=None, is_unique=True, part_of_key=False)], source_name='file')], relationships=[Relationship(type='BELONGS_TO', properties=[], source='Subregion', target='Region', source_name='file'), Relationship(type='USES_CURRENCY', properties=[], source='Country', target='Currency', source_name='file'), Relationship(type='SHARES_TIMEZONE', properties=[], source='Country', target='Timezone', source_name='file'), Relationship(type='LOCATED_IN', properties=[], source='Country', target='Subregion', source_name='file')], metadata=None)"
      ]
     },
     "execution_count": 9,
     "metadata": {},
     "output_type": "execute_result"
    }
   ],
   "source": [
    "gdm.create_initial_model(max_retries=3)"
   ]
  },
  {
   "cell_type": "code",
   "execution_count": 10,
   "metadata": {},
   "outputs": [
    {
     "data": {
      "image/svg+xml": [
       "<?xml version=\"1.0\" encoding=\"UTF-8\" standalone=\"no\"?>\n",
       "<!DOCTYPE svg PUBLIC \"-//W3C//DTD SVG 1.1//EN\"\n",
       " \"http://www.w3.org/Graphics/SVG/1.1/DTD/svg11.dtd\">\n",
       "<!-- Generated by graphviz version 10.0.1 (20240210.2158)\n",
       " -->\n",
       "<!-- Pages: 1 -->\n",
       "<svg width=\"773pt\" height=\"542pt\"\n",
       " viewBox=\"0.00 0.00 772.93 541.51\" xmlns=\"http://www.w3.org/2000/svg\" xmlns:xlink=\"http://www.w3.org/1999/xlink\">\n",
       "<g id=\"graph0\" class=\"graph\" transform=\"scale(1 1) rotate(0) translate(4 537.51)\">\n",
       "<polygon fill=\"white\" stroke=\"none\" points=\"-4,4 -4,-537.51 768.93,-537.51 768.93,4 -4,4\"/>\n",
       "<!-- Country -->\n",
       "<g id=\"node1\" class=\"node\">\n",
       "<title>Country</title>\n",
       "<ellipse fill=\"none\" stroke=\"black\" cx=\"380.67\" cy=\"-423.2\" rx=\"106.24\" ry=\"110.31\"/>\n",
       "<text text-anchor=\"middle\" x=\"380.67\" y=\"-483.9\" font-family=\"Times,serif\" font-size=\"14.00\">Country</text>\n",
       "<text text-anchor=\"middle\" x=\"380.67\" y=\"-451.4\" font-family=\"Times,serif\" font-size=\"14.00\">properties:</text>\n",
       "<text text-anchor=\"middle\" x=\"380.67\" y=\"-434.9\" font-family=\"Times,serif\" font-size=\"14.00\">id: id *unique*</text>\n",
       "<text text-anchor=\"middle\" x=\"380.67\" y=\"-418.4\" font-family=\"Times,serif\" font-size=\"14.00\">name: name *unique*</text>\n",
       "<text text-anchor=\"middle\" x=\"380.67\" y=\"-401.9\" font-family=\"Times,serif\" font-size=\"14.00\">phoneCode: phone_code</text>\n",
       "<text text-anchor=\"middle\" x=\"380.67\" y=\"-385.4\" font-family=\"Times,serif\" font-size=\"14.00\">capital: capital</text>\n",
       "<text text-anchor=\"middle\" x=\"380.67\" y=\"-368.9\" font-family=\"Times,serif\" font-size=\"14.00\">latitude: latitude</text>\n",
       "<text text-anchor=\"middle\" x=\"380.67\" y=\"-352.4\" font-family=\"Times,serif\" font-size=\"14.00\">longitude: longitude</text>\n",
       "</g>\n",
       "<!-- Subregion -->\n",
       "<g id=\"node3\" class=\"node\">\n",
       "<title>Subregion</title>\n",
       "<ellipse fill=\"none\" stroke=\"black\" cx=\"113.67\" cy=\"-208.42\" rx=\"113.67\" ry=\"51.97\"/>\n",
       "<text text-anchor=\"middle\" x=\"113.67\" y=\"-227.87\" font-family=\"Times,serif\" font-size=\"14.00\">Subregion</text>\n",
       "<text text-anchor=\"middle\" x=\"113.67\" y=\"-195.37\" font-family=\"Times,serif\" font-size=\"14.00\">properties:</text>\n",
       "<text text-anchor=\"middle\" x=\"113.67\" y=\"-178.87\" font-family=\"Times,serif\" font-size=\"14.00\">name: subregion *unique*</text>\n",
       "</g>\n",
       "<!-- Country&#45;&gt;Subregion -->\n",
       "<g id=\"edge4\" class=\"edge\">\n",
       "<title>Country&#45;&gt;Subregion</title>\n",
       "<path fill=\"none\" stroke=\"black\" d=\"M296.55,-355.16C258.37,-324.73 213.9,-289.3 178.38,-260.99\"/>\n",
       "<polygon fill=\"black\" stroke=\"black\" points=\"180.73,-258.39 170.73,-254.89 176.37,-263.86 180.73,-258.39\"/>\n",
       "<text text-anchor=\"middle\" x=\"256.92\" y=\"-281.59\" font-family=\"Times,serif\" font-size=\"14.00\">LOCATED_IN</text>\n",
       "</g>\n",
       "<!-- Currency -->\n",
       "<g id=\"node4\" class=\"node\">\n",
       "<title>Currency</title>\n",
       "<ellipse fill=\"none\" stroke=\"black\" cx=\"380.67\" cy=\"-208.42\" rx=\"135.41\" ry=\"51.97\"/>\n",
       "<text text-anchor=\"middle\" x=\"380.67\" y=\"-227.87\" font-family=\"Times,serif\" font-size=\"14.00\">Currency</text>\n",
       "<text text-anchor=\"middle\" x=\"380.67\" y=\"-195.37\" font-family=\"Times,serif\" font-size=\"14.00\">properties:</text>\n",
       "<text text-anchor=\"middle\" x=\"380.67\" y=\"-178.87\" font-family=\"Times,serif\" font-size=\"14.00\">name: currency_name *unique*</text>\n",
       "</g>\n",
       "<!-- Country&#45;&gt;Currency -->\n",
       "<g id=\"edge2\" class=\"edge\">\n",
       "<title>Country&#45;&gt;Currency</title>\n",
       "<path fill=\"none\" stroke=\"black\" d=\"M380.67,-312.69C380.67,-298.81 380.67,-285.01 380.67,-272.22\"/>\n",
       "<polygon fill=\"black\" stroke=\"black\" points=\"384.17,-272.3 380.67,-262.3 377.17,-272.3 384.17,-272.3\"/>\n",
       "<text text-anchor=\"middle\" x=\"437.29\" y=\"-281.59\" font-family=\"Times,serif\" font-size=\"14.00\">USES_CURRENCY</text>\n",
       "</g>\n",
       "<!-- Timezone -->\n",
       "<g id=\"node5\" class=\"node\">\n",
       "<title>Timezone</title>\n",
       "<ellipse fill=\"none\" stroke=\"black\" cx=\"649.67\" cy=\"-208.42\" rx=\"115.26\" ry=\"51.97\"/>\n",
       "<text text-anchor=\"middle\" x=\"649.67\" y=\"-227.87\" font-family=\"Times,serif\" font-size=\"14.00\">Timezone</text>\n",
       "<text text-anchor=\"middle\" x=\"649.67\" y=\"-195.37\" font-family=\"Times,serif\" font-size=\"14.00\">properties:</text>\n",
       "<text text-anchor=\"middle\" x=\"649.67\" y=\"-178.87\" font-family=\"Times,serif\" font-size=\"14.00\">name: timezones *unique*</text>\n",
       "</g>\n",
       "<!-- Country&#45;&gt;Timezone -->\n",
       "<g id=\"edge3\" class=\"edge\">\n",
       "<title>Country&#45;&gt;Timezone</title>\n",
       "<path fill=\"none\" stroke=\"black\" d=\"M465.04,-355.46C503.54,-325.01 548.42,-289.5 584.3,-261.13\"/>\n",
       "<polygon fill=\"black\" stroke=\"black\" points=\"586.35,-263.96 592.03,-255.01 582.01,-258.47 586.35,-263.96\"/>\n",
       "<text text-anchor=\"middle\" x=\"618.79\" y=\"-281.59\" font-family=\"Times,serif\" font-size=\"14.00\">SHARES_TIMEZONE</text>\n",
       "</g>\n",
       "<!-- Region -->\n",
       "<g id=\"node2\" class=\"node\">\n",
       "<title>Region</title>\n",
       "<ellipse fill=\"none\" stroke=\"black\" cx=\"113.67\" cy=\"-51.97\" rx=\"100.41\" ry=\"51.97\"/>\n",
       "<text text-anchor=\"middle\" x=\"113.67\" y=\"-71.42\" font-family=\"Times,serif\" font-size=\"14.00\">Region</text>\n",
       "<text text-anchor=\"middle\" x=\"113.67\" y=\"-38.92\" font-family=\"Times,serif\" font-size=\"14.00\">properties:</text>\n",
       "<text text-anchor=\"middle\" x=\"113.67\" y=\"-22.42\" font-family=\"Times,serif\" font-size=\"14.00\">name: region *unique*</text>\n",
       "</g>\n",
       "<!-- Subregion&#45;&gt;Region -->\n",
       "<g id=\"edge1\" class=\"edge\">\n",
       "<title>Subregion&#45;&gt;Region</title>\n",
       "<path fill=\"none\" stroke=\"black\" d=\"M113.67,-155.99C113.67,-143.16 113.67,-129.26 113.67,-115.95\"/>\n",
       "<polygon fill=\"black\" stroke=\"black\" points=\"117.17,-115.95 113.67,-105.95 110.17,-115.95 117.17,-115.95\"/>\n",
       "<text text-anchor=\"middle\" x=\"157.17\" y=\"-125.14\" font-family=\"Times,serif\" font-size=\"14.00\">BELONGS_TO</text>\n",
       "</g>\n",
       "</g>\n",
       "</svg>\n"
      ],
      "text/plain": [
       "<graphviz.graphs.Digraph at 0x146b287a0>"
      ]
     },
     "execution_count": 10,
     "metadata": {},
     "output_type": "execute_result"
    }
   ],
   "source": [
    "gdm.current_model.visualize()"
   ]
  },
  {
   "cell_type": "markdown",
   "metadata": {},
   "source": [
    "We can now create some ingestion code to get our data into our database."
   ]
  },
  {
   "cell_type": "markdown",
   "metadata": {},
   "source": [
    "## Ingestion Code Generation"
   ]
  },
  {
   "cell_type": "markdown",
   "metadata": {},
   "source": [
    "We can provide our credentials here in this step if we plan on using PyIngest to load our data. This will inject our credentials into the generated YAML file. If we leave the credential fields blank, then we can just fill in the blanks in the generated YAML file later."
   ]
  },
  {
   "cell_type": "code",
   "execution_count": 11,
   "metadata": {},
   "outputs": [],
   "source": [
    "gen = PyIngestConfigGenerator(data_model=gdm.current_model, \n",
    "                         username=os.environ.get(\"NEO4J_USERNAME\"), \n",
    "                         password=os.environ.get(\"NEO4J_PASSWORD\"), \n",
    "                         uri=os.environ.get(\"NEO4J_URI\"), \n",
    "                         database=os.environ.get(\"NEO4J_DATABASE\"), \n",
    "                         file_directory=\"data/csv/\", source_name=\"countries.csv\")"
   ]
  },
  {
   "cell_type": "code",
   "execution_count": 12,
   "metadata": {},
   "outputs": [
    {
     "name": "stdout",
     "output_type": "stream",
     "text": [
      "server_uri: bolt://localhost:7687\n",
      "admin_user: neo4j\n",
      "admin_pass: password\n",
      "database: neo4j\n",
      "basepath: ./\n",
      "\n",
      "pre_ingest:\n",
      "  - CREATE CONSTRAINT country_id IF NOT EXISTS FOR (n:Country) REQUIRE n.id IS UNIQUE;\n",
      "  - CREATE CONSTRAINT country_name IF NOT EXISTS FOR (n:Country) REQUIRE n.name IS UNIQUE;\n",
      "  - CREATE CONSTRAINT region_name IF NOT EXISTS FOR (n:Region) REQUIRE n.name IS UNIQUE;\n",
      "  - CREATE CONSTRAINT subregion_name IF NOT EXISTS FOR (n:Subregion) REQUIRE n.name IS UNIQUE;\n",
      "  - CREATE CONSTRAINT currency_name IF NOT EXISTS FOR (n:Currency) REQUIRE n.name IS UNIQUE;\n",
      "  - CREATE CONSTRAINT timezone_name IF NOT EXISTS FOR (n:Timezone) REQUIRE n.name IS UNIQUE;\n",
      "files:\n",
      "- chunk_size: 100\n",
      "  cql: |-\n",
      "    WITH $dict.rows AS rows\n",
      "    UNWIND rows AS row\n",
      "    MERGE (n:Country {id: toIntegerOrNull(row.id), name: row.name})\n",
      "    SET n.phoneCode = row.phone_code, n.capital = row.capital, n.latitude = toFloatOrNull(row.latitude), n.longitude = toFloatOrNull(row.longitude)\n",
      "  url: $BASE/data/csv/countries.csv\n",
      "- chunk_size: 100\n",
      "  cql: |\n",
      "    WITH $dict.rows AS rows\n",
      "    UNWIND rows AS row\n",
      "    MERGE (n:Region {name: row.region})\n",
      "  url: $BASE/data/csv/countries.csv\n",
      "- chunk_size: 100\n",
      "  cql: |\n",
      "    WITH $dict.rows AS rows\n",
      "    UNWIND rows AS row\n",
      "    MERGE (n:Subregion {name: row.subregion})\n",
      "  url: $BASE/data/csv/countries.csv\n",
      "- chunk_size: 100\n",
      "  cql: |\n",
      "    WITH $dict.rows AS rows\n",
      "    UNWIND rows AS row\n",
      "    MERGE (n:Currency {name: row.currency_name})\n",
      "  url: $BASE/data/csv/countries.csv\n",
      "- chunk_size: 100\n",
      "  cql: |\n",
      "    WITH $dict.rows AS rows\n",
      "    UNWIND rows AS row\n",
      "    MERGE (n:Timezone {name: row.timezones})\n",
      "  url: $BASE/data/csv/countries.csv\n",
      "- chunk_size: 100\n",
      "  cql: |\n",
      "    WITH $dict.rows AS rows\n",
      "    UNWIND rows as row\n",
      "    MATCH (source:Subregion {name: row.subregion})\n",
      "    MATCH (target:Region {name: row.region})\n",
      "    MERGE (source)-[n:BELONGS_TO]->(target)\n",
      "  url: $BASE/data/csv/countries.csv\n",
      "- chunk_size: 100\n",
      "  cql: |\n",
      "    WITH $dict.rows AS rows\n",
      "    UNWIND rows as row\n",
      "    MATCH (source:Country {id: toIntegerOrNull(row.id), name: row.name})\n",
      "    MATCH (target:Currency {name: row.currency_name})\n",
      "    MERGE (source)-[n:USES_CURRENCY]->(target)\n",
      "  url: $BASE/data/csv/countries.csv\n",
      "- chunk_size: 100\n",
      "  cql: |\n",
      "    WITH $dict.rows AS rows\n",
      "    UNWIND rows as row\n",
      "    MATCH (source:Country {id: toIntegerOrNull(row.id), name: row.name})\n",
      "    MATCH (target:Timezone {name: row.timezones})\n",
      "    MERGE (source)-[n:SHARES_TIMEZONE]->(target)\n",
      "  url: $BASE/data/csv/countries.csv\n",
      "- chunk_size: 100\n",
      "  cql: |\n",
      "    WITH $dict.rows AS rows\n",
      "    UNWIND rows as row\n",
      "    MATCH (source:Country {id: toIntegerOrNull(row.id), name: row.name})\n",
      "    MATCH (target:Subregion {name: row.subregion})\n",
      "    MERGE (source)-[n:LOCATED_IN]->(target)\n",
      "  url: $BASE/data/csv/countries.csv\n",
      "\n"
     ]
    }
   ],
   "source": [
    "pyingest_yaml = gen.generate_config_string()\n",
    "print(pyingest_yaml)"
   ]
  },
  {
   "cell_type": "markdown",
   "metadata": {},
   "source": [
    "## Ingest Data"
   ]
  },
  {
   "cell_type": "markdown",
   "metadata": {},
   "source": [
    "We can use the generated yaml string above to orchestrate the data loading via a modified PyIngest function. First let's confirm our connection though."
   ]
  },
  {
   "cell_type": "code",
   "execution_count": 13,
   "metadata": {},
   "outputs": [
    {
     "data": {
      "text/plain": [
       "{'valid': True, 'message': 'Connection and Auth Verified!'}"
      ]
     },
     "execution_count": 13,
     "metadata": {},
     "output_type": "execute_result"
    }
   ],
   "source": [
    "test_database_connection(credentials={\"username\": os.environ.get(\"NEO4J_USERNAME\"), \"password\": os.environ.get(\"NEO4J_PASSWORD\"), \"uri\": os.environ.get(\"NEO4J_URI\")})"
   ]
  },
  {
   "cell_type": "code",
   "execution_count": 14,
   "metadata": {},
   "outputs": [],
   "source": [
    "PyIngest(config=pyingest_yaml, dataframe=data)"
   ]
  },
  {
   "cell_type": "markdown",
   "metadata": {},
   "source": [
    "If we check our database we can see that we've ingested our CSV according to the data model we've created!"
   ]
  },
  {
   "cell_type": "markdown",
   "metadata": {},
   "source": [
    "![countries-graph-0.9.0.png](../../../images/countries-graph-0.9.0.png)"
   ]
  },
  {
   "cell_type": "markdown",
   "metadata": {},
   "source": []
  }
 ],
 "metadata": {
  "kernelspec": {
   "display_name": "venv",
   "language": "python",
   "name": "python3"
  },
  "language_info": {
   "codemirror_mode": {
    "name": "ipython",
    "version": 3
   },
   "file_extension": ".py",
   "mimetype": "text/x-python",
   "name": "python",
   "nbconvert_exporter": "python",
   "pygments_lexer": "ipython3",
   "version": "3.12.3"
  }
 },
 "nbformat": 4,
 "nbformat_minor": 2
}
