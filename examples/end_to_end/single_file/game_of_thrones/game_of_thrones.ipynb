{
 "cells": [
  {
   "cell_type": "markdown",
   "metadata": {},
   "source": [
    "# Game of Thrones End-To-End Notebook"
   ]
  },
  {
   "cell_type": "markdown",
   "metadata": {},
   "source": [
    "This notebook contains an end-to-end workflow using a single csv file of Game of Thrones battle data."
   ]
  },
  {
   "cell_type": "code",
   "execution_count": 1,
   "metadata": {},
   "outputs": [],
   "source": [
    "import os\n",
    "from neo4j_runway.utils.data import load_data_dictionary_from_yaml, load_local_files\n",
    "from neo4j_runway.llm.openai import OpenAIDataModelingLLM, OpenAIDiscoveryLLM\n",
    "from neo4j_runway.discovery import Discovery\n",
    "from neo4j_runway import GraphDataModeler\n",
    "from neo4j_runway.code_generation import PyIngestConfigGenerator\n",
    "from neo4j_runway.ingestion import PyIngest"
   ]
  },
  {
   "cell_type": "markdown",
   "metadata": {},
   "source": [
    "## Read Data"
   ]
  },
  {
   "cell_type": "code",
   "execution_count": 2,
   "metadata": {},
   "outputs": [
    {
     "data": {
      "text/plain": [
       "{'name': 'The name of the battle.',\n",
       " 'year': 'The year the battle took place.',\n",
       " 'battle_number': 'A unique ID for the battle.',\n",
       " 'king': 'A king participating in the battle.',\n",
       " 'outcome': 'Whether the battle was won or lost.',\n",
       " 'family': 'A significant family in the battle.',\n",
       " 'size': 'The size of the army.',\n",
       " 'summer': 'Whether the battle took place during Summer.',\n",
       " 'location': 'The location of the battle.',\n",
       " 'region': 'The larger region a battle took place in.',\n",
       " 'commander': 'The commander leading an army in the battle.',\n",
       " 'attacking': 'Whether the army is attacking or not.'}"
      ]
     },
     "execution_count": 2,
     "metadata": {},
     "output_type": "execute_result"
    }
   ],
   "source": [
    "data_dictionary = load_data_dictionary_from_yaml(\"data_dictionary.yaml\")\n",
    "data_dictionary"
   ]
  },
  {
   "cell_type": "code",
   "execution_count": 3,
   "metadata": {},
   "outputs": [],
   "source": [
    "data_directory = \"../../../data/got/\"\n",
    "file_name = \"game_of_thrones_battles.csv\"\n",
    "data = load_local_files(data_directory=data_directory, \n",
    "                        general_description=\"This file contains data on game of thrones battles\", \n",
    "                        data_dictionary=data_dictionary, \n",
    "                        use_cases=[\"What families have changed alliances?\", \"how have army sizes changed over time?\", \"Which families attack most often?\"],\n",
    "                        ignored_files=[\"got-battles.csv\", \"_.ipynb\"])"
   ]
  },
  {
   "cell_type": "code",
   "execution_count": 4,
   "metadata": {},
   "outputs": [
    {
     "data": {
      "text/html": [
       "<div>\n",
       "<style scoped>\n",
       "    .dataframe tbody tr th:only-of-type {\n",
       "        vertical-align: middle;\n",
       "    }\n",
       "\n",
       "    .dataframe tbody tr th {\n",
       "        vertical-align: top;\n",
       "    }\n",
       "\n",
       "    .dataframe thead th {\n",
       "        text-align: right;\n",
       "    }\n",
       "</style>\n",
       "<table border=\"1\" class=\"dataframe\">\n",
       "  <thead>\n",
       "    <tr style=\"text-align: right;\">\n",
       "      <th></th>\n",
       "      <th>name</th>\n",
       "      <th>year</th>\n",
       "      <th>battle_number</th>\n",
       "      <th>king</th>\n",
       "      <th>outcome</th>\n",
       "      <th>family</th>\n",
       "      <th>size</th>\n",
       "      <th>summer</th>\n",
       "      <th>location</th>\n",
       "      <th>region</th>\n",
       "      <th>commander</th>\n",
       "      <th>attacking</th>\n",
       "    </tr>\n",
       "  </thead>\n",
       "  <tbody>\n",
       "    <tr>\n",
       "      <th>0</th>\n",
       "      <td>Battle of the Golden Tooth</td>\n",
       "      <td>298</td>\n",
       "      <td>1</td>\n",
       "      <td>Joffrey/Tommen Baratheon</td>\n",
       "      <td>True</td>\n",
       "      <td>Lannister</td>\n",
       "      <td>15000.0</td>\n",
       "      <td>True</td>\n",
       "      <td>Golden Tooth</td>\n",
       "      <td>The Westerlands</td>\n",
       "      <td>Jaime Lannister</td>\n",
       "      <td>True</td>\n",
       "    </tr>\n",
       "    <tr>\n",
       "      <th>1</th>\n",
       "      <td>Battle at the Mummer's Ford</td>\n",
       "      <td>298</td>\n",
       "      <td>2</td>\n",
       "      <td>Joffrey/Tommen Baratheon</td>\n",
       "      <td>True</td>\n",
       "      <td>Lannister</td>\n",
       "      <td>NaN</td>\n",
       "      <td>True</td>\n",
       "      <td>Mummer's Ford</td>\n",
       "      <td>The Riverlands</td>\n",
       "      <td>Gregor Clegane</td>\n",
       "      <td>True</td>\n",
       "    </tr>\n",
       "    <tr>\n",
       "      <th>2</th>\n",
       "      <td>Battle of Riverrun</td>\n",
       "      <td>298</td>\n",
       "      <td>3</td>\n",
       "      <td>Joffrey/Tommen Baratheon</td>\n",
       "      <td>True</td>\n",
       "      <td>Lannister</td>\n",
       "      <td>15000.0</td>\n",
       "      <td>True</td>\n",
       "      <td>Riverrun</td>\n",
       "      <td>The Riverlands</td>\n",
       "      <td>Jaime Lannister</td>\n",
       "      <td>True</td>\n",
       "    </tr>\n",
       "    <tr>\n",
       "      <th>3</th>\n",
       "      <td>Battle of Riverrun</td>\n",
       "      <td>298</td>\n",
       "      <td>3</td>\n",
       "      <td>Joffrey/Tommen Baratheon</td>\n",
       "      <td>True</td>\n",
       "      <td>Lannister</td>\n",
       "      <td>15000.0</td>\n",
       "      <td>True</td>\n",
       "      <td>Riverrun</td>\n",
       "      <td>The Riverlands</td>\n",
       "      <td>Andros Brax</td>\n",
       "      <td>True</td>\n",
       "    </tr>\n",
       "    <tr>\n",
       "      <th>4</th>\n",
       "      <td>Battle of the Green Fork</td>\n",
       "      <td>298</td>\n",
       "      <td>4</td>\n",
       "      <td>Robb Stark</td>\n",
       "      <td>False</td>\n",
       "      <td>Stark</td>\n",
       "      <td>18000.0</td>\n",
       "      <td>True</td>\n",
       "      <td>Green Fork</td>\n",
       "      <td>The Riverlands</td>\n",
       "      <td>Roose Bolton</td>\n",
       "      <td>True</td>\n",
       "    </tr>\n",
       "    <tr>\n",
       "      <th>...</th>\n",
       "      <td>...</td>\n",
       "      <td>...</td>\n",
       "      <td>...</td>\n",
       "      <td>...</td>\n",
       "      <td>...</td>\n",
       "      <td>...</td>\n",
       "      <td>...</td>\n",
       "      <td>...</td>\n",
       "      <td>...</td>\n",
       "      <td>...</td>\n",
       "      <td>...</td>\n",
       "      <td>...</td>\n",
       "    </tr>\n",
       "    <tr>\n",
       "      <th>179</th>\n",
       "      <td>Battle of Castle Black</td>\n",
       "      <td>300</td>\n",
       "      <td>28</td>\n",
       "      <td>Mance Rayder</td>\n",
       "      <td>True</td>\n",
       "      <td>Baratheon</td>\n",
       "      <td>1240.0</td>\n",
       "      <td>False</td>\n",
       "      <td>Castle Black</td>\n",
       "      <td>Beyond the Wall</td>\n",
       "      <td>Stannis Baratheon</td>\n",
       "      <td>False</td>\n",
       "    </tr>\n",
       "    <tr>\n",
       "      <th>180</th>\n",
       "      <td>Battle of Castle Black</td>\n",
       "      <td>300</td>\n",
       "      <td>28</td>\n",
       "      <td>Mance Rayder</td>\n",
       "      <td>True</td>\n",
       "      <td>Baratheon</td>\n",
       "      <td>1240.0</td>\n",
       "      <td>False</td>\n",
       "      <td>Castle Black</td>\n",
       "      <td>Beyond the Wall</td>\n",
       "      <td>Jon Snow</td>\n",
       "      <td>False</td>\n",
       "    </tr>\n",
       "    <tr>\n",
       "      <th>181</th>\n",
       "      <td>Battle of Castle Black</td>\n",
       "      <td>300</td>\n",
       "      <td>28</td>\n",
       "      <td>Mance Rayder</td>\n",
       "      <td>True</td>\n",
       "      <td>Baratheon</td>\n",
       "      <td>1240.0</td>\n",
       "      <td>False</td>\n",
       "      <td>Castle Black</td>\n",
       "      <td>Beyond the Wall</td>\n",
       "      <td>Donal Noye</td>\n",
       "      <td>False</td>\n",
       "    </tr>\n",
       "    <tr>\n",
       "      <th>182</th>\n",
       "      <td>Battle of Castle Black</td>\n",
       "      <td>300</td>\n",
       "      <td>28</td>\n",
       "      <td>Mance Rayder</td>\n",
       "      <td>True</td>\n",
       "      <td>Baratheon</td>\n",
       "      <td>1240.0</td>\n",
       "      <td>False</td>\n",
       "      <td>Castle Black</td>\n",
       "      <td>Beyond the Wall</td>\n",
       "      <td>Cotter Pyke</td>\n",
       "      <td>False</td>\n",
       "    </tr>\n",
       "    <tr>\n",
       "      <th>183</th>\n",
       "      <td>Siege of Winterfell</td>\n",
       "      <td>300</td>\n",
       "      <td>38</td>\n",
       "      <td>Joffrey/Tommen Baratheon</td>\n",
       "      <td>NaN</td>\n",
       "      <td>Frey</td>\n",
       "      <td>8000.0</td>\n",
       "      <td>False</td>\n",
       "      <td>Winterfell</td>\n",
       "      <td>The North</td>\n",
       "      <td>Roose Bolton</td>\n",
       "      <td>False</td>\n",
       "    </tr>\n",
       "  </tbody>\n",
       "</table>\n",
       "<p>184 rows × 12 columns</p>\n",
       "</div>"
      ],
      "text/plain": [
       "                            name  year  battle_number  \\\n",
       "0     Battle of the Golden Tooth   298              1   \n",
       "1    Battle at the Mummer's Ford   298              2   \n",
       "2             Battle of Riverrun   298              3   \n",
       "3             Battle of Riverrun   298              3   \n",
       "4       Battle of the Green Fork   298              4   \n",
       "..                           ...   ...            ...   \n",
       "179       Battle of Castle Black   300             28   \n",
       "180       Battle of Castle Black   300             28   \n",
       "181       Battle of Castle Black   300             28   \n",
       "182       Battle of Castle Black   300             28   \n",
       "183          Siege of Winterfell   300             38   \n",
       "\n",
       "                         king outcome     family     size summer  \\\n",
       "0    Joffrey/Tommen Baratheon    True  Lannister  15000.0   True   \n",
       "1    Joffrey/Tommen Baratheon    True  Lannister      NaN   True   \n",
       "2    Joffrey/Tommen Baratheon    True  Lannister  15000.0   True   \n",
       "3    Joffrey/Tommen Baratheon    True  Lannister  15000.0   True   \n",
       "4                  Robb Stark   False      Stark  18000.0   True   \n",
       "..                        ...     ...        ...      ...    ...   \n",
       "179              Mance Rayder    True  Baratheon   1240.0  False   \n",
       "180              Mance Rayder    True  Baratheon   1240.0  False   \n",
       "181              Mance Rayder    True  Baratheon   1240.0  False   \n",
       "182              Mance Rayder    True  Baratheon   1240.0  False   \n",
       "183  Joffrey/Tommen Baratheon     NaN       Frey   8000.0  False   \n",
       "\n",
       "          location           region          commander  attacking  \n",
       "0     Golden Tooth  The Westerlands    Jaime Lannister       True  \n",
       "1    Mummer's Ford   The Riverlands     Gregor Clegane       True  \n",
       "2         Riverrun   The Riverlands    Jaime Lannister       True  \n",
       "3         Riverrun   The Riverlands        Andros Brax       True  \n",
       "4       Green Fork   The Riverlands       Roose Bolton       True  \n",
       "..             ...              ...                ...        ...  \n",
       "179   Castle Black  Beyond the Wall  Stannis Baratheon      False  \n",
       "180   Castle Black  Beyond the Wall           Jon Snow      False  \n",
       "181   Castle Black  Beyond the Wall         Donal Noye      False  \n",
       "182   Castle Black  Beyond the Wall        Cotter Pyke      False  \n",
       "183     Winterfell        The North       Roose Bolton      False  \n",
       "\n",
       "[184 rows x 12 columns]"
      ]
     },
     "execution_count": 4,
     "metadata": {},
     "output_type": "execute_result"
    }
   ],
   "source": [
    "data.tables[0].dataframe"
   ]
  },
  {
   "cell_type": "markdown",
   "metadata": {},
   "source": [
    "## Discovery"
   ]
  },
  {
   "cell_type": "code",
   "execution_count": 5,
   "metadata": {},
   "outputs": [],
   "source": [
    "disc_llm = OpenAIDiscoveryLLM(model_name=\"gpt-4o-mini\")\n",
    "disc = Discovery(llm=disc_llm, data=data)"
   ]
  },
  {
   "cell_type": "code",
   "execution_count": 6,
   "metadata": {},
   "outputs": [
    {
     "data": {
      "text/markdown": [
       "### Preliminary Analysis of Game of Thrones Battles Data\n",
       "\n",
       "#### Overall Data Characteristics:\n",
       "1. **Data Size**: The dataset contains 184 entries and 12 columns, indicating a moderate size for analysis.\n",
       "2. **Data Types**: The features include a mix of categorical (object), numerical (int64, float64), and boolean data types. This diversity allows for various types of analyses.\n",
       "3. **Missing Values**: There are several columns with missing values:\n",
       "   - `king`: 4 missing values\n",
       "   - `outcome`: 6 missing values\n",
       "   - `size`: 36 missing values\n",
       "   - `summer`: 3 missing values\n",
       "   - `location`: 2 missing values\n",
       "   - `commander`: 10 missing values\n",
       "   This indicates that some battles lack complete information, particularly regarding army size and commanders.\n",
       "\n",
       "#### Key Features for Use Cases:\n",
       "1. **Families Changing Alliances**:\n",
       "   - The `family` and `king` columns are crucial for analyzing alliances. The presence of multiple families and kings suggests potential shifts in alliances over battles. The `outcome` column can also provide insights into which families may have changed sides based on battle results.\n",
       "   - The `commander` column can further help identify which families are leading armies and if there are any overlaps or changes in leadership.\n",
       "\n",
       "2. **Changes in Army Sizes Over Time**:\n",
       "   - The `size` column is essential for understanding army sizes, while the `year` column allows for temporal analysis. Analyzing the distribution of army sizes across different years can reveal trends in military strength and resource allocation.\n",
       "   - The presence of missing values in the `size` column may affect the analysis, so it may be necessary to handle these appropriately (e.g., imputation or exclusion).\n",
       "\n",
       "3. **Families Attacking Most Often**:\n",
       "   - The `family` column can be used to count the number of battles each family has participated in. This can be complemented by the `attacking` boolean column to determine which families are on the offensive.\n",
       "   - The `location` and `region` columns can provide context on where these attacks are happening, potentially revealing strategic patterns.\n",
       "\n",
       "#### Important Features:\n",
       "- **`year`**: Essential for temporal analysis of battles and army sizes.\n",
       "- **`size`**: Key for understanding the scale of military engagements.\n",
       "- **`family`**: Crucial for analyzing alliances and participation in battles.\n",
       "- **`king`**: Important for understanding leadership and potential shifts in alliances.\n",
       "- **`outcome`**: Provides insights into the success or failure of battles, which can influence future alliances.\n",
       "- **`commander`**: Helps identify leadership patterns and changes over time.\n",
       "\n",
       "#### Summary:\n",
       "The dataset provides a rich source of information for analyzing battles in the Game of Thrones universe. Key features such as `family`, `size`, `year`, and `outcome` will be instrumental in addressing the use cases related to alliances, army size changes, and attack frequency. However, attention must be paid to the missing values, particularly in the `size` and `commander` columns, as they may impact the analysis."
      ],
      "text/plain": [
       "<IPython.core.display.Markdown object>"
      ]
     },
     "metadata": {},
     "output_type": "display_data"
    }
   ],
   "source": [
    "disc.run()"
   ]
  },
  {
   "cell_type": "code",
   "execution_count": 7,
   "metadata": {},
   "outputs": [],
   "source": [
    "disc.to_markdown(file_dir=\"./outputs/\")"
   ]
  },
  {
   "cell_type": "markdown",
   "metadata": {},
   "source": [
    "## Data Modeling"
   ]
  },
  {
   "cell_type": "code",
   "execution_count": 8,
   "metadata": {},
   "outputs": [],
   "source": [
    "gdm_llm = OpenAIDataModelingLLM(model_name=\"gpt-4o\")\n",
    "gdm = GraphDataModeler(llm=gdm_llm, discovery=disc)"
   ]
  },
  {
   "cell_type": "code",
   "execution_count": 9,
   "metadata": {},
   "outputs": [
    {
     "name": "stdout",
     "output_type": "stream",
     "text": [
      "Entity Pool Generation Attempt: 1\n",
      "nodes : ['Battle', 'King', 'Family', 'Commander']\n",
      "rels  : ['PARTICIPATED_IN', 'INVOLVED_IN', 'LED_BY', 'ATTACKED']\n",
      "Received Valid Entity Pool.\n",
      "validation failed\n",
      "Number of Errors:  5 \n",
      "\n",
      "Analyzing errors...\n",
      "recieved a valid response\n"
     ]
    },
    {
     "data": {
      "text/plain": [
       "DataModel(nodes=[Node(label='Battle', properties=[Property(name='name', type='str', column_mapping='name', alias=None, is_unique=False, part_of_key=False), Property(name='year', type='int', column_mapping='year', alias=None, is_unique=False, part_of_key=False), Property(name='battleNumber', type='int', column_mapping='battle_number', alias=None, is_unique=False, part_of_key=False), Property(name='outcome', type='str', column_mapping='outcome', alias=None, is_unique=False, part_of_key=False), Property(name='size', type='int', column_mapping='size', alias=None, is_unique=False, part_of_key=False), Property(name='summer', type='bool', column_mapping='summer', alias=None, is_unique=False, part_of_key=False), Property(name='location', type='str', column_mapping='location', alias=None, is_unique=False, part_of_key=False), Property(name='region', type='str', column_mapping='region', alias=None, is_unique=False, part_of_key=False)], source_name='file'), Node(label='King', properties=[Property(name='king', type='str', column_mapping='king', alias=None, is_unique=False, part_of_key=False)], source_name='file'), Node(label='Family', properties=[Property(name='family', type='str', column_mapping='family', alias=None, is_unique=False, part_of_key=False)], source_name='file'), Node(label='Commander', properties=[Property(name='commander', type='str', column_mapping='commander', alias=None, is_unique=False, part_of_key=False)], source_name='file')], relationships=[Relationship(type='PARTICIPATED_IN', properties=[], source='King', target='Battle', source_name='file'), Relationship(type='INVOLVED_IN', properties=[], source='Family', target='Battle', source_name='file'), Relationship(type='LED_BY', properties=[], source='Battle', target='Commander', source_name='file'), Relationship(type='ATTACKED', properties=[Property(name='attacking', type='bool', column_mapping='attacking', alias=None, is_unique=False, part_of_key=False)], source='Family', target='Battle', source_name='file')], metadata=None)"
      ]
     },
     "execution_count": 9,
     "metadata": {},
     "output_type": "execute_result"
    }
   ],
   "source": [
    "gdm.create_initial_model(max_retries=3)"
   ]
  },
  {
   "cell_type": "code",
   "execution_count": 10,
   "metadata": {},
   "outputs": [
    {
     "data": {
      "image/svg+xml": [
       "<?xml version=\"1.0\" encoding=\"UTF-8\" standalone=\"no\"?>\n",
       "<!DOCTYPE svg PUBLIC \"-//W3C//DTD SVG 1.1//EN\"\n",
       " \"http://www.w3.org/Graphics/SVG/1.1/DTD/svg11.dtd\">\n",
       "<!-- Generated by graphviz version 10.0.1 (20240210.2158)\n",
       " -->\n",
       "<!-- Pages: 1 -->\n",
       "<svg width=\"404pt\" height=\"637pt\"\n",
       " viewBox=\"0.00 0.00 403.65 637.18\" xmlns=\"http://www.w3.org/2000/svg\" xmlns:xlink=\"http://www.w3.org/1999/xlink\">\n",
       "<g id=\"graph0\" class=\"graph\" transform=\"scale(1 1) rotate(0) translate(4 633.18)\">\n",
       "<polygon fill=\"white\" stroke=\"none\" points=\"-4,4 -4,-633.18 399.65,-633.18 399.65,4 -4,4\"/>\n",
       "<!-- Battle -->\n",
       "<g id=\"node1\" class=\"node\">\n",
       "<title>Battle</title>\n",
       "<ellipse fill=\"none\" stroke=\"black\" cx=\"191.15\" cy=\"-290.09\" rx=\"125.33\" ry=\"133.64\"/>\n",
       "<text text-anchor=\"middle\" x=\"191.15\" y=\"-367.29\" font-family=\"Times,serif\" font-size=\"14.00\">Battle</text>\n",
       "<text text-anchor=\"middle\" x=\"191.15\" y=\"-334.79\" font-family=\"Times,serif\" font-size=\"14.00\">properties:</text>\n",
       "<text text-anchor=\"middle\" x=\"191.15\" y=\"-318.29\" font-family=\"Times,serif\" font-size=\"14.00\">name: name</text>\n",
       "<text text-anchor=\"middle\" x=\"191.15\" y=\"-301.79\" font-family=\"Times,serif\" font-size=\"14.00\">year: year</text>\n",
       "<text text-anchor=\"middle\" x=\"191.15\" y=\"-285.29\" font-family=\"Times,serif\" font-size=\"14.00\">battleNumber: battle_number</text>\n",
       "<text text-anchor=\"middle\" x=\"191.15\" y=\"-268.79\" font-family=\"Times,serif\" font-size=\"14.00\">outcome: outcome</text>\n",
       "<text text-anchor=\"middle\" x=\"191.15\" y=\"-252.29\" font-family=\"Times,serif\" font-size=\"14.00\">size: size</text>\n",
       "<text text-anchor=\"middle\" x=\"191.15\" y=\"-235.79\" font-family=\"Times,serif\" font-size=\"14.00\">summer: summer</text>\n",
       "<text text-anchor=\"middle\" x=\"191.15\" y=\"-219.29\" font-family=\"Times,serif\" font-size=\"14.00\">location: location</text>\n",
       "<text text-anchor=\"middle\" x=\"191.15\" y=\"-202.79\" font-family=\"Times,serif\" font-size=\"14.00\">region: region</text>\n",
       "</g>\n",
       "<!-- Commander -->\n",
       "<g id=\"node4\" class=\"node\">\n",
       "<title>Commander</title>\n",
       "<ellipse fill=\"none\" stroke=\"black\" cx=\"191.15\" cy=\"-51.97\" rx=\"108.89\" ry=\"51.97\"/>\n",
       "<text text-anchor=\"middle\" x=\"191.15\" y=\"-71.42\" font-family=\"Times,serif\" font-size=\"14.00\">Commander</text>\n",
       "<text text-anchor=\"middle\" x=\"191.15\" y=\"-38.92\" font-family=\"Times,serif\" font-size=\"14.00\">properties:</text>\n",
       "<text text-anchor=\"middle\" x=\"191.15\" y=\"-22.42\" font-family=\"Times,serif\" font-size=\"14.00\">commander: commander</text>\n",
       "</g>\n",
       "<!-- Battle&#45;&gt;Commander -->\n",
       "<g id=\"edge3\" class=\"edge\">\n",
       "<title>Battle&#45;&gt;Commander</title>\n",
       "<path fill=\"none\" stroke=\"black\" d=\"M191.15,-156.19C191.15,-142.14 191.15,-128.38 191.15,-115.71\"/>\n",
       "<polygon fill=\"black\" stroke=\"black\" points=\"194.65,-115.92 191.15,-105.92 187.65,-115.92 194.65,-115.92\"/>\n",
       "<text text-anchor=\"middle\" x=\"217.02\" y=\"-125.14\" font-family=\"Times,serif\" font-size=\"14.00\">LED_BY</text>\n",
       "</g>\n",
       "<!-- King -->\n",
       "<g id=\"node2\" class=\"node\">\n",
       "<title>King</title>\n",
       "<ellipse fill=\"none\" stroke=\"black\" cx=\"52.15\" cy=\"-577.2\" rx=\"52.15\" ry=\"51.97\"/>\n",
       "<text text-anchor=\"middle\" x=\"52.15\" y=\"-596.65\" font-family=\"Times,serif\" font-size=\"14.00\">King</text>\n",
       "<text text-anchor=\"middle\" x=\"52.15\" y=\"-564.15\" font-family=\"Times,serif\" font-size=\"14.00\">properties:</text>\n",
       "<text text-anchor=\"middle\" x=\"52.15\" y=\"-547.65\" font-family=\"Times,serif\" font-size=\"14.00\">king: king</text>\n",
       "</g>\n",
       "<!-- King&#45;&gt;Battle -->\n",
       "<g id=\"edge1\" class=\"edge\">\n",
       "<title>King&#45;&gt;Battle</title>\n",
       "<path fill=\"none\" stroke=\"black\" d=\"M47.8,-524.99C47.46,-499.14 49.97,-467.82 60.65,-441.73 68.22,-423.22 79.03,-405.39 91.22,-388.88\"/>\n",
       "<polygon fill=\"black\" stroke=\"black\" points=\"93.92,-391.12 97.21,-381.05 88.36,-386.87 93.92,-391.12\"/>\n",
       "<text text-anchor=\"middle\" x=\"118.9\" y=\"-469.43\" font-family=\"Times,serif\" font-size=\"14.00\">PARTICIPATED_IN</text>\n",
       "</g>\n",
       "<!-- Family -->\n",
       "<g id=\"node3\" class=\"node\">\n",
       "<title>Family</title>\n",
       "<ellipse fill=\"none\" stroke=\"black\" cx=\"248.15\" cy=\"-577.2\" rx=\"67.53\" ry=\"51.97\"/>\n",
       "<text text-anchor=\"middle\" x=\"248.15\" y=\"-596.65\" font-family=\"Times,serif\" font-size=\"14.00\">Family</text>\n",
       "<text text-anchor=\"middle\" x=\"248.15\" y=\"-564.15\" font-family=\"Times,serif\" font-size=\"14.00\">properties:</text>\n",
       "<text text-anchor=\"middle\" x=\"248.15\" y=\"-547.65\" font-family=\"Times,serif\" font-size=\"14.00\">family: family</text>\n",
       "</g>\n",
       "<!-- Family&#45;&gt;Battle -->\n",
       "<g id=\"edge2\" class=\"edge\">\n",
       "<title>Family&#45;&gt;Battle</title>\n",
       "<path fill=\"none\" stroke=\"black\" d=\"M207.8,-535.2C201.5,-526.58 195.92,-517.09 192.4,-507.23 184.25,-484.4 180.14,-459.32 178.54,-434.59\"/>\n",
       "<polygon fill=\"black\" stroke=\"black\" points=\"182.04,-434.59 178.05,-424.78 175.05,-434.94 182.04,-434.59\"/>\n",
       "<text text-anchor=\"middle\" x=\"238.52\" y=\"-469.43\" font-family=\"Times,serif\" font-size=\"14.00\">INVOLVED_IN</text>\n",
       "</g>\n",
       "<!-- Family&#45;&gt;Battle -->\n",
       "<g id=\"edge4\" class=\"edge\">\n",
       "<title>Family&#45;&gt;Battle</title>\n",
       "<path fill=\"none\" stroke=\"black\" d=\"M275.49,-529.46C278.65,-522.22 281.37,-514.67 283.15,-507.23 289.92,-478.92 291.03,-469.76 283.15,-441.73 279.94,-430.32 275.6,-418.93 270.55,-407.8\"/>\n",
       "<polygon fill=\"black\" stroke=\"black\" points=\"273.83,-406.55 266.37,-399.02 267.51,-409.56 273.83,-406.55\"/>\n",
       "<text text-anchor=\"middle\" x=\"342.4\" y=\"-493.93\" font-family=\"Times,serif\" font-size=\"14.00\">ATTACKED</text>\n",
       "<text text-anchor=\"middle\" x=\"342.4\" y=\"-461.43\" font-family=\"Times,serif\" font-size=\"14.00\">properties:</text>\n",
       "<text text-anchor=\"middle\" x=\"342.4\" y=\"-444.93\" font-family=\"Times,serif\" font-size=\"14.00\">attacking: attacking</text>\n",
       "</g>\n",
       "</g>\n",
       "</svg>\n"
      ],
      "text/plain": [
       "<graphviz.graphs.Digraph at 0x16b089ca0>"
      ]
     },
     "execution_count": 10,
     "metadata": {},
     "output_type": "execute_result"
    }
   ],
   "source": [
    "gdm.current_model.visualize()"
   ]
  },
  {
   "cell_type": "code",
   "execution_count": 11,
   "metadata": {},
   "outputs": [
    {
     "name": "stdout",
     "output_type": "stream",
     "text": [
      "recieved a valid response\n"
     ]
    },
    {
     "data": {
      "text/plain": [
       "DataModel(nodes=[Node(label='Battle', properties=[Property(name='name', type='str', column_mapping='name', alias=None, is_unique=False, part_of_key=False), Property(name='year', type='int', column_mapping='year', alias=None, is_unique=False, part_of_key=False), Property(name='battleNumber', type='int', column_mapping='battle_number', alias=None, is_unique=True, part_of_key=False), Property(name='outcome', type='str', column_mapping='outcome', alias=None, is_unique=False, part_of_key=False), Property(name='size', type='int', column_mapping='size', alias=None, is_unique=False, part_of_key=False), Property(name='summer', type='bool', column_mapping='summer', alias=None, is_unique=False, part_of_key=False)], source_name='file'), Node(label='King', properties=[Property(name='king', type='str', column_mapping='king', alias=None, is_unique=True, part_of_key=False)], source_name='file'), Node(label='Family', properties=[Property(name='family', type='str', column_mapping='family', alias=None, is_unique=True, part_of_key=False)], source_name='file'), Node(label='Commander', properties=[Property(name='commander', type='str', column_mapping='commander', alias=None, is_unique=True, part_of_key=False)], source_name='file'), Node(label='Location', properties=[Property(name='location', type='str', column_mapping='location', alias=None, is_unique=True, part_of_key=False)], source_name='file'), Node(label='Region', properties=[Property(name='region', type='str', column_mapping='region', alias=None, is_unique=True, part_of_key=False)], source_name='file')], relationships=[Relationship(type='PARTICIPATED_IN', properties=[Property(name='attacking', type='bool', column_mapping='attacking', alias=None, is_unique=False, part_of_key=False)], source='King', target='Battle', source_name='file'), Relationship(type='INVOLVED_IN', properties=[Property(name='attacking', type='bool', column_mapping='attacking', alias=None, is_unique=False, part_of_key=False)], source='Family', target='Battle', source_name='file'), Relationship(type='LED_BY', properties=[Property(name='attacking', type='bool', column_mapping='attacking', alias=None, is_unique=False, part_of_key=False)], source='Battle', target='Commander', source_name='file'), Relationship(type='LOCATED_AT', properties=[], source='Battle', target='Location', source_name='file'), Relationship(type='IN_REGION', properties=[], source='Location', target='Region', source_name='file')], metadata=None)"
      ]
     },
     "execution_count": 11,
     "metadata": {},
     "output_type": "execute_result"
    }
   ],
   "source": [
    "corrections = \"Create separate nodes for location and region. Add an attacking boolean property to LED_BY, PARTICPATED_IN and INVOLVED_IN. make battleNumber unique. remove the node keys.\"\n",
    "gdm.iterate_model(corrections=corrections, max_retries=3, allow_duplicate_properties=True)"
   ]
  },
  {
   "cell_type": "code",
   "execution_count": 12,
   "metadata": {},
   "outputs": [
    {
     "data": {
      "image/svg+xml": [
       "<?xml version=\"1.0\" encoding=\"UTF-8\" standalone=\"no\"?>\n",
       "<!DOCTYPE svg PUBLIC \"-//W3C//DTD SVG 1.1//EN\"\n",
       " \"http://www.w3.org/Graphics/SVG/1.1/DTD/svg11.dtd\">\n",
       "<!-- Generated by graphviz version 10.0.1 (20240210.2158)\n",
       " -->\n",
       "<!-- Pages: 1 -->\n",
       "<svg width=\"552pt\" height=\"796pt\"\n",
       " viewBox=\"0.00 0.00 552.40 795.95\" xmlns=\"http://www.w3.org/2000/svg\" xmlns:xlink=\"http://www.w3.org/1999/xlink\">\n",
       "<g id=\"graph0\" class=\"graph\" transform=\"scale(1 1) rotate(0) translate(4 791.95)\">\n",
       "<polygon fill=\"white\" stroke=\"none\" points=\"-4,4 -4,-791.95 548.4,-791.95 548.4,4 -4,4\"/>\n",
       "<!-- Battle -->\n",
       "<g id=\"node1\" class=\"node\">\n",
       "<title>Battle</title>\n",
       "<ellipse fill=\"none\" stroke=\"black\" cx=\"212.08\" cy=\"-472.2\" rx=\"163.52\" ry=\"110.31\"/>\n",
       "<text text-anchor=\"middle\" x=\"212.08\" y=\"-532.9\" font-family=\"Times,serif\" font-size=\"14.00\">Battle</text>\n",
       "<text text-anchor=\"middle\" x=\"212.08\" y=\"-500.4\" font-family=\"Times,serif\" font-size=\"14.00\">properties:</text>\n",
       "<text text-anchor=\"middle\" x=\"212.08\" y=\"-483.9\" font-family=\"Times,serif\" font-size=\"14.00\">name: name</text>\n",
       "<text text-anchor=\"middle\" x=\"212.08\" y=\"-467.4\" font-family=\"Times,serif\" font-size=\"14.00\">year: year</text>\n",
       "<text text-anchor=\"middle\" x=\"212.08\" y=\"-450.9\" font-family=\"Times,serif\" font-size=\"14.00\">battleNumber: battle_number *unique*</text>\n",
       "<text text-anchor=\"middle\" x=\"212.08\" y=\"-434.4\" font-family=\"Times,serif\" font-size=\"14.00\">outcome: outcome</text>\n",
       "<text text-anchor=\"middle\" x=\"212.08\" y=\"-417.9\" font-family=\"Times,serif\" font-size=\"14.00\">size: size</text>\n",
       "<text text-anchor=\"middle\" x=\"212.08\" y=\"-401.4\" font-family=\"Times,serif\" font-size=\"14.00\">summer: summer</text>\n",
       "</g>\n",
       "<!-- Commander -->\n",
       "<g id=\"node4\" class=\"node\">\n",
       "<title>Commander</title>\n",
       "<ellipse fill=\"none\" stroke=\"black\" cx=\"147.08\" cy=\"-208.42\" rx=\"147.08\" ry=\"51.97\"/>\n",
       "<text text-anchor=\"middle\" x=\"147.08\" y=\"-227.87\" font-family=\"Times,serif\" font-size=\"14.00\">Commander</text>\n",
       "<text text-anchor=\"middle\" x=\"147.08\" y=\"-195.37\" font-family=\"Times,serif\" font-size=\"14.00\">properties:</text>\n",
       "<text text-anchor=\"middle\" x=\"147.08\" y=\"-178.87\" font-family=\"Times,serif\" font-size=\"14.00\">commander: commander *unique*</text>\n",
       "</g>\n",
       "<!-- Battle&#45;&gt;Commander -->\n",
       "<g id=\"edge3\" class=\"edge\">\n",
       "<title>Battle&#45;&gt;Commander</title>\n",
       "<path fill=\"none\" stroke=\"black\" d=\"M185.26,-363.21C177.52,-332.02 169.33,-299.03 162.53,-271.64\"/>\n",
       "<polygon fill=\"black\" stroke=\"black\" points=\"165.97,-270.99 160.17,-262.13 159.18,-272.68 165.97,-270.99\"/>\n",
       "<text text-anchor=\"middle\" x=\"232.33\" y=\"-330.59\" font-family=\"Times,serif\" font-size=\"14.00\">LED_BY</text>\n",
       "<text text-anchor=\"middle\" x=\"232.33\" y=\"-298.09\" font-family=\"Times,serif\" font-size=\"14.00\">properties:</text>\n",
       "<text text-anchor=\"middle\" x=\"232.33\" y=\"-281.59\" font-family=\"Times,serif\" font-size=\"14.00\">attacking: attacking</text>\n",
       "</g>\n",
       "<!-- Location -->\n",
       "<g id=\"node5\" class=\"node\">\n",
       "<title>Location</title>\n",
       "<ellipse fill=\"none\" stroke=\"black\" cx=\"428.08\" cy=\"-208.42\" rx=\"116.32\" ry=\"51.97\"/>\n",
       "<text text-anchor=\"middle\" x=\"428.08\" y=\"-227.87\" font-family=\"Times,serif\" font-size=\"14.00\">Location</text>\n",
       "<text text-anchor=\"middle\" x=\"428.08\" y=\"-195.37\" font-family=\"Times,serif\" font-size=\"14.00\">properties:</text>\n",
       "<text text-anchor=\"middle\" x=\"428.08\" y=\"-178.87\" font-family=\"Times,serif\" font-size=\"14.00\">location: location *unique*</text>\n",
       "</g>\n",
       "<!-- Battle&#45;&gt;Location -->\n",
       "<g id=\"edge4\" class=\"edge\">\n",
       "<title>Battle&#45;&gt;Location</title>\n",
       "<path fill=\"none\" stroke=\"black\" d=\"M291.28,-375.21C321.44,-338.66 354.82,-298.2 381.06,-266.4\"/>\n",
       "<polygon fill=\"black\" stroke=\"black\" points=\"383.64,-268.77 387.3,-258.83 378.24,-264.32 383.64,-268.77\"/>\n",
       "<text text-anchor=\"middle\" x=\"412.45\" y=\"-306.09\" font-family=\"Times,serif\" font-size=\"14.00\">LOCATED_AT</text>\n",
       "</g>\n",
       "<!-- King -->\n",
       "<g id=\"node2\" class=\"node\">\n",
       "<title>King</title>\n",
       "<ellipse fill=\"none\" stroke=\"black\" cx=\"106.08\" cy=\"-735.98\" rx=\"88.74\" ry=\"51.97\"/>\n",
       "<text text-anchor=\"middle\" x=\"106.08\" y=\"-755.43\" font-family=\"Times,serif\" font-size=\"14.00\">King</text>\n",
       "<text text-anchor=\"middle\" x=\"106.08\" y=\"-722.93\" font-family=\"Times,serif\" font-size=\"14.00\">properties:</text>\n",
       "<text text-anchor=\"middle\" x=\"106.08\" y=\"-706.43\" font-family=\"Times,serif\" font-size=\"14.00\">king: king *unique*</text>\n",
       "</g>\n",
       "<!-- King&#45;&gt;Battle -->\n",
       "<g id=\"edge1\" class=\"edge\">\n",
       "<title>King&#45;&gt;Battle</title>\n",
       "<path fill=\"none\" stroke=\"black\" d=\"M126.27,-685.12C137.29,-657.9 151.43,-622.97 165.05,-589.35\"/>\n",
       "<polygon fill=\"black\" stroke=\"black\" points=\"168.17,-590.95 168.68,-580.37 161.69,-588.32 168.17,-590.95\"/>\n",
       "<text text-anchor=\"middle\" x=\"216.83\" y=\"-652.71\" font-family=\"Times,serif\" font-size=\"14.00\">PARTICIPATED_IN</text>\n",
       "<text text-anchor=\"middle\" x=\"216.83\" y=\"-620.21\" font-family=\"Times,serif\" font-size=\"14.00\">properties:</text>\n",
       "<text text-anchor=\"middle\" x=\"216.83\" y=\"-603.71\" font-family=\"Times,serif\" font-size=\"14.00\">attacking: attacking</text>\n",
       "</g>\n",
       "<!-- Family -->\n",
       "<g id=\"node3\" class=\"node\">\n",
       "<title>Family</title>\n",
       "<ellipse fill=\"none\" stroke=\"black\" cx=\"318.08\" cy=\"-735.98\" rx=\"105.71\" ry=\"51.97\"/>\n",
       "<text text-anchor=\"middle\" x=\"318.08\" y=\"-755.43\" font-family=\"Times,serif\" font-size=\"14.00\">Family</text>\n",
       "<text text-anchor=\"middle\" x=\"318.08\" y=\"-722.93\" font-family=\"Times,serif\" font-size=\"14.00\">properties:</text>\n",
       "<text text-anchor=\"middle\" x=\"318.08\" y=\"-706.43\" font-family=\"Times,serif\" font-size=\"14.00\">family: family *unique*</text>\n",
       "</g>\n",
       "<!-- Family&#45;&gt;Battle -->\n",
       "<g id=\"edge2\" class=\"edge\">\n",
       "<title>Family&#45;&gt;Battle</title>\n",
       "<path fill=\"none\" stroke=\"black\" d=\"M305.91,-684.03C299.16,-658.54 289.94,-627.45 279.08,-600.51 277.19,-595.82 275.18,-591.08 273.08,-586.32\"/>\n",
       "<polygon fill=\"black\" stroke=\"black\" points=\"276.29,-584.94 268.98,-577.27 269.92,-587.82 276.29,-584.94\"/>\n",
       "<text text-anchor=\"middle\" x=\"353.33\" y=\"-652.71\" font-family=\"Times,serif\" font-size=\"14.00\">INVOLVED_IN</text>\n",
       "<text text-anchor=\"middle\" x=\"353.33\" y=\"-620.21\" font-family=\"Times,serif\" font-size=\"14.00\">properties:</text>\n",
       "<text text-anchor=\"middle\" x=\"353.33\" y=\"-603.71\" font-family=\"Times,serif\" font-size=\"14.00\">attacking: attacking</text>\n",
       "</g>\n",
       "<!-- Region -->\n",
       "<g id=\"node6\" class=\"node\">\n",
       "<title>Region</title>\n",
       "<ellipse fill=\"none\" stroke=\"black\" cx=\"428.08\" cy=\"-51.97\" rx=\"103.59\" ry=\"51.97\"/>\n",
       "<text text-anchor=\"middle\" x=\"428.08\" y=\"-71.42\" font-family=\"Times,serif\" font-size=\"14.00\">Region</text>\n",
       "<text text-anchor=\"middle\" x=\"428.08\" y=\"-38.92\" font-family=\"Times,serif\" font-size=\"14.00\">properties:</text>\n",
       "<text text-anchor=\"middle\" x=\"428.08\" y=\"-22.42\" font-family=\"Times,serif\" font-size=\"14.00\">region: region *unique*</text>\n",
       "</g>\n",
       "<!-- Location&#45;&gt;Region -->\n",
       "<g id=\"edge5\" class=\"edge\">\n",
       "<title>Location&#45;&gt;Region</title>\n",
       "<path fill=\"none\" stroke=\"black\" d=\"M428.08,-155.99C428.08,-143.16 428.08,-129.26 428.08,-115.95\"/>\n",
       "<polygon fill=\"black\" stroke=\"black\" points=\"431.58,-115.95 428.08,-105.95 424.58,-115.95 431.58,-115.95\"/>\n",
       "<text text-anchor=\"middle\" x=\"464.08\" y=\"-125.14\" font-family=\"Times,serif\" font-size=\"14.00\">IN_REGION</text>\n",
       "</g>\n",
       "</g>\n",
       "</svg>\n"
      ],
      "text/plain": [
       "<graphviz.graphs.Digraph at 0x1394056d0>"
      ]
     },
     "execution_count": 12,
     "metadata": {},
     "output_type": "execute_result"
    }
   ],
   "source": [
    "gdm.current_model.visualize()"
   ]
  },
  {
   "cell_type": "markdown",
   "metadata": {},
   "source": [
    "## Code Generation"
   ]
  },
  {
   "cell_type": "code",
   "execution_count": 13,
   "metadata": {},
   "outputs": [],
   "source": [
    "gen = PyIngestConfigGenerator(data_model=gdm.current_model, database=\"gameofthrones\", username=\"neo4j\", uri=os.environ.get(\"NEO4J_URI\"), password=os.environ.get(\"NEO4J_PASSWORD\"), source_name=file_name, file_directory=data_directory)"
   ]
  },
  {
   "cell_type": "code",
   "execution_count": 14,
   "metadata": {},
   "outputs": [],
   "source": [
    "gen.generate_config_yaml(file_name=\"./outputs/config.yaml\")"
   ]
  },
  {
   "cell_type": "markdown",
   "metadata": {},
   "source": [
    "## Ingest"
   ]
  },
  {
   "cell_type": "code",
   "execution_count": 15,
   "metadata": {},
   "outputs": [
    {
     "name": "stdout",
     "output_type": "stream",
     "text": [
      "File {} .//../../../data/got/game_of_thrones_battles.csv\n",
      "File {} .//../../../data/got/game_of_thrones_battles.csv\n",
      "File {} .//../../../data/got/game_of_thrones_battles.csv\n",
      "File {} .//../../../data/got/game_of_thrones_battles.csv\n",
      "File {} .//../../../data/got/game_of_thrones_battles.csv\n",
      "File {} .//../../../data/got/game_of_thrones_battles.csv\n",
      "File {} .//../../../data/got/game_of_thrones_battles.csv\n",
      "File {} .//../../../data/got/game_of_thrones_battles.csv\n",
      "File {} .//../../../data/got/game_of_thrones_battles.csv\n",
      "File {} .//../../../data/got/game_of_thrones_battles.csv\n",
      "File {} .//../../../data/got/game_of_thrones_battles.csv\n"
     ]
    }
   ],
   "source": [
    "PyIngest(config=gen.generate_config_string())"
   ]
  },
  {
   "cell_type": "code",
   "execution_count": null,
   "metadata": {},
   "outputs": [],
   "source": []
  }
 ],
 "metadata": {
  "kernelspec": {
   "display_name": "neo4j-runway-20CPAOlQ-py3.12",
   "language": "python",
   "name": "python3"
  },
  "language_info": {
   "codemirror_mode": {
    "name": "ipython",
    "version": 3
   },
   "file_extension": ".py",
   "mimetype": "text/x-python",
   "name": "python",
   "nbconvert_exporter": "python",
   "pygments_lexer": "ipython3",
   "version": "3.12.3"
  }
 },
 "nbformat": 4,
 "nbformat_minor": 2
}
