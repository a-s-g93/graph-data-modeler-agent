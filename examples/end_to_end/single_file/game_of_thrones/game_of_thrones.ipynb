{
 "cells": [
  {
   "cell_type": "markdown",
   "metadata": {},
   "source": [
    "# Game of Thrones End-To-End Notebook"
   ]
  },
  {
   "cell_type": "markdown",
   "metadata": {},
   "source": [
    "This notebook contains an end-to-end workflow using a single csv file of Game of Thrones battle data."
   ]
  },
  {
   "cell_type": "code",
   "execution_count": 1,
   "metadata": {},
   "outputs": [],
   "source": [
    "import os\n",
    "from neo4j_runway.utils.data import load_data_dictionary_from_yaml, load_local_files\n",
    "from neo4j_runway.llm.openai import OpenAIDataModelingLLM, OpenAIDiscoveryLLM\n",
    "from neo4j_runway.discovery import Discovery\n",
    "from neo4j_runway import GraphDataModeler\n",
    "from neo4j_runway.code_generation import PyIngestConfigGenerator\n",
    "from neo4j_runway.ingestion import PyIngest"
   ]
  },
  {
   "cell_type": "markdown",
   "metadata": {},
   "source": [
    "## Read Data"
   ]
  },
  {
   "cell_type": "code",
   "execution_count": 2,
   "metadata": {},
   "outputs": [
    {
     "data": {
      "text/plain": [
       "{'name': 'The name of the battle.',\n",
       " 'year': 'The year the battle took place.',\n",
       " 'battle_number': 'A unique ID for the battle.',\n",
       " 'king': 'A king participating in the battle.',\n",
       " 'outcome': 'Whether the battle was won or lost.',\n",
       " 'family': 'A significant family in the battle.',\n",
       " 'size': 'The size of the army.',\n",
       " 'summer': 'Whether the battle took place during Summer.',\n",
       " 'location': 'The location of the battle.',\n",
       " 'region': 'The larger region a battle took place in.',\n",
       " 'commander': 'The commander leading an army in the battle.',\n",
       " 'attacking': 'Whether the army is attacking or not.'}"
      ]
     },
     "execution_count": 2,
     "metadata": {},
     "output_type": "execute_result"
    }
   ],
   "source": [
    "data_dictionary = load_data_dictionary_from_yaml(\"data_dictionary.yaml\")\n",
    "data_dictionary"
   ]
  },
  {
   "cell_type": "code",
   "execution_count": 3,
   "metadata": {},
   "outputs": [],
   "source": [
    "data_directory = \"../../../data/got/\"\n",
    "file_name = \"game_of_thrones_battles.csv\"\n",
    "data = load_local_files(data_directory=data_directory, \n",
    "                        general_description=\"This file contains data on game of thrones battles\", \n",
    "                        data_dictionary=data_dictionary, \n",
    "                        use_cases=[\"What families have changed alliances?\", \"how have army sizes changed over time?\", \"Which families attack most often?\"],\n",
    "                        ignored_files=[\"got-battles.csv\", \"_.ipynb\", \"multi\"])"
   ]
  },
  {
   "cell_type": "code",
   "execution_count": 4,
   "metadata": {},
   "outputs": [
    {
     "data": {
      "text/html": [
       "<div>\n",
       "<style scoped>\n",
       "    .dataframe tbody tr th:only-of-type {\n",
       "        vertical-align: middle;\n",
       "    }\n",
       "\n",
       "    .dataframe tbody tr th {\n",
       "        vertical-align: top;\n",
       "    }\n",
       "\n",
       "    .dataframe thead th {\n",
       "        text-align: right;\n",
       "    }\n",
       "</style>\n",
       "<table border=\"1\" class=\"dataframe\">\n",
       "  <thead>\n",
       "    <tr style=\"text-align: right;\">\n",
       "      <th></th>\n",
       "      <th>name</th>\n",
       "      <th>year</th>\n",
       "      <th>battle_number</th>\n",
       "      <th>king</th>\n",
       "      <th>outcome</th>\n",
       "      <th>family</th>\n",
       "      <th>size</th>\n",
       "      <th>summer</th>\n",
       "      <th>location</th>\n",
       "      <th>region</th>\n",
       "      <th>commander</th>\n",
       "      <th>attacking</th>\n",
       "    </tr>\n",
       "  </thead>\n",
       "  <tbody>\n",
       "    <tr>\n",
       "      <th>0</th>\n",
       "      <td>Battle of the Golden Tooth</td>\n",
       "      <td>298</td>\n",
       "      <td>1</td>\n",
       "      <td>Joffrey/Tommen Baratheon</td>\n",
       "      <td>True</td>\n",
       "      <td>Lannister</td>\n",
       "      <td>15000.0</td>\n",
       "      <td>True</td>\n",
       "      <td>Golden Tooth</td>\n",
       "      <td>The Westerlands</td>\n",
       "      <td>Jaime Lannister</td>\n",
       "      <td>True</td>\n",
       "    </tr>\n",
       "    <tr>\n",
       "      <th>1</th>\n",
       "      <td>Battle at the Mummer's Ford</td>\n",
       "      <td>298</td>\n",
       "      <td>2</td>\n",
       "      <td>Joffrey/Tommen Baratheon</td>\n",
       "      <td>True</td>\n",
       "      <td>Lannister</td>\n",
       "      <td>NaN</td>\n",
       "      <td>True</td>\n",
       "      <td>Mummer's Ford</td>\n",
       "      <td>The Riverlands</td>\n",
       "      <td>Gregor Clegane</td>\n",
       "      <td>True</td>\n",
       "    </tr>\n",
       "    <tr>\n",
       "      <th>2</th>\n",
       "      <td>Battle of Riverrun</td>\n",
       "      <td>298</td>\n",
       "      <td>3</td>\n",
       "      <td>Joffrey/Tommen Baratheon</td>\n",
       "      <td>True</td>\n",
       "      <td>Lannister</td>\n",
       "      <td>15000.0</td>\n",
       "      <td>True</td>\n",
       "      <td>Riverrun</td>\n",
       "      <td>The Riverlands</td>\n",
       "      <td>Jaime Lannister</td>\n",
       "      <td>True</td>\n",
       "    </tr>\n",
       "    <tr>\n",
       "      <th>3</th>\n",
       "      <td>Battle of Riverrun</td>\n",
       "      <td>298</td>\n",
       "      <td>3</td>\n",
       "      <td>Joffrey/Tommen Baratheon</td>\n",
       "      <td>True</td>\n",
       "      <td>Lannister</td>\n",
       "      <td>15000.0</td>\n",
       "      <td>True</td>\n",
       "      <td>Riverrun</td>\n",
       "      <td>The Riverlands</td>\n",
       "      <td>Andros Brax</td>\n",
       "      <td>True</td>\n",
       "    </tr>\n",
       "    <tr>\n",
       "      <th>4</th>\n",
       "      <td>Battle of the Green Fork</td>\n",
       "      <td>298</td>\n",
       "      <td>4</td>\n",
       "      <td>Robb Stark</td>\n",
       "      <td>False</td>\n",
       "      <td>Stark</td>\n",
       "      <td>18000.0</td>\n",
       "      <td>True</td>\n",
       "      <td>Green Fork</td>\n",
       "      <td>The Riverlands</td>\n",
       "      <td>Roose Bolton</td>\n",
       "      <td>True</td>\n",
       "    </tr>\n",
       "    <tr>\n",
       "      <th>...</th>\n",
       "      <td>...</td>\n",
       "      <td>...</td>\n",
       "      <td>...</td>\n",
       "      <td>...</td>\n",
       "      <td>...</td>\n",
       "      <td>...</td>\n",
       "      <td>...</td>\n",
       "      <td>...</td>\n",
       "      <td>...</td>\n",
       "      <td>...</td>\n",
       "      <td>...</td>\n",
       "      <td>...</td>\n",
       "    </tr>\n",
       "    <tr>\n",
       "      <th>179</th>\n",
       "      <td>Battle of Castle Black</td>\n",
       "      <td>300</td>\n",
       "      <td>28</td>\n",
       "      <td>Mance Rayder</td>\n",
       "      <td>True</td>\n",
       "      <td>Baratheon</td>\n",
       "      <td>1240.0</td>\n",
       "      <td>False</td>\n",
       "      <td>Castle Black</td>\n",
       "      <td>Beyond the Wall</td>\n",
       "      <td>Stannis Baratheon</td>\n",
       "      <td>False</td>\n",
       "    </tr>\n",
       "    <tr>\n",
       "      <th>180</th>\n",
       "      <td>Battle of Castle Black</td>\n",
       "      <td>300</td>\n",
       "      <td>28</td>\n",
       "      <td>Mance Rayder</td>\n",
       "      <td>True</td>\n",
       "      <td>Baratheon</td>\n",
       "      <td>1240.0</td>\n",
       "      <td>False</td>\n",
       "      <td>Castle Black</td>\n",
       "      <td>Beyond the Wall</td>\n",
       "      <td>Jon Snow</td>\n",
       "      <td>False</td>\n",
       "    </tr>\n",
       "    <tr>\n",
       "      <th>181</th>\n",
       "      <td>Battle of Castle Black</td>\n",
       "      <td>300</td>\n",
       "      <td>28</td>\n",
       "      <td>Mance Rayder</td>\n",
       "      <td>True</td>\n",
       "      <td>Baratheon</td>\n",
       "      <td>1240.0</td>\n",
       "      <td>False</td>\n",
       "      <td>Castle Black</td>\n",
       "      <td>Beyond the Wall</td>\n",
       "      <td>Donal Noye</td>\n",
       "      <td>False</td>\n",
       "    </tr>\n",
       "    <tr>\n",
       "      <th>182</th>\n",
       "      <td>Battle of Castle Black</td>\n",
       "      <td>300</td>\n",
       "      <td>28</td>\n",
       "      <td>Mance Rayder</td>\n",
       "      <td>True</td>\n",
       "      <td>Baratheon</td>\n",
       "      <td>1240.0</td>\n",
       "      <td>False</td>\n",
       "      <td>Castle Black</td>\n",
       "      <td>Beyond the Wall</td>\n",
       "      <td>Cotter Pyke</td>\n",
       "      <td>False</td>\n",
       "    </tr>\n",
       "    <tr>\n",
       "      <th>183</th>\n",
       "      <td>Siege of Winterfell</td>\n",
       "      <td>300</td>\n",
       "      <td>38</td>\n",
       "      <td>Joffrey/Tommen Baratheon</td>\n",
       "      <td>NaN</td>\n",
       "      <td>Frey</td>\n",
       "      <td>8000.0</td>\n",
       "      <td>False</td>\n",
       "      <td>Winterfell</td>\n",
       "      <td>The North</td>\n",
       "      <td>Roose Bolton</td>\n",
       "      <td>False</td>\n",
       "    </tr>\n",
       "  </tbody>\n",
       "</table>\n",
       "<p>184 rows × 12 columns</p>\n",
       "</div>"
      ],
      "text/plain": [
       "                            name  year  battle_number  \\\n",
       "0     Battle of the Golden Tooth   298              1   \n",
       "1    Battle at the Mummer's Ford   298              2   \n",
       "2             Battle of Riverrun   298              3   \n",
       "3             Battle of Riverrun   298              3   \n",
       "4       Battle of the Green Fork   298              4   \n",
       "..                           ...   ...            ...   \n",
       "179       Battle of Castle Black   300             28   \n",
       "180       Battle of Castle Black   300             28   \n",
       "181       Battle of Castle Black   300             28   \n",
       "182       Battle of Castle Black   300             28   \n",
       "183          Siege of Winterfell   300             38   \n",
       "\n",
       "                         king outcome     family     size summer  \\\n",
       "0    Joffrey/Tommen Baratheon    True  Lannister  15000.0   True   \n",
       "1    Joffrey/Tommen Baratheon    True  Lannister      NaN   True   \n",
       "2    Joffrey/Tommen Baratheon    True  Lannister  15000.0   True   \n",
       "3    Joffrey/Tommen Baratheon    True  Lannister  15000.0   True   \n",
       "4                  Robb Stark   False      Stark  18000.0   True   \n",
       "..                        ...     ...        ...      ...    ...   \n",
       "179              Mance Rayder    True  Baratheon   1240.0  False   \n",
       "180              Mance Rayder    True  Baratheon   1240.0  False   \n",
       "181              Mance Rayder    True  Baratheon   1240.0  False   \n",
       "182              Mance Rayder    True  Baratheon   1240.0  False   \n",
       "183  Joffrey/Tommen Baratheon     NaN       Frey   8000.0  False   \n",
       "\n",
       "          location           region          commander  attacking  \n",
       "0     Golden Tooth  The Westerlands    Jaime Lannister       True  \n",
       "1    Mummer's Ford   The Riverlands     Gregor Clegane       True  \n",
       "2         Riverrun   The Riverlands    Jaime Lannister       True  \n",
       "3         Riverrun   The Riverlands        Andros Brax       True  \n",
       "4       Green Fork   The Riverlands       Roose Bolton       True  \n",
       "..             ...              ...                ...        ...  \n",
       "179   Castle Black  Beyond the Wall  Stannis Baratheon      False  \n",
       "180   Castle Black  Beyond the Wall           Jon Snow      False  \n",
       "181   Castle Black  Beyond the Wall         Donal Noye      False  \n",
       "182   Castle Black  Beyond the Wall        Cotter Pyke      False  \n",
       "183     Winterfell        The North       Roose Bolton      False  \n",
       "\n",
       "[184 rows x 12 columns]"
      ]
     },
     "execution_count": 4,
     "metadata": {},
     "output_type": "execute_result"
    }
   ],
   "source": [
    "data.tables[0].dataframe"
   ]
  },
  {
   "cell_type": "markdown",
   "metadata": {},
   "source": [
    "## Discovery"
   ]
  },
  {
   "cell_type": "code",
   "execution_count": 5,
   "metadata": {},
   "outputs": [],
   "source": [
    "disc_llm = OpenAIDiscoveryLLM(model_name=\"gpt-4o-mini\")\n",
    "disc = Discovery(llm=disc_llm, data=data)"
   ]
  },
  {
   "cell_type": "code",
   "execution_count": 6,
   "metadata": {},
   "outputs": [
    {
     "data": {
      "text/markdown": [
       "### Preliminary Analysis of Game of Thrones Battles Data\n",
       "\n",
       "#### Overall Data Characteristics:\n",
       "1. **Data Size**: The dataset contains 184 entries and 12 columns, indicating a moderate size for analysis.\n",
       "2. **Data Types**: The features include a mix of categorical (object), numerical (int64, float64), and boolean data types. This diversity allows for various types of analyses.\n",
       "3. **Missing Values**: Some columns have missing values:\n",
       "   - `king`: 4 missing values\n",
       "   - `outcome`: 6 missing values\n",
       "   - `size`: 36 missing values\n",
       "   - `summer`: 3 missing values\n",
       "   - `location`: 2 missing values\n",
       "   - `commander`: 10 missing values\n",
       "   This indicates that data cleaning may be necessary before analysis.\n",
       "\n",
       "#### Key Features:\n",
       "1. **Year**: The battles occurred predominantly in the years 298 to 300, with a very narrow range. This suggests a limited time frame for the battles analyzed.\n",
       "2. **Battle Number**: Each battle has a unique identifier, which is crucial for tracking individual battles.\n",
       "3. **Size**: The army size varies significantly, with a mean of approximately 16,831 and a maximum of 100,000. The large standard deviation indicates a wide range of army sizes, which could be important for understanding battle dynamics.\n",
       "4. **King**: The participation of kings shows a limited number of unique values (6), indicating that a few key figures are central to the battles.\n",
       "5. **Outcome**: The outcome of battles is binary (won/lost), with a slight majority of battles won (101 out of 178). This could be useful for analyzing the effectiveness of different families or commanders.\n",
       "6. **Family**: There are 21 unique families, with the Lannisters being the most frequently mentioned. This feature is critical for analyzing alliances and conflicts.\n",
       "7. **Location and Region**: The battles took place in various locations and regions, with some locations being more common than others (e.g., Castle Black). This can help in understanding geographical strategies.\n",
       "8. **Commander**: The dataset includes 81 unique commanders, with some commanding more frequently than others. This can provide insights into leadership effectiveness and strategies.\n",
       "\n",
       "#### Use Case Insights:\n",
       "1. **Families Changing Alliances**: The `family` and `king` features can be analyzed together to identify instances where families allied with different kings over time. This can be done by tracking the `king` associated with each `family` in different battles.\n",
       "2. **Army Size Changes Over Time**: The `size` feature can be analyzed against the `year` to observe trends in army sizes. Given the missing values in `size`, it may be necessary to handle these appropriately (e.g., imputation or exclusion).\n",
       "3. **Most Frequent Attackers**: The `family` feature can be aggregated to count the number of battles each family participated in, providing insights into which families were the most aggressive or involved in conflicts.\n",
       "\n",
       "#### Conclusion:\n",
       "The dataset provides a rich source of information for analyzing battles in the Game of Thrones universe. Key features such as `family`, `size`, `king`, and `outcome` will be instrumental in addressing the use cases outlined. However, attention must be paid to missing values and potential data cleaning before deeper analysis."
      ],
      "text/plain": [
       "<IPython.core.display.Markdown object>"
      ]
     },
     "metadata": {},
     "output_type": "display_data"
    }
   ],
   "source": [
    "disc.run()"
   ]
  },
  {
   "cell_type": "code",
   "execution_count": 7,
   "metadata": {},
   "outputs": [],
   "source": [
    "disc.to_markdown(file_dir=\"./outputs/\")"
   ]
  },
  {
   "cell_type": "markdown",
   "metadata": {},
   "source": [
    "## Data Modeling"
   ]
  },
  {
   "cell_type": "code",
   "execution_count": 8,
   "metadata": {},
   "outputs": [],
   "source": [
    "gdm_llm = OpenAIDataModelingLLM(model_name=\"gpt-4o\")\n",
    "gdm = GraphDataModeler(llm=gdm_llm, discovery=disc)"
   ]
  },
  {
   "cell_type": "code",
   "execution_count": 9,
   "metadata": {},
   "outputs": [
    {
     "name": "stdout",
     "output_type": "stream",
     "text": [
      "\u001b[1m> Generating Nodes...\u001b[00m\n",
      "\u001b[3mAttempts | 1  \u001b[0m\n",
      "Received \u001b[92mValid\u001b[00m Nodes\n",
      "Nodes\n",
      "* \u001b[96m(:Battle)\u001b[00m   * \u001b[96m(:King)\u001b[00m\n",
      "* \u001b[96m(:Family)\u001b[00m   * \u001b[96m(:Commander)\u001b[00m \n",
      "\n",
      "\u001b[1m> Generating Data Model...\u001b[00m\n",
      "\u001b[3mAttempts | 1  \u001b[0m\n",
      "Recieved \u001b[92mValid\u001b[00m Data Model\n",
      "Nodes\n",
      "* \u001b[96m(:Battle)\u001b[00m   * \u001b[96m(:King)\u001b[00m\n",
      "* \u001b[96m(:Family)\u001b[00m   * \u001b[96m(:Commander)\u001b[00m \n",
      "\n",
      "Relationships\n",
      "* \u001b[96m(:King)-[:PARTICIPATED_IN]->(:Battle)\u001b[00m   \n",
      "* \u001b[96m(:Family)-[:INVOLVED_IN]->(:Battle)\u001b[00m     \n",
      "* \u001b[96m(:Battle)-[:LED_BY]->(:Commander)\u001b[00m       \n",
      "* \u001b[96m(:Family)-[:ALLIED_WITH]->(:King)\u001b[00m       \n"
     ]
    },
    {
     "data": {
      "text/plain": [
       "DataModel(nodes=[Node(label='Battle', properties=[Property(name='name', type='str', column_mapping='name', alias=None, is_unique=True, part_of_key=False), Property(name='year', type='int', column_mapping='year', alias=None, is_unique=False, part_of_key=False), Property(name='battleNumber', type='int', column_mapping='battle_number', alias=None, is_unique=True, part_of_key=False), Property(name='outcome', type='str', column_mapping='outcome', alias=None, is_unique=False, part_of_key=False), Property(name='size', type='int', column_mapping='size', alias=None, is_unique=False, part_of_key=False), Property(name='summer', type='bool', column_mapping='summer', alias=None, is_unique=False, part_of_key=False), Property(name='location', type='str', column_mapping='location', alias=None, is_unique=False, part_of_key=False), Property(name='region', type='str', column_mapping='region', alias=None, is_unique=False, part_of_key=False)], source_name='file'), Node(label='King', properties=[Property(name='kingName', type='str', column_mapping='king', alias=None, is_unique=True, part_of_key=False)], source_name='file'), Node(label='Family', properties=[Property(name='familyName', type='str', column_mapping='family', alias=None, is_unique=True, part_of_key=False)], source_name='file'), Node(label='Commander', properties=[Property(name='commanderName', type='str', column_mapping='commander', alias=None, is_unique=True, part_of_key=False)], source_name='file')], relationships=[Relationship(type='PARTICIPATED_IN', properties=[], source='King', target='Battle', source_name='file'), Relationship(type='INVOLVED_IN', properties=[], source='Family', target='Battle', source_name='file'), Relationship(type='LED_BY', properties=[], source='Battle', target='Commander', source_name='file'), Relationship(type='ALLIED_WITH', properties=[], source='Family', target='King', source_name='file')], metadata=None)"
      ]
     },
     "execution_count": 9,
     "metadata": {},
     "output_type": "execute_result"
    }
   ],
   "source": [
    "gdm.create_initial_model(max_retries=3)"
   ]
  },
  {
   "cell_type": "code",
   "execution_count": 10,
   "metadata": {},
   "outputs": [
    {
     "data": {
      "image/svg+xml": [
       "<?xml version=\"1.0\" encoding=\"UTF-8\" standalone=\"no\"?>\n",
       "<!DOCTYPE svg PUBLIC \"-//W3C//DTD SVG 1.1//EN\"\n",
       " \"http://www.w3.org/Graphics/SVG/1.1/DTD/svg11.dtd\">\n",
       "<!-- Generated by graphviz version 10.0.1 (20240210.2158)\n",
       " -->\n",
       "<!-- Pages: 1 -->\n",
       "<svg width=\"454pt\" height=\"745pt\"\n",
       " viewBox=\"0.00 0.00 454.12 744.62\" xmlns=\"http://www.w3.org/2000/svg\" xmlns:xlink=\"http://www.w3.org/1999/xlink\">\n",
       "<g id=\"graph0\" class=\"graph\" transform=\"scale(1 1) rotate(0) translate(4 740.62)\">\n",
       "<polygon fill=\"white\" stroke=\"none\" points=\"-4,4 -4,-740.62 450.12,-740.62 450.12,4 -4,4\"/>\n",
       "<!-- Battle -->\n",
       "<g id=\"node1\" class=\"node\">\n",
       "<title>Battle</title>\n",
       "<ellipse fill=\"none\" stroke=\"black\" cx=\"176.05\" cy=\"-290.09\" rx=\"163.52\" ry=\"133.64\"/>\n",
       "<text text-anchor=\"middle\" x=\"176.05\" y=\"-367.29\" font-family=\"Times,serif\" font-size=\"14.00\">Battle</text>\n",
       "<text text-anchor=\"middle\" x=\"176.05\" y=\"-334.79\" font-family=\"Times,serif\" font-size=\"14.00\">properties:</text>\n",
       "<text text-anchor=\"middle\" x=\"176.05\" y=\"-318.29\" font-family=\"Times,serif\" font-size=\"14.00\">name: name *unique*</text>\n",
       "<text text-anchor=\"middle\" x=\"176.05\" y=\"-301.79\" font-family=\"Times,serif\" font-size=\"14.00\">year: year</text>\n",
       "<text text-anchor=\"middle\" x=\"176.05\" y=\"-285.29\" font-family=\"Times,serif\" font-size=\"14.00\">battleNumber: battle_number *unique*</text>\n",
       "<text text-anchor=\"middle\" x=\"176.05\" y=\"-268.79\" font-family=\"Times,serif\" font-size=\"14.00\">outcome: outcome</text>\n",
       "<text text-anchor=\"middle\" x=\"176.05\" y=\"-252.29\" font-family=\"Times,serif\" font-size=\"14.00\">size: size</text>\n",
       "<text text-anchor=\"middle\" x=\"176.05\" y=\"-235.79\" font-family=\"Times,serif\" font-size=\"14.00\">summer: summer</text>\n",
       "<text text-anchor=\"middle\" x=\"176.05\" y=\"-219.29\" font-family=\"Times,serif\" font-size=\"14.00\">location: location</text>\n",
       "<text text-anchor=\"middle\" x=\"176.05\" y=\"-202.79\" font-family=\"Times,serif\" font-size=\"14.00\">region: region</text>\n",
       "</g>\n",
       "<!-- Commander -->\n",
       "<g id=\"node4\" class=\"node\">\n",
       "<title>Commander</title>\n",
       "<ellipse fill=\"none\" stroke=\"black\" cx=\"176.05\" cy=\"-51.97\" rx=\"170.41\" ry=\"51.97\"/>\n",
       "<text text-anchor=\"middle\" x=\"176.05\" y=\"-71.42\" font-family=\"Times,serif\" font-size=\"14.00\">Commander</text>\n",
       "<text text-anchor=\"middle\" x=\"176.05\" y=\"-38.92\" font-family=\"Times,serif\" font-size=\"14.00\">properties:</text>\n",
       "<text text-anchor=\"middle\" x=\"176.05\" y=\"-22.42\" font-family=\"Times,serif\" font-size=\"14.00\">commanderName: commander *unique*</text>\n",
       "</g>\n",
       "<!-- Battle&#45;&gt;Commander -->\n",
       "<g id=\"edge3\" class=\"edge\">\n",
       "<title>Battle&#45;&gt;Commander</title>\n",
       "<path fill=\"none\" stroke=\"black\" d=\"M176.05,-156.19C176.05,-142.14 176.05,-128.38 176.05,-115.71\"/>\n",
       "<polygon fill=\"black\" stroke=\"black\" points=\"179.55,-115.92 176.05,-105.92 172.55,-115.92 179.55,-115.92\"/>\n",
       "<text text-anchor=\"middle\" x=\"201.92\" y=\"-125.14\" font-family=\"Times,serif\" font-size=\"14.00\">LED_BY</text>\n",
       "</g>\n",
       "<!-- King -->\n",
       "<g id=\"node2\" class=\"node\">\n",
       "<title>King</title>\n",
       "<ellipse fill=\"none\" stroke=\"black\" cx=\"334.05\" cy=\"-528.2\" rx=\"112.08\" ry=\"51.97\"/>\n",
       "<text text-anchor=\"middle\" x=\"334.05\" y=\"-547.65\" font-family=\"Times,serif\" font-size=\"14.00\">King</text>\n",
       "<text text-anchor=\"middle\" x=\"334.05\" y=\"-515.15\" font-family=\"Times,serif\" font-size=\"14.00\">properties:</text>\n",
       "<text text-anchor=\"middle\" x=\"334.05\" y=\"-498.65\" font-family=\"Times,serif\" font-size=\"14.00\">kingName: king *unique*</text>\n",
       "</g>\n",
       "<!-- King&#45;&gt;Battle -->\n",
       "<g id=\"edge1\" class=\"edge\">\n",
       "<title>King&#45;&gt;Battle</title>\n",
       "<path fill=\"none\" stroke=\"black\" d=\"M301.31,-478.28C289.21,-460.2 274.87,-438.77 260.3,-416.99\"/>\n",
       "<polygon fill=\"black\" stroke=\"black\" points=\"263.35,-415.26 254.88,-408.9 257.53,-419.16 263.35,-415.26\"/>\n",
       "<text text-anchor=\"middle\" x=\"344.8\" y=\"-444.93\" font-family=\"Times,serif\" font-size=\"14.00\">PARTICIPATED_IN</text>\n",
       "</g>\n",
       "<!-- Family -->\n",
       "<g id=\"node3\" class=\"node\">\n",
       "<title>Family</title>\n",
       "<ellipse fill=\"none\" stroke=\"black\" cx=\"129.05\" cy=\"-684.65\" rx=\"129.05\" ry=\"51.97\"/>\n",
       "<text text-anchor=\"middle\" x=\"129.05\" y=\"-704.1\" font-family=\"Times,serif\" font-size=\"14.00\">Family</text>\n",
       "<text text-anchor=\"middle\" x=\"129.05\" y=\"-671.6\" font-family=\"Times,serif\" font-size=\"14.00\">properties:</text>\n",
       "<text text-anchor=\"middle\" x=\"129.05\" y=\"-655.1\" font-family=\"Times,serif\" font-size=\"14.00\">familyName: family *unique*</text>\n",
       "</g>\n",
       "<!-- Family&#45;&gt;Battle -->\n",
       "<g id=\"edge2\" class=\"edge\">\n",
       "<title>Family&#45;&gt;Battle</title>\n",
       "<path fill=\"none\" stroke=\"black\" d=\"M125.04,-632.37C123.92,-615.73 122.85,-597.18 122.3,-580.18 120.79,-534 115.79,-521.97 122.3,-476.23 124.42,-461.3 127.46,-445.89 131.03,-430.63\"/>\n",
       "<polygon fill=\"black\" stroke=\"black\" points=\"134.41,-431.57 133.36,-421.02 127.6,-429.91 134.41,-431.57\"/>\n",
       "<text text-anchor=\"middle\" x=\"168.42\" y=\"-523.15\" font-family=\"Times,serif\" font-size=\"14.00\">INVOLVED_IN</text>\n",
       "</g>\n",
       "<!-- Family&#45;&gt;King -->\n",
       "<g id=\"edge4\" class=\"edge\">\n",
       "<title>Family&#45;&gt;King</title>\n",
       "<path fill=\"none\" stroke=\"black\" d=\"M189.17,-638.35C213.58,-619.96 241.88,-598.64 266.96,-579.74\"/>\n",
       "<polygon fill=\"black\" stroke=\"black\" points=\"268.95,-582.63 274.83,-573.81 264.74,-577.04 268.95,-582.63\"/>\n",
       "<text text-anchor=\"middle\" x=\"282.8\" y=\"-601.38\" font-family=\"Times,serif\" font-size=\"14.00\">ALLIED_WITH</text>\n",
       "</g>\n",
       "</g>\n",
       "</svg>\n"
      ],
      "text/plain": [
       "<graphviz.graphs.Digraph at 0x147359ca0>"
      ]
     },
     "execution_count": 10,
     "metadata": {},
     "output_type": "execute_result"
    }
   ],
   "source": [
    "gdm.current_model.visualize()"
   ]
  },
  {
   "cell_type": "code",
   "execution_count": 11,
   "metadata": {},
   "outputs": [
    {
     "name": "stdout",
     "output_type": "stream",
     "text": [
      "\u001b[1m> Generating Data Model...\u001b[00m\n",
      "\u001b[3mAttempts | 1  \u001b[0m\n",
      "Recieved \u001b[92mValid\u001b[00m Data Model\n",
      "Nodes\n",
      "* \u001b[96m(:Battle)\u001b[00m     * \u001b[96m(:King)\u001b[00m\n",
      "* \u001b[96m(:Family)\u001b[00m     * \u001b[96m(:Commander)\u001b[00m\n",
      "* \u001b[96m(:Location)\u001b[00m   * \u001b[96m(:Region)\u001b[00m \n",
      "\n",
      "Relationships\n",
      "* \u001b[96m(:King)-[:PARTICIPATED_IN]->(:Battle)\u001b[00m   \n",
      "* \u001b[96m(:Family)-[:INVOLVED_IN]->(:Battle)\u001b[00m     \n",
      "* \u001b[96m(:Battle)-[:LED_BY]->(:Commander)\u001b[00m       \n",
      "* \u001b[96m(:Family)-[:ALLIED_WITH]->(:King)\u001b[00m       \n",
      "* \u001b[96m(:Battle)-[:LOCATED_AT]->(:Location)\u001b[00m    \n",
      "* \u001b[96m(:Location)-[:IN_REGION]->(:Region)\u001b[00m     \n"
     ]
    },
    {
     "data": {
      "text/plain": [
       "DataModel(nodes=[Node(label='Battle', properties=[Property(name='name', type='str', column_mapping='name', alias=None, is_unique=True, part_of_key=False), Property(name='year', type='int', column_mapping='year', alias=None, is_unique=False, part_of_key=False), Property(name='battleNumber', type='int', column_mapping='battle_number', alias=None, is_unique=True, part_of_key=False), Property(name='outcome', type='str', column_mapping='outcome', alias=None, is_unique=False, part_of_key=False), Property(name='size', type='int', column_mapping='size', alias=None, is_unique=False, part_of_key=False), Property(name='summer', type='bool', column_mapping='summer', alias=None, is_unique=False, part_of_key=False)], source_name='file'), Node(label='King', properties=[Property(name='kingName', type='str', column_mapping='king', alias=None, is_unique=True, part_of_key=False)], source_name='file'), Node(label='Family', properties=[Property(name='familyName', type='str', column_mapping='family', alias=None, is_unique=True, part_of_key=False)], source_name='file'), Node(label='Commander', properties=[Property(name='commanderName', type='str', column_mapping='commander', alias=None, is_unique=True, part_of_key=False)], source_name='file'), Node(label='Location', properties=[Property(name='locationName', type='str', column_mapping='location', alias=None, is_unique=True, part_of_key=False)], source_name='file'), Node(label='Region', properties=[Property(name='regionName', type='str', column_mapping='region', alias=None, is_unique=True, part_of_key=False)], source_name='file')], relationships=[Relationship(type='PARTICIPATED_IN', properties=[Property(name='attacking', type='bool', column_mapping='attacking', alias=None, is_unique=False, part_of_key=False)], source='King', target='Battle', source_name='file'), Relationship(type='INVOLVED_IN', properties=[Property(name='attacking', type='bool', column_mapping='attacking', alias=None, is_unique=False, part_of_key=False)], source='Family', target='Battle', source_name='file'), Relationship(type='LED_BY', properties=[Property(name='attacking', type='bool', column_mapping='attacking', alias=None, is_unique=False, part_of_key=False)], source='Battle', target='Commander', source_name='file'), Relationship(type='ALLIED_WITH', properties=[], source='Family', target='King', source_name='file'), Relationship(type='LOCATED_AT', properties=[], source='Battle', target='Location', source_name='file'), Relationship(type='IN_REGION', properties=[], source='Location', target='Region', source_name='file')], metadata=None)"
      ]
     },
     "execution_count": 11,
     "metadata": {},
     "output_type": "execute_result"
    }
   ],
   "source": [
    "corrections = \"Create separate nodes for location and region. Add an attacking boolean property to LED_BY, PARTICPATED_IN and INVOLVED_IN. remove the node keys.\"\n",
    "gdm.iterate_model(corrections=corrections, max_retries=3, allow_duplicate_properties=True)"
   ]
  },
  {
   "cell_type": "code",
   "execution_count": 12,
   "metadata": {},
   "outputs": [
    {
     "data": {
      "image/svg+xml": [
       "<?xml version=\"1.0\" encoding=\"UTF-8\" standalone=\"no\"?>\n",
       "<!DOCTYPE svg PUBLIC \"-//W3C//DTD SVG 1.1//EN\"\n",
       " \"http://www.w3.org/Graphics/SVG/1.1/DTD/svg11.dtd\">\n",
       "<!-- Generated by graphviz version 10.0.1 (20240210.2158)\n",
       " -->\n",
       "<!-- Pages: 1 -->\n",
       "<svg width=\"646pt\" height=\"952pt\"\n",
       " viewBox=\"0.00 0.00 646.07 952.40\" xmlns=\"http://www.w3.org/2000/svg\" xmlns:xlink=\"http://www.w3.org/1999/xlink\">\n",
       "<g id=\"graph0\" class=\"graph\" transform=\"scale(1 1) rotate(0) translate(4 948.4)\">\n",
       "<polygon fill=\"white\" stroke=\"none\" points=\"-4,4 -4,-948.4 642.07,-948.4 642.07,4 -4,4\"/>\n",
       "<!-- Battle -->\n",
       "<g id=\"node1\" class=\"node\">\n",
       "<title>Battle</title>\n",
       "<ellipse fill=\"none\" stroke=\"black\" cx=\"235.41\" cy=\"-472.2\" rx=\"163.52\" ry=\"110.31\"/>\n",
       "<text text-anchor=\"middle\" x=\"235.41\" y=\"-532.9\" font-family=\"Times,serif\" font-size=\"14.00\">Battle</text>\n",
       "<text text-anchor=\"middle\" x=\"235.41\" y=\"-500.4\" font-family=\"Times,serif\" font-size=\"14.00\">properties:</text>\n",
       "<text text-anchor=\"middle\" x=\"235.41\" y=\"-483.9\" font-family=\"Times,serif\" font-size=\"14.00\">name: name *unique*</text>\n",
       "<text text-anchor=\"middle\" x=\"235.41\" y=\"-467.4\" font-family=\"Times,serif\" font-size=\"14.00\">year: year</text>\n",
       "<text text-anchor=\"middle\" x=\"235.41\" y=\"-450.9\" font-family=\"Times,serif\" font-size=\"14.00\">battleNumber: battle_number *unique*</text>\n",
       "<text text-anchor=\"middle\" x=\"235.41\" y=\"-434.4\" font-family=\"Times,serif\" font-size=\"14.00\">outcome: outcome</text>\n",
       "<text text-anchor=\"middle\" x=\"235.41\" y=\"-417.9\" font-family=\"Times,serif\" font-size=\"14.00\">size: size</text>\n",
       "<text text-anchor=\"middle\" x=\"235.41\" y=\"-401.4\" font-family=\"Times,serif\" font-size=\"14.00\">summer: summer</text>\n",
       "</g>\n",
       "<!-- Commander -->\n",
       "<g id=\"node4\" class=\"node\">\n",
       "<title>Commander</title>\n",
       "<ellipse fill=\"none\" stroke=\"black\" cx=\"170.41\" cy=\"-208.42\" rx=\"170.41\" ry=\"51.97\"/>\n",
       "<text text-anchor=\"middle\" x=\"170.41\" y=\"-227.87\" font-family=\"Times,serif\" font-size=\"14.00\">Commander</text>\n",
       "<text text-anchor=\"middle\" x=\"170.41\" y=\"-195.37\" font-family=\"Times,serif\" font-size=\"14.00\">properties:</text>\n",
       "<text text-anchor=\"middle\" x=\"170.41\" y=\"-178.87\" font-family=\"Times,serif\" font-size=\"14.00\">commanderName: commander *unique*</text>\n",
       "</g>\n",
       "<!-- Battle&#45;&gt;Commander -->\n",
       "<g id=\"edge3\" class=\"edge\">\n",
       "<title>Battle&#45;&gt;Commander</title>\n",
       "<path fill=\"none\" stroke=\"black\" d=\"M208.6,-363.21C200.85,-332.02 192.66,-299.03 185.86,-271.64\"/>\n",
       "<polygon fill=\"black\" stroke=\"black\" points=\"189.31,-270.99 183.5,-262.13 182.51,-272.68 189.31,-270.99\"/>\n",
       "<text text-anchor=\"middle\" x=\"255.66\" y=\"-330.59\" font-family=\"Times,serif\" font-size=\"14.00\">LED_BY</text>\n",
       "<text text-anchor=\"middle\" x=\"255.66\" y=\"-298.09\" font-family=\"Times,serif\" font-size=\"14.00\">properties:</text>\n",
       "<text text-anchor=\"middle\" x=\"255.66\" y=\"-281.59\" font-family=\"Times,serif\" font-size=\"14.00\">attacking: attacking</text>\n",
       "</g>\n",
       "<!-- Location -->\n",
       "<g id=\"node5\" class=\"node\">\n",
       "<title>Location</title>\n",
       "<ellipse fill=\"none\" stroke=\"black\" cx=\"498.41\" cy=\"-208.42\" rx=\"139.65\" ry=\"51.97\"/>\n",
       "<text text-anchor=\"middle\" x=\"498.41\" y=\"-227.87\" font-family=\"Times,serif\" font-size=\"14.00\">Location</text>\n",
       "<text text-anchor=\"middle\" x=\"498.41\" y=\"-195.37\" font-family=\"Times,serif\" font-size=\"14.00\">properties:</text>\n",
       "<text text-anchor=\"middle\" x=\"498.41\" y=\"-178.87\" font-family=\"Times,serif\" font-size=\"14.00\">locationName: location *unique*</text>\n",
       "</g>\n",
       "<!-- Battle&#45;&gt;Location -->\n",
       "<g id=\"edge5\" class=\"edge\">\n",
       "<title>Battle&#45;&gt;Location</title>\n",
       "<path fill=\"none\" stroke=\"black\" d=\"M326.66,-380.37C365.12,-342.09 408.66,-298.76 442.28,-265.29\"/>\n",
       "<polygon fill=\"black\" stroke=\"black\" points=\"444.47,-268.04 449.09,-258.51 439.54,-263.08 444.47,-268.04\"/>\n",
       "<text text-anchor=\"middle\" x=\"469.79\" y=\"-306.09\" font-family=\"Times,serif\" font-size=\"14.00\">LOCATED_AT</text>\n",
       "</g>\n",
       "<!-- King -->\n",
       "<g id=\"node2\" class=\"node\">\n",
       "<title>King</title>\n",
       "<ellipse fill=\"none\" stroke=\"black\" cx=\"405.41\" cy=\"-735.98\" rx=\"112.08\" ry=\"51.97\"/>\n",
       "<text text-anchor=\"middle\" x=\"405.41\" y=\"-755.43\" font-family=\"Times,serif\" font-size=\"14.00\">King</text>\n",
       "<text text-anchor=\"middle\" x=\"405.41\" y=\"-722.93\" font-family=\"Times,serif\" font-size=\"14.00\">properties:</text>\n",
       "<text text-anchor=\"middle\" x=\"405.41\" y=\"-706.43\" font-family=\"Times,serif\" font-size=\"14.00\">kingName: king *unique*</text>\n",
       "</g>\n",
       "<!-- King&#45;&gt;Battle -->\n",
       "<g id=\"edge1\" class=\"edge\">\n",
       "<title>King&#45;&gt;Battle</title>\n",
       "<path fill=\"none\" stroke=\"black\" d=\"M373.44,-685.74C354.63,-656.78 330.06,-618.94 306.87,-583.23\"/>\n",
       "<polygon fill=\"black\" stroke=\"black\" points=\"309.9,-581.47 301.51,-574.99 304.02,-585.28 309.9,-581.47\"/>\n",
       "<text text-anchor=\"middle\" x=\"417.16\" y=\"-652.71\" font-family=\"Times,serif\" font-size=\"14.00\">PARTICIPATED_IN</text>\n",
       "<text text-anchor=\"middle\" x=\"417.16\" y=\"-620.21\" font-family=\"Times,serif\" font-size=\"14.00\">properties:</text>\n",
       "<text text-anchor=\"middle\" x=\"417.16\" y=\"-603.71\" font-family=\"Times,serif\" font-size=\"14.00\">attacking: attacking</text>\n",
       "</g>\n",
       "<!-- Family -->\n",
       "<g id=\"node3\" class=\"node\">\n",
       "<title>Family</title>\n",
       "<ellipse fill=\"none\" stroke=\"black\" cx=\"184.41\" cy=\"-892.42\" rx=\"129.05\" ry=\"51.97\"/>\n",
       "<text text-anchor=\"middle\" x=\"184.41\" y=\"-911.87\" font-family=\"Times,serif\" font-size=\"14.00\">Family</text>\n",
       "<text text-anchor=\"middle\" x=\"184.41\" y=\"-879.37\" font-family=\"Times,serif\" font-size=\"14.00\">properties:</text>\n",
       "<text text-anchor=\"middle\" x=\"184.41\" y=\"-862.87\" font-family=\"Times,serif\" font-size=\"14.00\">familyName: family *unique*</text>\n",
       "</g>\n",
       "<!-- Family&#45;&gt;Battle -->\n",
       "<g id=\"edge2\" class=\"edge\">\n",
       "<title>Family&#45;&gt;Battle</title>\n",
       "<path fill=\"none\" stroke=\"black\" d=\"M180.55,-840.14C179.47,-823.5 178.45,-804.95 177.91,-787.95 176.46,-741.78 171.78,-729.8 177.91,-684.01 181.99,-653.53 189.25,-621.23 197.27,-591.3\"/>\n",
       "<polygon fill=\"black\" stroke=\"black\" points=\"200.59,-592.42 199.86,-581.85 193.84,-590.57 200.59,-592.42\"/>\n",
       "<text text-anchor=\"middle\" x=\"231.66\" y=\"-755.43\" font-family=\"Times,serif\" font-size=\"14.00\">INVOLVED_IN</text>\n",
       "<text text-anchor=\"middle\" x=\"231.66\" y=\"-722.93\" font-family=\"Times,serif\" font-size=\"14.00\">properties:</text>\n",
       "<text text-anchor=\"middle\" x=\"231.66\" y=\"-706.43\" font-family=\"Times,serif\" font-size=\"14.00\">attacking: attacking</text>\n",
       "</g>\n",
       "<!-- Family&#45;&gt;King -->\n",
       "<g id=\"edge4\" class=\"edge\">\n",
       "<title>Family&#45;&gt;King</title>\n",
       "<path fill=\"none\" stroke=\"black\" d=\"M248.04,-846.96C275.19,-827.98 306.98,-805.77 334.85,-786.29\"/>\n",
       "<polygon fill=\"black\" stroke=\"black\" points=\"336.7,-789.27 342.9,-780.67 332.69,-783.53 336.7,-789.27\"/>\n",
       "<text text-anchor=\"middle\" x=\"347.16\" y=\"-809.15\" font-family=\"Times,serif\" font-size=\"14.00\">ALLIED_WITH</text>\n",
       "</g>\n",
       "<!-- Region -->\n",
       "<g id=\"node6\" class=\"node\">\n",
       "<title>Region</title>\n",
       "<ellipse fill=\"none\" stroke=\"black\" cx=\"498.41\" cy=\"-51.97\" rx=\"126.93\" ry=\"51.97\"/>\n",
       "<text text-anchor=\"middle\" x=\"498.41\" y=\"-71.42\" font-family=\"Times,serif\" font-size=\"14.00\">Region</text>\n",
       "<text text-anchor=\"middle\" x=\"498.41\" y=\"-38.92\" font-family=\"Times,serif\" font-size=\"14.00\">properties:</text>\n",
       "<text text-anchor=\"middle\" x=\"498.41\" y=\"-22.42\" font-family=\"Times,serif\" font-size=\"14.00\">regionName: region *unique*</text>\n",
       "</g>\n",
       "<!-- Location&#45;&gt;Region -->\n",
       "<g id=\"edge6\" class=\"edge\">\n",
       "<title>Location&#45;&gt;Region</title>\n",
       "<path fill=\"none\" stroke=\"black\" d=\"M498.41,-155.99C498.41,-143.16 498.41,-129.26 498.41,-115.95\"/>\n",
       "<polygon fill=\"black\" stroke=\"black\" points=\"501.91,-115.95 498.41,-105.95 494.91,-115.95 501.91,-115.95\"/>\n",
       "<text text-anchor=\"middle\" x=\"534.41\" y=\"-125.14\" font-family=\"Times,serif\" font-size=\"14.00\">IN_REGION</text>\n",
       "</g>\n",
       "</g>\n",
       "</svg>\n"
      ],
      "text/plain": [
       "<graphviz.graphs.Digraph at 0x1473de240>"
      ]
     },
     "execution_count": 12,
     "metadata": {},
     "output_type": "execute_result"
    }
   ],
   "source": [
    "gdm.current_model.visualize()"
   ]
  },
  {
   "cell_type": "markdown",
   "metadata": {},
   "source": [
    "## Code Generation"
   ]
  },
  {
   "cell_type": "code",
   "execution_count": 13,
   "metadata": {},
   "outputs": [],
   "source": [
    "gen = PyIngestConfigGenerator(data_model=gdm.current_model, database=\"gameofthrones\", username=\"neo4j\", uri=os.environ.get(\"NEO4J_URI\"), password=os.environ.get(\"NEO4J_PASSWORD\"), source_name=file_name, file_directory=data_directory)"
   ]
  },
  {
   "cell_type": "code",
   "execution_count": 14,
   "metadata": {},
   "outputs": [],
   "source": [
    "gen.generate_config_yaml(file_name=\"./outputs/config.yaml\")"
   ]
  },
  {
   "cell_type": "markdown",
   "metadata": {},
   "source": [
    "## Ingest"
   ]
  },
  {
   "cell_type": "code",
   "execution_count": 15,
   "metadata": {},
   "outputs": [],
   "source": [
    "PyIngest(config=gen.generate_config_string())"
   ]
  }
 ],
 "metadata": {
  "kernelspec": {
   "display_name": "neo4j-runway-20CPAOlQ-py3.12",
   "language": "python",
   "name": "python3"
  },
  "language_info": {
   "codemirror_mode": {
    "name": "ipython",
    "version": 3
   },
   "file_extension": ".py",
   "mimetype": "text/x-python",
   "name": "python",
   "nbconvert_exporter": "python",
   "pygments_lexer": "ipython3",
   "version": "3.12.3"
  }
 },
 "nbformat": 4,
 "nbformat_minor": 2
}
